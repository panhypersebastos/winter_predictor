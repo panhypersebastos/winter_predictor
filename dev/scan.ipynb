{
 "cells": [
  {
   "cell_type": "markdown",
   "metadata": {},
   "source": [
    "# WINTER PREDICTOR SCAN\n",
    "\n",
    "Uses the \"winter_predictor\" oriented-object modules\n",
    "\n",
    "This code: \n",
    "* scans all stations in selected countries\n",
    "* fit a prelim regression on z90 and sea-ice in sept and oct\n",
    "* if the fit is not too bad, a lasso regularization is applied\n",
    "* if the R2 is high, if enough years are available, if the anomaly is remarkable THEN:\n",
    "* enters the next bet in the winter_pred database"
   ]
  },
  {
   "cell_type": "code",
   "execution_count": 1,
   "metadata": {},
   "outputs": [],
   "source": [
    "%load_ext autoreload\n",
    "%autoreload 2\n",
    "\n",
    "import matplotlib.pyplot as plt\n",
    "from winter_predictor import Predictor, StationPrediction\n",
    "import numpy as np\n",
    "import pymongo\n",
    "import pandas as pd\n",
    "from scipy.stats import norm"
   ]
  },
  {
   "cell_type": "markdown",
   "metadata": {},
   "source": [
    "# PART 1 : GET PREDICTORS\n",
    "\n",
    "The **SAME** predictor set will then be used for any target station to predict."
   ]
  },
  {
   "cell_type": "code",
   "execution_count": 2,
   "metadata": {},
   "outputs": [],
   "source": [
    "PRED = Predictor()\n",
    "PRED.getPredictorsDF()"
   ]
  },
  {
   "cell_type": "markdown",
   "metadata": {},
   "source": [
    "# PART 2 : GET STATION DATA"
   ]
  },
  {
   "cell_type": "code",
   "execution_count": 3,
   "metadata": {},
   "outputs": [
    {
     "data": {
      "text/plain": [
       "3244"
      ]
     },
     "execution_count": 3,
     "metadata": {},
     "output_type": "execute_result"
    }
   ],
   "source": [
    "# Gather all relelvant station ids\n",
    "mongo_host_local = 'mongodb://localhost:27017/'\n",
    "mg = pymongo.MongoClient(mongo_host_local)\n",
    "db = mg.GHCN\n",
    "countries = pd.read_csv('input.csv').name.values\n",
    "sta_df = pd.DataFrame(list(db.stations.find(filter={'country': {'$in': list(countries)}})))\n",
    "all_ids = list(sta_df['station_id'].values)\n",
    "len(all_ids)"
   ]
  },
  {
   "cell_type": "code",
   "execution_count": 4,
   "metadata": {},
   "outputs": [],
   "source": [
    "#this_id = 64606660000 # Zürich\n",
    "this_id = 12263612000 # First \n",
    "STA = StationPrediction(station_id=this_id, \n",
    "                        target_months=['12', '1'],\n",
    "                        X_df=PRED.X_df)\n",
    "STA.queryData()\n",
    "STA.getAnomalies()"
   ]
  },
  {
   "cell_type": "code",
   "execution_count": 26,
   "metadata": {},
   "outputs": [
    {
     "data": {
      "text/html": [
       "<div>\n",
       "<style scoped>\n",
       "    .dataframe tbody tr th:only-of-type {\n",
       "        vertical-align: middle;\n",
       "    }\n",
       "\n",
       "    .dataframe tbody tr th {\n",
       "        vertical-align: top;\n",
       "    }\n",
       "\n",
       "    .dataframe thead th {\n",
       "        text-align: right;\n",
       "    }\n",
       "</style>\n",
       "<table border=\"1\" class=\"dataframe\">\n",
       "  <thead>\n",
       "    <tr style=\"text-align: right;\">\n",
       "      <th></th>\n",
       "      <th>wyear</th>\n",
       "      <th>x</th>\n",
       "      <th>xbar</th>\n",
       "      <th>anom</th>\n",
       "    </tr>\n",
       "  </thead>\n",
       "  <tbody>\n",
       "    <tr>\n",
       "      <th>0</th>\n",
       "      <td>1980</td>\n",
       "      <td>29.10</td>\n",
       "      <td>28.820658</td>\n",
       "      <td>0.279342</td>\n",
       "    </tr>\n",
       "    <tr>\n",
       "      <th>1</th>\n",
       "      <td>1981</td>\n",
       "      <td>27.90</td>\n",
       "      <td>28.823235</td>\n",
       "      <td>-0.923235</td>\n",
       "    </tr>\n",
       "    <tr>\n",
       "      <th>2</th>\n",
       "      <td>1982</td>\n",
       "      <td>28.85</td>\n",
       "      <td>28.825811</td>\n",
       "      <td>0.024189</td>\n",
       "    </tr>\n",
       "    <tr>\n",
       "      <th>3</th>\n",
       "      <td>1983</td>\n",
       "      <td>28.20</td>\n",
       "      <td>28.828388</td>\n",
       "      <td>-0.628388</td>\n",
       "    </tr>\n",
       "    <tr>\n",
       "      <th>4</th>\n",
       "      <td>1984</td>\n",
       "      <td>29.00</td>\n",
       "      <td>28.830965</td>\n",
       "      <td>0.169035</td>\n",
       "    </tr>\n",
       "    <tr>\n",
       "      <th>5</th>\n",
       "      <td>1985</td>\n",
       "      <td>28.85</td>\n",
       "      <td>28.833542</td>\n",
       "      <td>0.016458</td>\n",
       "    </tr>\n",
       "    <tr>\n",
       "      <th>6</th>\n",
       "      <td>1986</td>\n",
       "      <td>28.65</td>\n",
       "      <td>28.836119</td>\n",
       "      <td>-0.186119</td>\n",
       "    </tr>\n",
       "    <tr>\n",
       "      <th>7</th>\n",
       "      <td>1987</td>\n",
       "      <td>29.35</td>\n",
       "      <td>28.838695</td>\n",
       "      <td>0.511305</td>\n",
       "    </tr>\n",
       "    <tr>\n",
       "      <th>8</th>\n",
       "      <td>1988</td>\n",
       "      <td>29.95</td>\n",
       "      <td>28.841272</td>\n",
       "      <td>1.108728</td>\n",
       "    </tr>\n",
       "    <tr>\n",
       "      <th>9</th>\n",
       "      <td>1989</td>\n",
       "      <td>28.80</td>\n",
       "      <td>28.843849</td>\n",
       "      <td>-0.043849</td>\n",
       "    </tr>\n",
       "    <tr>\n",
       "      <th>10</th>\n",
       "      <td>1990</td>\n",
       "      <td>28.85</td>\n",
       "      <td>28.846426</td>\n",
       "      <td>0.003574</td>\n",
       "    </tr>\n",
       "    <tr>\n",
       "      <th>11</th>\n",
       "      <td>2008</td>\n",
       "      <td>NaN</td>\n",
       "      <td>28.892809</td>\n",
       "      <td>NaN</td>\n",
       "    </tr>\n",
       "    <tr>\n",
       "      <th>12</th>\n",
       "      <td>2009</td>\n",
       "      <td>29.20</td>\n",
       "      <td>28.895385</td>\n",
       "      <td>0.304615</td>\n",
       "    </tr>\n",
       "    <tr>\n",
       "      <th>13</th>\n",
       "      <td>2010</td>\n",
       "      <td>NaN</td>\n",
       "      <td>28.897962</td>\n",
       "      <td>NaN</td>\n",
       "    </tr>\n",
       "    <tr>\n",
       "      <th>14</th>\n",
       "      <td>2011</td>\n",
       "      <td>28.60</td>\n",
       "      <td>28.900539</td>\n",
       "      <td>-0.300539</td>\n",
       "    </tr>\n",
       "    <tr>\n",
       "      <th>15</th>\n",
       "      <td>2012</td>\n",
       "      <td>28.00</td>\n",
       "      <td>28.903116</td>\n",
       "      <td>-0.903116</td>\n",
       "    </tr>\n",
       "    <tr>\n",
       "      <th>16</th>\n",
       "      <td>2013</td>\n",
       "      <td>NaN</td>\n",
       "      <td>28.905693</td>\n",
       "      <td>NaN</td>\n",
       "    </tr>\n",
       "    <tr>\n",
       "      <th>17</th>\n",
       "      <td>2014</td>\n",
       "      <td>NaN</td>\n",
       "      <td>28.908270</td>\n",
       "      <td>NaN</td>\n",
       "    </tr>\n",
       "    <tr>\n",
       "      <th>18</th>\n",
       "      <td>2015</td>\n",
       "      <td>NaN</td>\n",
       "      <td>28.910846</td>\n",
       "      <td>NaN</td>\n",
       "    </tr>\n",
       "    <tr>\n",
       "      <th>19</th>\n",
       "      <td>2016</td>\n",
       "      <td>29.50</td>\n",
       "      <td>28.913423</td>\n",
       "      <td>0.586577</td>\n",
       "    </tr>\n",
       "    <tr>\n",
       "      <th>20</th>\n",
       "      <td>2017</td>\n",
       "      <td>NaN</td>\n",
       "      <td>28.916000</td>\n",
       "      <td>NaN</td>\n",
       "    </tr>\n",
       "    <tr>\n",
       "      <th>21</th>\n",
       "      <td>2018</td>\n",
       "      <td>28.90</td>\n",
       "      <td>28.918577</td>\n",
       "      <td>-0.018577</td>\n",
       "    </tr>\n",
       "  </tbody>\n",
       "</table>\n",
       "</div>"
      ],
      "text/plain": [
       "    wyear      x       xbar      anom\n",
       "0    1980  29.10  28.820658  0.279342\n",
       "1    1981  27.90  28.823235 -0.923235\n",
       "2    1982  28.85  28.825811  0.024189\n",
       "3    1983  28.20  28.828388 -0.628388\n",
       "4    1984  29.00  28.830965  0.169035\n",
       "5    1985  28.85  28.833542  0.016458\n",
       "6    1986  28.65  28.836119 -0.186119\n",
       "7    1987  29.35  28.838695  0.511305\n",
       "8    1988  29.95  28.841272  1.108728\n",
       "9    1989  28.80  28.843849 -0.043849\n",
       "10   1990  28.85  28.846426  0.003574\n",
       "11   2008    NaN  28.892809       NaN\n",
       "12   2009  29.20  28.895385  0.304615\n",
       "13   2010    NaN  28.897962       NaN\n",
       "14   2011  28.60  28.900539 -0.300539\n",
       "15   2012  28.00  28.903116 -0.903116\n",
       "16   2013    NaN  28.905693       NaN\n",
       "17   2014    NaN  28.908270       NaN\n",
       "18   2015    NaN  28.910846       NaN\n",
       "19   2016  29.50  28.913423  0.586577\n",
       "20   2017    NaN  28.916000       NaN\n",
       "21   2018  28.90  28.918577 -0.018577"
      ]
     },
     "execution_count": 26,
     "metadata": {},
     "output_type": "execute_result"
    }
   ],
   "source": [
    "STA.anom_df"
   ]
  },
  {
   "cell_type": "markdown",
   "metadata": {},
   "source": [
    "# PART 3 : FIT ANOMALIES"
   ]
  },
  {
   "cell_type": "code",
   "execution_count": 5,
   "metadata": {},
   "outputs": [
    {
     "data": {
      "text/plain": [
       "(0.044182199257446375, 15)"
      ]
     },
     "execution_count": 5,
     "metadata": {},
     "output_type": "execute_result"
    }
   ],
   "source": [
    "## Quick fit first\n",
    "STA.quickfitAnomalies(X_df=PRED.X_df)\n",
    "STA.R2_prelim, STA.nyears_used\n",
    "# if r2_prelim > 0.5 and nyears_used > 25 ... # INPUT !!!"
   ]
  },
  {
   "cell_type": "code",
   "execution_count": 6,
   "metadata": {},
   "outputs": [],
   "source": [
    "STA.fitAnomalies(X_df=PRED.X_df)"
   ]
  },
  {
   "cell_type": "code",
   "execution_count": 7,
   "metadata": {},
   "outputs": [
    {
     "name": "stdout",
     "output_type": "stream",
     "text": [
      "{'R2': 0.0021788605506251058, 'nyears_used': 15}\n"
     ]
    }
   ],
   "source": [
    "res = dict({'R2': STA.R2, \n",
    "            'nyears_used': STA.nyears_used})\n",
    "print(res)"
   ]
  },
  {
   "cell_type": "code",
   "execution_count": 8,
   "metadata": {},
   "outputs": [
    {
     "data": {
      "text/html": [
       "<div>\n",
       "<style scoped>\n",
       "    .dataframe tbody tr th:only-of-type {\n",
       "        vertical-align: middle;\n",
       "    }\n",
       "\n",
       "    .dataframe tbody tr th {\n",
       "        vertical-align: top;\n",
       "    }\n",
       "\n",
       "    .dataframe thead th {\n",
       "        text-align: right;\n",
       "    }\n",
       "</style>\n",
       "<table border=\"1\" class=\"dataframe\">\n",
       "  <thead>\n",
       "    <tr style=\"text-align: right;\">\n",
       "      <th></th>\n",
       "      <th>coef</th>\n",
       "      <th>pred</th>\n",
       "      <th>absCoef</th>\n",
       "    </tr>\n",
       "  </thead>\n",
       "  <tbody>\n",
       "    <tr>\n",
       "      <th>0</th>\n",
       "      <td>-0.000921</td>\n",
       "      <td>PC2_ci_10</td>\n",
       "      <td>0.000921</td>\n",
       "    </tr>\n",
       "  </tbody>\n",
       "</table>\n",
       "</div>"
      ],
      "text/plain": [
       "       coef       pred   absCoef\n",
       "0 -0.000921  PC2_ci_10  0.000921"
      ]
     },
     "execution_count": 8,
     "metadata": {},
     "output_type": "execute_result"
    }
   ],
   "source": [
    "STA.importance_df"
   ]
  },
  {
   "cell_type": "markdown",
   "metadata": {},
   "source": [
    "# PART 4 : PREDICT FUTURE ANOMALIES"
   ]
  },
  {
   "cell_type": "code",
   "execution_count": 9,
   "metadata": {},
   "outputs": [
    {
     "data": {
      "text/plain": [
       "array([ 0.00123845])"
      ]
     },
     "execution_count": 9,
     "metadata": {},
     "output_type": "execute_result"
    }
   ],
   "source": [
    "wyear_new = 2017 # !!! INPUT\n",
    "newX_df = PRED.X_df.query('wyear==@wyear_new') # for instance\n",
    "STA.predictFutureAnomalies(newX_df)\n",
    "pred_anomaly = STA.predictedAnomaly\n",
    "pred_anomaly"
   ]
  },
  {
   "cell_type": "markdown",
   "metadata": {},
   "source": [
    "# PART 5 : EXTREME ANOMALY ?"
   ]
  },
  {
   "cell_type": "code",
   "execution_count": 10,
   "metadata": {},
   "outputs": [
    {
     "data": {
      "text/plain": [
       "array([[ 28.91723845]])"
      ]
     },
     "execution_count": 10,
     "metadata": {},
     "output_type": "execute_result"
    }
   ],
   "source": [
    "# Long-term trend\n",
    "ltt = STA.detrend_fit\n",
    "ltt_fit = ltt.predict(wyear_new)\n",
    "# Predicted wyear value :\n",
    "T_pred = pred_anomaly + ltt_fit\n",
    "T_pred"
   ]
  },
  {
   "cell_type": "code",
   "execution_count": 32,
   "metadata": {},
   "outputs": [],
   "source": [
    "# Anomaly as defined by SwissRe :\n",
    "SwissRe_df = STA.anom_df.tail(10) # take only the last 10 years\n",
    "SwissRe_ltt = np.nanmean(SwissRe_df.x.values)\n",
    "SwissRe_anom = T_pred-SwissRe_ltt\n",
    "SwissRe_df = SwissRe_df.assign(anom_SwissRe=SwissRe_df.x-SwissRe_ltt)\n",
    "SwissRe_df = SwissRe_df.dropna()"
   ]
  },
  {
   "cell_type": "code",
   "execution_count": 34,
   "metadata": {
    "scrolled": true
   },
   "outputs": [
    {
     "data": {
      "text/plain": [
       "0.4405217731106621"
      ]
     },
     "execution_count": 34,
     "metadata": {},
     "output_type": "execute_result"
    }
   ],
   "source": [
    "# Fit Normal distribution\n",
    "mu, std = norm.fit(SwissRe_df.anom_SwissRe)\n",
    "quantl = norm.cdf(0, loc=SwissRe_anom, scale=std).ravel()[0]\n",
    "quantl"
   ]
  },
  {
   "cell_type": "code",
   "execution_count": 13,
   "metadata": {},
   "outputs": [
    {
     "data": {
      "text/plain": [
       "False"
      ]
     },
     "execution_count": 13,
     "metadata": {},
     "output_type": "execute_result"
    }
   ],
   "source": [
    "# If yes, then store the result\n",
    "quantl > 0.75 or quantl < 0.25"
   ]
  },
  {
   "cell_type": "code",
   "execution_count": 14,
   "metadata": {},
   "outputs": [],
   "source": [
    "# Summary document:\n",
    "pred_doc = {'wyear': wyear_new,\n",
    "            'station_id': STA.metadata['station_id'],\n",
    "            'country': STA.metadata['country'],\n",
    "            'name': STA.metadata['name'],\n",
    "            'R2': STA.R2,\n",
    "            'nyears_used': STA.nyears_used,\n",
    "            'SwissRe_anom': SwissRe_anom.ravel()[0],\n",
    "            'pred_T': T_pred.ravel()[0],\n",
    "            'quantile_anom': quantl}"
   ]
  },
  {
   "cell_type": "code",
   "execution_count": 15,
   "metadata": {},
   "outputs": [
    {
     "data": {
      "text/plain": [
       "{'R2': 0.0021788605506251058,\n",
       " 'SwissRe_anom': 0.077238454627135411,\n",
       " 'country': 'KENYA',\n",
       " 'name': 'LODWAR',\n",
       " 'nyears_used': 15,\n",
       " 'pred_T': 28.917238454627132,\n",
       " 'quantile_anom': nan,\n",
       " 'station_id': 12263612000,\n",
       " 'wyear': 2017}"
      ]
     },
     "execution_count": 15,
     "metadata": {},
     "output_type": "execute_result"
    }
   ],
   "source": [
    "pred_doc"
   ]
  },
  {
   "cell_type": "code",
   "execution_count": 16,
   "metadata": {},
   "outputs": [
    {
     "data": {
      "text/plain": [
       "['test', 'ECMWF', 'local', 'GHCN', 'winter_pred']"
      ]
     },
     "execution_count": 16,
     "metadata": {},
     "output_type": "execute_result"
    }
   ],
   "source": [
    "mg.database_names()"
   ]
  },
  {
   "cell_type": "code",
   "execution_count": 17,
   "metadata": {},
   "outputs": [
    {
     "data": {
      "text/plain": [
       "['system.indexes', 'prediction']"
      ]
     },
     "execution_count": 17,
     "metadata": {},
     "output_type": "execute_result"
    }
   ],
   "source": [
    "db = mg.winter_pred\n",
    "db.collection_names()"
   ]
  },
  {
   "cell_type": "code",
   "execution_count": 18,
   "metadata": {},
   "outputs": [
    {
     "data": {
      "text/plain": [
       "<pymongo.results.InsertOneResult at 0x7fcb480529d8>"
      ]
     },
     "execution_count": 18,
     "metadata": {},
     "output_type": "execute_result"
    }
   ],
   "source": [
    "db.prediction.insert_one(pred_doc)"
   ]
  },
  {
   "cell_type": "code",
   "execution_count": 24,
   "metadata": {},
   "outputs": [
    {
     "data": {
      "text/plain": [
       "0"
      ]
     },
     "execution_count": 24,
     "metadata": {},
     "output_type": "execute_result"
    }
   ],
   "source": [
    "pred_col = db.prediction\n",
    "pred_col.count()"
   ]
  },
  {
   "cell_type": "code",
   "execution_count": 23,
   "metadata": {},
   "outputs": [
    {
     "data": {
      "text/plain": [
       "<pymongo.results.DeleteResult at 0x7fcb438bef30>"
      ]
     },
     "execution_count": 23,
     "metadata": {},
     "output_type": "execute_result"
    }
   ],
   "source": [
    "#db.prediction.delete_many({})"
   ]
  },
  {
   "cell_type": "code",
   "execution_count": 20,
   "metadata": {},
   "outputs": [
    {
     "data": {
      "text/plain": [
       "2"
      ]
     },
     "execution_count": 20,
     "metadata": {},
     "output_type": "execute_result"
    }
   ],
   "source": [
    "import psutil\n",
    "# Physical cores\n",
    "psutil.cpu_count(logical = False)"
   ]
  },
  {
   "cell_type": "code",
   "execution_count": null,
   "metadata": {},
   "outputs": [],
   "source": []
  }
 ],
 "metadata": {
  "kernelspec": {
   "display_name": "Python 3",
   "language": "python",
   "name": "python3"
  },
  "language_info": {
   "codemirror_mode": {
    "name": "ipython",
    "version": 3
   },
   "file_extension": ".py",
   "mimetype": "text/x-python",
   "name": "python",
   "nbconvert_exporter": "python",
   "pygments_lexer": "ipython3",
   "version": "3.7.3"
  }
 },
 "nbformat": 4,
 "nbformat_minor": 2
}
