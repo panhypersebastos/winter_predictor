{
 "cells": [
  {
   "cell_type": "markdown",
   "metadata": {},
   "source": [
    "# Test of the GHCN Class"
   ]
  },
  {
   "cell_type": "code",
   "execution_count": 1,
   "metadata": {},
   "outputs": [],
   "source": [
    "import os\n",
    "import pandas as pd\n",
    "import datetime\n",
    "from ghcn_monthly_feed import GHCN"
   ]
  },
  {
   "cell_type": "code",
   "execution_count": 2,
   "metadata": {},
   "outputs": [],
   "source": [
    "%load_ext autoreload\n",
    "%autoreload 2"
   ]
  },
  {
   "cell_type": "code",
   "execution_count": 3,
   "metadata": {},
   "outputs": [],
   "source": [
    "G = GHCN(downloadDir='/home/dmasson/data/GHCNM/',\n",
    "         logfilename='/home/dmasson/temp/ghcnm01.log')\n",
    "self = G"
   ]
  },
  {
   "cell_type": "code",
   "execution_count": null,
   "metadata": {},
   "outputs": [],
   "source": [
    "# Get all data (metadata and observations)\n",
    "\n",
    "# G.wgetData()"
   ]
  },
  {
   "cell_type": "code",
   "execution_count": 5,
   "metadata": {},
   "outputs": [],
   "source": [
    "# Create the station collection (only needed once)\n",
    "\n",
    "# self.upsertStationCollection()"
   ]
  },
  {
   "cell_type": "code",
   "execution_count": 4,
   "metadata": {},
   "outputs": [],
   "source": [
    "# Create indexes\n",
    "\n",
    "# self.createStationIndexing()"
   ]
  },
  {
   "cell_type": "code",
   "execution_count": null,
   "metadata": {},
   "outputs": [],
   "source": []
  },
  {
   "cell_type": "code",
   "execution_count": null,
   "metadata": {},
   "outputs": [],
   "source": [
    "country_df = pd.read_fwf('ghcnm-countries.txt',\n",
    "                     colspecs=[[0,2], [3, 500]],\n",
    "                     header=None,\n",
    "                     names=['country_id', 'country'])\n",
    "country_df.head()"
   ]
  },
  {
   "cell_type": "code",
   "execution_count": null,
   "metadata": {},
   "outputs": [],
   "source": [
    "path = self.findNewestFile(pattern='.inv')\n",
    "path"
   ]
  },
  {
   "cell_type": "code",
   "execution_count": null,
   "metadata": {},
   "outputs": [],
   "source": [
    "# Station metadata\n",
    "sta_df = pd.read_fwf(path,\n",
    "                     colspecs=[[0,11], [0,2],[2,8],[13, 20], [24, 30], [31,37], [38,69], [90, 106],[106,107]],\n",
    "                     header=None,\n",
    "                     names=['station_id','country_id','wmo_id', \n",
    "                            'lat', 'lon', 'elev', 'name', 'landcover', 'popclass'])\n",
    "sta_df = pd.merge(sta_df, country_df, on='country_id')\n",
    "sta_df.head()"
   ]
  },
  {
   "cell_type": "code",
   "execution_count": null,
   "metadata": {},
   "outputs": [],
   "source": [
    "sta_df.head()"
   ]
  },
  {
   "cell_type": "code",
   "execution_count": null,
   "metadata": {},
   "outputs": [],
   "source": [
    "col_sta = self._createMongoConn()['col_sta']"
   ]
  },
  {
   "cell_type": "code",
   "execution_count": null,
   "metadata": {},
   "outputs": [],
   "source": [
    "i = 0 \n",
    "newdoc = dict({'station_id': str(sta_df.station_id[i]), \n",
    "                   'loc': {'type': 'Point', 'coordinates': [float(sta_df.lon[i]), float(sta_df.lat[i])]}, \n",
    "                   'country': sta_df.country[i], \n",
    "                   'country_id': str(sta_df.country_id[i]), \n",
    "                   'wmo_id': str(sta_df.wmo_id[i]), \n",
    "                   'elev': sta_df.elev[i], \n",
    "                   'name': sta_df.name[i], \n",
    "                   'landcover': sta_df.landcover[i], 'popclass': sta_df.popclass[i]})\n",
    "col_sta.update_one(filter={\"station_id\": newdoc['station_id']}, \n",
    "                   update=dict({'$set': newdoc}), upsert=True)"
   ]
  },
  {
   "cell_type": "code",
   "execution_count": null,
   "metadata": {},
   "outputs": [],
   "source": []
  }
 ],
 "metadata": {
  "kernelspec": {
   "display_name": "Python 3",
   "language": "python",
   "name": "python3"
  },
  "language_info": {
   "codemirror_mode": {
    "name": "ipython",
    "version": 3
   },
   "file_extension": ".py",
   "mimetype": "text/x-python",
   "name": "python",
   "nbconvert_exporter": "python",
   "pygments_lexer": "ipython3",
   "version": "3.7.3"
  }
 },
 "nbformat": 4,
 "nbformat_minor": 2
}
