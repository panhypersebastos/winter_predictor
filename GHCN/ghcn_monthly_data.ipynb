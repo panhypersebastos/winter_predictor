{
 "cells": [
  {
   "cell_type": "markdown",
   "metadata": {},
   "source": [
    "# GHCN Monthly Average Station Data\n",
    "\n",
    "* Warning: this code does the ingestion as well. Run with caution.\n",
    "* This notebook was once used in \"production\". Now it serves only as an inspiration for the GHCNM module"
   ]
  },
  {
   "cell_type": "code",
   "execution_count": 1,
   "metadata": {},
   "outputs": [
    {
     "data": {
      "text/html": [
       "<script>requirejs.config({paths: { 'plotly': ['https://cdn.plot.ly/plotly-latest.min']},});if(!window.Plotly) {{require(['plotly'],function(plotly) {window.Plotly=plotly;});}}</script>"
      ],
      "text/vnd.plotly.v1+html": [
       "<script>requirejs.config({paths: { 'plotly': ['https://cdn.plot.ly/plotly-latest.min']},});if(!window.Plotly) {{require(['plotly'],function(plotly) {window.Plotly=plotly;});}}</script>"
      ]
     },
     "metadata": {},
     "output_type": "display_data"
    }
   ],
   "source": [
    "from netCDF4 import Dataset\n",
    "import numpy as np\n",
    "import matplotlib.pyplot as plt\n",
    "from mpl_toolkits.basemap import Basemap, addcyclic, shiftgrid\n",
    "import pymongo\n",
    "from pprint import pprint\n",
    "from datetime import datetime, timedelta, date\n",
    "import pandas as pd\n",
    "from sklearn.decomposition import PCA\n",
    "import sklearn.linear_model as skl_lm\n",
    "import gdal as gdl\n",
    "import matplotlib.mlab as ml\n",
    "import cartopy.crs as ccrs\n",
    "import plotly.graph_objs as go\n",
    "import plotly.offline as py\n",
    "py.init_notebook_mode(connected=True) # for live plot\n",
    "pd.set_option('display.notebook_repr_html', False)\n",
    "%matplotlib inline\n",
    "plt.style.use('seaborn-white')"
   ]
  },
  {
   "cell_type": "code",
   "execution_count": 2,
   "metadata": {},
   "outputs": [
    {
     "data": {
      "text/plain": [
       "['data', 'system.indexes', 'stations']"
      ]
     },
     "execution_count": 2,
     "metadata": {},
     "output_type": "execute_result"
    }
   ],
   "source": [
    "mongo_host_local = 'mongodb://localhost:27017/'\n",
    "mg = pymongo.MongoClient(mongo_host_local)\n",
    "db = mg.GHCN\n",
    "db.collection_names()"
   ]
  },
  {
   "cell_type": "code",
   "execution_count": 3,
   "metadata": {},
   "outputs": [
    {
     "data": {
      "text/plain": [
       "['ECMWF', 'local', 'GHCN']"
      ]
     },
     "execution_count": 3,
     "metadata": {},
     "output_type": "execute_result"
    }
   ],
   "source": [
    "mg.database_names()"
   ]
  },
  {
   "cell_type": "markdown",
   "metadata": {},
   "source": [
    "# Get Target Variables"
   ]
  },
  {
   "cell_type": "markdown",
   "metadata": {},
   "source": [
    "### GHCN Monthly Data\n",
    "\n",
    "* ftp://ftp.ncdc.noaa.gov/pub/data/ghcn/v3/\n",
    "* \"QCA\" files represent the quality controlled adjusted data."
   ]
  },
  {
   "cell_type": "markdown",
   "metadata": {},
   "source": [
    "## Country Code"
   ]
  },
  {
   "cell_type": "code",
   "execution_count": 4,
   "metadata": {},
   "outputs": [
    {
     "data": {
      "text/plain": [
       "   country_id       country\n",
       "0         101       ALGERIA\n",
       "1         102        ANGOLA\n",
       "2         103         BENIN\n",
       "3         104      BOTSWANA\n",
       "4         105  BURKINA FASO"
      ]
     },
     "execution_count": 4,
     "metadata": {},
     "output_type": "execute_result"
    }
   ],
   "source": [
    "country_df = pd.read_fwf('/home/dmasson/data/ghcnm/country-codes',\n",
    "                     colspecs=[[0,3], [4, 50]],\n",
    "                     header=None,\n",
    "                     names=['country_id', 'country'])\n",
    "country_df.head()"
   ]
  },
  {
   "cell_type": "markdown",
   "metadata": {},
   "source": [
    "## Station Metadata\n",
    "\n",
    "\".qca.inv\" is (?) the metadata containing lon, lat, etc:\n",
    "\n",
    "       Variable          Columns      Type\n",
    "       --------          -------      ----\n",
    "\n",
    "       ID                 1-11        Integer\n",
    "       LATITUDE          13-20        Real\n",
    "       LONGITUDE         22-30        Real\n",
    "       STNELEV           32-37        Real          (elevation in meters)\n",
    "       NAME              39-68        Character\n",
    "       GRELEV            70-73        Integer\n",
    "       POPCLS            74-74        Character\n",
    "       POPSIZ            75-79        Integer\n",
    "       TOPO              80-81        Character\n",
    "       STVEG             82-83        Character\n",
    "       STLOC             84-85        Character\n",
    "       OCNDIS            86-87        Integer\n",
    "       AIRSTN            88-88        Character\n",
    "       TOWNDIS           89-90        Integer\n",
    "       GRVEG             91-106       Character\n",
    "       POPCSS            107-107      Character\n",
    "       "
   ]
  },
  {
   "cell_type": "code",
   "execution_count": 8,
   "metadata": {},
   "outputs": [
    {
     "data": {
      "text/plain": [
       "    station_id  country_id  wmo_id    lat   lon   elev          name  \\\n",
       "0  10160355000         101   60355  36.93  6.95    7.0        SKIKDA   \n",
       "1  10160360000         101   60360  36.83  7.82    4.0        ANNABA   \n",
       "2  10160390000         101   60390  36.72  3.25   25.0  DAR-EL-BEIDA   \n",
       "3  10160395001         101   60395  36.52  4.18  942.0  FT. NATIONAL   \n",
       "4  10160400001         101   60400  36.80  5.10  230.0    CAP CARBON   \n",
       "\n",
       "        landcover popclass  country  \n",
       "0  WARM DECIDUOUS        C  ALGERIA  \n",
       "1      WARM CROPS        C  ALGERIA  \n",
       "2      WARM CROPS        C  ALGERIA  \n",
       "3      WARM CROPS        A  ALGERIA  \n",
       "4           WATER        A  ALGERIA  "
      ]
     },
     "execution_count": 8,
     "metadata": {},
     "output_type": "execute_result"
    }
   ],
   "source": [
    "# Station metadata\n",
    "sta_df = pd.read_fwf('/home/dmasson/data/ghcnm/ghcnm.tavg.v3.3.0.20180311.qca.inv',\n",
    "                     colspecs=[[0,11], [0,3],[3,8],[13, 20], [24, 30], [31,37], [38,69], [90, 106],[106,107]],\n",
    "                     header=None,\n",
    "                     #nrows=20,\n",
    "                     names=['station_id','country_id','wmo_id', \n",
    "                            'lat', 'lon', 'elev', 'name', 'landcover', 'popclass'])\n",
    "sta_df = pd.merge(sta_df, country_df, on='country_id')\n",
    "sta_df.head()"
   ]
  },
  {
   "cell_type": "code",
   "execution_count": 9,
   "metadata": {},
   "outputs": [],
   "source": [
    "def upsertStation(i):\n",
    "    newdoc = dict({'station_id': int(sta_df.station_id[i]), \n",
    "                   'loc': {'type': 'Point', 'coordinates': [float(sta_df.lon[i]), float(sta_df.lat[i])]}, \n",
    "                   'country': sta_df.country[i], \n",
    "                   'country_id': int(sta_df.country_id[i]), \n",
    "                   'wmo_id': int(sta_df.wmo_id[i]), \n",
    "                   'elev': sta_df.elev[i], \n",
    "                   'name': sta_df.name[i], \n",
    "                   'landcover': sta_df.landcover[i], 'popclass': sta_df.popclass[i]})\n",
    "    db.stations.update_one(filter={\"station_id\": newdoc['station_id']}, update=dict({'$set': newdoc}), upsert=True)\n"
   ]
  },
  {
   "cell_type": "code",
   "execution_count": 10,
   "metadata": {},
   "outputs": [],
   "source": [
    "void = list(map(upsertStation, np.arange(sta_df.shape[0])))"
   ]
  },
  {
   "cell_type": "code",
   "execution_count": 11,
   "metadata": {},
   "outputs": [
    {
     "data": {
      "text/plain": [
       "7280"
      ]
     },
     "execution_count": 11,
     "metadata": {},
     "output_type": "execute_result"
    }
   ],
   "source": [
    "db.stations.count()"
   ]
  },
  {
   "cell_type": "code",
   "execution_count": 59,
   "metadata": {},
   "outputs": [],
   "source": [
    "#db.stations.drop()"
   ]
  },
  {
   "cell_type": "code",
   "execution_count": 12,
   "metadata": {},
   "outputs": [
    {
     "data": {
      "text/plain": [
       "{'_id': ObjectId('5abde7e773d02a7f26ab4dd7'),\n",
       " 'country': 'ALGERIA',\n",
       " 'country_id': 101,\n",
       " 'elev': 7.0,\n",
       " 'landcover': 'WARM DECIDUOUS',\n",
       " 'loc': {'coordinates': [6.95, 36.93], 'type': 'Point'},\n",
       " 'name': 'SKIKDA',\n",
       " 'popclass': 'C',\n",
       " 'station_id': 10160355000,\n",
       " 'wmo_id': 60355}"
      ]
     },
     "execution_count": 12,
     "metadata": {},
     "output_type": "execute_result"
    }
   ],
   "source": [
    "db.stations.find_one()"
   ]
  },
  {
   "cell_type": "code",
   "execution_count": 74,
   "metadata": {},
   "outputs": [],
   "source": [
    "def doStationIndexing():\n",
    "    # Add indexes\n",
    "    # Warning: geospatial index require -180, +180 longitudes !!\n",
    "    db.stations.create_index([(\"station_id\", pymongo.ASCENDING)])\n",
    "    db.stations.create_index([(\"loc\", pymongo.GEOSPHERE)])\n",
    "    \n",
    "#doStationIndexing()"
   ]
  },
  {
   "cell_type": "code",
   "execution_count": 13,
   "metadata": {},
   "outputs": [
    {
     "data": {
      "text/plain": [
       "{'_id_': {'key': [('_id', 1)], 'ns': 'GHCN.stations', 'v': 1},\n",
       " 'loc_2dsphere': {'2dsphereIndexVersion': 3,\n",
       "  'key': [('loc', '2dsphere')],\n",
       "  'ns': 'GHCN.stations',\n",
       "  'v': 1},\n",
       " 'station_id_1': {'key': [('station_id', 1)], 'ns': 'GHCN.stations', 'v': 1}}"
      ]
     },
     "execution_count": 13,
     "metadata": {},
     "output_type": "execute_result"
    }
   ],
   "source": [
    "db.stations.index_information()"
   ]
  },
  {
   "cell_type": "markdown",
   "metadata": {},
   "source": [
    "## Station Observations\n",
    "\n",
    "* \".qca.dat\" contains the observation:\n",
    "\n",
    "          Variable          Columns      Type\n",
    "          --------          -------      ----\n",
    "\n",
    "          ID                 1-11        Integer\n",
    "          YEAR              12-15        Integer\n",
    "          ELEMENT           16-19        Character  (i.e. variable name)\n",
    "          VALUE1            20-24        Integer    (1/100 th of degree Celsius, MISSING=-9999)\n",
    "          DMFLAG1           25-25        Character\n",
    "          QCFLAG1           26-26        Character\n",
    "          DSFLAG1           27-27        Character\n",
    "            .                 .             .\n",
    "            .                 .             .\n",
    "            .                 .             .\n",
    "          VALUE12          108-112       Integer\n",
    "          DMFLAG12         113-113       Character\n",
    "          QCFLAG12         114-114       Character\n",
    "          DSFLAG12         115-115       Character\n",
    "\n",
    "The Temparature data is given in hundredths of °C"
   ]
  },
  {
   "cell_type": "code",
   "execution_count": 17,
   "metadata": {},
   "outputs": [
    {
     "data": {
      "text/plain": [
       "    station_id  year variable      1      2      3      4      5      6  \\\n",
       "0  10160355000  1878     TAVG   9.61  10.21  11.81  16.81  20.51  23.11   \n",
       "1  10160355000  1879     TAVG  12.51  12.41  12.91  16.21  16.31  23.41   \n",
       "2  10160355000  1880     TAVG  10.31  11.81  13.11  15.91  17.81  21.41   \n",
       "3  10160355000  1931     TAVG    NaN  10.41    NaN    NaN  19.21  24.61   \n",
       "4  10160355000  1932     TAVG  10.81  10.51    NaN  14.91  19.11    NaN   \n",
       "\n",
       "       7      8      9     10     11     12  \n",
       "0  25.61  27.51  23.91    NaN  14.41  12.21  \n",
       "1  24.71  25.81  23.11  18.21  15.21   9.71  \n",
       "2  26.51  26.41  23.61  21.31  16.41  13.61  \n",
       "3    NaN  26.71  22.31  20.01  16.21  11.31  \n",
       "4  23.61    NaN  25.11    NaN    NaN    NaN  "
      ]
     },
     "execution_count": 17,
     "metadata": {},
     "output_type": "execute_result"
    }
   ],
   "source": [
    "# Station data\n",
    "dat_df = pd.read_fwf('/home/dmasson/data/ghcnm/ghcnm.tavg.v3.3.0.20180311.qca.dat',\n",
    "                     na_values='-9999',\n",
    "                     colspecs=[[0,11], [11, 15], [15,19], \n",
    "                               [19,24], [27,32],[35,40],[43,48],[51,56],\n",
    "                               [59,64],[67,72],[75,80],[83,88],[91,96],[99,104],[107,112]],\n",
    "                     header=None,\n",
    "                     #nrows=20,\n",
    "                     names=['station_id', 'year', 'variable',\n",
    "                            '1','2','3','4','5','6','7','8','9','10','11','12'])\n",
    "# Convertion to °C\n",
    "dat_df['1'] = dat_df['1']/100\n",
    "dat_df['2'] = dat_df['2']/100 \n",
    "dat_df['3'] = dat_df['3']/100 \n",
    "dat_df['4'] = dat_df['4']/100 \n",
    "dat_df['5'] = dat_df['5']/100 \n",
    "dat_df['6'] = dat_df['6']/100 \n",
    "dat_df['7'] = dat_df['7']/100 \n",
    "dat_df['8'] = dat_df['8']/100 \n",
    "dat_df['9'] = dat_df['9']/100 \n",
    "dat_df['10'] = dat_df['10']/100 \n",
    "dat_df['11'] = dat_df['11']/100 \n",
    "dat_df['12'] = dat_df['12']/100 \n",
    "\n",
    "dat_df.head()"
   ]
  },
  {
   "cell_type": "markdown",
   "metadata": {},
   "source": [
    "In my opinion, it is possible to insert the table above as it is in MongoDB. We anyway need to group by month later in the analysis"
   ]
  },
  {
   "cell_type": "code",
   "execution_count": 18,
   "metadata": {},
   "outputs": [
    {
     "data": {
      "text/plain": [
       "<pymongo.results.InsertManyResult at 0x7f213bd06c60>"
      ]
     },
     "execution_count": 18,
     "metadata": {},
     "output_type": "execute_result"
    }
   ],
   "source": [
    "db.data.insert_many(dat_df.to_dict('records'))\n"
   ]
  },
  {
   "cell_type": "code",
   "execution_count": 19,
   "metadata": {},
   "outputs": [
    {
     "data": {
      "text/plain": [
       "470883"
      ]
     },
     "execution_count": 19,
     "metadata": {},
     "output_type": "execute_result"
    }
   ],
   "source": [
    "db.data.count()"
   ]
  },
  {
   "cell_type": "code",
   "execution_count": 15,
   "metadata": {},
   "outputs": [],
   "source": [
    "#db.data.drop()"
   ]
  },
  {
   "cell_type": "code",
   "execution_count": 20,
   "metadata": {},
   "outputs": [
    {
     "data": {
      "text/plain": [
       "{'1': 9.61,\n",
       " '10': nan,\n",
       " '11': 14.41,\n",
       " '12': 12.21,\n",
       " '2': 10.21,\n",
       " '3': 11.81,\n",
       " '4': 16.81,\n",
       " '5': 20.51,\n",
       " '6': 23.11,\n",
       " '7': 25.61,\n",
       " '8': 27.51,\n",
       " '9': 23.91,\n",
       " '_id': ObjectId('5abe7e508cb6b80adfb07707'),\n",
       " 'station_id': 10160355000,\n",
       " 'variable': 'TAVG',\n",
       " 'year': 1878}"
      ]
     },
     "execution_count": 20,
     "metadata": {},
     "output_type": "execute_result"
    }
   ],
   "source": [
    "db.data.find_one()"
   ]
  },
  {
   "cell_type": "code",
   "execution_count": 21,
   "metadata": {},
   "outputs": [],
   "source": [
    "def doDataIndexing():\n",
    "    # Add indexes\n",
    "    # Warning: geospatial index require -180, +180 longitudes !!\n",
    "    db.data.create_index([(\"station_id\", pymongo.ASCENDING)])\n",
    "    db.data.create_index([(\"year\", pymongo.DESCENDING)])\n",
    "\n",
    "#doDataIndexing()"
   ]
  },
  {
   "cell_type": "code",
   "execution_count": 22,
   "metadata": {},
   "outputs": [
    {
     "data": {
      "text/plain": [
       "{'_id_': {'key': [('_id', 1)], 'ns': 'GHCN.data', 'v': 1},\n",
       " 'station_id_1': {'key': [('station_id', 1)], 'ns': 'GHCN.data', 'v': 1},\n",
       " 'year_-1': {'key': [('year', -1)], 'ns': 'GHCN.data', 'v': 1}}"
      ]
     },
     "execution_count": 22,
     "metadata": {},
     "output_type": "execute_result"
    }
   ],
   "source": [
    "db.data.index_information()"
   ]
  },
  {
   "cell_type": "code",
   "execution_count": null,
   "metadata": {},
   "outputs": [],
   "source": []
  }
 ],
 "metadata": {
  "kernelspec": {
   "display_name": "Python 3",
   "language": "python",
   "name": "python3"
  },
  "language_info": {
   "codemirror_mode": {
    "name": "ipython",
    "version": 3
   },
   "file_extension": ".py",
   "mimetype": "text/x-python",
   "name": "python",
   "nbconvert_exporter": "python",
   "pygments_lexer": "ipython3",
   "version": "3.7.6"
  }
 },
 "nbformat": 4,
 "nbformat_minor": 2
}
