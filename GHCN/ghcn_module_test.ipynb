{
 "cells": [
  {
   "cell_type": "markdown",
   "metadata": {},
   "source": [
    "# GHCN MODULE"
   ]
  },
  {
   "cell_type": "code",
   "execution_count": 2,
   "metadata": {},
   "outputs": [],
   "source": [
    "import pandas as pd\n",
    "import numpy as np\n",
    "import pymongo\n",
    "from pymongo import MongoClient\n",
    "from cputils.mongo import connect_mongo\n",
    "import logging\n",
    "from pyspark.sql import SparkSession\n",
    "from pyspark.sql.types import StructType, StructField, StringType,IntegerType, TimestampType, FloatType\n",
    "from pyspark.sql.functions import date_format, to_date, to_timestamp\n",
    "from datetime import datetime"
   ]
  },
  {
   "cell_type": "code",
   "execution_count": 9,
   "metadata": {},
   "outputs": [],
   "source": [
    "from ghcn_feed import GHCN\n",
    "#%load_ext autoreload\n",
    "#%autoreload 2"
   ]
  },
  {
   "cell_type": "code",
   "execution_count": 10,
   "metadata": {},
   "outputs": [],
   "source": [
    "G = GHCN(downloadDir='/mnt/md1/dat/WeatherData/Feed/GHCN/', # '/data/geoData/wx_ws/ghcn/'\n",
    "         logfilename='/home/dmasson/temp/ghcn.log',\n",
    "         experimental_setting=True)\n",
    "self = G"
   ]
  },
  {
   "cell_type": "code",
   "execution_count": 11,
   "metadata": {},
   "outputs": [],
   "source": [
    "self.getAllStation_ids()"
   ]
  },
  {
   "cell_type": "code",
   "execution_count": 12,
   "metadata": {},
   "outputs": [
    {
     "data": {
      "text/html": [
       "<div>\n",
       "<style scoped>\n",
       "    .dataframe tbody tr th:only-of-type {\n",
       "        vertical-align: middle;\n",
       "    }\n",
       "\n",
       "    .dataframe tbody tr th {\n",
       "        vertical-align: top;\n",
       "    }\n",
       "\n",
       "    .dataframe thead th {\n",
       "        text-align: right;\n",
       "    }\n",
       "</style>\n",
       "<table border=\"1\" class=\"dataframe\">\n",
       "  <thead>\n",
       "    <tr style=\"text-align: right;\">\n",
       "      <th></th>\n",
       "      <th>file</th>\n",
       "      <th>year</th>\n",
       "    </tr>\n",
       "  </thead>\n",
       "  <tbody>\n",
       "    <tr>\n",
       "      <td>0</td>\n",
       "      <td>1763.csv.gz</td>\n",
       "      <td>1763</td>\n",
       "    </tr>\n",
       "    <tr>\n",
       "      <td>1</td>\n",
       "      <td>1764.csv.gz</td>\n",
       "      <td>1764</td>\n",
       "    </tr>\n",
       "    <tr>\n",
       "      <td>2</td>\n",
       "      <td>1765.csv.gz</td>\n",
       "      <td>1765</td>\n",
       "    </tr>\n",
       "    <tr>\n",
       "      <td>3</td>\n",
       "      <td>1766.csv.gz</td>\n",
       "      <td>1766</td>\n",
       "    </tr>\n",
       "    <tr>\n",
       "      <td>4</td>\n",
       "      <td>1767.csv.gz</td>\n",
       "      <td>1767</td>\n",
       "    </tr>\n",
       "  </tbody>\n",
       "</table>\n",
       "</div>"
      ],
      "text/plain": [
       "          file  year\n",
       "0  1763.csv.gz  1763\n",
       "1  1764.csv.gz  1764\n",
       "2  1765.csv.gz  1765\n",
       "3  1766.csv.gz  1766\n",
       "4  1767.csv.gz  1767"
      ]
     },
     "execution_count": 12,
     "metadata": {},
     "output_type": "execute_result"
    }
   ],
   "source": [
    "self.listFiles(first_year=1500)\n",
    "self.files_df.head()"
   ]
  },
  {
   "cell_type": "code",
   "execution_count": 13,
   "metadata": {},
   "outputs": [
    {
     "data": {
      "text/plain": [
       "[1763,\n",
       " 1764,\n",
       " 1765,\n",
       " 1766,\n",
       " 1767,\n",
       " 1768,\n",
       " 1769,\n",
       " 1770,\n",
       " 1771,\n",
       " 1772,\n",
       " 1773,\n",
       " 1774,\n",
       " 1775,\n",
       " 1776,\n",
       " 1777,\n",
       " 1778,\n",
       " 1779,\n",
       " 1780,\n",
       " 1781,\n",
       " 1782,\n",
       " 1783,\n",
       " 1784,\n",
       " 1785,\n",
       " 1786,\n",
       " 1787,\n",
       " 1788,\n",
       " 1789,\n",
       " 1790,\n",
       " 1791,\n",
       " 1792,\n",
       " 1793,\n",
       " 1794,\n",
       " 1795,\n",
       " 1796,\n",
       " 1797,\n",
       " 1798,\n",
       " 1799,\n",
       " 1800,\n",
       " 1801,\n",
       " 1802,\n",
       " 1803,\n",
       " 1804,\n",
       " 1805,\n",
       " 1806,\n",
       " 1807,\n",
       " 1808,\n",
       " 1809,\n",
       " 1810,\n",
       " 1811,\n",
       " 1812,\n",
       " 1813,\n",
       " 1814,\n",
       " 1815,\n",
       " 1816,\n",
       " 1817,\n",
       " 1818,\n",
       " 1819,\n",
       " 1820,\n",
       " 1821,\n",
       " 1822,\n",
       " 1823,\n",
       " 1824,\n",
       " 1825,\n",
       " 1826,\n",
       " 1827,\n",
       " 1828,\n",
       " 1829,\n",
       " 1830,\n",
       " 1831,\n",
       " 1832,\n",
       " 1833,\n",
       " 1834,\n",
       " 1835,\n",
       " 1836,\n",
       " 1837,\n",
       " 1838,\n",
       " 1839,\n",
       " 1840,\n",
       " 1841,\n",
       " 1842,\n",
       " 1843,\n",
       " 1844,\n",
       " 1845,\n",
       " 1846,\n",
       " 1847,\n",
       " 1848,\n",
       " 1849,\n",
       " 1850,\n",
       " 1851,\n",
       " 1852,\n",
       " 1853,\n",
       " 1854,\n",
       " 1855,\n",
       " 1856,\n",
       " 1857,\n",
       " 1858,\n",
       " 1859,\n",
       " 1860,\n",
       " 1861,\n",
       " 1862,\n",
       " 1863,\n",
       " 1864,\n",
       " 1865,\n",
       " 1866,\n",
       " 1867,\n",
       " 1868,\n",
       " 1869,\n",
       " 1870,\n",
       " 1871,\n",
       " 1872,\n",
       " 1873,\n",
       " 1874,\n",
       " 1875,\n",
       " 1876,\n",
       " 1877,\n",
       " 1878,\n",
       " 1879,\n",
       " 1880,\n",
       " 1881,\n",
       " 1882,\n",
       " 1883,\n",
       " 1884,\n",
       " 1885,\n",
       " 1886,\n",
       " 1887,\n",
       " 1888,\n",
       " 1889,\n",
       " 1890,\n",
       " 1891,\n",
       " 1892,\n",
       " 1893,\n",
       " 1894,\n",
       " 1895,\n",
       " 1896,\n",
       " 1897,\n",
       " 1898,\n",
       " 1899,\n",
       " 1900,\n",
       " 1901,\n",
       " 1902,\n",
       " 1903,\n",
       " 1904,\n",
       " 1905,\n",
       " 1906,\n",
       " 1907,\n",
       " 1908,\n",
       " 1909,\n",
       " 1910,\n",
       " 1911,\n",
       " 1912,\n",
       " 1913,\n",
       " 1914,\n",
       " 1915,\n",
       " 1916,\n",
       " 1917,\n",
       " 1918,\n",
       " 1919,\n",
       " 1920,\n",
       " 1921,\n",
       " 1922,\n",
       " 1923,\n",
       " 1924,\n",
       " 1925,\n",
       " 1926,\n",
       " 1927,\n",
       " 1928,\n",
       " 1929,\n",
       " 1930,\n",
       " 1931,\n",
       " 1932,\n",
       " 1933,\n",
       " 1934,\n",
       " 1935,\n",
       " 1936,\n",
       " 1937,\n",
       " 1938,\n",
       " 1939,\n",
       " 1940,\n",
       " 1941,\n",
       " 1942,\n",
       " 1943,\n",
       " 1944,\n",
       " 1945,\n",
       " 1946,\n",
       " 1947,\n",
       " 1948,\n",
       " 1949,\n",
       " 1950,\n",
       " 1951,\n",
       " 1952,\n",
       " 1953,\n",
       " 1954,\n",
       " 1955,\n",
       " 1956,\n",
       " 1957,\n",
       " 1958,\n",
       " 1959,\n",
       " 1960,\n",
       " 1961,\n",
       " 1962,\n",
       " 1963,\n",
       " 1964,\n",
       " 1965,\n",
       " 1966,\n",
       " 1967,\n",
       " 1968,\n",
       " 1969,\n",
       " 1970,\n",
       " 1971,\n",
       " 1972,\n",
       " 1973,\n",
       " 1974,\n",
       " 1975,\n",
       " 1976,\n",
       " 1977,\n",
       " 1978,\n",
       " 1979,\n",
       " 1980,\n",
       " 1981,\n",
       " 1982,\n",
       " 1983,\n",
       " 1984,\n",
       " 1985,\n",
       " 1986,\n",
       " 1987,\n",
       " 1988,\n",
       " 1989,\n",
       " 1990,\n",
       " 1991,\n",
       " 1992,\n",
       " 1993,\n",
       " 1994,\n",
       " 1995,\n",
       " 1996,\n",
       " 1997,\n",
       " 1998,\n",
       " 1999,\n",
       " 2000,\n",
       " 2001,\n",
       " 2002,\n",
       " 2003,\n",
       " 2004,\n",
       " 2005,\n",
       " 2006,\n",
       " 2007,\n",
       " 2008,\n",
       " 2009,\n",
       " 2010,\n",
       " 2011,\n",
       " 2012,\n",
       " 2013,\n",
       " 2014,\n",
       " 2015,\n",
       " 2016,\n",
       " 2017,\n",
       " 2018,\n",
       " 2019]"
      ]
     },
     "execution_count": 13,
     "metadata": {},
     "output_type": "execute_result"
    }
   ],
   "source": [
    "self.files_df['year'].values.tolist()"
   ]
  },
  {
   "cell_type": "code",
   "execution_count": null,
   "metadata": {},
   "outputs": [],
   "source": [
    "self.updateThisYear(year=1990)"
   ]
  },
  {
   "cell_type": "code",
   "execution_count": null,
   "metadata": {},
   "outputs": [],
   "source": [
    "from dateutil.relativedelta import relativedelta\n",
    "today = datetime.today()\n",
    "to_day = today - relativedelta(months=6)\n",
    "to_day"
   ]
  },
  {
   "cell_type": "code",
   "execution_count": null,
   "metadata": {},
   "outputs": [],
   "source": [
    "today.year"
   ]
  },
  {
   "cell_type": "code",
   "execution_count": 14,
   "metadata": {},
   "outputs": [
    {
     "ename": "ValueError",
     "evalue": "invalid literal for int() with base 10: '1980.csv.gz'",
     "output_type": "error",
     "traceback": [
      "\u001b[0;31m---------------------------------------------------------------------------\u001b[0m",
      "\u001b[0;31mValueError\u001b[0m                                Traceback (most recent call last)",
      "\u001b[0;32m<ipython-input-14-0a5d47254457>\u001b[0m in \u001b[0;36m<module>\u001b[0;34m\u001b[0m\n\u001b[1;32m      3\u001b[0m     \u001b[0mself\u001b[0m\u001b[0;34m.\u001b[0m\u001b[0mdownloadDir\u001b[0m\u001b[0;34m,\u001b[0m\u001b[0;34m\u001b[0m\u001b[0;34m\u001b[0m\u001b[0m\n\u001b[1;32m      4\u001b[0m     int(self.files_df.query(\n\u001b[0;32m----> 5\u001b[0;31m         'year == @year')['file'].values[0])-1)\n\u001b[0m",
      "\u001b[0;31mValueError\u001b[0m: invalid literal for int() with base 10: '1980.csv.gz'"
     ]
    }
   ],
   "source": [
    "year=1980\n",
    "path_to_file00 = '%s%s' % (\n",
    "    self.downloadDir,\n",
    "    int(self.files_df.query(\n",
    "        'year == @year')['file'].values[0])-1)"
   ]
  },
  {
   "cell_type": "code",
   "execution_count": 17,
   "metadata": {},
   "outputs": [
    {
     "data": {
      "text/plain": [
       "'1980'"
      ]
     },
     "execution_count": 17,
     "metadata": {},
     "output_type": "execute_result"
    }
   ],
   "source": [
    "self.files_df.query('year == @year')['file'].values[0][:4]"
   ]
  },
  {
   "cell_type": "code",
   "execution_count": 18,
   "metadata": {},
   "outputs": [
    {
     "data": {
      "text/plain": [
       "'1980.csv.gz'"
      ]
     },
     "execution_count": 18,
     "metadata": {},
     "output_type": "execute_result"
    }
   ],
   "source": [
    "self.files_df.query('year == @year')['file'].values[0]"
   ]
  },
  {
   "cell_type": "code",
   "execution_count": 23,
   "metadata": {},
   "outputs": [
    {
     "data": {
      "text/html": [
       "<div>\n",
       "<style scoped>\n",
       "    .dataframe tbody tr th:only-of-type {\n",
       "        vertical-align: middle;\n",
       "    }\n",
       "\n",
       "    .dataframe tbody tr th {\n",
       "        vertical-align: top;\n",
       "    }\n",
       "\n",
       "    .dataframe thead th {\n",
       "        text-align: right;\n",
       "    }\n",
       "</style>\n",
       "<table border=\"1\" class=\"dataframe\">\n",
       "  <thead>\n",
       "    <tr style=\"text-align: right;\">\n",
       "      <th></th>\n",
       "      <th>id_station</th>\n",
       "      <th>mapping1</th>\n",
       "    </tr>\n",
       "  </thead>\n",
       "  <tbody>\n",
       "    <tr>\n",
       "      <td>2972</td>\n",
       "      <td>67980</td>\n",
       "      <td>SPE00119747</td>\n",
       "    </tr>\n",
       "  </tbody>\n",
       "</table>\n",
       "</div>"
      ],
      "text/plain": [
       "      id_station     mapping1\n",
       "2972       67980  SPE00119747"
      ]
     },
     "execution_count": 23,
     "metadata": {},
     "output_type": "execute_result"
    }
   ],
   "source": [
    "self.df_sta.query('id_station == 67980')"
   ]
  },
  {
   "cell_type": "code",
   "execution_count": 24,
   "metadata": {},
   "outputs": [],
   "source": [
    "from functools import partial"
   ]
  },
  {
   "cell_type": "code",
   "execution_count": null,
   "metadata": {},
   "outputs": [],
   "source": [
    "df0 = self.loadTransform(zipfile='/mnt/md1/dat/WeatherData/Feed/GHCN/1990.csv.gz')"
   ]
  },
  {
   "cell_type": "code",
   "execution_count": null,
   "metadata": {},
   "outputs": [],
   "source": [
    "df0.head()"
   ]
  },
  {
   "cell_type": "code",
   "execution_count": null,
   "metadata": {},
   "outputs": [],
   "source": [
    "df00 = self.loadTransform(zipfile='/mnt/md1/dat/WeatherData/Feed/GHCN/1991.csv.gz')"
   ]
  },
  {
   "cell_type": "code",
   "execution_count": null,
   "metadata": {},
   "outputs": [],
   "source": [
    "# HERE !!!!\n",
    "\n",
    "df0.shape, df00.shape"
   ]
  },
  {
   "cell_type": "code",
   "execution_count": null,
   "metadata": {},
   "outputs": [],
   "source": [
    "\n",
    "aa = df00.append(df0, ignore_index=True)\n",
    "aa.head()"
   ]
  },
  {
   "cell_type": "code",
   "execution_count": null,
   "metadata": {},
   "outputs": [],
   "source": [
    "aa.shape"
   ]
  },
  {
   "cell_type": "code",
   "execution_count": null,
   "metadata": {},
   "outputs": [],
   "source": [
    "aa.loc[2, 'date']"
   ]
  },
  {
   "cell_type": "code",
   "execution_count": null,
   "metadata": {},
   "outputs": [],
   "source": [
    "today = datetime.today()\n",
    "to_day = today - relativedelta(months=6)\n",
    "to_day"
   ]
  },
  {
   "cell_type": "code",
   "execution_count": null,
   "metadata": {},
   "outputs": [],
   "source": [
    "qq = datetime.date(to_day)"
   ]
  },
  {
   "cell_type": "code",
   "execution_count": null,
   "metadata": {},
   "outputs": [],
   "source": [
    "qq.month"
   ]
  },
  {
   "cell_type": "code",
   "execution_count": null,
   "metadata": {},
   "outputs": [],
   "source": [
    "aa.query('date < @qq')"
   ]
  },
  {
   "cell_type": "code",
   "execution_count": null,
   "metadata": {},
   "outputs": [],
   "source": [
    "to_day"
   ]
  },
  {
   "cell_type": "code",
   "execution_count": 7,
   "metadata": {},
   "outputs": [
    {
     "data": {
      "text/plain": [
       "2019"
      ]
     },
     "execution_count": 7,
     "metadata": {},
     "output_type": "execute_result"
    }
   ],
   "source": [
    "datetime.today().year"
   ]
  },
  {
   "cell_type": "code",
   "execution_count": null,
   "metadata": {},
   "outputs": [],
   "source": []
  },
  {
   "cell_type": "code",
   "execution_count": null,
   "metadata": {},
   "outputs": [],
   "source": [
    "self.df_sta.head()"
   ]
  },
  {
   "cell_type": "code",
   "execution_count": null,
   "metadata": {},
   "outputs": [],
   "source": [
    "dates = df0['date'].unique().tolist()\n",
    "this_date = dates[3]\n",
    "this_date"
   ]
  },
  {
   "cell_type": "code",
   "execution_count": null,
   "metadata": {},
   "outputs": [],
   "source": [
    "this_date\n",
    "df0_day = df0.query('date == @this_date')\n",
    "df0_day.head()"
   ]
  },
  {
   "cell_type": "code",
   "execution_count": null,
   "metadata": {},
   "outputs": [],
   "source": [
    "df0_day.shape"
   ]
  },
  {
   "cell_type": "code",
   "execution_count": null,
   "metadata": {},
   "outputs": [],
   "source": [
    "var_mapping = {'PRCP': 'col_rain',\n",
    "               'TMAX': 'col_tmax',\n",
    "               'TMIN': 'col_tmin',\n",
    "               'TAVG': 'col_tavg'}\n",
    "con = self._createMongoConn(self.experimental_setting)"
   ]
  },
  {
   "cell_type": "code",
   "execution_count": null,
   "metadata": {},
   "outputs": [],
   "source": [
    "# Deletion\n",
    "underlying = 'PRCP'\n",
    "all_sta = self.df_sta['id_station'].unique().tolist() # 12272\n",
    "col_dat = con[var_mapping[underlying]]\n",
    "# modify in delete_many\n",
    "col_dat.find_one(filter=\n",
    "#col_dat.delete_many(filter=\n",
    "                 {'id_station': {'$in': all_sta}, \n",
    "                  'Date': datetime(this_date.year, this_date.month, this_date.day, 0, 0)})"
   ]
  },
  {
   "cell_type": "code",
   "execution_count": null,
   "metadata": {},
   "outputs": [],
   "source": [
    "col_dat.count(filter={'id_station': {'$in': all_sta}, \n",
    "                      'Date': datetime(this_date.year, this_date.month, this_date.day, 0, 0)})"
   ]
  },
  {
   "cell_type": "code",
   "execution_count": null,
   "metadata": {},
   "outputs": [],
   "source": [
    "# Insertion\n",
    "df_u = df0_day[['date', 'id_station', underlying]].dropna(subset=[underlying]).reset_index(drop=True).rename(\n",
    "columns={underlying: 'Measure'}).assign(Date = datetime(this_date.year, this_date.month, this_date.day, 0, 0),\n",
    "                                        DataQuality = int(5)).drop(columns='date')\n",
    "df_u['Measure'] = df_u['Measure']/10\n",
    "df_u.head()"
   ]
  },
  {
   "cell_type": "code",
   "execution_count": null,
   "metadata": {},
   "outputs": [],
   "source": [
    "col_dat.insert_many(df_u.to_dict('records'))"
   ]
  },
  {
   "cell_type": "code",
   "execution_count": null,
   "metadata": {},
   "outputs": [],
   "source": []
  },
  {
   "cell_type": "code",
   "execution_count": null,
   "metadata": {},
   "outputs": [],
   "source": []
  },
  {
   "cell_type": "code",
   "execution_count": null,
   "metadata": {},
   "outputs": [],
   "source": []
  },
  {
   "cell_type": "code",
   "execution_count": null,
   "metadata": {},
   "outputs": [],
   "source": []
  },
  {
   "cell_type": "code",
   "execution_count": null,
   "metadata": {},
   "outputs": [],
   "source": []
  },
  {
   "cell_type": "code",
   "execution_count": null,
   "metadata": {},
   "outputs": [],
   "source": []
  },
  {
   "cell_type": "code",
   "execution_count": null,
   "metadata": {},
   "outputs": [],
   "source": []
  },
  {
   "cell_type": "code",
   "execution_count": null,
   "metadata": {},
   "outputs": [],
   "source": []
  },
  {
   "cell_type": "code",
   "execution_count": null,
   "metadata": {},
   "outputs": [],
   "source": [
    "self.updateThisYear(year=1966)"
   ]
  },
  {
   "cell_type": "code",
   "execution_count": null,
   "metadata": {},
   "outputs": [],
   "source": [
    "year=int(2016)\n",
    "self.files_df.query('year == @year')['file'].values[0]"
   ]
  },
  {
   "cell_type": "code",
   "execution_count": null,
   "metadata": {},
   "outputs": [],
   "source": []
  },
  {
   "cell_type": "code",
   "execution_count": null,
   "metadata": {},
   "outputs": [],
   "source": [
    "year = 1990\n",
    "'%s%s' % (self.downloadDir, self.files_df.query('year == @year')['file'].values[0])"
   ]
  },
  {
   "cell_type": "code",
   "execution_count": null,
   "metadata": {},
   "outputs": [],
   "source": []
  },
  {
   "cell_type": "code",
   "execution_count": null,
   "metadata": {},
   "outputs": [],
   "source": [
    "this_file = '%s/1966.csv.gz' % self.downloadDir\n",
    "this_file"
   ]
  },
  {
   "cell_type": "code",
   "execution_count": null,
   "metadata": {},
   "outputs": [],
   "source": [
    "df = self.loadTransform(zipfile=this_file)"
   ]
  },
  {
   "cell_type": "code",
   "execution_count": null,
   "metadata": {},
   "outputs": [],
   "source": [
    "df.head()"
   ]
  },
  {
   "cell_type": "markdown",
   "metadata": {},
   "source": [
    "# Spark details"
   ]
  },
  {
   "cell_type": "code",
   "execution_count": null,
   "metadata": {},
   "outputs": [],
   "source": [
    "spark = SparkSession.builder.appName('GHCN_session').getOrCreate()"
   ]
  },
  {
   "cell_type": "code",
   "execution_count": null,
   "metadata": {},
   "outputs": [],
   "source": [
    "DF = spark.read.csv(this_file,\n",
    "                    header=None)\n",
    "DF = DF.withColumnRenamed(\"_c0\",\"station_id\")\n",
    "DF = DF.withColumnRenamed(\"_c1\",\"date\")\n",
    "DF = DF.withColumnRenamed(\"_c2\",\"variable\")\n",
    "DF = DF.withColumnRenamed(\"_c3\",\"value\")\n",
    "DF = DF.withColumnRenamed(\"_c4\",\"MFLAG\")\n",
    "DF = DF.withColumnRenamed(\"_c5\",\"QFLAG\")\n",
    "DF = DF.withColumnRenamed(\"_c6\",\"SFLAG\")\n",
    "DF = DF.withColumnRenamed(\"_c7\",\"obs_time\")\n",
    "DF = DF.select('station_id', 'date', 'variable','value')\n",
    "DF.show(5)"
   ]
  },
  {
   "cell_type": "code",
   "execution_count": null,
   "metadata": {},
   "outputs": [],
   "source": [
    "DF = DF.withColumn(colName='station_id', col=DF['station_id'].astype('string'))\n",
    "DF = DF.withColumn('date', col=to_date('date', 'yyyyMMdd'))\n",
    "DF = DF.withColumn(colName='variable', col=DF['variable'].astype('string'))\n",
    "DF = DF.withColumn(colName='value', col=DF['value'].astype('int'))\n",
    "DF.show(5)"
   ]
  },
  {
   "cell_type": "code",
   "execution_count": null,
   "metadata": {},
   "outputs": [],
   "source": [
    "DF.dtypes"
   ]
  },
  {
   "cell_type": "markdown",
   "metadata": {},
   "source": [
    "If using directly dataframe:\n",
    "\n",
    "```python\n",
    "df = pd.read_csv(this_file, header=None, names=['station_id', 'date', 'variable', 'value', \n",
    "                                                'MFLAG', 'QFLAG', 'SFLAG', 'obs_time'])\n",
    "df.head()\n",
    "\n",
    "df_sub = df.query('variable in [\"PRCP\", \"TMAX\", \"TMIN\"]')\n",
    "df_sub.head()\n",
    "\n",
    "```"
   ]
  },
  {
   "cell_type": "code",
   "execution_count": null,
   "metadata": {},
   "outputs": [],
   "source": [
    "# Focus on PRCP, TMAX, TMIN only\n",
    "DF_sub = DF[DF['variable'].isin([\"PRCP\", \"TMAX\", \"TMIN\"])]\n",
    "DF_sub.show(5)"
   ]
  },
  {
   "cell_type": "code",
   "execution_count": null,
   "metadata": {},
   "outputs": [],
   "source": [
    "DF_sub.count()"
   ]
  },
  {
   "cell_type": "markdown",
   "metadata": {},
   "source": [
    "# Which GHCN stations do we already have ?"
   ]
  },
  {
   "cell_type": "code",
   "execution_count": null,
   "metadata": {},
   "outputs": [],
   "source": [
    "con = self._createMongoConn(experimental_setting=self.experimental_setting)\n",
    "col_sta = con['col_sta']\n",
    "col_sta.find_one({'id_provider': 25})"
   ]
  },
  {
   "cell_type": "code",
   "execution_count": null,
   "metadata": {},
   "outputs": [],
   "source": [
    "df_sta = pd.DataFrame(list(col_sta.find({'id_provider': 25, \n",
    "                                          'mapping1': \n",
    "                                          {'$exists': True}}, \n",
    "                                         {'name': 1, 'mapping1': 1,'country': 1, 'id_station': 1, '_id': 0})))\n",
    "# Post-processing\n",
    "df_sta['len'] = list(map(lambda x: len(x), df_sta['mapping1']))\n",
    "df_sta = df_sta.query('len == 11')\n",
    "df_sta.head()"
   ]
  },
  {
   "cell_type": "code",
   "execution_count": null,
   "metadata": {},
   "outputs": [],
   "source": [
    "df_sta = df_sta[['id_station', 'mapping1']]\n",
    "df_sta.head()"
   ]
  },
  {
   "cell_type": "code",
   "execution_count": null,
   "metadata": {},
   "outputs": [],
   "source": [
    "ids_ghcn = df_sta['mapping1'].values.tolist()\n",
    "ids_ghcn[:5]"
   ]
  },
  {
   "cell_type": "markdown",
   "metadata": {},
   "source": [
    "# Inner joint in Spark"
   ]
  },
  {
   "cell_type": "code",
   "execution_count": null,
   "metadata": {},
   "outputs": [],
   "source": [
    "# Transform pandas dataframe to Spark DataFame\n",
    "from pyspark.sql import SQLContext\n",
    "sqlContext = SQLContext(spark)\n",
    "DF_sta = sqlContext.createDataFrame(df_sta)\n",
    "DF_sta.show(5)"
   ]
  },
  {
   "cell_type": "code",
   "execution_count": null,
   "metadata": {},
   "outputs": [],
   "source": [
    "DF_sta.dtypes"
   ]
  },
  {
   "cell_type": "code",
   "execution_count": null,
   "metadata": {},
   "outputs": [],
   "source": [
    "DF_sub2 = DF_sub.join(DF_sta, DF_sub['station_id'] == DF_sta['mapping1'], 'inner').drop('station_id')\n",
    "DF_sub2.show(5)"
   ]
  },
  {
   "cell_type": "code",
   "execution_count": null,
   "metadata": {},
   "outputs": [],
   "source": [
    "DF_sub2.count() # 4267068"
   ]
  },
  {
   "cell_type": "markdown",
   "metadata": {},
   "source": [
    "# Pivot Table"
   ]
  },
  {
   "cell_type": "code",
   "execution_count": null,
   "metadata": {},
   "outputs": [],
   "source": [
    "DF_pivot = DF_sub2.groupBy('date', 'id_station').pivot('variable', values=[\"PRCP\", \"TMAX\", \"TMIN\"]).avg('value')\n",
    "DF_pivot.show(5)"
   ]
  },
  {
   "cell_type": "code",
   "execution_count": null,
   "metadata": {},
   "outputs": [],
   "source": [
    "# Create \"Average Temperature\" column :\n",
    "DF_pivot = DF_pivot.withColumn('TAVG', 0.5*(DF_pivot['TMAX']+DF_pivot['TMIN']))\n",
    "DF_pivot.show(5)"
   ]
  },
  {
   "cell_type": "code",
   "execution_count": null,
   "metadata": {},
   "outputs": [],
   "source": [
    "DF_pivot.count()"
   ]
  },
  {
   "cell_type": "markdown",
   "metadata": {},
   "source": [
    "# Classic MongoDB update"
   ]
  },
  {
   "cell_type": "code",
   "execution_count": null,
   "metadata": {},
   "outputs": [],
   "source": [
    "#df = DF_pivot.toPandas()\n",
    "df.head()"
   ]
  },
  {
   "cell_type": "code",
   "execution_count": null,
   "metadata": {},
   "outputs": [],
   "source": [
    "con = self._createMongoConn(experimental_setting=self.experimental_setting) # !!!changemeback\n",
    "col_rain = con['col_rain']\n",
    "col_tmax = con['col_tmax']\n",
    "col_tmin = con['col_tmin']\n",
    "col_tavg = con['col_tavg']"
   ]
  },
  {
   "cell_type": "code",
   "execution_count": null,
   "metadata": {},
   "outputs": [],
   "source": [
    "row = 0\n",
    "this_obs = df.iloc[row].to_dict()\n",
    "this_obs"
   ]
  },
  {
   "cell_type": "code",
   "execution_count": null,
   "metadata": {},
   "outputs": [],
   "source": [
    "ind = 200\n",
    "this_id = 66267\n",
    "#this_id = int(df.loc[ind, 'id_station']) # 66267\n",
    "this_date = df.loc[ind, 'date']\n",
    "#this_date = datetime(2019, 1, 6)\n",
    "this_date = datetime(this_date.year, \n",
    "                     this_date.month, \n",
    "                     this_date.day, 0, 0)\n",
    "update_filter = {'id_station': this_id, \n",
    "                 'Date': this_date}\n",
    "update_filter"
   ]
  },
  {
   "cell_type": "code",
   "execution_count": null,
   "metadata": {},
   "outputs": [],
   "source": [
    "ind = 200\n",
    "this_id = 66267\n",
    "#this_id = int(df.loc[ind, 'id_station']) # 66267\n",
    "this_date = df.loc[ind, 'date']\n",
    "#this_date = datetime(2019, 1, 6)\n",
    "this_date = datetime(this_date.year, \n",
    "                     this_date.month, \n",
    "                     this_date.day, 0, 0)\n",
    "update_filter = {'id_station': this_id, \n",
    "                 'Date': this_date}\n",
    "update_filter"
   ]
  },
  {
   "cell_type": "code",
   "execution_count": null,
   "metadata": {},
   "outputs": [],
   "source": [
    "var_mapping ={'PRCP': 'col_rain', 'TMAX': 'col_tmax', 'TMIN': 'col_tmin', 'TAVG': 'col_tavg'}\n",
    "var_mapping"
   ]
  },
  {
   "cell_type": "code",
   "execution_count": null,
   "metadata": {},
   "outputs": [],
   "source": [
    "def updateUnderlying(this_underlying):\n",
    "    value = df.loc[ind, this_underlying]/10\n",
    "    update_doc = update_filter.copy()\n",
    "    update_doc['Measure'] = value\n",
    "    update_doc['DataQuality'] = int(5)\n",
    "    con[var_mapping[this_underlying]].update_one(filter=update_filter, \n",
    "                                                 update={'$set': update_doc},\n",
    "                                                 upsert=True)\n",
    "void = list(map(updateUnderlying, [\"PRCP\", \"TMAX\", \"TMIN\", \"TAVG\"]))"
   ]
  },
  {
   "cell_type": "code",
   "execution_count": null,
   "metadata": {},
   "outputs": [],
   "source": [
    "con['col_rain'].find_one(filter=update_filter)"
   ]
  },
  {
   "cell_type": "code",
   "execution_count": null,
   "metadata": {},
   "outputs": [],
   "source": [
    "from multiprocessing import Pool"
   ]
  },
  {
   "cell_type": "code",
   "execution_count": null,
   "metadata": {},
   "outputs": [],
   "source": [
    "import os\n",
    "csv_files = [f for f in os.listdir(self.downloadDir) if f.endswith('.csv.gz')]\n",
    "files_df = pd.DataFrame({'file': csv_files})\n",
    "files_df = files_df.assign(\n",
    "    year= list(map(lambda x: int(x[0:4]), files_df['file']))).sort_values(\n",
    "    by='year', ascending=True)\n",
    "firstyear = 1980\n",
    "files_df = files_df.query('year >= @firstyear').reset_index(drop=True)\n",
    "files_df.head()"
   ]
  },
  {
   "cell_type": "code",
   "execution_count": null,
   "metadata": {},
   "outputs": [],
   "source": [
    "files_df"
   ]
  },
  {
   "cell_type": "markdown",
   "metadata": {},
   "source": [
    "# Update line-by-line"
   ]
  },
  {
   "cell_type": "code",
   "execution_count": null,
   "metadata": {},
   "outputs": [],
   "source": [
    "var = [\"PRCP\", \"TMAX\", \"TMIN\"][0]\n",
    "var"
   ]
  }
 ],
 "metadata": {
  "kernelspec": {
   "display_name": "Python 3",
   "language": "python",
   "name": "python3"
  },
  "language_info": {
   "codemirror_mode": {
    "name": "ipython",
    "version": 3
   },
   "file_extension": ".py",
   "mimetype": "text/x-python",
   "name": "python",
   "nbconvert_exporter": "python",
   "pygments_lexer": "ipython3",
   "version": "3.7.3"
  }
 },
 "nbformat": 4,
 "nbformat_minor": 2
}
