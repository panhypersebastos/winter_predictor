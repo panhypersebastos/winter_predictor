{
 "cells": [
  {
   "cell_type": "markdown",
   "metadata": {},
   "source": [
    "# WINTER PREDICTOR\n",
    "Uses the \"winter_predictor\" oriented-object modules"
   ]
  },
  {
   "cell_type": "code",
   "execution_count": 1,
   "metadata": {},
   "outputs": [],
   "source": [
    "%load_ext autoreload\n",
    "%autoreload 2\n",
    "\n",
    "import matplotlib.pyplot as plt\n",
    "from winter_predictor import Predictor, StationPrediction"
   ]
  },
  {
   "cell_type": "code",
   "execution_count": 2,
   "metadata": {},
   "outputs": [],
   "source": [
    "import numpy as np"
   ]
  },
  {
   "cell_type": "markdown",
   "metadata": {},
   "source": [
    "# PART 1 : GET PREDICTORS\n",
    "\n",
    "The **SAME** predictor set will then be used for any target station to predict."
   ]
  },
  {
   "cell_type": "code",
   "execution_count": 3,
   "metadata": {},
   "outputs": [],
   "source": [
    "PRED = Predictor()"
   ]
  },
  {
   "cell_type": "code",
   "execution_count": 4,
   "metadata": {},
   "outputs": [],
   "source": [
    "PRED.getPredictorsDF()"
   ]
  },
  {
   "cell_type": "code",
   "execution_count": 5,
   "metadata": {},
   "outputs": [
    {
     "data": {
      "text/html": [
       "<div>\n",
       "<style scoped>\n",
       "    .dataframe tbody tr th:only-of-type {\n",
       "        vertical-align: middle;\n",
       "    }\n",
       "\n",
       "    .dataframe tbody tr th {\n",
       "        vertical-align: top;\n",
       "    }\n",
       "\n",
       "    .dataframe thead th {\n",
       "        text-align: right;\n",
       "    }\n",
       "</style>\n",
       "<table border=\"1\" class=\"dataframe\">\n",
       "  <thead>\n",
       "    <tr style=\"text-align: right;\">\n",
       "      <th></th>\n",
       "      <th>PC1_z70_9</th>\n",
       "      <th>PC2_z70_9</th>\n",
       "      <th>PC3_z70_9</th>\n",
       "      <th>PC1_ci_9</th>\n",
       "      <th>PC2_ci_9</th>\n",
       "      <th>PC3_ci_9</th>\n",
       "      <th>PC1_sst_9</th>\n",
       "      <th>PC2_sst_9</th>\n",
       "      <th>PC3_sst_9</th>\n",
       "      <th>PC1_sstna_9</th>\n",
       "      <th>...</th>\n",
       "      <th>PC1_ci_10</th>\n",
       "      <th>PC2_ci_10</th>\n",
       "      <th>PC3_ci_10</th>\n",
       "      <th>PC1_sst_10</th>\n",
       "      <th>PC2_sst_10</th>\n",
       "      <th>PC3_sst_10</th>\n",
       "      <th>PC1_sstna_10</th>\n",
       "      <th>PC2_sstna_10</th>\n",
       "      <th>PC3_sstna_10</th>\n",
       "      <th>Nino_10</th>\n",
       "    </tr>\n",
       "  </thead>\n",
       "  <tbody>\n",
       "    <tr>\n",
       "      <th>0</th>\n",
       "      <td>18023.465139</td>\n",
       "      <td>2794.736512</td>\n",
       "      <td>-2092.985110</td>\n",
       "      <td>2.963272</td>\n",
       "      <td>1.071405</td>\n",
       "      <td>1.375207</td>\n",
       "      <td>5.315733</td>\n",
       "      <td>5.144089</td>\n",
       "      <td>-0.099973</td>\n",
       "      <td>6.234057</td>\n",
       "      <td>...</td>\n",
       "      <td>2.152409</td>\n",
       "      <td>0.879814</td>\n",
       "      <td>-0.169656</td>\n",
       "      <td>6.340731</td>\n",
       "      <td>3.405809</td>\n",
       "      <td>3.130883</td>\n",
       "      <td>1.479563</td>\n",
       "      <td>-6.115408</td>\n",
       "      <td>5.599430</td>\n",
       "      <td>-0.224291</td>\n",
       "    </tr>\n",
       "    <tr>\n",
       "      <th>1</th>\n",
       "      <td>-5422.104718</td>\n",
       "      <td>9689.567172</td>\n",
       "      <td>5922.630486</td>\n",
       "      <td>0.101697</td>\n",
       "      <td>0.728209</td>\n",
       "      <td>0.115514</td>\n",
       "      <td>-3.156064</td>\n",
       "      <td>0.330494</td>\n",
       "      <td>-3.889681</td>\n",
       "      <td>1.292388</td>\n",
       "      <td>...</td>\n",
       "      <td>0.352610</td>\n",
       "      <td>0.479755</td>\n",
       "      <td>-0.325368</td>\n",
       "      <td>-4.666931</td>\n",
       "      <td>3.319608</td>\n",
       "      <td>-0.769363</td>\n",
       "      <td>0.501719</td>\n",
       "      <td>-5.743499</td>\n",
       "      <td>5.634341</td>\n",
       "      <td>0.163475</td>\n",
       "    </tr>\n",
       "    <tr>\n",
       "      <th>2</th>\n",
       "      <td>19744.941093</td>\n",
       "      <td>-8460.604205</td>\n",
       "      <td>1635.209243</td>\n",
       "      <td>-0.538567</td>\n",
       "      <td>1.527358</td>\n",
       "      <td>-1.105497</td>\n",
       "      <td>-4.273700</td>\n",
       "      <td>2.978422</td>\n",
       "      <td>-4.129621</td>\n",
       "      <td>6.777093</td>\n",
       "      <td>...</td>\n",
       "      <td>0.624417</td>\n",
       "      <td>0.928141</td>\n",
       "      <td>-0.169305</td>\n",
       "      <td>-5.718029</td>\n",
       "      <td>3.198880</td>\n",
       "      <td>-6.355418</td>\n",
       "      <td>7.601765</td>\n",
       "      <td>-1.296932</td>\n",
       "      <td>5.296678</td>\n",
       "      <td>0.101910</td>\n",
       "    </tr>\n",
       "    <tr>\n",
       "      <th>3</th>\n",
       "      <td>-14530.470578</td>\n",
       "      <td>8700.189280</td>\n",
       "      <td>-4888.437956</td>\n",
       "      <td>-0.840921</td>\n",
       "      <td>1.564609</td>\n",
       "      <td>-0.486813</td>\n",
       "      <td>19.597934</td>\n",
       "      <td>7.319080</td>\n",
       "      <td>-4.275853</td>\n",
       "      <td>-4.006121</td>\n",
       "      <td>...</td>\n",
       "      <td>-1.098517</td>\n",
       "      <td>1.081055</td>\n",
       "      <td>0.334791</td>\n",
       "      <td>27.178280</td>\n",
       "      <td>9.416241</td>\n",
       "      <td>2.033550</td>\n",
       "      <td>-8.193469</td>\n",
       "      <td>-1.592259</td>\n",
       "      <td>-6.993826</td>\n",
       "      <td>-1.708226</td>\n",
       "    </tr>\n",
       "    <tr>\n",
       "      <th>4</th>\n",
       "      <td>-5774.518779</td>\n",
       "      <td>2361.237107</td>\n",
       "      <td>13897.025591</td>\n",
       "      <td>0.980549</td>\n",
       "      <td>0.753570</td>\n",
       "      <td>0.899546</td>\n",
       "      <td>2.394603</td>\n",
       "      <td>-2.069867</td>\n",
       "      <td>19.713857</td>\n",
       "      <td>-8.751639</td>\n",
       "      <td>...</td>\n",
       "      <td>1.588659</td>\n",
       "      <td>-0.114060</td>\n",
       "      <td>0.513703</td>\n",
       "      <td>-3.563558</td>\n",
       "      <td>-3.382147</td>\n",
       "      <td>18.223530</td>\n",
       "      <td>-5.606292</td>\n",
       "      <td>0.579888</td>\n",
       "      <td>-1.639823</td>\n",
       "      <td>0.772114</td>\n",
       "    </tr>\n",
       "  </tbody>\n",
       "</table>\n",
       "<p>5 rows × 27 columns</p>\n",
       "</div>"
      ],
      "text/plain": [
       "      PC1_z70_9    PC2_z70_9     PC3_z70_9  PC1_ci_9  PC2_ci_9  PC3_ci_9  \\\n",
       "0  18023.465139  2794.736512  -2092.985110  2.963272  1.071405  1.375207   \n",
       "1  -5422.104718  9689.567172   5922.630486  0.101697  0.728209  0.115514   \n",
       "2  19744.941093 -8460.604205   1635.209243 -0.538567  1.527358 -1.105497   \n",
       "3 -14530.470578  8700.189280  -4888.437956 -0.840921  1.564609 -0.486813   \n",
       "4  -5774.518779  2361.237107  13897.025591  0.980549  0.753570  0.899546   \n",
       "\n",
       "   PC1_sst_9  PC2_sst_9  PC3_sst_9  PC1_sstna_9    ...     PC1_ci_10  \\\n",
       "0   5.315733   5.144089  -0.099973     6.234057    ...      2.152409   \n",
       "1  -3.156064   0.330494  -3.889681     1.292388    ...      0.352610   \n",
       "2  -4.273700   2.978422  -4.129621     6.777093    ...      0.624417   \n",
       "3  19.597934   7.319080  -4.275853    -4.006121    ...     -1.098517   \n",
       "4   2.394603  -2.069867  19.713857    -8.751639    ...      1.588659   \n",
       "\n",
       "   PC2_ci_10  PC3_ci_10  PC1_sst_10  PC2_sst_10  PC3_sst_10  PC1_sstna_10  \\\n",
       "0   0.879814  -0.169656    6.340731    3.405809    3.130883      1.479563   \n",
       "1   0.479755  -0.325368   -4.666931    3.319608   -0.769363      0.501719   \n",
       "2   0.928141  -0.169305   -5.718029    3.198880   -6.355418      7.601765   \n",
       "3   1.081055   0.334791   27.178280    9.416241    2.033550     -8.193469   \n",
       "4  -0.114060   0.513703   -3.563558   -3.382147   18.223530     -5.606292   \n",
       "\n",
       "   PC2_sstna_10  PC3_sstna_10   Nino_10  \n",
       "0     -6.115408      5.599430 -0.224291  \n",
       "1     -5.743499      5.634341  0.163475  \n",
       "2     -1.296932      5.296678  0.101910  \n",
       "3     -1.592259     -6.993826 -1.708226  \n",
       "4      0.579888     -1.639823  0.772114  \n",
       "\n",
       "[5 rows x 27 columns]"
      ]
     },
     "execution_count": 5,
     "metadata": {},
     "output_type": "execute_result"
    }
   ],
   "source": [
    "PRED.X_df.head()"
   ]
  },
  {
   "cell_type": "code",
   "execution_count": 6,
   "metadata": {},
   "outputs": [
    {
     "data": {
      "text/plain": [
       "Index(['PC1_z70_9', 'PC2_z70_9', 'PC3_z70_9', 'PC1_ci_9', 'PC2_ci_9',\n",
       "       'PC3_ci_9', 'PC1_sst_9', 'PC2_sst_9', 'PC3_sst_9', 'PC1_sstna_9',\n",
       "       'PC2_sstna_9', 'PC3_sstna_9', 'wyear', 'Nino_9', 'PC1_z70_10',\n",
       "       'PC2_z70_10', 'PC3_z70_10', 'PC1_ci_10', 'PC2_ci_10', 'PC3_ci_10',\n",
       "       'PC1_sst_10', 'PC2_sst_10', 'PC3_sst_10', 'PC1_sstna_10',\n",
       "       'PC2_sstna_10', 'PC3_sstna_10', 'Nino_10'],\n",
       "      dtype='object')"
      ]
     },
     "execution_count": 6,
     "metadata": {},
     "output_type": "execute_result"
    }
   ],
   "source": [
    "PRED.X_df.columns"
   ]
  },
  {
   "cell_type": "markdown",
   "metadata": {},
   "source": [
    "# PART 2 : GET STATION DATA"
   ]
  },
  {
   "cell_type": "code",
   "execution_count": 7,
   "metadata": {},
   "outputs": [
    {
     "data": {
      "text/html": [
       "<div>\n",
       "<style scoped>\n",
       "    .dataframe tbody tr th:only-of-type {\n",
       "        vertical-align: middle;\n",
       "    }\n",
       "\n",
       "    .dataframe tbody tr th {\n",
       "        vertical-align: top;\n",
       "    }\n",
       "\n",
       "    .dataframe thead th {\n",
       "        text-align: right;\n",
       "    }\n",
       "</style>\n",
       "<table border=\"1\" class=\"dataframe\">\n",
       "  <thead>\n",
       "    <tr style=\"text-align: right;\">\n",
       "      <th></th>\n",
       "      <th>_id</th>\n",
       "      <th>country</th>\n",
       "      <th>country_id</th>\n",
       "      <th>elev</th>\n",
       "      <th>landcover</th>\n",
       "      <th>loc</th>\n",
       "      <th>name</th>\n",
       "      <th>popclass</th>\n",
       "      <th>station_id</th>\n",
       "      <th>wmo_id</th>\n",
       "    </tr>\n",
       "  </thead>\n",
       "  <tbody>\n",
       "    <tr>\n",
       "      <th>0</th>\n",
       "      <td>5abe7d8823c8cceb0c3f9563</td>\n",
       "      <td>SWITZERLAND</td>\n",
       "      <td>646</td>\n",
       "      <td>491.0</td>\n",
       "      <td>WARM FOR./FIELD</td>\n",
       "      <td>{'type': 'Point', 'coordinates': [6.95, 46.82]}</td>\n",
       "      <td>PAYERNE</td>\n",
       "      <td>B</td>\n",
       "      <td>64606610000</td>\n",
       "      <td>6610</td>\n",
       "    </tr>\n",
       "    <tr>\n",
       "      <th>1</th>\n",
       "      <td>5abe7d8823c8cceb0c3f9565</td>\n",
       "      <td>SWITZERLAND</td>\n",
       "      <td>646</td>\n",
       "      <td>-999.0</td>\n",
       "      <td>WARM CROPS</td>\n",
       "      <td>{'type': 'Point', 'coordinates': [7.4, 47.0]}</td>\n",
       "      <td>BERN                SWITZERLAN</td>\n",
       "      <td>B</td>\n",
       "      <td>64606630001</td>\n",
       "      <td>6630</td>\n",
       "    </tr>\n",
       "    <tr>\n",
       "      <th>2</th>\n",
       "      <td>5abe7d8823c8cceb0c3f9567</td>\n",
       "      <td>SWITZERLAND</td>\n",
       "      <td>646</td>\n",
       "      <td>318.0</td>\n",
       "      <td>COOL CROPS</td>\n",
       "      <td>{'type': 'Point', 'coordinates': [7.6, 47.6]}</td>\n",
       "      <td>BASEL/BINNINGEN     SWITZERLAN</td>\n",
       "      <td>C</td>\n",
       "      <td>64606642001</td>\n",
       "      <td>6642</td>\n",
       "    </tr>\n",
       "    <tr>\n",
       "      <th>3</th>\n",
       "      <td>5abe7d8823c8cceb0c3f9569</td>\n",
       "      <td>SWITZERLAND</td>\n",
       "      <td>646</td>\n",
       "      <td>569.0</td>\n",
       "      <td>WARM MIXED</td>\n",
       "      <td>{'type': 'Point', 'coordinates': [8.57, 47.38]}</td>\n",
       "      <td>ZURICH (TOWN/</td>\n",
       "      <td>C</td>\n",
       "      <td>64606660000</td>\n",
       "      <td>6660</td>\n",
       "    </tr>\n",
       "    <tr>\n",
       "      <th>4</th>\n",
       "      <td>5abe7d8823c8cceb0c3f956b</td>\n",
       "      <td>SWITZERLAND</td>\n",
       "      <td>646</td>\n",
       "      <td>2500.0</td>\n",
       "      <td>WARM CROPS</td>\n",
       "      <td>{'type': 'Point', 'coordinates': [9.35, 47.25]}</td>\n",
       "      <td>SAENTIS</td>\n",
       "      <td>A</td>\n",
       "      <td>64606680000</td>\n",
       "      <td>6680</td>\n",
       "    </tr>\n",
       "  </tbody>\n",
       "</table>\n",
       "</div>"
      ],
      "text/plain": [
       "                        _id      country  country_id    elev        landcover  \\\n",
       "0  5abe7d8823c8cceb0c3f9563  SWITZERLAND         646   491.0  WARM FOR./FIELD   \n",
       "1  5abe7d8823c8cceb0c3f9565  SWITZERLAND         646  -999.0       WARM CROPS   \n",
       "2  5abe7d8823c8cceb0c3f9567  SWITZERLAND         646   318.0       COOL CROPS   \n",
       "3  5abe7d8823c8cceb0c3f9569  SWITZERLAND         646   569.0       WARM MIXED   \n",
       "4  5abe7d8823c8cceb0c3f956b  SWITZERLAND         646  2500.0       WARM CROPS   \n",
       "\n",
       "                                               loc  \\\n",
       "0  {'type': 'Point', 'coordinates': [6.95, 46.82]}   \n",
       "1    {'type': 'Point', 'coordinates': [7.4, 47.0]}   \n",
       "2    {'type': 'Point', 'coordinates': [7.6, 47.6]}   \n",
       "3  {'type': 'Point', 'coordinates': [8.57, 47.38]}   \n",
       "4  {'type': 'Point', 'coordinates': [9.35, 47.25]}   \n",
       "\n",
       "                             name popclass   station_id  wmo_id  \n",
       "0                         PAYERNE        B  64606610000    6610  \n",
       "1  BERN                SWITZERLAN        B  64606630001    6630  \n",
       "2  BASEL/BINNINGEN     SWITZERLAN        C  64606642001    6642  \n",
       "3                   ZURICH (TOWN/        C  64606660000    6660  \n",
       "4                         SAENTIS        A  64606680000    6680  "
      ]
     },
     "execution_count": 7,
     "metadata": {},
     "output_type": "execute_result"
    }
   ],
   "source": [
    "# Which Station id ?\n",
    "import pymongo\n",
    "import pandas as pd\n",
    "mongo_host_local = 'mongodb://localhost:27017/'\n",
    "mg = pymongo.MongoClient(mongo_host_local)\n",
    "db = mg.GHCN\n",
    "\n",
    "this_country = 'SWITZERLAND'\n",
    "\n",
    "db.stations.distinct('country')\n",
    "sta_df = pd.DataFrame(list(db.stations.find(filter={'country': this_country})))\n",
    "sta_df.head()"
   ]
  },
  {
   "cell_type": "code",
   "execution_count": 8,
   "metadata": {},
   "outputs": [],
   "source": [
    "STA = StationPrediction(station_id=64606660000, \n",
    "                        target_months=['12', '1'],\n",
    "                        X_df=PRED.X_df)"
   ]
  },
  {
   "cell_type": "code",
   "execution_count": 9,
   "metadata": {},
   "outputs": [
    {
     "data": {
      "text/plain": [
       "'ZURICH (TOWN/'"
      ]
     },
     "execution_count": 9,
     "metadata": {},
     "output_type": "execute_result"
    }
   ],
   "source": [
    "STA.station_name"
   ]
  },
  {
   "cell_type": "code",
   "execution_count": 10,
   "metadata": {},
   "outputs": [
    {
     "data": {
      "text/plain": [
       "{'_id': ObjectId('5abe7d8823c8cceb0c3f9569'),\n",
       " 'country': 'SWITZERLAND',\n",
       " 'country_id': 646,\n",
       " 'elev': 569.0,\n",
       " 'landcover': 'WARM MIXED',\n",
       " 'loc': {'coordinates': [8.57, 47.38], 'type': 'Point'},\n",
       " 'name': 'ZURICH (TOWN/',\n",
       " 'popclass': 'C',\n",
       " 'station_id': 64606660000,\n",
       " 'wmo_id': 6660}"
      ]
     },
     "execution_count": 10,
     "metadata": {},
     "output_type": "execute_result"
    }
   ],
   "source": [
    "STA.metadata"
   ]
  },
  {
   "cell_type": "code",
   "execution_count": 11,
   "metadata": {},
   "outputs": [
    {
     "data": {
      "text/html": [
       "<div>\n",
       "<style scoped>\n",
       "    .dataframe tbody tr th:only-of-type {\n",
       "        vertical-align: middle;\n",
       "    }\n",
       "\n",
       "    .dataframe tbody tr th {\n",
       "        vertical-align: top;\n",
       "    }\n",
       "\n",
       "    .dataframe thead th {\n",
       "        text-align: right;\n",
       "    }\n",
       "</style>\n",
       "<table border=\"1\" class=\"dataframe\">\n",
       "  <thead>\n",
       "    <tr style=\"text-align: right;\">\n",
       "      <th></th>\n",
       "      <th>wyear</th>\n",
       "      <th>64606660000</th>\n",
       "    </tr>\n",
       "  </thead>\n",
       "  <tbody>\n",
       "    <tr>\n",
       "      <th>34</th>\n",
       "      <td>2014</td>\n",
       "      <td>2.40</td>\n",
       "    </tr>\n",
       "    <tr>\n",
       "      <th>35</th>\n",
       "      <td>2015</td>\n",
       "      <td>2.50</td>\n",
       "    </tr>\n",
       "    <tr>\n",
       "      <th>36</th>\n",
       "      <td>2016</td>\n",
       "      <td>3.60</td>\n",
       "    </tr>\n",
       "    <tr>\n",
       "      <th>37</th>\n",
       "      <td>2017</td>\n",
       "      <td>-1.15</td>\n",
       "    </tr>\n",
       "    <tr>\n",
       "      <th>38</th>\n",
       "      <td>2018</td>\n",
       "      <td>3.05</td>\n",
       "    </tr>\n",
       "  </tbody>\n",
       "</table>\n",
       "</div>"
      ],
      "text/plain": [
       "    wyear  64606660000\n",
       "34   2014         2.40\n",
       "35   2015         2.50\n",
       "36   2016         3.60\n",
       "37   2017        -1.15\n",
       "38   2018         3.05"
      ]
     },
     "execution_count": 11,
     "metadata": {},
     "output_type": "execute_result"
    }
   ],
   "source": [
    "STA.queryData()\n",
    "STA.data_df.tail()"
   ]
  },
  {
   "cell_type": "code",
   "execution_count": 12,
   "metadata": {},
   "outputs": [
    {
     "data": {
      "text/html": [
       "<div>\n",
       "<style scoped>\n",
       "    .dataframe tbody tr th:only-of-type {\n",
       "        vertical-align: middle;\n",
       "    }\n",
       "\n",
       "    .dataframe tbody tr th {\n",
       "        vertical-align: top;\n",
       "    }\n",
       "\n",
       "    .dataframe thead th {\n",
       "        text-align: right;\n",
       "    }\n",
       "</style>\n",
       "<table border=\"1\" class=\"dataframe\">\n",
       "  <thead>\n",
       "    <tr style=\"text-align: right;\">\n",
       "      <th></th>\n",
       "      <th>wyear</th>\n",
       "      <th>x</th>\n",
       "      <th>xbar</th>\n",
       "      <th>anom</th>\n",
       "    </tr>\n",
       "  </thead>\n",
       "  <tbody>\n",
       "    <tr>\n",
       "      <th>34</th>\n",
       "      <td>2014</td>\n",
       "      <td>2.40</td>\n",
       "      <td>1.512753</td>\n",
       "      <td>0.887247</td>\n",
       "    </tr>\n",
       "    <tr>\n",
       "      <th>35</th>\n",
       "      <td>2015</td>\n",
       "      <td>2.50</td>\n",
       "      <td>1.540526</td>\n",
       "      <td>0.959474</td>\n",
       "    </tr>\n",
       "    <tr>\n",
       "      <th>36</th>\n",
       "      <td>2016</td>\n",
       "      <td>3.60</td>\n",
       "      <td>1.568300</td>\n",
       "      <td>2.031700</td>\n",
       "    </tr>\n",
       "    <tr>\n",
       "      <th>37</th>\n",
       "      <td>2017</td>\n",
       "      <td>-1.15</td>\n",
       "      <td>1.596073</td>\n",
       "      <td>-2.746073</td>\n",
       "    </tr>\n",
       "    <tr>\n",
       "      <th>38</th>\n",
       "      <td>2018</td>\n",
       "      <td>3.05</td>\n",
       "      <td>1.623846</td>\n",
       "      <td>1.426154</td>\n",
       "    </tr>\n",
       "  </tbody>\n",
       "</table>\n",
       "</div>"
      ],
      "text/plain": [
       "    wyear     x      xbar      anom\n",
       "34   2014  2.40  1.512753  0.887247\n",
       "35   2015  2.50  1.540526  0.959474\n",
       "36   2016  3.60  1.568300  2.031700\n",
       "37   2017 -1.15  1.596073 -2.746073\n",
       "38   2018  3.05  1.623846  1.426154"
      ]
     },
     "execution_count": 12,
     "metadata": {},
     "output_type": "execute_result"
    }
   ],
   "source": [
    "STA.getAnomalies()\n",
    "STA.anom_df.tail()"
   ]
  },
  {
   "cell_type": "markdown",
   "metadata": {},
   "source": [
    "# PART 3 : FIT ANOMALIES"
   ]
  },
  {
   "cell_type": "code",
   "execution_count": 13,
   "metadata": {},
   "outputs": [],
   "source": [
    "STA.fitAnomalies(X_df=PRED.X_df)"
   ]
  },
  {
   "cell_type": "code",
   "execution_count": 14,
   "metadata": {},
   "outputs": [
    {
     "name": "stdout",
     "output_type": "stream",
     "text": [
      "{'R2': 0.15120476999806587, 'nyears_used': 38}\n"
     ]
    }
   ],
   "source": [
    "res = dict({'R2': STA.R2, \n",
    "            'nyears_used': STA.nyears_used})\n",
    "print(res)"
   ]
  },
  {
   "cell_type": "code",
   "execution_count": 15,
   "metadata": {},
   "outputs": [
    {
     "data": {
      "text/html": [
       "<div>\n",
       "<style scoped>\n",
       "    .dataframe tbody tr th:only-of-type {\n",
       "        vertical-align: middle;\n",
       "    }\n",
       "\n",
       "    .dataframe tbody tr th {\n",
       "        vertical-align: top;\n",
       "    }\n",
       "\n",
       "    .dataframe thead th {\n",
       "        text-align: right;\n",
       "    }\n",
       "</style>\n",
       "<table border=\"1\" class=\"dataframe\">\n",
       "  <thead>\n",
       "    <tr style=\"text-align: right;\">\n",
       "      <th></th>\n",
       "      <th>coef</th>\n",
       "      <th>pred</th>\n",
       "      <th>absCoef</th>\n",
       "    </tr>\n",
       "  </thead>\n",
       "  <tbody>\n",
       "    <tr>\n",
       "      <th>0</th>\n",
       "      <td>-0.096421</td>\n",
       "      <td>PC1_z70_9</td>\n",
       "      <td>0.096421</td>\n",
       "    </tr>\n",
       "    <tr>\n",
       "      <th>1</th>\n",
       "      <td>-0.012355</td>\n",
       "      <td>PC2_z70_10</td>\n",
       "      <td>0.012355</td>\n",
       "    </tr>\n",
       "    <tr>\n",
       "      <th>2</th>\n",
       "      <td>-0.174527</td>\n",
       "      <td>PC1_ci_10</td>\n",
       "      <td>0.174527</td>\n",
       "    </tr>\n",
       "    <tr>\n",
       "      <th>3</th>\n",
       "      <td>0.206829</td>\n",
       "      <td>PC1_sst_10</td>\n",
       "      <td>0.206829</td>\n",
       "    </tr>\n",
       "  </tbody>\n",
       "</table>\n",
       "</div>"
      ],
      "text/plain": [
       "       coef        pred   absCoef\n",
       "0 -0.096421   PC1_z70_9  0.096421\n",
       "1 -0.012355  PC2_z70_10  0.012355\n",
       "2 -0.174527   PC1_ci_10  0.174527\n",
       "3  0.206829  PC1_sst_10  0.206829"
      ]
     },
     "execution_count": 15,
     "metadata": {},
     "output_type": "execute_result"
    }
   ],
   "source": [
    "STA.importance_df"
   ]
  },
  {
   "cell_type": "markdown",
   "metadata": {},
   "source": [
    "# PART 4 : PREDICT FUTURE ANOMALIES"
   ]
  },
  {
   "cell_type": "code",
   "execution_count": 16,
   "metadata": {},
   "outputs": [
    {
     "data": {
      "text/plain": [
       "array([-0.03753036])"
      ]
     },
     "execution_count": 16,
     "metadata": {},
     "output_type": "execute_result"
    }
   ],
   "source": [
    "wyear_new = 2017\n",
    "newX_df = PRED.X_df.query('wyear==@wyear_new') # for instance\n",
    "STA.predictFutureAnomalies(newX_df)\n",
    "pred_anomaly = STA.predictedAnomaly # array([-0.03753036])\n",
    "pred_anomaly"
   ]
  },
  {
   "cell_type": "markdown",
   "metadata": {},
   "source": [
    "# PART 5 : EXTREME ANOMALY ?"
   ]
  },
  {
   "cell_type": "code",
   "execution_count": 17,
   "metadata": {},
   "outputs": [
    {
     "data": {
      "text/plain": [
       "array([[ 1.59607287]])"
      ]
     },
     "execution_count": 17,
     "metadata": {},
     "output_type": "execute_result"
    }
   ],
   "source": [
    "# Long-term trend\n",
    "ltt = STA.detrend_fit\n",
    "ltt_fit = ltt.predict(2017)\n",
    "ltt_fit"
   ]
  },
  {
   "cell_type": "code",
   "execution_count": 18,
   "metadata": {},
   "outputs": [
    {
     "data": {
      "text/plain": [
       "array([[ 1.55854251]])"
      ]
     },
     "execution_count": 18,
     "metadata": {},
     "output_type": "execute_result"
    }
   ],
   "source": [
    "# Predicted wyear value :\n",
    "T_pred = pred_anomaly + ltt_fit\n",
    "T_pred"
   ]
  },
  {
   "cell_type": "code",
   "execution_count": 19,
   "metadata": {},
   "outputs": [
    {
     "data": {
      "text/plain": [
       "array([[ 0.19854251]])"
      ]
     },
     "execution_count": 19,
     "metadata": {},
     "output_type": "execute_result"
    }
   ],
   "source": [
    "# Anomaly as defined by SwissRe :\n",
    "SwissRe_df = STA.anom_df.tail(10) # take only the last 10 years\n",
    "SwissRe_ltt = np.nanmean(SwissRe_df.x.values)\n",
    "SwissRe_anom = T_pred-SwissRe_ltt\n",
    "SwissRe_anom"
   ]
  },
  {
   "cell_type": "code",
   "execution_count": 20,
   "metadata": {},
   "outputs": [
    {
     "data": {
      "text/html": [
       "<div>\n",
       "<style scoped>\n",
       "    .dataframe tbody tr th:only-of-type {\n",
       "        vertical-align: middle;\n",
       "    }\n",
       "\n",
       "    .dataframe tbody tr th {\n",
       "        vertical-align: top;\n",
       "    }\n",
       "\n",
       "    .dataframe thead th {\n",
       "        text-align: right;\n",
       "    }\n",
       "</style>\n",
       "<table border=\"1\" class=\"dataframe\">\n",
       "  <thead>\n",
       "    <tr style=\"text-align: right;\">\n",
       "      <th></th>\n",
       "      <th>wyear</th>\n",
       "      <th>x</th>\n",
       "      <th>xbar</th>\n",
       "      <th>anom</th>\n",
       "      <th>anom_SwissRe</th>\n",
       "    </tr>\n",
       "  </thead>\n",
       "  <tbody>\n",
       "    <tr>\n",
       "      <th>29</th>\n",
       "      <td>2009</td>\n",
       "      <td>-0.70</td>\n",
       "      <td>1.373887</td>\n",
       "      <td>-2.073887</td>\n",
       "      <td>-2.06</td>\n",
       "    </tr>\n",
       "    <tr>\n",
       "      <th>30</th>\n",
       "      <td>2010</td>\n",
       "      <td>-0.40</td>\n",
       "      <td>1.401660</td>\n",
       "      <td>-1.801660</td>\n",
       "      <td>-1.76</td>\n",
       "    </tr>\n",
       "    <tr>\n",
       "      <th>31</th>\n",
       "      <td>2011</td>\n",
       "      <td>0.20</td>\n",
       "      <td>1.429433</td>\n",
       "      <td>-1.229433</td>\n",
       "      <td>-1.16</td>\n",
       "    </tr>\n",
       "    <tr>\n",
       "      <th>32</th>\n",
       "      <td>2012</td>\n",
       "      <td>2.80</td>\n",
       "      <td>1.457206</td>\n",
       "      <td>1.342794</td>\n",
       "      <td>1.44</td>\n",
       "    </tr>\n",
       "    <tr>\n",
       "      <th>33</th>\n",
       "      <td>2013</td>\n",
       "      <td>1.30</td>\n",
       "      <td>1.484980</td>\n",
       "      <td>-0.184980</td>\n",
       "      <td>-0.06</td>\n",
       "    </tr>\n",
       "    <tr>\n",
       "      <th>34</th>\n",
       "      <td>2014</td>\n",
       "      <td>2.40</td>\n",
       "      <td>1.512753</td>\n",
       "      <td>0.887247</td>\n",
       "      <td>1.04</td>\n",
       "    </tr>\n",
       "    <tr>\n",
       "      <th>35</th>\n",
       "      <td>2015</td>\n",
       "      <td>2.50</td>\n",
       "      <td>1.540526</td>\n",
       "      <td>0.959474</td>\n",
       "      <td>1.14</td>\n",
       "    </tr>\n",
       "    <tr>\n",
       "      <th>36</th>\n",
       "      <td>2016</td>\n",
       "      <td>3.60</td>\n",
       "      <td>1.568300</td>\n",
       "      <td>2.031700</td>\n",
       "      <td>2.24</td>\n",
       "    </tr>\n",
       "    <tr>\n",
       "      <th>37</th>\n",
       "      <td>2017</td>\n",
       "      <td>-1.15</td>\n",
       "      <td>1.596073</td>\n",
       "      <td>-2.746073</td>\n",
       "      <td>-2.51</td>\n",
       "    </tr>\n",
       "    <tr>\n",
       "      <th>38</th>\n",
       "      <td>2018</td>\n",
       "      <td>3.05</td>\n",
       "      <td>1.623846</td>\n",
       "      <td>1.426154</td>\n",
       "      <td>1.69</td>\n",
       "    </tr>\n",
       "  </tbody>\n",
       "</table>\n",
       "</div>"
      ],
      "text/plain": [
       "    wyear     x      xbar      anom  anom_SwissRe\n",
       "29   2009 -0.70  1.373887 -2.073887         -2.06\n",
       "30   2010 -0.40  1.401660 -1.801660         -1.76\n",
       "31   2011  0.20  1.429433 -1.229433         -1.16\n",
       "32   2012  2.80  1.457206  1.342794          1.44\n",
       "33   2013  1.30  1.484980 -0.184980         -0.06\n",
       "34   2014  2.40  1.512753  0.887247          1.04\n",
       "35   2015  2.50  1.540526  0.959474          1.14\n",
       "36   2016  3.60  1.568300  2.031700          2.24\n",
       "37   2017 -1.15  1.596073 -2.746073         -2.51\n",
       "38   2018  3.05  1.623846  1.426154          1.69"
      ]
     },
     "execution_count": 20,
     "metadata": {},
     "output_type": "execute_result"
    }
   ],
   "source": [
    "SwissRe_df = SwissRe_df.assign(anom_SwissRe=SwissRe_df.x-SwissRe_ltt)\n",
    "SwissRe_df"
   ]
  },
  {
   "cell_type": "code",
   "execution_count": 23,
   "metadata": {
    "scrolled": true
   },
   "outputs": [
    {
     "data": {
      "text/plain": [
       "<matplotlib.lines.Line2D at 0x7f99c9fdca90>"
      ]
     },
     "execution_count": 23,
     "metadata": {},
     "output_type": "execute_result"
    },
    {
     "data": {
      "image/png": "[encoded data removed]",
      "text/plain": [
       "<matplotlib.figure.Figure at 0x7f99c9fb4080>"
      ]
     },
     "metadata": {},
     "output_type": "display_data"
    }
   ],
   "source": [
    "# Fit Normal distribution\n",
    "from scipy.stats import norm\n",
    "mu, std = norm.fit(SwissRe_df.anom_SwissRe)\n",
    "SwissRe_df['anom_SwissRe'].plot.density()\n",
    "plt.axvline(SwissRe_anom,linewidth=4, color='r')"
   ]
  },
  {
   "cell_type": "code",
   "execution_count": 26,
   "metadata": {},
   "outputs": [
    {
     "data": {
      "text/plain": [
       "array([ 0.45219341])"
      ]
     },
     "execution_count": 26,
     "metadata": {},
     "output_type": "execute_result"
    }
   ],
   "source": [
    "quantl = norm.cdf(0, loc=SwissRe_anom, scale=std).ravel()\n",
    "quantl"
   ]
  },
  {
   "cell_type": "code",
   "execution_count": null,
   "metadata": {},
   "outputs": [],
   "source": []
  }
 ],
 "metadata": {
  "kernelspec": {
   "display_name": "Python 3",
   "language": "python",
   "name": "python3"
  },
  "language_info": {
   "codemirror_mode": {
    "name": "ipython",
    "version": 3
   },
   "file_extension": ".py",
   "mimetype": "text/x-python",
   "name": "python",
   "nbconvert_exporter": "python",
   "pygments_lexer": "ipython3",
   "version": "3.6.3"
  }
 },
 "nbformat": 4,
 "nbformat_minor": 2
}
