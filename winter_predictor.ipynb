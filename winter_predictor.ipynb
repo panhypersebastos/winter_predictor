{
 "cells": [
  {
   "cell_type": "markdown",
   "metadata": {},
   "source": [
    "# WINTER PREDICTOR\n",
    "Uses the \"winter_predictor\" oriented-object modules"
   ]
  },
  {
   "cell_type": "code",
   "execution_count": 1,
   "metadata": {},
   "outputs": [],
   "source": [
    "%load_ext autoreload\n",
    "%autoreload 2\n",
    "\n",
    "import matplotlib.pyplot as plt\n",
    "from winter_predictor import Predictor, StationPrediction"
   ]
  },
  {
   "cell_type": "code",
   "execution_count": 2,
   "metadata": {},
   "outputs": [],
   "source": [
    "import numpy as np"
   ]
  },
  {
   "cell_type": "markdown",
   "metadata": {},
   "source": [
    "# PART 1 : GET PREDICTORS\n",
    "\n",
    "The **SAME** predictor set will then be used for any target station to predict."
   ]
  },
  {
   "cell_type": "code",
   "execution_count": 3,
   "metadata": {},
   "outputs": [],
   "source": [
    "PRED = Predictor()"
   ]
  },
  {
   "cell_type": "code",
   "execution_count": 4,
   "metadata": {},
   "outputs": [],
   "source": [
    "PRED.getPredictorsDF(predi='sept_oct')"
   ]
  },
  {
   "cell_type": "code",
   "execution_count": 5,
   "metadata": {},
   "outputs": [
    {
     "data": {
      "text/html": [
       "<div>\n",
       "<style scoped>\n",
       "    .dataframe tbody tr th:only-of-type {\n",
       "        vertical-align: middle;\n",
       "    }\n",
       "\n",
       "    .dataframe tbody tr th {\n",
       "        vertical-align: top;\n",
       "    }\n",
       "\n",
       "    .dataframe thead th {\n",
       "        text-align: right;\n",
       "    }\n",
       "</style>\n",
       "<table border=\"1\" class=\"dataframe\">\n",
       "  <thead>\n",
       "    <tr style=\"text-align: right;\">\n",
       "      <th></th>\n",
       "      <th>PC1_z70_9</th>\n",
       "      <th>PC2_z70_9</th>\n",
       "      <th>PC3_z70_9</th>\n",
       "      <th>PC1_ci_9</th>\n",
       "      <th>PC2_ci_9</th>\n",
       "      <th>PC3_ci_9</th>\n",
       "      <th>PC1_sst_9</th>\n",
       "      <th>PC2_sst_9</th>\n",
       "      <th>PC3_sst_9</th>\n",
       "      <th>PC1_sstna_9</th>\n",
       "      <th>...</th>\n",
       "      <th>PC1_ci_10</th>\n",
       "      <th>PC2_ci_10</th>\n",
       "      <th>PC3_ci_10</th>\n",
       "      <th>PC1_sst_10</th>\n",
       "      <th>PC2_sst_10</th>\n",
       "      <th>PC3_sst_10</th>\n",
       "      <th>PC1_sstna_10</th>\n",
       "      <th>PC2_sstna_10</th>\n",
       "      <th>PC3_sstna_10</th>\n",
       "      <th>Nino_10</th>\n",
       "    </tr>\n",
       "  </thead>\n",
       "  <tbody>\n",
       "    <tr>\n",
       "      <th>0</th>\n",
       "      <td>18052.863098</td>\n",
       "      <td>2794.361256</td>\n",
       "      <td>-2116.244324</td>\n",
       "      <td>3.275356</td>\n",
       "      <td>0.726252</td>\n",
       "      <td>0.469136</td>\n",
       "      <td>5.510229</td>\n",
       "      <td>4.191462</td>\n",
       "      <td>-2.508625</td>\n",
       "      <td>-6.904258</td>\n",
       "      <td>...</td>\n",
       "      <td>2.107157</td>\n",
       "      <td>0.696275</td>\n",
       "      <td>-0.698663</td>\n",
       "      <td>6.400690</td>\n",
       "      <td>0.196194</td>\n",
       "      <td>-5.125187</td>\n",
       "      <td>-1.838503</td>\n",
       "      <td>7.724172</td>\n",
       "      <td>-5.279922</td>\n",
       "      <td>-0.224291</td>\n",
       "    </tr>\n",
       "    <tr>\n",
       "      <th>1</th>\n",
       "      <td>-5385.037935</td>\n",
       "      <td>9731.932180</td>\n",
       "      <td>5869.074857</td>\n",
       "      <td>0.216875</td>\n",
       "      <td>0.721824</td>\n",
       "      <td>0.349584</td>\n",
       "      <td>-3.276851</td>\n",
       "      <td>0.193917</td>\n",
       "      <td>1.794615</td>\n",
       "      <td>-1.236142</td>\n",
       "      <td>...</td>\n",
       "      <td>0.324121</td>\n",
       "      <td>0.532795</td>\n",
       "      <td>-0.254012</td>\n",
       "      <td>-4.633502</td>\n",
       "      <td>2.374289</td>\n",
       "      <td>-0.825944</td>\n",
       "      <td>-0.797750</td>\n",
       "      <td>7.534880</td>\n",
       "      <td>-4.653458</td>\n",
       "      <td>0.163475</td>\n",
       "    </tr>\n",
       "    <tr>\n",
       "      <th>2</th>\n",
       "      <td>19738.603692</td>\n",
       "      <td>-8462.518693</td>\n",
       "      <td>1660.035809</td>\n",
       "      <td>-0.464925</td>\n",
       "      <td>1.897943</td>\n",
       "      <td>-0.513135</td>\n",
       "      <td>-4.597645</td>\n",
       "      <td>0.881733</td>\n",
       "      <td>-2.095681</td>\n",
       "      <td>-7.557543</td>\n",
       "      <td>...</td>\n",
       "      <td>0.672014</td>\n",
       "      <td>0.872678</td>\n",
       "      <td>0.095421</td>\n",
       "      <td>-5.923799</td>\n",
       "      <td>3.085043</td>\n",
       "      <td>-0.241748</td>\n",
       "      <td>-7.703222</td>\n",
       "      <td>3.112256</td>\n",
       "      <td>-6.053164</td>\n",
       "      <td>0.101910</td>\n",
       "    </tr>\n",
       "    <tr>\n",
       "      <th>3</th>\n",
       "      <td>-14501.642267</td>\n",
       "      <td>8704.270136</td>\n",
       "      <td>-4936.915557</td>\n",
       "      <td>-0.703011</td>\n",
       "      <td>1.672008</td>\n",
       "      <td>0.392651</td>\n",
       "      <td>19.873730</td>\n",
       "      <td>8.919881</td>\n",
       "      <td>-1.493089</td>\n",
       "      <td>4.321195</td>\n",
       "      <td>...</td>\n",
       "      <td>-0.852150</td>\n",
       "      <td>1.053907</td>\n",
       "      <td>0.983091</td>\n",
       "      <td>27.126986</td>\n",
       "      <td>9.293802</td>\n",
       "      <td>-5.174670</td>\n",
       "      <td>8.272707</td>\n",
       "      <td>-0.886065</td>\n",
       "      <td>6.863974</td>\n",
       "      <td>-1.708226</td>\n",
       "    </tr>\n",
       "    <tr>\n",
       "      <th>4</th>\n",
       "      <td>-5763.134157</td>\n",
       "      <td>2431.342615</td>\n",
       "      <td>13907.629124</td>\n",
       "      <td>1.215207</td>\n",
       "      <td>0.516179</td>\n",
       "      <td>1.162860</td>\n",
       "      <td>2.415016</td>\n",
       "      <td>-5.933925</td>\n",
       "      <td>-14.431840</td>\n",
       "      <td>7.626936</td>\n",
       "      <td>...</td>\n",
       "      <td>1.591010</td>\n",
       "      <td>-0.325249</td>\n",
       "      <td>0.142318</td>\n",
       "      <td>-3.253798</td>\n",
       "      <td>-5.828133</td>\n",
       "      <td>-9.326420</td>\n",
       "      <td>4.835679</td>\n",
       "      <td>-2.763278</td>\n",
       "      <td>0.331844</td>\n",
       "      <td>0.772114</td>\n",
       "    </tr>\n",
       "  </tbody>\n",
       "</table>\n",
       "<p>5 rows × 27 columns</p>\n",
       "</div>"
      ],
      "text/plain": [
       "      PC1_z70_9    PC2_z70_9     PC3_z70_9  PC1_ci_9  PC2_ci_9  PC3_ci_9  \\\n",
       "0  18052.863098  2794.361256  -2116.244324  3.275356  0.726252  0.469136   \n",
       "1  -5385.037935  9731.932180   5869.074857  0.216875  0.721824  0.349584   \n",
       "2  19738.603692 -8462.518693   1660.035809 -0.464925  1.897943 -0.513135   \n",
       "3 -14501.642267  8704.270136  -4936.915557 -0.703011  1.672008  0.392651   \n",
       "4  -5763.134157  2431.342615  13907.629124  1.215207  0.516179  1.162860   \n",
       "\n",
       "   PC1_sst_9  PC2_sst_9  PC3_sst_9  PC1_sstna_9  ...  PC1_ci_10  PC2_ci_10  \\\n",
       "0   5.510229   4.191462  -2.508625    -6.904258  ...   2.107157   0.696275   \n",
       "1  -3.276851   0.193917   1.794615    -1.236142  ...   0.324121   0.532795   \n",
       "2  -4.597645   0.881733  -2.095681    -7.557543  ...   0.672014   0.872678   \n",
       "3  19.873730   8.919881  -1.493089     4.321195  ...  -0.852150   1.053907   \n",
       "4   2.415016  -5.933925 -14.431840     7.626936  ...   1.591010  -0.325249   \n",
       "\n",
       "   PC3_ci_10  PC1_sst_10  PC2_sst_10  PC3_sst_10  PC1_sstna_10  PC2_sstna_10  \\\n",
       "0  -0.698663    6.400690    0.196194   -5.125187     -1.838503      7.724172   \n",
       "1  -0.254012   -4.633502    2.374289   -0.825944     -0.797750      7.534880   \n",
       "2   0.095421   -5.923799    3.085043   -0.241748     -7.703222      3.112256   \n",
       "3   0.983091   27.126986    9.293802   -5.174670      8.272707     -0.886065   \n",
       "4   0.142318   -3.253798   -5.828133   -9.326420      4.835679     -2.763278   \n",
       "\n",
       "   PC3_sstna_10   Nino_10  \n",
       "0     -5.279922 -0.224291  \n",
       "1     -4.653458  0.163475  \n",
       "2     -6.053164  0.101910  \n",
       "3      6.863974 -1.708226  \n",
       "4      0.331844  0.772114  \n",
       "\n",
       "[5 rows x 27 columns]"
      ]
     },
     "execution_count": 5,
     "metadata": {},
     "output_type": "execute_result"
    }
   ],
   "source": [
    "PRED.X_df.head()"
   ]
  },
  {
   "cell_type": "code",
   "execution_count": 6,
   "metadata": {},
   "outputs": [
    {
     "data": {
      "text/plain": [
       "Index(['PC1_z70_9', 'PC2_z70_9', 'PC3_z70_9', 'PC1_ci_9', 'PC2_ci_9',\n",
       "       'PC3_ci_9', 'PC1_sst_9', 'PC2_sst_9', 'PC3_sst_9', 'PC1_sstna_9',\n",
       "       'PC2_sstna_9', 'PC3_sstna_9', 'wyear', 'Nino_9', 'PC1_z70_10',\n",
       "       'PC2_z70_10', 'PC3_z70_10', 'PC1_ci_10', 'PC2_ci_10', 'PC3_ci_10',\n",
       "       'PC1_sst_10', 'PC2_sst_10', 'PC3_sst_10', 'PC1_sstna_10',\n",
       "       'PC2_sstna_10', 'PC3_sstna_10', 'Nino_10'],\n",
       "      dtype='object')"
      ]
     },
     "execution_count": 6,
     "metadata": {},
     "output_type": "execute_result"
    }
   ],
   "source": [
    "PRED.X_df.columns"
   ]
  },
  {
   "cell_type": "markdown",
   "metadata": {},
   "source": [
    "# PART 2 : GET STATION DATA"
   ]
  },
  {
   "cell_type": "code",
   "execution_count": 7,
   "metadata": {},
   "outputs": [
    {
     "data": {
      "text/html": [
       "<div>\n",
       "<style scoped>\n",
       "    .dataframe tbody tr th:only-of-type {\n",
       "        vertical-align: middle;\n",
       "    }\n",
       "\n",
       "    .dataframe tbody tr th {\n",
       "        vertical-align: top;\n",
       "    }\n",
       "\n",
       "    .dataframe thead th {\n",
       "        text-align: right;\n",
       "    }\n",
       "</style>\n",
       "<table border=\"1\" class=\"dataframe\">\n",
       "  <thead>\n",
       "    <tr style=\"text-align: right;\">\n",
       "      <th></th>\n",
       "      <th>_id</th>\n",
       "      <th>station_id</th>\n",
       "      <th>loc</th>\n",
       "      <th>country</th>\n",
       "      <th>country_id</th>\n",
       "      <th>wmo_id</th>\n",
       "      <th>elev</th>\n",
       "      <th>name</th>\n",
       "      <th>landcover</th>\n",
       "      <th>popclass</th>\n",
       "    </tr>\n",
       "  </thead>\n",
       "  <tbody>\n",
       "    <tr>\n",
       "      <th>0</th>\n",
       "      <td>5abe7d8823c8cceb0c3f9563</td>\n",
       "      <td>64606610000</td>\n",
       "      <td>{'type': 'Point', 'coordinates': [6.95, 46.82]}</td>\n",
       "      <td>SWITZERLAND</td>\n",
       "      <td>646</td>\n",
       "      <td>6610</td>\n",
       "      <td>491.0</td>\n",
       "      <td>PAYERNE</td>\n",
       "      <td>WARM FOR./FIELD</td>\n",
       "      <td>B</td>\n",
       "    </tr>\n",
       "    <tr>\n",
       "      <th>1</th>\n",
       "      <td>5abe7d8823c8cceb0c3f9565</td>\n",
       "      <td>64606630001</td>\n",
       "      <td>{'type': 'Point', 'coordinates': [7.4, 47.0]}</td>\n",
       "      <td>SWITZERLAND</td>\n",
       "      <td>646</td>\n",
       "      <td>6630</td>\n",
       "      <td>-999.0</td>\n",
       "      <td>BERN                SWITZERLAN</td>\n",
       "      <td>WARM CROPS</td>\n",
       "      <td>B</td>\n",
       "    </tr>\n",
       "    <tr>\n",
       "      <th>2</th>\n",
       "      <td>5abe7d8823c8cceb0c3f9567</td>\n",
       "      <td>64606642001</td>\n",
       "      <td>{'type': 'Point', 'coordinates': [7.6, 47.6]}</td>\n",
       "      <td>SWITZERLAND</td>\n",
       "      <td>646</td>\n",
       "      <td>6642</td>\n",
       "      <td>318.0</td>\n",
       "      <td>BASEL/BINNINGEN     SWITZERLAN</td>\n",
       "      <td>COOL CROPS</td>\n",
       "      <td>C</td>\n",
       "    </tr>\n",
       "    <tr>\n",
       "      <th>3</th>\n",
       "      <td>5abe7d8823c8cceb0c3f9569</td>\n",
       "      <td>64606660000</td>\n",
       "      <td>{'type': 'Point', 'coordinates': [8.57, 47.38]}</td>\n",
       "      <td>SWITZERLAND</td>\n",
       "      <td>646</td>\n",
       "      <td>6660</td>\n",
       "      <td>569.0</td>\n",
       "      <td>ZURICH (TOWN/</td>\n",
       "      <td>WARM MIXED</td>\n",
       "      <td>C</td>\n",
       "    </tr>\n",
       "    <tr>\n",
       "      <th>4</th>\n",
       "      <td>5abe7d8823c8cceb0c3f956b</td>\n",
       "      <td>64606680000</td>\n",
       "      <td>{'type': 'Point', 'coordinates': [9.35, 47.25]}</td>\n",
       "      <td>SWITZERLAND</td>\n",
       "      <td>646</td>\n",
       "      <td>6680</td>\n",
       "      <td>2500.0</td>\n",
       "      <td>SAENTIS</td>\n",
       "      <td>WARM CROPS</td>\n",
       "      <td>A</td>\n",
       "    </tr>\n",
       "  </tbody>\n",
       "</table>\n",
       "</div>"
      ],
      "text/plain": [
       "                        _id   station_id  \\\n",
       "0  5abe7d8823c8cceb0c3f9563  64606610000   \n",
       "1  5abe7d8823c8cceb0c3f9565  64606630001   \n",
       "2  5abe7d8823c8cceb0c3f9567  64606642001   \n",
       "3  5abe7d8823c8cceb0c3f9569  64606660000   \n",
       "4  5abe7d8823c8cceb0c3f956b  64606680000   \n",
       "\n",
       "                                               loc      country  country_id  \\\n",
       "0  {'type': 'Point', 'coordinates': [6.95, 46.82]}  SWITZERLAND         646   \n",
       "1    {'type': 'Point', 'coordinates': [7.4, 47.0]}  SWITZERLAND         646   \n",
       "2    {'type': 'Point', 'coordinates': [7.6, 47.6]}  SWITZERLAND         646   \n",
       "3  {'type': 'Point', 'coordinates': [8.57, 47.38]}  SWITZERLAND         646   \n",
       "4  {'type': 'Point', 'coordinates': [9.35, 47.25]}  SWITZERLAND         646   \n",
       "\n",
       "   wmo_id    elev                            name        landcover popclass  \n",
       "0    6610   491.0                         PAYERNE  WARM FOR./FIELD        B  \n",
       "1    6630  -999.0  BERN                SWITZERLAN       WARM CROPS        B  \n",
       "2    6642   318.0  BASEL/BINNINGEN     SWITZERLAN       COOL CROPS        C  \n",
       "3    6660   569.0                   ZURICH (TOWN/       WARM MIXED        C  \n",
       "4    6680  2500.0                         SAENTIS       WARM CROPS        A  "
      ]
     },
     "execution_count": 7,
     "metadata": {},
     "output_type": "execute_result"
    }
   ],
   "source": [
    "# Which Station id ?\n",
    "import pymongo\n",
    "import pandas as pd\n",
    "mongo_host_local = 'mongodb://localhost:27017/'\n",
    "mg = pymongo.MongoClient(mongo_host_local)\n",
    "db = mg.GHCN\n",
    "\n",
    "this_country = 'SWITZERLAND'\n",
    "\n",
    "db.stations.distinct('country')\n",
    "sta_df = pd.DataFrame(list(db.stations.find(filter={'country': this_country})))\n",
    "sta_df.head()"
   ]
  },
  {
   "cell_type": "code",
   "execution_count": 8,
   "metadata": {},
   "outputs": [],
   "source": [
    "STA = StationPrediction(station_id=64606660000, \n",
    "                        target_months=['12', '1'],\n",
    "                        X_df=PRED.X_df)"
   ]
  },
  {
   "cell_type": "code",
   "execution_count": 9,
   "metadata": {},
   "outputs": [
    {
     "data": {
      "text/plain": [
       "'ZURICH (TOWN/'"
      ]
     },
     "execution_count": 9,
     "metadata": {},
     "output_type": "execute_result"
    }
   ],
   "source": [
    "STA.station_name"
   ]
  },
  {
   "cell_type": "code",
   "execution_count": 10,
   "metadata": {},
   "outputs": [
    {
     "data": {
      "text/plain": [
       "{'_id': ObjectId('5abe7d8823c8cceb0c3f9569'),\n",
       " 'station_id': 64606660000,\n",
       " 'loc': {'type': 'Point', 'coordinates': [8.57, 47.38]},\n",
       " 'country': 'SWITZERLAND',\n",
       " 'country_id': 646,\n",
       " 'wmo_id': 6660,\n",
       " 'elev': 569.0,\n",
       " 'name': 'ZURICH (TOWN/',\n",
       " 'landcover': 'WARM MIXED',\n",
       " 'popclass': 'C'}"
      ]
     },
     "execution_count": 10,
     "metadata": {},
     "output_type": "execute_result"
    }
   ],
   "source": [
    "STA.metadata"
   ]
  },
  {
   "cell_type": "code",
   "execution_count": 11,
   "metadata": {},
   "outputs": [
    {
     "data": {
      "text/html": [
       "<div>\n",
       "<style scoped>\n",
       "    .dataframe tbody tr th:only-of-type {\n",
       "        vertical-align: middle;\n",
       "    }\n",
       "\n",
       "    .dataframe tbody tr th {\n",
       "        vertical-align: top;\n",
       "    }\n",
       "\n",
       "    .dataframe thead th {\n",
       "        text-align: right;\n",
       "    }\n",
       "</style>\n",
       "<table border=\"1\" class=\"dataframe\">\n",
       "  <thead>\n",
       "    <tr style=\"text-align: right;\">\n",
       "      <th></th>\n",
       "      <th>wyear</th>\n",
       "      <th>64606660000</th>\n",
       "    </tr>\n",
       "  </thead>\n",
       "  <tbody>\n",
       "    <tr>\n",
       "      <th>34</th>\n",
       "      <td>2014</td>\n",
       "      <td>2.40</td>\n",
       "    </tr>\n",
       "    <tr>\n",
       "      <th>35</th>\n",
       "      <td>2015</td>\n",
       "      <td>2.50</td>\n",
       "    </tr>\n",
       "    <tr>\n",
       "      <th>36</th>\n",
       "      <td>2016</td>\n",
       "      <td>3.60</td>\n",
       "    </tr>\n",
       "    <tr>\n",
       "      <th>37</th>\n",
       "      <td>2017</td>\n",
       "      <td>-1.15</td>\n",
       "    </tr>\n",
       "    <tr>\n",
       "      <th>38</th>\n",
       "      <td>2018</td>\n",
       "      <td>3.05</td>\n",
       "    </tr>\n",
       "  </tbody>\n",
       "</table>\n",
       "</div>"
      ],
      "text/plain": [
       "    wyear  64606660000\n",
       "34   2014         2.40\n",
       "35   2015         2.50\n",
       "36   2016         3.60\n",
       "37   2017        -1.15\n",
       "38   2018         3.05"
      ]
     },
     "execution_count": 11,
     "metadata": {},
     "output_type": "execute_result"
    }
   ],
   "source": [
    "STA.queryData()\n",
    "STA.data_df.tail()"
   ]
  },
  {
   "cell_type": "code",
   "execution_count": 12,
   "metadata": {},
   "outputs": [
    {
     "data": {
      "text/html": [
       "<div>\n",
       "<style scoped>\n",
       "    .dataframe tbody tr th:only-of-type {\n",
       "        vertical-align: middle;\n",
       "    }\n",
       "\n",
       "    .dataframe tbody tr th {\n",
       "        vertical-align: top;\n",
       "    }\n",
       "\n",
       "    .dataframe thead th {\n",
       "        text-align: right;\n",
       "    }\n",
       "</style>\n",
       "<table border=\"1\" class=\"dataframe\">\n",
       "  <thead>\n",
       "    <tr style=\"text-align: right;\">\n",
       "      <th></th>\n",
       "      <th>wyear</th>\n",
       "      <th>x</th>\n",
       "      <th>xbar</th>\n",
       "      <th>anom</th>\n",
       "    </tr>\n",
       "  </thead>\n",
       "  <tbody>\n",
       "    <tr>\n",
       "      <th>34</th>\n",
       "      <td>2014</td>\n",
       "      <td>2.40</td>\n",
       "      <td>1.512753</td>\n",
       "      <td>0.887247</td>\n",
       "    </tr>\n",
       "    <tr>\n",
       "      <th>35</th>\n",
       "      <td>2015</td>\n",
       "      <td>2.50</td>\n",
       "      <td>1.540526</td>\n",
       "      <td>0.959474</td>\n",
       "    </tr>\n",
       "    <tr>\n",
       "      <th>36</th>\n",
       "      <td>2016</td>\n",
       "      <td>3.60</td>\n",
       "      <td>1.568300</td>\n",
       "      <td>2.031700</td>\n",
       "    </tr>\n",
       "    <tr>\n",
       "      <th>37</th>\n",
       "      <td>2017</td>\n",
       "      <td>-1.15</td>\n",
       "      <td>1.596073</td>\n",
       "      <td>-2.746073</td>\n",
       "    </tr>\n",
       "    <tr>\n",
       "      <th>38</th>\n",
       "      <td>2018</td>\n",
       "      <td>3.05</td>\n",
       "      <td>1.623846</td>\n",
       "      <td>1.426154</td>\n",
       "    </tr>\n",
       "  </tbody>\n",
       "</table>\n",
       "</div>"
      ],
      "text/plain": [
       "    wyear     x      xbar      anom\n",
       "34   2014  2.40  1.512753  0.887247\n",
       "35   2015  2.50  1.540526  0.959474\n",
       "36   2016  3.60  1.568300  2.031700\n",
       "37   2017 -1.15  1.596073 -2.746073\n",
       "38   2018  3.05  1.623846  1.426154"
      ]
     },
     "execution_count": 12,
     "metadata": {},
     "output_type": "execute_result"
    }
   ],
   "source": [
    "STA.getAnomalies()\n",
    "STA.anom_df.tail()"
   ]
  },
  {
   "cell_type": "markdown",
   "metadata": {},
   "source": [
    "# PART 3 : FIT ANOMALIES"
   ]
  },
  {
   "cell_type": "code",
   "execution_count": 13,
   "metadata": {},
   "outputs": [
    {
     "name": "stderr",
     "output_type": "stream",
     "text": [
      "/home/dmasson/CloudStation/code/winter_predictor/winter_predictor.py:427: FutureWarning: Method .as_matrix will be removed in a future version. Use .values instead.\n",
      "  X = dat_df[predNames].as_matrix()\n",
      "/home/dmasson/anaconda3/envs/wpred/lib/python3.7/site-packages/sklearn/linear_model/coordinate_descent.py:475: ConvergenceWarning: Objective did not converge. You might want to increase the number of iterations. Duality gap: 0.005693720792479429, tolerance: 0.004797124440656293\n",
      "  positive)\n",
      "/home/dmasson/anaconda3/envs/wpred/lib/python3.7/site-packages/sklearn/linear_model/coordinate_descent.py:475: ConvergenceWarning: Objective did not converge. You might want to increase the number of iterations. Duality gap: 0.005179419653534634, tolerance: 0.004797124440656293\n",
      "  positive)\n",
      "/home/dmasson/anaconda3/envs/wpred/lib/python3.7/site-packages/sklearn/linear_model/coordinate_descent.py:475: ConvergenceWarning: Objective did not converge. You might want to increase the number of iterations. Duality gap: 0.005893491483325519, tolerance: 0.004797124440656293\n",
      "  positive)\n",
      "/home/dmasson/anaconda3/envs/wpred/lib/python3.7/site-packages/sklearn/linear_model/coordinate_descent.py:475: ConvergenceWarning: Objective did not converge. You might want to increase the number of iterations. Duality gap: 0.00532380013031819, tolerance: 0.004797124440656293\n",
      "  positive)\n",
      "/home/dmasson/anaconda3/envs/wpred/lib/python3.7/site-packages/sklearn/linear_model/coordinate_descent.py:475: ConvergenceWarning: Objective did not converge. You might want to increase the number of iterations. Duality gap: 0.004886768748790349, tolerance: 0.004797124440656293\n",
      "  positive)\n",
      "/home/dmasson/anaconda3/envs/wpred/lib/python3.7/site-packages/sklearn/linear_model/coordinate_descent.py:475: ConvergenceWarning: Objective did not converge. You might want to increase the number of iterations. Duality gap: 0.0056793903990493, tolerance: 0.004797124440656293\n",
      "  positive)\n",
      "/home/dmasson/anaconda3/envs/wpred/lib/python3.7/site-packages/sklearn/linear_model/coordinate_descent.py:475: ConvergenceWarning: Objective did not converge. You might want to increase the number of iterations. Duality gap: 0.005152660134507547, tolerance: 0.004797124440656293\n",
      "  positive)\n"
     ]
    }
   ],
   "source": [
    "STA.fitAnomalies(X_df=PRED.X_df)"
   ]
  },
  {
   "cell_type": "code",
   "execution_count": 14,
   "metadata": {},
   "outputs": [
    {
     "name": "stdout",
     "output_type": "stream",
     "text": [
      "{'R2': 0.2004061939784222, 'nyears_used': 38}\n"
     ]
    }
   ],
   "source": [
    "res = dict({'R2': STA.R2, \n",
    "            'nyears_used': STA.nyears_used})\n",
    "print(res)"
   ]
  },
  {
   "cell_type": "code",
   "execution_count": 15,
   "metadata": {},
   "outputs": [
    {
     "data": {
      "text/html": [
       "<div>\n",
       "<style scoped>\n",
       "    .dataframe tbody tr th:only-of-type {\n",
       "        vertical-align: middle;\n",
       "    }\n",
       "\n",
       "    .dataframe tbody tr th {\n",
       "        vertical-align: top;\n",
       "    }\n",
       "\n",
       "    .dataframe thead th {\n",
       "        text-align: right;\n",
       "    }\n",
       "</style>\n",
       "<table border=\"1\" class=\"dataframe\">\n",
       "  <thead>\n",
       "    <tr style=\"text-align: right;\">\n",
       "      <th></th>\n",
       "      <th>pred</th>\n",
       "      <th>coef</th>\n",
       "      <th>absCoef</th>\n",
       "    </tr>\n",
       "  </thead>\n",
       "  <tbody>\n",
       "    <tr>\n",
       "      <th>0</th>\n",
       "      <td>PC1_z70_9</td>\n",
       "      <td>-0.079726</td>\n",
       "      <td>0.079726</td>\n",
       "    </tr>\n",
       "    <tr>\n",
       "      <th>1</th>\n",
       "      <td>PC2_z70_10</td>\n",
       "      <td>-0.044593</td>\n",
       "      <td>0.044593</td>\n",
       "    </tr>\n",
       "    <tr>\n",
       "      <th>2</th>\n",
       "      <td>PC1_ci_10</td>\n",
       "      <td>-0.217025</td>\n",
       "      <td>0.217025</td>\n",
       "    </tr>\n",
       "    <tr>\n",
       "      <th>3</th>\n",
       "      <td>PC3_ci_10</td>\n",
       "      <td>0.158011</td>\n",
       "      <td>0.158011</td>\n",
       "    </tr>\n",
       "    <tr>\n",
       "      <th>4</th>\n",
       "      <td>PC1_sst_10</td>\n",
       "      <td>0.224107</td>\n",
       "      <td>0.224107</td>\n",
       "    </tr>\n",
       "  </tbody>\n",
       "</table>\n",
       "</div>"
      ],
      "text/plain": [
       "         pred      coef   absCoef\n",
       "0   PC1_z70_9 -0.079726  0.079726\n",
       "1  PC2_z70_10 -0.044593  0.044593\n",
       "2   PC1_ci_10 -0.217025  0.217025\n",
       "3   PC3_ci_10  0.158011  0.158011\n",
       "4  PC1_sst_10  0.224107  0.224107"
      ]
     },
     "execution_count": 15,
     "metadata": {},
     "output_type": "execute_result"
    }
   ],
   "source": [
    "STA.importance_df"
   ]
  },
  {
   "cell_type": "markdown",
   "metadata": {},
   "source": [
    "# PART 4 : PREDICT FUTURE ANOMALIES"
   ]
  },
  {
   "cell_type": "code",
   "execution_count": 16,
   "metadata": {},
   "outputs": [
    {
     "name": "stderr",
     "output_type": "stream",
     "text": [
      "/home/dmasson/CloudStation/code/winter_predictor/winter_predictor.py:490: FutureWarning: Method .as_matrix will be removed in a future version. Use .values instead.\n",
      "  newX_0 = newX_df[predNames].as_matrix()\n"
     ]
    },
    {
     "data": {
      "text/plain": [
       "array([-0.03753036])"
      ]
     },
     "execution_count": 16,
     "metadata": {},
     "output_type": "execute_result"
    }
   ],
   "source": [
    "wyear_new = 2017\n",
    "newX_df = PRED.X_df.query('wyear==@wyear_new') # for instance\n",
    "STA.predictFutureAnomalies(newX_df)\n",
    "pred_anomaly = STA.predictedAnomaly # array([-0.03753036])\n",
    "pred_anomaly"
   ]
  },
  {
   "cell_type": "markdown",
   "metadata": {},
   "source": [
    "# PART 5 : EXTREME ANOMALY ?"
   ]
  },
  {
   "cell_type": "code",
   "execution_count": 29,
   "metadata": {},
   "outputs": [
    {
     "data": {
      "text/plain": [
       "array([1.59607287])"
      ]
     },
     "execution_count": 29,
     "metadata": {},
     "output_type": "execute_result"
    }
   ],
   "source": [
    "# Long-term trend\n",
    "wyear_n = np.array(wyear_new).reshape(1, -1)\n",
    "ltt = STA.detrend_fit\n",
    "ltt_fit = ltt.predict(wyear_n)[0]\n",
    "ltt_fit"
   ]
  },
  {
   "cell_type": "code",
   "execution_count": 30,
   "metadata": {},
   "outputs": [
    {
     "data": {
      "text/plain": [
       "array([1.55854251])"
      ]
     },
     "execution_count": 30,
     "metadata": {},
     "output_type": "execute_result"
    }
   ],
   "source": [
    "# Predicted wyear value :\n",
    "T_pred = pred_anomaly + ltt_fit\n",
    "T_pred"
   ]
  },
  {
   "cell_type": "code",
   "execution_count": 31,
   "metadata": {},
   "outputs": [
    {
     "data": {
      "text/plain": [
       "array([0.19854251])"
      ]
     },
     "execution_count": 31,
     "metadata": {},
     "output_type": "execute_result"
    }
   ],
   "source": [
    "# Anomaly as defined by SwissRe :\n",
    "SwissRe_df = STA.anom_df.tail(10) # take only the last 10 years\n",
    "SwissRe_ltt = np.nanmean(SwissRe_df.x.values)\n",
    "SwissRe_anom = T_pred-SwissRe_ltt\n",
    "SwissRe_anom"
   ]
  },
  {
   "cell_type": "code",
   "execution_count": 32,
   "metadata": {},
   "outputs": [
    {
     "data": {
      "text/html": [
       "<div>\n",
       "<style scoped>\n",
       "    .dataframe tbody tr th:only-of-type {\n",
       "        vertical-align: middle;\n",
       "    }\n",
       "\n",
       "    .dataframe tbody tr th {\n",
       "        vertical-align: top;\n",
       "    }\n",
       "\n",
       "    .dataframe thead th {\n",
       "        text-align: right;\n",
       "    }\n",
       "</style>\n",
       "<table border=\"1\" class=\"dataframe\">\n",
       "  <thead>\n",
       "    <tr style=\"text-align: right;\">\n",
       "      <th></th>\n",
       "      <th>wyear</th>\n",
       "      <th>x</th>\n",
       "      <th>xbar</th>\n",
       "      <th>anom</th>\n",
       "      <th>anom_SwissRe</th>\n",
       "    </tr>\n",
       "  </thead>\n",
       "  <tbody>\n",
       "    <tr>\n",
       "      <th>29</th>\n",
       "      <td>2009</td>\n",
       "      <td>-0.70</td>\n",
       "      <td>1.373887</td>\n",
       "      <td>-2.073887</td>\n",
       "      <td>-2.06</td>\n",
       "    </tr>\n",
       "    <tr>\n",
       "      <th>30</th>\n",
       "      <td>2010</td>\n",
       "      <td>-0.40</td>\n",
       "      <td>1.401660</td>\n",
       "      <td>-1.801660</td>\n",
       "      <td>-1.76</td>\n",
       "    </tr>\n",
       "    <tr>\n",
       "      <th>31</th>\n",
       "      <td>2011</td>\n",
       "      <td>0.20</td>\n",
       "      <td>1.429433</td>\n",
       "      <td>-1.229433</td>\n",
       "      <td>-1.16</td>\n",
       "    </tr>\n",
       "    <tr>\n",
       "      <th>32</th>\n",
       "      <td>2012</td>\n",
       "      <td>2.80</td>\n",
       "      <td>1.457206</td>\n",
       "      <td>1.342794</td>\n",
       "      <td>1.44</td>\n",
       "    </tr>\n",
       "    <tr>\n",
       "      <th>33</th>\n",
       "      <td>2013</td>\n",
       "      <td>1.30</td>\n",
       "      <td>1.484980</td>\n",
       "      <td>-0.184980</td>\n",
       "      <td>-0.06</td>\n",
       "    </tr>\n",
       "    <tr>\n",
       "      <th>34</th>\n",
       "      <td>2014</td>\n",
       "      <td>2.40</td>\n",
       "      <td>1.512753</td>\n",
       "      <td>0.887247</td>\n",
       "      <td>1.04</td>\n",
       "    </tr>\n",
       "    <tr>\n",
       "      <th>35</th>\n",
       "      <td>2015</td>\n",
       "      <td>2.50</td>\n",
       "      <td>1.540526</td>\n",
       "      <td>0.959474</td>\n",
       "      <td>1.14</td>\n",
       "    </tr>\n",
       "    <tr>\n",
       "      <th>36</th>\n",
       "      <td>2016</td>\n",
       "      <td>3.60</td>\n",
       "      <td>1.568300</td>\n",
       "      <td>2.031700</td>\n",
       "      <td>2.24</td>\n",
       "    </tr>\n",
       "    <tr>\n",
       "      <th>37</th>\n",
       "      <td>2017</td>\n",
       "      <td>-1.15</td>\n",
       "      <td>1.596073</td>\n",
       "      <td>-2.746073</td>\n",
       "      <td>-2.51</td>\n",
       "    </tr>\n",
       "    <tr>\n",
       "      <th>38</th>\n",
       "      <td>2018</td>\n",
       "      <td>3.05</td>\n",
       "      <td>1.623846</td>\n",
       "      <td>1.426154</td>\n",
       "      <td>1.69</td>\n",
       "    </tr>\n",
       "  </tbody>\n",
       "</table>\n",
       "</div>"
      ],
      "text/plain": [
       "    wyear     x      xbar      anom  anom_SwissRe\n",
       "29   2009 -0.70  1.373887 -2.073887         -2.06\n",
       "30   2010 -0.40  1.401660 -1.801660         -1.76\n",
       "31   2011  0.20  1.429433 -1.229433         -1.16\n",
       "32   2012  2.80  1.457206  1.342794          1.44\n",
       "33   2013  1.30  1.484980 -0.184980         -0.06\n",
       "34   2014  2.40  1.512753  0.887247          1.04\n",
       "35   2015  2.50  1.540526  0.959474          1.14\n",
       "36   2016  3.60  1.568300  2.031700          2.24\n",
       "37   2017 -1.15  1.596073 -2.746073         -2.51\n",
       "38   2018  3.05  1.623846  1.426154          1.69"
      ]
     },
     "execution_count": 32,
     "metadata": {},
     "output_type": "execute_result"
    }
   ],
   "source": [
    "SwissRe_df = SwissRe_df.assign(anom_SwissRe=SwissRe_df.x-SwissRe_ltt)\n",
    "SwissRe_df"
   ]
  },
  {
   "cell_type": "code",
   "execution_count": 33,
   "metadata": {
    "scrolled": true
   },
   "outputs": [
    {
     "data": {
      "text/plain": [
       "<matplotlib.lines.Line2D at 0x7f69ec3d8390>"
      ]
     },
     "execution_count": 33,
     "metadata": {},
     "output_type": "execute_result"
    },
    {
     "data": {
      "image/png": "[encoded data removed]",
      "text/plain": [
       "<Figure size 432x288 with 1 Axes>"
      ]
     },
     "metadata": {
      "needs_background": "light"
     },
     "output_type": "display_data"
    }
   ],
   "source": [
    "# Fit Normal distribution\n",
    "from scipy.stats import norm\n",
    "mu, std = norm.fit(SwissRe_df.anom_SwissRe)\n",
    "SwissRe_df['anom_SwissRe'].plot.density()\n",
    "plt.axvline(SwissRe_anom,linewidth=4, color='r')"
   ]
  },
  {
   "cell_type": "code",
   "execution_count": 34,
   "metadata": {},
   "outputs": [
    {
     "data": {
      "text/plain": [
       "array([0.45219341])"
      ]
     },
     "execution_count": 34,
     "metadata": {},
     "output_type": "execute_result"
    }
   ],
   "source": [
    "quantl = norm.cdf(0, loc=SwissRe_anom, scale=std).ravel()\n",
    "quantl"
   ]
  },
  {
   "cell_type": "code",
   "execution_count": null,
   "metadata": {},
   "outputs": [],
   "source": []
  }
 ],
 "metadata": {
  "kernelspec": {
   "display_name": "Python 3",
   "language": "python",
   "name": "python3"
  },
  "language_info": {
   "codemirror_mode": {
    "name": "ipython",
    "version": 3
   },
   "file_extension": ".py",
   "mimetype": "text/x-python",
   "name": "python",
   "nbconvert_exporter": "python",
   "pygments_lexer": "ipython3",
   "version": "3.7.3"
  }
 },
 "nbformat": 4,
 "nbformat_minor": 2
}
