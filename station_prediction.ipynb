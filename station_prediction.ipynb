{
 "cells": [
  {
   "cell_type": "markdown",
   "metadata": {},
   "source": [
    "## Station Prediction\n",
    "\n",
    "This code bring two parts together:\n",
    "* station_exploration.ipynb\n",
    "* era-int_NAO_prediction.ipynb"
   ]
  },
  {
   "cell_type": "code",
   "execution_count": 1,
   "metadata": {},
   "outputs": [
    {
     "data": {
      "text/html": [
       "<script>requirejs.config({paths: { 'plotly': ['https://cdn.plot.ly/plotly-latest.min']},});if(!window.Plotly) {{require(['plotly'],function(plotly) {window.Plotly=plotly;});}}</script>"
      ],
      "text/vnd.plotly.v1+html": [
       "<script>requirejs.config({paths: { 'plotly': ['https://cdn.plot.ly/plotly-latest.min']},});if(!window.Plotly) {{require(['plotly'],function(plotly) {window.Plotly=plotly;});}}</script>"
      ]
     },
     "metadata": {},
     "output_type": "display_data"
    }
   ],
   "source": [
    "from netCDF4 import Dataset\n",
    "import numpy as np\n",
    "import matplotlib.pyplot as plt\n",
    "from mpl_toolkits.basemap import Basemap, addcyclic, shiftgrid\n",
    "import pymongo\n",
    "from pprint import pprint\n",
    "from datetime import datetime, timedelta, date\n",
    "import pandas as pd\n",
    "from sklearn.decomposition import PCA\n",
    "import sklearn.linear_model as skl_lm\n",
    "import gdal as gdl\n",
    "import matplotlib.mlab as ml\n",
    "import cartopy.crs as ccrs\n",
    "import plotly.graph_objs as go\n",
    "import plotly.offline as py\n",
    "from functools import reduce\n",
    "from sklearn.preprocessing import StandardScaler\n",
    "from sklearn.linear_model import LassoCV, LassoLarsCV, LassoLarsIC\n",
    "\n",
    "py.init_notebook_mode(connected=True) # for live plot\n",
    "pd.set_option('display.notebook_repr_html', False)\n",
    "%matplotlib inline\n",
    "plt.style.use('seaborn-white')"
   ]
  },
  {
   "cell_type": "code",
   "execution_count": 2,
   "metadata": {},
   "outputs": [],
   "source": [
    "mongo_host_local = 'mongodb://localhost:27017/'\n",
    "mg = pymongo.MongoClient(mongo_host_local)"
   ]
  },
  {
   "cell_type": "code",
   "execution_count": 3,
   "metadata": {},
   "outputs": [
    {
     "data": {
      "text/plain": [
       "['system.indexes',\n",
       " 'ERAINT_grid',\n",
       " 'ERAINT_lores_grid',\n",
       " 'ERAINT_lores_monthly_anom',\n",
       " 'ERAINT_monthly',\n",
       " 'ERAINT_lores_monthly']"
      ]
     },
     "execution_count": 3,
     "metadata": {},
     "output_type": "execute_result"
    }
   ],
   "source": [
    "db = mg.ECMWF\n",
    "db.collection_names()"
   ]
  },
  {
   "cell_type": "code",
   "execution_count": 4,
   "metadata": {},
   "outputs": [],
   "source": [
    "ERA_vers = 'lores'\n",
    "if (ERA_vers == 'hires'):\n",
    "    col_dat = 'ERAINT_monthly'\n",
    "    col_anom = 'ERAINT_monthly_anom'\n",
    "    col_grid = 'ERAINT_grid'\n",
    "    resolution = 0.25\n",
    "elif (ERA_vers == 'lores'):\n",
    "    col_dat = 'ERAINT_lores_monthly'\n",
    "    col_anom = 'ERAINT_lores_monthly_anom'\n",
    "    col_grid = 'ERAINT_lores_grid'\n",
    "    resolution = 2.5\n",
    "\n",
    "con_grid = db[col_grid]\n",
    "con_anom = db[col_anom]"
   ]
  },
  {
   "cell_type": "markdown",
   "metadata": {},
   "source": [
    "## Name of variables:\n",
    "\n",
    "* 'ci':  Sea-ice cover [0-1]\n",
    "* 'sst': Sea surface temperature [K]\n",
    "* 'istl1': Ice temp layer1 [K]\n",
    "* 'sp': Surface pressure [Pa]\n",
    "* 'stl1': Soil temp lev1 [K]\n",
    "* 'msl': Mean SLP [Pa]\n",
    "* 'u10': wind-u [m/s]\n",
    "* 'v10': \n",
    "* 't2m': 2m temp [K]\n",
    "* 'd2m': 2m dewpoint temp.[K]\n",
    "* 'al': Surface albedo [0-1]\n",
    "* 'lcc': Low cloud cover [0-1]\n",
    "* 'mcc': Medium cloud cover [0-1]\n",
    "* 'hcc': High cloud cover [0-1]\n",
    "* 'si10': 10m wind speed [m/s]\n",
    "* 'skt': Skin temperature [K]\n",
    "* 'blh': Boundary layer hgt [m]\n",
    "* 'ishf': Inst.surf.sensbl.heatflux [W/m2]\n",
    "* 'ie': Instantaneous moisture flux [kg*m^-2*s^-1]\n",
    "* 'z70': Geopot. height @70hPa [m]"
   ]
  },
  {
   "cell_type": "code",
   "execution_count": 5,
   "metadata": {},
   "outputs": [
    {
     "data": {
      "text/plain": [
       "['al',\n",
       " 'blh',\n",
       " 'ci',\n",
       " 'd2m',\n",
       " 'hcc',\n",
       " 'ie',\n",
       " 'ishf',\n",
       " 'istl1',\n",
       " 'lcc',\n",
       " 'mcc',\n",
       " 'msl',\n",
       " 'si10',\n",
       " 'skt',\n",
       " 'sp',\n",
       " 'sst',\n",
       " 'stl1',\n",
       " 't2m',\n",
       " 'u10',\n",
       " 'v10',\n",
       " 'z70']"
      ]
     },
     "execution_count": 5,
     "metadata": {},
     "output_type": "execute_result"
    }
   ],
   "source": [
    "# Names of candidate variables:\n",
    "fo0 = con_anom.find({}, {'_id': 0, 'year': 0, 'month': 0, 'date': 0, 'id_grid': 0}).limit(1)\n",
    "fo_df = pd.DataFrame(list(fo0))\n",
    "all_varnames = list(fo_df)\n",
    "all_varnames"
   ]
  },
  {
   "cell_type": "markdown",
   "metadata": {},
   "source": [
    "# Get Predictors"
   ]
  },
  {
   "cell_type": "code",
   "execution_count": 6,
   "metadata": {},
   "outputs": [],
   "source": [
    "# Query anomalies for a variable for each input grid cells\n",
    "def queryAnom(this_variable, this_grid_df):\n",
    "    # Query data anomalies\n",
    "    grid_ids = this_grid_df.id_grid.values\n",
    "    res = con_anom.aggregate(pipeline=[ \n",
    "    {\"$project\": {\"id_grid\": 1, \"date\": 1, this_variable: 1, \"month\": {\"$month\": \"$date\"}}},\n",
    "    {\"$match\": {\"month\": {\"$in\": [9, 10, 11, 12, 1, 2]},\n",
    "                \"id_grid\": {\"$in\": grid_ids.tolist()} }},\n",
    "    {\"$project\": {\"_id\": 0, \"id_grid\": 1, \"date\": 1, this_variable: 1}} ])    \n",
    "    anom_df = pd.DataFrame(list(res))\n",
    "    return anom_df"
   ]
  },
  {
   "cell_type": "code",
   "execution_count": 7,
   "metadata": {},
   "outputs": [],
   "source": [
    "# Query grid cells for NAO calculation\n",
    "poly1 = [list(reversed([ [-50,25], [-50,55], [10,55],[ 10,25], [-50,25]]))]\n",
    "poly2 = [list(reversed([ [-40, 55], [-40, 85], [20, 85], [20, 55], [-40, 55]]))]\n",
    "def getGridIds(this_polygon):\n",
    "    geo_qry = {\"loc\": \n",
    "               {\"$geoWithin\": {\n",
    "                   \"$geometry\": {\n",
    "                       \"type\": \"Polygon\",\n",
    "                       \"coordinates\": this_polygon\n",
    "                   }\n",
    "               }}}\n",
    "\n",
    "    res = con_grid.find(filter = geo_qry, projection = {\"_id\":0, \"id_grid\": 1, \"loc\": 1})\n",
    "    grid_df = pd.DataFrame(list(res))\n",
    "    return grid_df\n",
    "grid_df1 = getGridIds(poly1)\n",
    "grid_ids1 = grid_df1.id_grid.values\n",
    "grid_df2 = getGridIds(poly2)\n",
    "grid_ids2 = grid_df2.id_grid.values"
   ]
  },
  {
   "cell_type": "code",
   "execution_count": 8,
   "metadata": {},
   "outputs": [
    {
     "data": {
      "text/plain": [
       "        date      Nino\n",
       "0 1979-01-01  0.149061\n",
       "1 1979-02-01  0.114270\n",
       "2 1979-09-01 -0.320141\n",
       "3 1979-10-01 -0.224291\n",
       "4 1979-11-01 -0.295341"
      ]
     },
     "execution_count": 8,
     "metadata": {},
     "output_type": "execute_result"
    }
   ],
   "source": [
    "# Region to retrieve Niño 3.4 index for SST\n",
    "# Niño 3.4 region: stretches from the 120th to 170th meridians west longitude astride \n",
    "# the equator five degrees of latitude on either side (Wikipedia)\n",
    "poly_Nino = [list(reversed([ [-170,-5], [-170,5],[-120,5], [-120,-5], [-170,-5]]))]\n",
    "grid_df_Nino = getGridIds(poly_Nino)\n",
    "grid_ids_Nino = grid_df_Nino.id_grid.values\n",
    "anom_sst_df = queryAnom(this_variable='sst', this_grid_df=grid_df_Nino)\n",
    "nino_df0 = anom_sst_df[['date', 'sst']].groupby('date').mean().reset_index().rename(columns={'sst':'Nino'})\n",
    "nino_df0.head()"
   ]
  },
  {
   "cell_type": "code",
   "execution_count": 9,
   "metadata": {},
   "outputs": [],
   "source": [
    "# Generic function to query grid ids above a given latitude\n",
    "def genCircle(start_lon, stop_lon, lat, decreasing): \n",
    "    res = map(lambda x:[int(x), lat],\n",
    "              sorted(np.arange(start=start_lon, stop=stop_lon+1), reverse=decreasing))\n",
    "    return list(res)\n",
    "\n",
    "def queryGrids(aboveLat):\n",
    "    this_box = {'lonmin': -180, 'lonmax': 180, 'latmin': aboveLat, 'latmax': 90}\n",
    "    circle_north_pos = genCircle(start_lon = this_box['lonmin'], stop_lon = this_box['lonmax'], \n",
    "                                  lat = this_box['latmax'], decreasing = False)\n",
    "    circle_south_neg = genCircle(start_lon = this_box['lonmin'], stop_lon = this_box['lonmax'], \n",
    "                                lat = this_box['latmin'],  decreasing = True)\n",
    "    slp_poly = [[this_box['lonmin'], this_box['latmin']]]\n",
    "    slp_poly.extend(circle_north_pos)\n",
    "    slp_poly.extend(circle_south_neg)\n",
    "    this_polygon = slp_poly\n",
    "    \n",
    "    if aboveLat > 0:\n",
    "        geo_qry = {\"loc\": \n",
    "               {\"$geoWithin\": {\n",
    "                   \"$geometry\": {\n",
    "                       \"type\": \"Polygon\",\n",
    "                       \"coordinates\": [this_polygon]\n",
    "               }}}}\n",
    "    else: # case of a big polygon larger than one hemisphere\n",
    "        geo_qry = {\"loc\": \n",
    "               {\"$geoWithin\": {\n",
    "                   \"$geometry\": {\n",
    "                       \"type\": \"Polygon\",\n",
    "                       \"coordinates\": [list(reversed(this_polygon))], # the orientation matters\n",
    "                       \"crs\": {\n",
    "                           \"type\": \"name\", \n",
    "                           \"properties\": { \"name\": \"urn:x-mongodb:crs:strictwinding:EPSG:4326\" }\n",
    "                       }\n",
    "                   }\n",
    "               }}}\n",
    "        \n",
    "    res = con_grid.find(filter = geo_qry, projection = {\"_id\":0, \"id_grid\": 1, \"loc\": 1})\n",
    "    grid_df = pd.DataFrame(list(res))\n",
    "    return grid_df\n",
    "\n",
    "grid_df_20N = queryGrids(aboveLat=20)\n",
    "grid_df_20S = queryGrids(aboveLat=-20)"
   ]
  },
  {
   "cell_type": "markdown",
   "metadata": {},
   "source": [
    "# Get PCA scores"
   ]
  },
  {
   "cell_type": "code",
   "execution_count": 10,
   "metadata": {},
   "outputs": [],
   "source": [
    "# Generic function to query grid ids above a given latitude\n",
    "def genCircle(start_lon, stop_lon, lat, decreasing): \n",
    "    res = map(lambda x:[int(x), lat],\n",
    "              sorted(np.arange(start=start_lon, stop=stop_lon+1), reverse=decreasing))\n",
    "    return list(res)\n",
    "\n",
    "def queryGrids(aboveLat):\n",
    "    this_box = {'lonmin': -180, 'lonmax': 180, 'latmin': aboveLat, 'latmax': 90}\n",
    "    circle_north_pos = genCircle(start_lon = this_box['lonmin'], stop_lon = this_box['lonmax'], \n",
    "                                  lat = this_box['latmax'], decreasing = False)\n",
    "    circle_south_neg = genCircle(start_lon = this_box['lonmin'], stop_lon = this_box['lonmax'], \n",
    "                                lat = this_box['latmin'],  decreasing = True)\n",
    "    slp_poly = [[this_box['lonmin'], this_box['latmin']]]\n",
    "    slp_poly.extend(circle_north_pos)\n",
    "    slp_poly.extend(circle_south_neg)\n",
    "    this_polygon = slp_poly\n",
    "    \n",
    "    if aboveLat > 0:\n",
    "        geo_qry = {\"loc\": \n",
    "               {\"$geoWithin\": {\n",
    "                   \"$geometry\": {\n",
    "                       \"type\": \"Polygon\",\n",
    "                       \"coordinates\": [this_polygon]\n",
    "               }}}}\n",
    "    else: # case of a big polygon larger than one hemisphere\n",
    "        geo_qry = {\"loc\": \n",
    "               {\"$geoWithin\": {\n",
    "                   \"$geometry\": {\n",
    "                       \"type\": \"Polygon\",\n",
    "                       \"coordinates\": [list(reversed(this_polygon))], # the orientation matters\n",
    "                       \"crs\": {\n",
    "                           \"type\": \"name\", \n",
    "                           \"properties\": { \"name\": \"urn:x-mongodb:crs:strictwinding:EPSG:4326\" }\n",
    "                       }\n",
    "                   }\n",
    "               }}}\n",
    "        \n",
    "    res = con_grid.find(filter = geo_qry, projection = {\"_id\":0, \"id_grid\": 1, \"loc\": 1})\n",
    "    grid_df = pd.DataFrame(list(res))\n",
    "    return grid_df\n",
    "\n",
    "grid_df_20N = queryGrids(aboveLat=20)\n",
    "grid_df_20S = queryGrids(aboveLat=-20)"
   ]
  },
  {
   "cell_type": "code",
   "execution_count": 11,
   "metadata": {},
   "outputs": [],
   "source": [
    "# 3rd region for SST in Northern Atlantic, as in Promet (2008).\n",
    "poly_NAtlantic = [list(reversed(\n",
    "    [ [-100,0], [-100,45],[-100,89], [-40, 89],[20,89],[20,45],[20,0], [-40,0], [-100,0]]))]\n",
    "grid_df_NAtlantic = getGridIds(poly_NAtlantic)\n",
    "grid_ids_NAtlantic = grid_df_NAtlantic.id_grid.values"
   ]
  },
  {
   "cell_type": "code",
   "execution_count": 12,
   "metadata": {},
   "outputs": [],
   "source": [
    "def queryScores(this_variable, this_grid_df):\n",
    "    # Query data anomalies\n",
    "    anom_df = queryAnom(this_variable, this_grid_df)\n",
    "    # Get Principal Component Scores\n",
    "    X_df = anom_df.pivot(index='date', columns='id_grid', values=this_variable)\n",
    "    pca = PCA(n_components=3)\n",
    "    df_scores = pd.DataFrame(pca.fit_transform(X_df), \n",
    "                             columns=['PC1_%s' % (this_variable), \n",
    "                                      'PC2_%s' % (this_variable), \n",
    "                                      'PC3_%s' % (this_variable)],\n",
    "                             index=X_df.index)\n",
    "    return df_scores\n",
    "\n",
    "scores_z70 = queryScores(this_variable='z70', this_grid_df=grid_df_20N)\n",
    "scores_ci = queryScores(this_variable='ci', this_grid_df=grid_df_20N)\n",
    "scores_sst = queryScores(this_variable='sst', this_grid_df=grid_df_20S)\n",
    "scores_sst_NAtl = queryScores(this_variable='sst', this_grid_df=grid_df_NAtlantic)"
   ]
  },
  {
   "cell_type": "code",
   "execution_count": 13,
   "metadata": {},
   "outputs": [],
   "source": [
    "scores_sst_NAtl = scores_sst_NAtl.rename(columns={\"PC1_sst\": \"PC1_sstna\",\n",
    "                                                   \"PC2_sst\": \"PC2_sstna\",\n",
    "                                                   \"PC3_sst\": \"PC3_sstna\"})"
   ]
  },
  {
   "cell_type": "markdown",
   "metadata": {},
   "source": [
    "### Group all predictors in one DataFrame"
   ]
  },
  {
   "cell_type": "code",
   "execution_count": 14,
   "metadata": {},
   "outputs": [],
   "source": [
    "def assignWyear(df):\n",
    "    res_df = df.assign(\n",
    "    year=list(map(lambda x: x.year, df.date)),\n",
    "    wyear=list(map(lambda x: setWinterYear(x), df.date)), \n",
    "    month=list(map(lambda x: x.month, df.date)))\n",
    "    return res_df"
   ]
  },
  {
   "cell_type": "code",
   "execution_count": 15,
   "metadata": {},
   "outputs": [],
   "source": [
    "def setWinterYear(date): # December belong to next year's winter\n",
    "    mon=date.month\n",
    "    yr=date.year\n",
    "    if mon >= 9:\n",
    "        res = yr+1\n",
    "    else:\n",
    "        res = yr\n",
    "    return res"
   ]
  },
  {
   "cell_type": "code",
   "execution_count": 16,
   "metadata": {},
   "outputs": [
    {
     "data": {
      "text/plain": [
       "        date       PC1_z70       PC2_z70       PC3_z70    PC1_ci    PC2_ci  \\\n",
       "0 1979-01-01  47305.944044 -21384.693316 -20280.483751 -0.069347  0.698023   \n",
       "1 1979-02-01  27377.090406  -5627.629663 -24174.825459 -0.176903  0.691101   \n",
       "2 1979-09-01  18023.465139   2794.736512  -2092.985110  2.963271  1.071411   \n",
       "3 1979-10-01  14187.255820  -8848.225741  -3218.127655  2.152409  0.879840   \n",
       "4 1979-11-01  27520.923158 -14059.658557  -5650.416198  2.057799 -0.180302   \n",
       "\n",
       "     PC3_ci   PC1_sst   PC2_sst   PC3_sst  PC1_sstna  PC2_sstna  PC3_sstna  \\\n",
       "0  1.563071 -3.052552  3.452814 -5.781096   6.061390  -9.033216   4.809538   \n",
       "1  1.377204 -6.587935  8.314241 -7.698682  10.096280  -8.582903   5.170887   \n",
       "2  1.375145  5.315733  5.144129 -0.101123   6.234057  -2.363910   5.491304   \n",
       "3 -0.169571  6.340731  3.405823  3.130062   1.479563  -6.115379   5.599404   \n",
       "4 -0.983022  3.580924  3.571726  7.026421   1.090429  -3.748720  10.074633   \n",
       "\n",
       "   year  wyear  month      Nino  \n",
       "0  1979   1979      1  0.149061  \n",
       "1  1979   1979      2  0.114270  \n",
       "2  1979   1980      9 -0.320141  \n",
       "3  1979   1980     10 -0.224291  \n",
       "4  1979   1980     11 -0.295341  "
      ]
     },
     "execution_count": 16,
     "metadata": {},
     "output_type": "execute_result"
    }
   ],
   "source": [
    "scores_df = pd.merge(left=scores_z70, right=scores_ci, left_index=True, right_index=True).\\\n",
    "pipe(lambda df: pd.merge(df, scores_sst, left_index=True, right_index=True)).\\\n",
    "pipe(lambda df: pd.merge(df, scores_sst_NAtl, left_index=True, right_index=True))\n",
    "scores_df.reset_index(level=0, inplace=True)\n",
    "scores_df0 = assignWyear(df=scores_df)\n",
    "nino_df = assignWyear(df=nino_df0)\n",
    "scores_df = pd.merge(scores_df0, nino_df)\n",
    "scores_df.head()"
   ]
  },
  {
   "cell_type": "code",
   "execution_count": 17,
   "metadata": {},
   "outputs": [],
   "source": [
    "# Create the Predictor DataFrame\n",
    "def renCol(x, mon):\n",
    "    if ('PC' in x or 'Nino' in x):\n",
    "        z = '%s_%s' % (x, mon)\n",
    "    else:\n",
    "        z = x\n",
    "    return z\n",
    "\n",
    "def createMondf(this_mon, scores_df):\n",
    "    mon_df = scores_df.query('month == @this_mon')\n",
    "    mon_df.columns = list(map(lambda x: renCol(x, mon=this_mon), list(mon_df)))\n",
    "    mon_df = mon_df.drop(['date','year','month'], axis=1)\n",
    "    return mon_df\n",
    "\n",
    "sep_df = createMondf(this_mon=9, scores_df=scores_df)\n",
    "oct_df = createMondf(this_mon=10, scores_df=scores_df)\n",
    "X_df = pd.merge(sep_df, oct_df)"
   ]
  },
  {
   "cell_type": "code",
   "execution_count": 18,
   "metadata": {},
   "outputs": [
    {
     "data": {
      "text/plain": [
       "      PC1_z70_9    PC2_z70_9     PC3_z70_9  PC1_ci_9  PC2_ci_9  PC3_ci_9  \\\n",
       "0  18023.465139  2794.736512  -2092.985110  2.963271  1.071411  1.375145   \n",
       "1  -5422.104718  9689.567172   5922.630486  0.101697  0.728204  0.115497   \n",
       "2  19744.941093 -8460.604205   1635.209243 -0.538567  1.527357 -1.105418   \n",
       "3 -14530.470578  8700.189280  -4888.437956 -0.840921  1.564582 -0.486896   \n",
       "4  -5774.518779  2361.237107  13897.025591  0.980549  0.753567  0.899551   \n",
       "\n",
       "   PC1_sst_9  PC2_sst_9  PC3_sst_9  PC1_sstna_9    ...     PC1_ci_10  \\\n",
       "0   5.315733   5.144129  -0.101123     6.234057    ...      2.152409   \n",
       "1  -3.156064   0.330514  -3.889169     1.292388    ...      0.352610   \n",
       "2  -4.273700   2.978477  -4.129959     6.777093    ...      0.624417   \n",
       "3  19.597934   7.319070  -4.276053    -4.006121    ...     -1.098517   \n",
       "4   2.394603  -2.069895  19.715182    -8.751639    ...      1.588658   \n",
       "\n",
       "   PC2_ci_10  PC3_ci_10  PC1_sst_10  PC2_sst_10  PC3_sst_10  PC1_sstna_10  \\\n",
       "0   0.879840  -0.169571    6.340731    3.405823    3.130062      1.479563   \n",
       "1   0.479753  -0.325377   -4.666931    3.319614   -0.769590      0.501719   \n",
       "2   0.928143  -0.169241   -5.718029    3.198889   -6.355670      7.601765   \n",
       "3   1.081036   0.334744   27.178280    9.416243    2.033155     -8.193469   \n",
       "4  -0.114054   0.513696   -3.563558   -3.382153   18.225005     -5.606292   \n",
       "\n",
       "   PC2_sstna_10  PC3_sstna_10   Nino_10  \n",
       "0     -6.115379      5.599404 -0.224291  \n",
       "1     -5.743480      5.634335  0.163475  \n",
       "2     -1.296888      5.296660  0.101910  \n",
       "3     -1.592294     -6.993806 -1.708226  \n",
       "4      0.579888     -1.639844  0.772114  \n",
       "\n",
       "[5 rows x 27 columns]"
      ]
     },
     "execution_count": 18,
     "metadata": {},
     "output_type": "execute_result"
    }
   ],
   "source": [
    "X_df.head()"
   ]
  },
  {
   "cell_type": "markdown",
   "metadata": {},
   "source": [
    "# Get Target Variables"
   ]
  },
  {
   "cell_type": "code",
   "execution_count": 19,
   "metadata": {},
   "outputs": [
    {
     "data": {
      "text/plain": [
       "['data', 'system.indexes', 'stations']"
      ]
     },
     "execution_count": 19,
     "metadata": {},
     "output_type": "execute_result"
    }
   ],
   "source": [
    "mongo_host_local = 'mongodb://localhost:27017/'\n",
    "mg = pymongo.MongoClient(mongo_host_local)\n",
    "db = mg.GHCN\n",
    "db.collection_names()"
   ]
  },
  {
   "cell_type": "code",
   "execution_count": 20,
   "metadata": {},
   "outputs": [
    {
     "data": {
      "text/plain": [
       "                         _id      country  country_id    elev  \\\n",
       "0   5abe7d8823c8cceb0c3f9563  SWITZERLAND         646   491.0   \n",
       "1   5abe7d8823c8cceb0c3f9565  SWITZERLAND         646  -999.0   \n",
       "2   5abe7d8823c8cceb0c3f9567  SWITZERLAND         646   318.0   \n",
       "3   5abe7d8823c8cceb0c3f9569  SWITZERLAND         646   569.0   \n",
       "4   5abe7d8823c8cceb0c3f956b  SWITZERLAND         646  2500.0   \n",
       "5   5abe7d8823c8cceb0c3f956d  SWITZERLAND         646   416.0   \n",
       "6   5abe7d8823c8cceb0c3f956f  SWITZERLAND         646   405.0   \n",
       "7   5abe7d8823c8cceb0c3f9571  SWITZERLAND         646  2460.0   \n",
       "8   5abe7d8823c8cceb0c3f9573  SWITZERLAND         646  3576.0   \n",
       "9   5abe7d8823c8cceb0c3f9575  SWITZERLAND         646  2095.0   \n",
       "10  5abe7d8823c8cceb0c3f9577  SWITZERLAND         646   276.0   \n",
       "\n",
       "          landcover                                              loc  \\\n",
       "0   WARM FOR./FIELD  {'type': 'Point', 'coordinates': [6.95, 46.82]}   \n",
       "1        WARM CROPS    {'type': 'Point', 'coordinates': [7.4, 47.0]}   \n",
       "2        COOL CROPS    {'type': 'Point', 'coordinates': [7.6, 47.6]}   \n",
       "3        WARM MIXED  {'type': 'Point', 'coordinates': [8.57, 47.38]}   \n",
       "4        WARM CROPS  {'type': 'Point', 'coordinates': [9.35, 47.25]}   \n",
       "5   WARM FOR./FIELD  {'type': 'Point', 'coordinates': [6.13, 46.25]}   \n",
       "6   WARM FOR./FIELD    {'type': 'Point', 'coordinates': [6.2, 46.2]}   \n",
       "7        WARM CROPS    {'type': 'Point', 'coordinates': [6.9, 45.7]}   \n",
       "8            TUNDRA  {'type': 'Point', 'coordinates': [7.98, 46.55]}   \n",
       "9      NORTH. TAIGA    {'type': 'Point', 'coordinates': [8.6, 46.4]}   \n",
       "10  WARM FOR./FIELD   {'type': 'Point', 'coordinates': [8.97, 46.0]}   \n",
       "\n",
       "                              name popclass   station_id  wmo_id  \n",
       "0                          PAYERNE        B  64606610000    6610  \n",
       "1   BERN                SWITZERLAN        B  64606630001    6630  \n",
       "2   BASEL/BINNINGEN     SWITZERLAN        C  64606642001    6642  \n",
       "3                    ZURICH (TOWN/        C  64606660000    6660  \n",
       "4                          SAENTIS        A  64606680000    6680  \n",
       "5                    GENEVE-COINTR        C  64606700000    6700  \n",
       "6               GENEVE/TOWN/VILLE/        C  64606700001    6700  \n",
       "7   ST. BERNARD          SWITZERLA        A  64606719001    6719  \n",
       "8                     JUNGFRAUJOCH        A  64606730000    6730  \n",
       "9   ST. GOTTHARD         SWITZERLA        A  64606753001    6753  \n",
       "10                          LUGANO        C  64606770000    6770  "
      ]
     },
     "execution_count": 20,
     "metadata": {},
     "output_type": "execute_result"
    }
   ],
   "source": [
    "# Find Swiss stations\n",
    "sta_df = pd.DataFrame(list(db.stations.find(filter={'country': 'SWITZERLAND'})))\n",
    "sta_df"
   ]
  },
  {
   "cell_type": "markdown",
   "metadata": {},
   "source": [
    "## Query function\n",
    "\n",
    "Create a function that returns the \"risk_df\" as above, and as a function of the following inputs:\n",
    "* station id\n",
    "* any groupement of dec, jan, feb (for instance, [dec,jan])\n"
   ]
  },
  {
   "cell_type": "code",
   "execution_count": 21,
   "metadata": {},
   "outputs": [
    {
     "data": {
      "text/plain": [
       "   wyear  64606660000\n",
       "0   1980         1.30\n",
       "1   1981        -1.30\n",
       "2   1982         0.35\n",
       "3   1983         2.80\n",
       "4   1984         0.90"
      ]
     },
     "execution_count": 21,
     "metadata": {},
     "output_type": "execute_result"
    }
   ],
   "source": [
    "def queryData(station_id, mon):\n",
    "    dat_df = pd.DataFrame(list(db.data.find(filter={'station_id': station_id}))).\\\n",
    "    pipe(lambda df: df[['1', '2', '3', '4', '5', '6', '7', '8', '9', '10', '11', '12', 'year']]).\\\n",
    "    pipe(lambda df: df.query('year >= 1979'))\n",
    "    w_df = dat_df[['year', '1', '2', '12']]\n",
    "    # Reformat data\n",
    "    dec_df = w_df[['year', '12']]\n",
    "    dec_df = dec_df.assign(wyear=dec_df.year+1).pipe(lambda df: df[['wyear', '12']])\n",
    "    jf_df = w_df[['year', '1', '2']].pipe(lambda df: df.rename(columns={'year':'wyear'}))\n",
    "    winter_df = pd.merge(dec_df, jf_df, on='wyear')\n",
    "    # Do the aggregation for december-february risk period\n",
    "    risk_df = winter_df\n",
    "    risk_df['ave'] = risk_df[mon].apply(func=np.mean, axis=1)\n",
    "    risk_df = risk_df[['wyear', 'ave']].pipe(lambda df: df.rename(columns={'ave': station_id}))\n",
    "    return(risk_df)\n",
    "\n",
    "res_df = queryData(station_id=64606660000, mon=['12','1'])\n",
    "res_df.head()"
   ]
  },
  {
   "cell_type": "markdown",
   "metadata": {},
   "source": [
    "### Query function for an ensemble of stations"
   ]
  },
  {
   "cell_type": "code",
   "execution_count": 22,
   "metadata": {},
   "outputs": [],
   "source": [
    "ids = sta_df.station_id#[:5]"
   ]
  },
  {
   "cell_type": "code",
   "execution_count": 23,
   "metadata": {},
   "outputs": [
    {
     "data": {
      "text/plain": [
       "   wyear  64606610000  64606660000  64606680000  64606700000  64606770000\n",
       "0   1980          1.2         1.30        -7.15         2.60         3.45\n",
       "1   1981         -1.5        -1.30        -9.50         0.05         3.05\n",
       "2   1982          NaN         0.35        -8.00          NaN         3.20\n",
       "3   1983          NaN         2.80        -6.10          NaN         4.90\n",
       "4   1984          NaN         0.90        -7.45         2.00         3.35"
      ]
     },
     "execution_count": 23,
     "metadata": {},
     "output_type": "execute_result"
    }
   ],
   "source": [
    "# Generic function\n",
    "def getStationAgg(station_ids, mon):\n",
    "    all_df00 = list(map(lambda x: queryData(station_id=x, mon=mon), ids))\n",
    "    all_df = reduce(lambda x,y: pd.merge(x,y,on='wyear', how='outer'), all_df00).\\\n",
    "    pipe(lambda df: df.sort_values('wyear', ascending=True)).\\\n",
    "    reset_index(drop=True).\\\n",
    "    pipe(lambda df: df.dropna(axis=1, thresh=20) ) # NA: at least 20 data obs should be non-NA\n",
    "    return(all_df)\n",
    "\n",
    "all_df0 = getStationAgg(station_ids=sta_df.station_id, mon=['12','1'])\n",
    "all_df0.head()"
   ]
  },
  {
   "cell_type": "code",
   "execution_count": 24,
   "metadata": {},
   "outputs": [
    {
     "data": {
      "text/plain": [
       "   wyear  PAYERNE  ZURICH (TOWN/  SAENTIS  GENEVE-COINTR  LUGANO\n",
       "0   1980      1.2           1.30    -7.15           2.60    3.45\n",
       "1   1981     -1.5          -1.30    -9.50           0.05    3.05\n",
       "2   1982      NaN           0.35    -8.00            NaN    3.20\n",
       "3   1983      NaN           2.80    -6.10            NaN    4.90\n",
       "4   1984      NaN           0.90    -7.45           2.00    3.35"
      ]
     },
     "execution_count": 24,
     "metadata": {},
     "output_type": "execute_result"
    }
   ],
   "source": [
    "# Generic rename function\n",
    "def station_id_to_name(all_df0):\n",
    "    idf = all_df0.drop(columns='wyear').columns\n",
    "    sta_df0 = pd.DataFrame(list(db.stations.find(filter={'station_id': {\"$in\": list(idf)}})))\n",
    "\n",
    "    nam_df = sta_df0.query('station_id in @idf').pipe(lambda df: df[['station_id', 'name']])\n",
    "    newnames = dict(nam_df.to_dict('split')['data'])\n",
    "    all_df = all_df0.rename(columns=newnames)\n",
    "    return(all_df)\n",
    "\n",
    "all_df = station_id_to_name(all_df0=all_df0)\n",
    "all_df.head()"
   ]
  },
  {
   "cell_type": "markdown",
   "metadata": {},
   "source": [
    "# Station Anomalies\n",
    "\n",
    "For the moment, let's keep it simple: we predict the anomalies from long-term trend.\n",
    "\n",
    "As a side note for later, check SwissRe guidelines:\n",
    "\n",
    "* P. 47: *\"If the trend in the weather index data is against SRCSGMI, apply detrending on calculated weather index values\"*\n",
    "\n",
    "* i.e., the index itself is detrended, not the original observations!\n",
    "\n",
    "\n",
    "* p.49: For HDD call and put options, *NO* detrending is applied. The historical period is (!!) the last 10 years period.\n",
    "\n",
    "This means, we can take advantage of the global temperature trend and use the year index as predictor later."
   ]
  },
  {
   "cell_type": "code",
   "execution_count": 25,
   "metadata": {},
   "outputs": [
    {
     "data": {
      "text/plain": [
       "   wyear   PAYERNE  ZURICH (TOWN/   SAENTIS  GENEVE-COINTR    LUGANO\n",
       "0   1980  1.012032       0.731538 -0.480128       0.831146 -0.068462\n",
       "1   1981 -1.724710      -1.896235 -2.841970      -1.746846 -0.494008\n",
       "2   1982       NaN      -0.274008 -1.353812            NaN -0.369555\n",
       "3   1983       NaN       2.148219  0.534345            NaN  1.304899\n",
       "4   1984       NaN       0.220445 -0.827497       0.119176 -0.270648"
      ]
     },
     "execution_count": 25,
     "metadata": {},
     "output_type": "execute_result"
    }
   ],
   "source": [
    "# Rem: the following copy would be wrong:\n",
    "# Problem copy var by reference, see the \"Python for Data Science\" book p.390 \n",
    "# ind_df = all_df # Instead do:\n",
    "anom_df = pd.DataFrame(all_df)\n",
    "\n",
    "colnames = anom_df.drop(columns='wyear').columns\n",
    "\n",
    "for colname in colnames:\n",
    "    #colname = colnames[0]\n",
    "    model = skl_lm.LinearRegression()\n",
    "    # Handle the NA problem\n",
    "    reg_df = anom_df[['wyear', colname]].pipe(lambda df: df.dropna())\n",
    "    X = reg_df.wyear.values.reshape(-1, 1)\n",
    "    X_pred = anom_df.wyear.values.reshape(-1, 1)\n",
    "    y = reg_df[[colname]]\n",
    "    model.fit(X, y)\n",
    "    lm_pred = model.predict(X_pred)\n",
    "    anom_df['fit'] = lm_pred\n",
    "    anom_df[colname] = anom_df[colname] - anom_df['fit']\n",
    "\n",
    "anom_df = anom_df.drop(columns='fit')\n",
    "anom_df.head()\n"
   ]
  },
  {
   "cell_type": "code",
   "execution_count": 26,
   "metadata": {},
   "outputs": [
    {
     "data": {
      "text/plain": [
       "<matplotlib.axes._subplots.AxesSubplot at 0x7f8ee2de2748>"
      ]
     },
     "execution_count": 26,
     "metadata": {},
     "output_type": "execute_result"
    },
    {
     "data": {
      "image/png": "[encoded data removed]",
      "text/plain": [
       "<matplotlib.figure.Figure at 0x7f8ee2e51748>"
      ]
     },
     "metadata": {},
     "output_type": "display_data"
    }
   ],
   "source": [
    "anom_df.plot(x='wyear', figsize=(15,6))"
   ]
  },
  {
   "cell_type": "markdown",
   "metadata": {},
   "source": [
    "### Create Regression DataFrame"
   ]
  },
  {
   "cell_type": "code",
   "execution_count": 27,
   "metadata": {},
   "outputs": [
    {
     "name": "stdout",
     "output_type": "stream",
     "text": [
      "<class 'pandas.core.frame.DataFrame'>\n",
      "Int64Index: 38 entries, 0 to 37\n",
      "Data columns (total 32 columns):\n",
      "wyear            38 non-null int64\n",
      "PAYERNE          21 non-null float64\n",
      "ZURICH (TOWN/    38 non-null float64\n",
      "SAENTIS          38 non-null float64\n",
      "GENEVE-COINTR    36 non-null float64\n",
      "LUGANO           38 non-null float64\n",
      "PC1_z70_9        38 non-null float64\n",
      "PC2_z70_9        38 non-null float64\n",
      "PC3_z70_9        38 non-null float64\n",
      "PC1_ci_9         38 non-null float64\n",
      "PC2_ci_9         38 non-null float64\n",
      "PC3_ci_9         38 non-null float64\n",
      "PC1_sst_9        38 non-null float64\n",
      "PC2_sst_9        38 non-null float64\n",
      "PC3_sst_9        38 non-null float64\n",
      "PC1_sstna_9      38 non-null float64\n",
      "PC2_sstna_9      38 non-null float64\n",
      "PC3_sstna_9      38 non-null float64\n",
      "Nino_9           38 non-null float64\n",
      "PC1_z70_10       38 non-null float64\n",
      "PC2_z70_10       38 non-null float64\n",
      "PC3_z70_10       38 non-null float64\n",
      "PC1_ci_10        38 non-null float64\n",
      "PC2_ci_10        38 non-null float64\n",
      "PC3_ci_10        38 non-null float64\n",
      "PC1_sst_10       38 non-null float64\n",
      "PC2_sst_10       38 non-null float64\n",
      "PC3_sst_10       38 non-null float64\n",
      "PC1_sstna_10     38 non-null float64\n",
      "PC2_sstna_10     38 non-null float64\n",
      "PC3_sstna_10     38 non-null float64\n",
      "Nino_10          38 non-null float64\n",
      "dtypes: float64(31), int64(1)\n",
      "memory usage: 9.8 KB\n"
     ]
    }
   ],
   "source": [
    "# Create Regression DataFrame\n",
    "dat_df = pd.merge(anom_df, X_df, on='wyear')\n",
    "dat_df.info()"
   ]
  },
  {
   "cell_type": "markdown",
   "metadata": {},
   "source": [
    "## Regularization / Lasso Model Selection"
   ]
  },
  {
   "cell_type": "markdown",
   "metadata": {},
   "source": [
    "#### Generic function for any station :"
   ]
  },
  {
   "cell_type": "code",
   "execution_count": 28,
   "metadata": {},
   "outputs": [
    {
     "data": {
      "text/plain": [
       "{'R2': 0.43020265847113937,\n",
       " 'alpha': 0.16563819049694059,\n",
       " 'importance_df':        coef        pred   absCoef\n",
       " 0 -0.494584   PC1_z70_9  0.494584\n",
       " 1 -0.131226   PC2_z70_9  0.131226\n",
       " 2  0.035923   PC3_sst_9  0.035923\n",
       " 3 -0.003144  PC1_z70_10  0.003144\n",
       " 4 -0.380257  PC2_z70_10  0.380257\n",
       " 5 -0.266202      Nino_9  0.266202}"
      ]
     },
     "execution_count": 28,
     "metadata": {},
     "output_type": "execute_result"
    }
   ],
   "source": [
    "def predOneStation(target, dat_df):\n",
    "    # target = 'ZURICH (TOWN/'\n",
    "    # 'target ~ PC1_ci_10 + PC2_z70_10 + PC3_sst_9' # Wang\n",
    "    predNames = np.array(['PC1_z70_9',\n",
    "     'PC2_z70_9',\n",
    "     'PC3_z70_9',\n",
    "     'PC1_ci_9',\n",
    "     'PC2_ci_9',\n",
    "     'PC3_ci_9',\n",
    "     'PC1_sst_9',\n",
    "     'PC2_sst_9',\n",
    "     'PC3_sst_9', \n",
    "     'PC1_z70_10',  \n",
    "     'PC2_z70_10', \n",
    "     'PC3_z70_10',\n",
    "     'PC1_ci_10', \n",
    "     'PC2_ci_10',\n",
    "     'PC3_ci_10',\n",
    "     'PC1_sst_10',\n",
    "     'PC2_sst_10',\n",
    "     'PC3_sst_10',\n",
    "     'PC1_sstna_10','PC2_sstna_10','PC3_sstna_10',\n",
    "                          'Nino_9', 'Nino_10'])\n",
    "    #ipdb.set_trace()\n",
    "    dat_df = dat_df[dat_df[target].notnull()] # eliminate NA rows\n",
    "    X = dat_df[predNames].as_matrix()\n",
    "    # Target Variables:\n",
    "    y = dat_df[[target]]\n",
    "    y = np.ravel(y)\n",
    "    # Before applying the Lasso, it is necessary to standardize the predictor\n",
    "    scaler = StandardScaler()\n",
    "    scaler.fit(X)\n",
    "    X_stan = scaler.transform(X)\n",
    "    # In order to find the optimal penalty parameter alpha,\n",
    "    # use Cross-validated Lasso\n",
    "    #modlcv = LassoLarsIC(criterion='aic')\n",
    "    modlcv = LassoCV(cv=3, n_alphas=10000,max_iter=10000)\n",
    "    modlcv.fit(X_stan, y)\n",
    "    alpha = modlcv.alpha_\n",
    "\n",
    "    # Name Of the non-null coefficients:\n",
    "    # 'target ~ PC1_ci_10 + PC2_z70_10 + PC3_sst_9' # Wang\n",
    "    ind = np.array(list(map(lambda x: float(x)!=0, modlcv.coef_)))\n",
    "    importance_df = pd.DataFrame({'pred': predNames[ind], \n",
    "                                  'coef': modlcv.coef_[ind]})\n",
    "    importance_df = importance_df.assign(absCoef=np.absolute(importance_df.coef))\n",
    "    # According to the Lasso, the 3 strongest predictors are:\n",
    "    # PC1_ci_10, PC2_z70_10, PC3_z70_9 \n",
    "    importance_df.sort_values('absCoef', ascending=False)\n",
    "    res = dict({'R2': modlcv.score(X_stan, y),'alpha': alpha, 'importance_df': importance_df})\n",
    "    return(res)\n",
    "\n",
    "z = predOneStation(target='PAYERNE', dat_df=dat_df)\n",
    "z"
   ]
  },
  {
   "cell_type": "code",
   "execution_count": 29,
   "metadata": {},
   "outputs": [],
   "source": [
    "z = map(predOneStation, sta_df.name)"
   ]
  },
  {
   "cell_type": "code",
   "execution_count": 30,
   "metadata": {},
   "outputs": [
    {
     "name": "stdout",
     "output_type": "stream",
     "text": [
      "PAYERNE {'R2': 0.43020265847113937, 'alpha': 0.16563819049694059, 'importance_df':        coef        pred   absCoef\n",
      "0 -0.494584   PC1_z70_9  0.494584\n",
      "1 -0.131226   PC2_z70_9  0.131226\n",
      "2  0.035923   PC3_sst_9  0.035923\n",
      "3 -0.003144  PC1_z70_10  0.003144\n",
      "4 -0.380257  PC2_z70_10  0.380257\n",
      "5 -0.266202      Nino_9  0.266202}\n"
     ]
    },
    {
     "name": "stderr",
     "output_type": "stream",
     "text": [
      "/home/dmasson/anaconda3/envs/winter_predictor/lib/python3.6/site-packages/sklearn/linear_model/coordinate_descent.py:491: ConvergenceWarning:\n",
      "\n",
      "Objective did not converge. You might want to increase the number of iterations. Fitting data with very small alpha may cause precision problems.\n",
      "\n"
     ]
    }
   ],
   "source": [
    "for sta_name in colnames:\n",
    "    z = predOneStation(target=sta_name, dat_df=dat_df)\n",
    "    if z['R2'] > 0.4:\n",
    "        print(sta_name, z)"
   ]
  },
  {
   "cell_type": "code",
   "execution_count": 31,
   "metadata": {},
   "outputs": [
    {
     "data": {
      "text/plain": [
       "    wyear   PAYERNE  ZURICH (TOWN/   SAENTIS  GENEVE-COINTR    LUGANO  \\\n",
       "0    1980  1.012032       0.731538 -0.480128       0.831146 -0.068462   \n",
       "1    1981 -1.724710      -1.896235 -2.841970      -1.746846 -0.494008   \n",
       "2    1982       NaN      -0.274008 -1.353812            NaN -0.369555   \n",
       "3    1983       NaN       2.148219  0.534345            NaN  1.304899   \n",
       "4    1984       NaN       0.220445 -0.827497       0.119176 -0.270648   \n",
       "5    1985       NaN      -2.357328 -2.389339      -2.208816 -0.896194   \n",
       "6    1986       NaN       1.414899 -0.201181       0.163192  0.878259   \n",
       "7    1987       NaN      -2.162874 -1.563023      -1.764801 -0.447287   \n",
       "8    1988       NaN       1.959352  2.475135       1.807207  1.077166   \n",
       "9    1989       NaN       0.931579  2.713293       0.179214  0.551619   \n",
       "10   1990       NaN       0.453806  3.101451       0.701222 -0.473927   \n",
       "11   1991       NaN      -0.623968 -0.210391      -0.126770 -0.999474   \n",
       "12   1992 -1.528867      -1.551741  1.427767      -1.204763 -0.525020   \n",
       "13   1993  1.034392       1.020486  2.165924       0.967245  0.199433   \n",
       "14   1994  2.447650       2.142713 -0.445918       1.839253  0.773887   \n",
       "15   1995  1.160909       0.714939 -0.307760       1.111260  0.398340   \n",
       "16   1996 -0.425833      -1.412834  1.630398       0.383268  0.472794   \n",
       "17   1997 -1.562574      -2.290607  2.018556      -0.794725  0.097247   \n",
       "18   1998  0.950684       1.081619  0.456714       1.127283  0.521700   \n",
       "19   1999 -0.236057       0.453846  0.044872      -0.250709 -0.303846   \n",
       "20   2000  0.127201      -0.173927 -1.566970       0.121298 -0.529393   \n",
       "21   2001       NaN       1.598300  0.871188       1.993306  0.495061   \n",
       "22   2002       NaN      -0.829474 -0.440655      -0.884687 -1.430486   \n",
       "23   2003       NaN       0.842753 -0.402497       1.187321  0.993968   \n",
       "24   2004       NaN      -0.185020 -0.764339       0.409329  0.068421   \n",
       "25   2005       NaN      -0.662794 -0.326181      -0.368664 -0.207126   \n",
       "26   2006       NaN      -2.590567 -1.938023      -2.146656 -1.882672   \n",
       "27   2007       NaN       2.181660  2.200135       1.325351  1.641781   \n",
       "28   2008  0.533269       0.503887  0.788293       0.497359  0.166235   \n",
       "29   2009 -2.453473      -2.073887 -0.973549      -1.880633 -0.959312   \n",
       "30   2010 -1.390214      -1.801660 -2.785391      -1.258626 -1.484858   \n",
       "31   2011 -1.226956      -1.229433 -2.247233      -1.236618 -1.410405   \n",
       "32   2012  1.886303       1.342794 -0.759076       0.885389  0.864049   \n",
       "33   2013  0.049561      -0.184980 -1.620918      -0.542603 -0.111498   \n",
       "34   2014  0.212820       0.887247  1.817240       0.079405  0.662955   \n",
       "35   2015  1.126078       0.959474 -0.394602       0.701412  1.587409   \n",
       "36   2016  1.439336       2.031700  2.543556       1.273420  0.711862   \n",
       "37   2017 -3.047405      -2.746073  0.331714      -2.704573 -0.563684   \n",
       "\n",
       "       PC1_z70_9     PC2_z70_9     PC3_z70_9  PC1_ci_9    ...     PC1_ci_10  \\\n",
       "0   18023.465139   2794.736512  -2092.985110  2.963271    ...      2.152409   \n",
       "1   -5422.104718   9689.567172   5922.630486  0.101697    ...      0.352610   \n",
       "2   19744.941093  -8460.604205   1635.209243 -0.538567    ...      0.624417   \n",
       "3  -14530.470578   8700.189280  -4888.437956 -0.840921    ...     -1.098517   \n",
       "4   -5774.518779   2361.237107  13897.025591  0.980549    ...      1.588658   \n",
       "5    8427.887215   7956.829509   6832.407143  2.219090    ...      2.786406   \n",
       "6    1768.147967  -3074.136894   3445.783705  2.110756    ...      2.253059   \n",
       "7  -12136.675576  -3251.871390 -12708.100423 -1.126989    ...     -0.182392   \n",
       "8  -18109.050660  -8402.818248  -1569.443412 -0.104677    ...     -0.865838   \n",
       "9  -16374.129891  -5926.431413   1805.564184 -1.119401    ...     -1.930210   \n",
       "10 -13073.201734  10064.419066  -2157.745864 -1.770159    ...     -1.124669   \n",
       "11  17934.524125   -715.697467    444.180835 -0.248419    ...      0.528557   \n",
       "12  19467.654107  -4241.784684  -7318.953851  0.259231    ...     -0.679883   \n",
       "13    288.677444   1502.709972  19522.114370 -0.738850    ...     -1.966161   \n",
       "14 -12924.102977   5050.848836  -2093.880620 -1.332908    ...     -1.876470   \n",
       "15 -19925.950878   3153.243582   -733.467659  0.039943    ...      0.058547   \n",
       "16  12378.393578   4700.677566  -5055.375701  0.604499    ...      1.657385   \n",
       "17   5801.543261  -5395.530481  -7663.911468 -0.423038    ...     -0.873308   \n",
       "18   8443.753935   -341.858805  -3268.933133 -0.331618    ...      0.026704   \n",
       "19  24275.863987 -10947.414733  -7991.939311 -1.667706    ...     -2.705119   \n",
       "20  12089.704455  -4175.070935   3146.876215 -0.143898    ...     -1.457457   \n",
       "21 -24295.533873   2704.516931   2811.583729 -0.136391    ...      0.104769   \n",
       "22  16884.069615 -11620.294406    298.653282  0.371060    ...      0.730080   \n",
       "23    -84.097726  -9717.624359 -11015.606379 -1.380493    ...     -2.124439   \n",
       "24  -8649.814309  -7574.992438  -2793.316471 -2.654784    ...     -1.903348   \n",
       "25  -4524.051625  -2653.118398   6474.986199 -0.355284    ...     -0.427258   \n",
       "26 -28987.502430   3397.853612   1859.792542  0.581182    ...     -0.078653   \n",
       "27  16672.231665   -482.647869 -11356.196547 -0.971645    ...     -1.772693   \n",
       "28 -16668.175553   6402.264016   -326.347188  0.466611    ...      0.663867   \n",
       "29  14308.415616  10938.124567    948.595335  0.055942    ...     -0.505958   \n",
       "30 -10963.252250  -6273.080194  -6254.377386 -0.434065    ...      2.451387   \n",
       "31  18961.742441   1213.120240  -5624.443966  0.053314    ...      0.484807   \n",
       "32  -9475.329127   2083.633806   8068.482880  1.353169    ...      1.520995   \n",
       "33   2419.244820  -3937.964119   -570.406054  2.185233    ...      2.496813   \n",
       "34  13705.578915  -5023.600995  -4548.788008  1.920843    ...      1.182173   \n",
       "35 -24810.105764   2710.212445  -1183.169086 -0.898553    ...     -1.611884   \n",
       "36  -4890.065374   4410.879670  10049.713706 -0.016666    ...      0.324400   \n",
       "37  20022.294443  12381.478144  14052.226148  0.968641    ...      1.196213   \n",
       "\n",
       "    PC2_ci_10  PC3_ci_10  PC1_sst_10  PC2_sst_10  PC3_sst_10  PC1_sstna_10  \\\n",
       "0    0.879840  -0.169571    6.340731    3.405823    3.130062      1.479563   \n",
       "1    0.479753  -0.325377   -4.666931    3.319614   -0.769590      0.501719   \n",
       "2    0.928143  -0.169241   -5.718029    3.198889   -6.355670      7.601765   \n",
       "3    1.081036   0.334744   27.178280    9.416243    2.033155     -8.193469   \n",
       "4   -0.114054   0.513696   -3.563558   -3.382153   18.225005     -5.606292   \n",
       "5    0.213609   0.952214  -12.377798  -12.763848   11.978411     -7.388577   \n",
       "6    0.368872   1.239417   -9.298835  -13.226623    2.830424     -3.638258   \n",
       "7   -0.584576  -0.345408   12.234886  -11.478248   -7.961687     -3.471398   \n",
       "8    0.093028   0.129808   23.442376   10.370227    2.685575      0.282142   \n",
       "9    0.210384   0.385583  -28.545401    4.572423   -0.333689      3.532051   \n",
       "10   0.136293  -0.626006   -9.538976   -5.004826   -2.940226     -2.254457   \n",
       "11   0.133751  -0.909224   -0.788225   -7.494736    1.740464     -3.082743   \n",
       "12   0.134024  -0.711422   14.422995   -7.482174   -4.328519     -4.739605   \n",
       "13  -1.263124   0.023639    0.511502  -12.935228  -10.606270     -5.126951   \n",
       "14  -0.162385  -0.098570   10.340833  -10.773814   -9.722740     -3.578824   \n",
       "15  -0.702494   1.192800   10.375360    0.710905   -4.956810      3.616445   \n",
       "16   0.783052   0.820344  -13.264818  -10.548361   15.203856     -1.079606   \n",
       "17  -2.418275  -0.439020   -9.496151   -2.443455  -10.698663      3.839063   \n",
       "18  -0.522354  -0.010178   39.433572   18.373580    2.573970     12.262153   \n",
       "19  -0.630689  -0.578183  -19.061703   22.260731    6.486130     10.257264   \n",
       "20  -1.506503  -0.289929  -24.476540   10.331481    4.699518     -1.276338   \n",
       "21  -1.932946   0.427062  -10.055716   -3.186542    6.917838     -6.021297   \n",
       "22  -2.520432   1.067590   -9.718354    7.327195    4.817188      4.984576   \n",
       "23  -0.529461  -0.948392   14.197532    4.174597  -13.070779     -1.253944   \n",
       "24   0.535117  -1.219581    5.860448   11.159400  -13.370674     14.286810   \n",
       "25  -0.863179  -0.978772    7.623060   -0.723156  -11.368896      3.391702   \n",
       "26   1.635044  -0.863933   -7.792762    7.055285   -4.794584      5.643071   \n",
       "27  -0.492433  -0.785112   16.536518   10.034998  -12.436530      9.980070   \n",
       "28   5.041612  -2.187634  -27.527539    5.380473   -3.941256      4.957406   \n",
       "29   0.195016  -0.745136   -9.607905   14.409476   -1.065153      2.936504   \n",
       "30   0.470722   1.899799   13.172028   -2.608712   -0.431778     -2.350323   \n",
       "31   0.316139  -0.149180  -31.981638   10.414951    2.933906      8.972250   \n",
       "32   1.325215   0.594612  -18.988987   -0.816101    9.716052     -4.828720   \n",
       "33   2.865481   1.099267    0.327751   -2.651499    3.599300      3.082821   \n",
       "34  -2.967182   1.813497   -4.863091   -4.293773   -0.405009     -2.052960   \n",
       "35  -0.245579  -0.567676   15.617387  -13.811072   -3.830046     -8.931962   \n",
       "36  -1.161299   0.316218   43.171294  -11.868592    4.446860    -12.547201   \n",
       "37   0.790832   0.307257    0.546405  -18.423379   19.370857    -14.184451   \n",
       "\n",
       "    PC2_sstna_10  PC3_sstna_10   Nino_10  \n",
       "0      -6.115379      5.599404 -0.224291  \n",
       "1      -5.743480      5.634335  0.163475  \n",
       "2      -1.296888      5.296660  0.101910  \n",
       "3      -1.592294     -6.993806 -1.708226  \n",
       "4       0.579888     -1.639844  0.772114  \n",
       "5       5.075070     -0.401234  0.747498  \n",
       "6     -10.652166      0.320075  0.586219  \n",
       "7      -4.802851     -3.112621 -0.727631  \n",
       "8      -6.454736      1.473901 -1.295196  \n",
       "9       4.484306      0.789534  1.913808  \n",
       "10      4.722713     -4.292397  0.454148  \n",
       "11      3.312279      3.245676 -0.249988  \n",
       "12      0.477542     -1.019254 -0.917648  \n",
       "13      4.408016      2.009029  0.369832  \n",
       "14      3.437608      1.758602 -0.217161  \n",
       "15      5.439330     -0.660219 -0.760726  \n",
       "16      1.587777      0.118629  0.935995  \n",
       "17      6.417465     -1.117143  0.405380  \n",
       "18     -1.682802     -6.240486 -2.179899  \n",
       "19      5.357040      2.240621  1.162726  \n",
       "20      4.598762      1.460862  1.108685  \n",
       "21      8.596275      1.742420  0.680737  \n",
       "22     -3.577605      5.150210  0.129934  \n",
       "23     -3.698614     -8.008632 -1.116678  \n",
       "24     -1.164688     -4.022724 -0.392529  \n",
       "25     -1.006231     -3.102629 -0.628953  \n",
       "26      4.519789     -5.404273 -0.038518  \n",
       "27     -3.870696     -9.238247 -0.675035  \n",
       "28      7.896987     -5.911418  1.337971  \n",
       "29      8.904118     -3.614961  0.404118  \n",
       "30     -6.516331     -2.638123 -0.747351  \n",
       "31     -4.396828     11.118745  1.634036  \n",
       "32     -1.667515      5.792854  0.978376  \n",
       "33     -2.111200      9.001734 -0.222810  \n",
       "34     -0.709442      1.853477  0.257434  \n",
       "35     -4.887288     -1.877519 -0.402321  \n",
       "36     -4.949285     -0.479435 -2.125505  \n",
       "37     -2.918648      5.168196  0.486071  \n",
       "\n",
       "[38 rows x 32 columns]"
      ]
     },
     "execution_count": 31,
     "metadata": {},
     "output_type": "execute_result"
    }
   ],
   "source": [
    "dat_df"
   ]
  },
  {
   "cell_type": "code",
   "execution_count": 32,
   "metadata": {},
   "outputs": [
    {
     "data": {
      "text/plain": [
       "Index(['PAYERNE', 'ZURICH (TOWN/', 'SAENTIS', 'GENEVE-COINTR', 'LUGANO'], dtype='object')"
      ]
     },
     "execution_count": 32,
     "metadata": {},
     "output_type": "execute_result"
    }
   ],
   "source": [
    "colnames"
   ]
  },
  {
   "cell_type": "code",
   "execution_count": null,
   "metadata": {},
   "outputs": [],
   "source": []
  }
 ],
 "metadata": {
  "kernelspec": {
   "display_name": "Python 3",
   "language": "python",
   "name": "python3"
  },
  "language_info": {
   "codemirror_mode": {
    "name": "ipython",
    "version": 3
   },
   "file_extension": ".py",
   "mimetype": "text/x-python",
   "name": "python",
   "nbconvert_exporter": "python",
   "pygments_lexer": "ipython3",
   "version": "3.6.3"
  }
 },
 "nbformat": 4,
 "nbformat_minor": 2
}
