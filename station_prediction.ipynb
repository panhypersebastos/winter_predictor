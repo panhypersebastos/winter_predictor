{
 "cells": [
  {
   "cell_type": "markdown",
   "metadata": {},
   "source": [
    "# Station Prediction"
   ]
  },
  {
   "cell_type": "code",
   "execution_count": 2,
   "metadata": {},
   "outputs": [
    {
     "data": {
      "text/html": [
       "<script>requirejs.config({paths: { 'plotly': ['https://cdn.plot.ly/plotly-latest.min']},});if(!window.Plotly) {{require(['plotly'],function(plotly) {window.Plotly=plotly;});}}</script>"
      ],
      "text/vnd.plotly.v1+html": [
       "<script>requirejs.config({paths: { 'plotly': ['https://cdn.plot.ly/plotly-latest.min']},});if(!window.Plotly) {{require(['plotly'],function(plotly) {window.Plotly=plotly;});}}</script>"
      ]
     },
     "metadata": {},
     "output_type": "display_data"
    }
   ],
   "source": [
    "from netCDF4 import Dataset\n",
    "import numpy as np\n",
    "import matplotlib.pyplot as plt\n",
    "from mpl_toolkits.basemap import Basemap, addcyclic, shiftgrid\n",
    "import pymongo\n",
    "from pprint import pprint\n",
    "from datetime import datetime, timedelta, date\n",
    "import pandas as pd\n",
    "from sklearn.decomposition import PCA\n",
    "import sklearn.linear_model as skl_lm\n",
    "import gdal as gdl\n",
    "import matplotlib.mlab as ml\n",
    "import cartopy.crs as ccrs\n",
    "import plotly.graph_objs as go\n",
    "import plotly.offline as py\n",
    "py.init_notebook_mode(connected=True) # for live plot\n",
    "pd.set_option('display.notebook_repr_html', False)\n",
    "%matplotlib inline\n",
    "plt.style.use('seaborn-white')"
   ]
  },
  {
   "cell_type": "code",
   "execution_count": 3,
   "metadata": {},
   "outputs": [],
   "source": [
    "mongo_host_local = 'mongodb://localhost:27017/'\n",
    "mg = pymongo.MongoClient(mongo_host_local)"
   ]
  },
  {
   "cell_type": "code",
   "execution_count": 4,
   "metadata": {},
   "outputs": [
    {
     "data": {
      "text/plain": [
       "['system.indexes',\n",
       " 'ERAINT_grid',\n",
       " 'ERAINT_lores_grid',\n",
       " 'ERAINT_lores_monthly_anom',\n",
       " 'ERAINT_monthly',\n",
       " 'ERAINT_lores_monthly']"
      ]
     },
     "execution_count": 4,
     "metadata": {},
     "output_type": "execute_result"
    }
   ],
   "source": [
    "db = mg.ECMWF\n",
    "db.collection_names()"
   ]
  },
  {
   "cell_type": "code",
   "execution_count": 5,
   "metadata": {},
   "outputs": [],
   "source": [
    "ERA_vers = 'lores'\n",
    "if (ERA_vers == 'hires'):\n",
    "    col_dat = 'ERAINT_monthly'\n",
    "    col_anom = 'ERAINT_monthly_anom'\n",
    "    col_grid = 'ERAINT_grid'\n",
    "    resolution = 0.25\n",
    "elif (ERA_vers == 'lores'):\n",
    "    col_dat = 'ERAINT_lores_monthly'\n",
    "    col_anom = 'ERAINT_lores_monthly_anom'\n",
    "    col_grid = 'ERAINT_lores_grid'\n",
    "    resolution = 2.5\n",
    "\n",
    "con_grid = db[col_grid]\n",
    "con_anom = db[col_anom]"
   ]
  },
  {
   "cell_type": "markdown",
   "metadata": {},
   "source": [
    "## Name of variables:\n",
    "\n",
    "* 'ci':  Sea-ice cover [0-1]\n",
    "* 'sst': Sea surface temperature [K]\n",
    "* 'istl1': Ice temp layer1 [K]\n",
    "* 'sp': Surface pressure [Pa]\n",
    "* 'stl1': Soil temp lev1 [K]\n",
    "* 'msl': Mean SLP [Pa]\n",
    "* 'u10': wind-u [m/s]\n",
    "* 'v10': \n",
    "* 't2m': 2m temp [K]\n",
    "* 'd2m': 2m dewpoint temp.[K]\n",
    "* 'al': Surface albedo [0-1]\n",
    "* 'lcc': Low cloud cover [0-1]\n",
    "* 'mcc': Medium cloud cover [0-1]\n",
    "* 'hcc': High cloud cover [0-1]\n",
    "* 'si10': 10m wind speed [m/s]\n",
    "* 'skt': Skin temperature [K]\n",
    "* 'blh': Boundary layer hgt [m]\n",
    "* 'ishf': Inst.surf.sensbl.heatflux [W/m2]\n",
    "* 'ie': Instantaneous moisture flux [kg*m^-2*s^-1]\n",
    "* 'z70': Geopot. height @70hPa [m]"
   ]
  },
  {
   "cell_type": "code",
   "execution_count": 6,
   "metadata": {},
   "outputs": [
    {
     "data": {
      "text/plain": [
       "['al',\n",
       " 'blh',\n",
       " 'ci',\n",
       " 'd2m',\n",
       " 'hcc',\n",
       " 'ie',\n",
       " 'ishf',\n",
       " 'istl1',\n",
       " 'lcc',\n",
       " 'mcc',\n",
       " 'msl',\n",
       " 'si10',\n",
       " 'skt',\n",
       " 'sp',\n",
       " 'sst',\n",
       " 'stl1',\n",
       " 't2m',\n",
       " 'u10',\n",
       " 'v10',\n",
       " 'z70']"
      ]
     },
     "execution_count": 6,
     "metadata": {},
     "output_type": "execute_result"
    }
   ],
   "source": [
    "# Names of candidate variables:\n",
    "fo0 = con_anom.find({}, {'_id': 0, 'year': 0, 'month': 0, 'date': 0, 'id_grid': 0}).limit(1)\n",
    "fo_df = pd.DataFrame(list(fo0))\n",
    "all_varnames = list(fo_df)\n",
    "all_varnames"
   ]
  },
  {
   "cell_type": "markdown",
   "metadata": {},
   "source": [
    "# Get Target Variables"
   ]
  },
  {
   "cell_type": "markdown",
   "metadata": {},
   "source": [
    "### GHCN Monthly Data\n",
    "\n",
    "* ftp://ftp.ncdc.noaa.gov/pub/data/ghcn/v3/\n",
    "* \"QCA\" files represent the quality controlled adjusted data."
   ]
  },
  {
   "cell_type": "markdown",
   "metadata": {},
   "source": [
    "# Get Predictors"
   ]
  },
  {
   "cell_type": "code",
   "execution_count": 7,
   "metadata": {},
   "outputs": [],
   "source": [
    "# Query anomalies for a variable for each input grid cells\n",
    "def queryAnom(this_variable, this_grid_df):\n",
    "    # Query data anomalies\n",
    "    grid_ids = this_grid_df.id_grid.values\n",
    "    res = con_anom.aggregate(pipeline=[ \n",
    "    {\"$project\": {\"id_grid\": 1, \"date\": 1, this_variable: 1, \"month\": {\"$month\": \"$date\"}}},\n",
    "    {\"$match\": {\"month\": {\"$in\": [9, 10, 11, 12, 1, 2]},\n",
    "                \"id_grid\": {\"$in\": grid_ids.tolist()} }},\n",
    "    {\"$project\": {\"_id\": 0, \"id_grid\": 1, \"date\": 1, this_variable: 1}} ])    \n",
    "    anom_df = pd.DataFrame(list(res))\n",
    "    return anom_df"
   ]
  },
  {
   "cell_type": "code",
   "execution_count": null,
   "metadata": {},
   "outputs": [],
   "source": []
  }
 ],
 "metadata": {
  "kernelspec": {
   "display_name": "Python 3",
   "language": "python",
   "name": "python3"
  },
  "language_info": {
   "codemirror_mode": {
    "name": "ipython",
    "version": 3
   },
   "file_extension": ".py",
   "mimetype": "text/x-python",
   "name": "python",
   "nbconvert_exporter": "python",
   "pygments_lexer": "ipython3",
   "version": "3.6.3"
  }
 },
 "nbformat": 4,
 "nbformat_minor": 2
}
