{
 "cells": [
  {
   "cell_type": "code",
   "execution_count": 1,
   "metadata": {
    "collapsed": true
   },
   "outputs": [],
   "source": [
    "from netCDF4 import Dataset, netcdftime, num2date, date2num, date2index\n",
    "from datetime import datetime, timedelta, date\n",
    "import pytz\n",
    "import numpy as np\n",
    "import matplotlib.pyplot as plt\n",
    "from mpl_toolkits.basemap import Basemap, addcyclic, shiftgrid\n",
    "import pymongo\n",
    "from pymongo import IndexModel, ASCENDING, DESCENDING\n",
    "from pprint import pprint\n",
    "from os import listdir\n",
    "import os\n",
    "import pandas as pd\n",
    "import fnmatch\n",
    "import logging\n",
    "from joblib import Parallel, delayed\n",
    "import multiprocessing\n",
    "from functools import partial"
   ]
  },
  {
   "cell_type": "code",
   "execution_count": 2,
   "metadata": {},
   "outputs": [
    {
     "data": {
      "text/plain": [
       "['era-int_multivarm1_1979-01-01_to_2017-08-31.nc']"
      ]
     },
     "execution_count": 2,
     "metadata": {},
     "output_type": "execute_result"
    }
   ],
   "source": [
    "startTime = datetime.now()\n",
    "logging.info(\"%s %s:%s Job started\" %\n",
    "             (startTime.date(), startTime.hour, startTime.minute))\n",
    "downloadDir = '/home/dmasson/data/era-interim/'\n",
    "files00 = listdir(downloadDir)\n",
    "files = fnmatch.filter(files00, '*multivarm1*.nc')\n",
    "files.sort()\n",
    "\n",
    "# What dates are already ingested in MongoDB ?\n",
    "# MongoDB:\n",
    "import sys\n",
    "sys.path.insert(0, '/home/production/dev/')\n",
    "\n",
    "mongo_host_local = 'mongodb://localhost:27017/'\n",
    "mg = pymongo.MongoClient(mongo_host_local)\n",
    "\n",
    "db = mg.ECMWF\n",
    "con_data = db.ERAINT_monthly\n",
    "datesInMongo = {}#con_data.distinct('date')\n",
    "files"
   ]
  },
  {
   "cell_type": "code",
   "execution_count": 3,
   "metadata": {
    "collapsed": true
   },
   "outputs": [],
   "source": [
    "def getDatesDF(nc_file):  # insertFile(nc_file):\n",
    "    logging.info(\"Inserting %s\" % (nc_file))\n",
    "    nc_file00 = '%s%s' % (downloadDir, nc_file)\n",
    "    fh = Dataset(nc_file00, mode='r')\n",
    "    nctime = fh.variables['time'][:]\n",
    "    t_unit = fh.variables['time'].units\n",
    "    fh.close()\n",
    "    time = num2date(nctime, units=t_unit)\n",
    "    # Create a data frame\n",
    "    df = pd.DataFrame({'time': time})\n",
    "    df = df.assign(date=df.time.dt.date)\n",
    "    # Do some aggregation\n",
    "    gdf = pd.DataFrame(df.groupby('date').size().rename('ndoc')).reset_index()\n",
    "    df2 = pd.merge(left=df, right=gdf, on=\"date\")\n",
    "    # exclude datesInMongo (data already ingested)\n",
    "    DF = df2[~pd.to_datetime(df2.date).isin(datesInMongo)]\n",
    "    return DF"
   ]
  },
  {
   "cell_type": "code",
   "execution_count": 6,
   "metadata": {},
   "outputs": [
    {
     "data": {
      "text/html": [
       "<div>\n",
       "<style>\n",
       "    .dataframe thead tr:only-child th {\n",
       "        text-align: right;\n",
       "    }\n",
       "\n",
       "    .dataframe thead th {\n",
       "        text-align: left;\n",
       "    }\n",
       "\n",
       "    .dataframe tbody tr th {\n",
       "        vertical-align: top;\n",
       "    }\n",
       "</style>\n",
       "<table border=\"1\" class=\"dataframe\">\n",
       "  <thead>\n",
       "    <tr style=\"text-align: right;\">\n",
       "      <th></th>\n",
       "      <th>time</th>\n",
       "      <th>date</th>\n",
       "      <th>ndoc</th>\n",
       "    </tr>\n",
       "  </thead>\n",
       "  <tbody>\n",
       "    <tr>\n",
       "      <th>0</th>\n",
       "      <td>1979-01-01</td>\n",
       "      <td>1979-01-01</td>\n",
       "      <td>1</td>\n",
       "    </tr>\n",
       "    <tr>\n",
       "      <th>1</th>\n",
       "      <td>1979-02-01</td>\n",
       "      <td>1979-02-01</td>\n",
       "      <td>1</td>\n",
       "    </tr>\n",
       "    <tr>\n",
       "      <th>2</th>\n",
       "      <td>1979-03-01</td>\n",
       "      <td>1979-03-01</td>\n",
       "      <td>1</td>\n",
       "    </tr>\n",
       "    <tr>\n",
       "      <th>3</th>\n",
       "      <td>1979-04-01</td>\n",
       "      <td>1979-04-01</td>\n",
       "      <td>1</td>\n",
       "    </tr>\n",
       "    <tr>\n",
       "      <th>4</th>\n",
       "      <td>1979-05-01</td>\n",
       "      <td>1979-05-01</td>\n",
       "      <td>1</td>\n",
       "    </tr>\n",
       "  </tbody>\n",
       "</table>\n",
       "</div>"
      ],
      "text/plain": [
       "        time        date  ndoc\n",
       "0 1979-01-01  1979-01-01     1\n",
       "1 1979-02-01  1979-02-01     1\n",
       "2 1979-03-01  1979-03-01     1\n",
       "3 1979-04-01  1979-04-01     1\n",
       "4 1979-05-01  1979-05-01     1"
      ]
     },
     "execution_count": 6,
     "metadata": {},
     "output_type": "execute_result"
    }
   ],
   "source": [
    "this_file = files[0]\n",
    "DF = getDatesDF(this_file)\n",
    "DF.head()"
   ]
  },
  {
   "cell_type": "code",
   "execution_count": 10,
   "metadata": {},
   "outputs": [
    {
     "data": {
      "text/plain": [
       "datetime.date(1982, 10, 1)"
      ]
     },
     "execution_count": 10,
     "metadata": {},
     "output_type": "execute_result"
    }
   ],
   "source": [
    "days = DF.date.drop_duplicates()\n",
    "ncfile = this_file\n",
    "this_day = days.iloc[45]\n",
    "this_day"
   ]
  },
  {
   "cell_type": "code",
   "execution_count": 11,
   "metadata": {
    "collapsed": true
   },
   "outputs": [],
   "source": [
    "#def insertOneDay(this_day, ncfile, DF):\n",
    "# Choose one arbitrary day\n",
    "logging.info(this_day)\n",
    "ncfile00 = '%s%s' % (downloadDir, ncfile)\n",
    "fh = Dataset(ncfile00, mode='r')\n",
    "lons = fh.variables['longitude'][:]\n",
    "lats = fh.variables['latitude'][:]\n",
    "# Extract the data for this day out of the nc file\n",
    "times = DF[DF.date == this_day].time\n",
    "ind = date2index(dates=times.tolist(), nctime=fh.variables['time'])\n",
    "\n",
    "vars = {'ci': fh.variables['ci'][ind], # Sea-ice cover [0-1]\n",
    "        'sst': fh.variables['sst'][ind], # Sea surface temperature [K]\n",
    "        'istl1': fh.variables['istl1'][ind], # Ice temp layer1 [K]\n",
    "        'sp': fh.variables['sp'][ind], # Surface pressure [Pa]\n",
    "        'stl1': fh.variables['stl1'][ind], # Soil temp lev1 [K]\n",
    "        'msl': fh.variables['msl'][ind], # Mean SLP [Pa]\n",
    "        'u10': fh.variables['u10'][ind], # wind-u [m/s]\n",
    "        'v10': fh.variables['v10'][ind],\n",
    "        't2m': fh.variables['t2m'][ind], # 2m temp [K]\n",
    "        'd2m': fh.variables['d2m'][ind], # 2 metre dewpoint temperature[K]\n",
    "        'al': fh.variables['al'][ind], # Surface albedo [0-1]\n",
    "        'lcc': fh.variables['lcc'][ind], # Low cloud cover [0-1]\n",
    "        'mcc': fh.variables['mcc'][ind], # Medium cloud cover [0-1]\n",
    "        'hcc': fh.variables['hcc'][ind], # High cloud cover [0-1]\n",
    "        'si10': fh.variables['si10'][ind], # 10m wind speed [m/s]\n",
    "        'skt': fh.variables['skt'][ind], # Skin temperature [K]\n",
    "        'lons': lons,\n",
    "        'lats': lats,\n",
    "        'this_day': this_day}\n",
    "\n",
    "fh.close()"
   ]
  },
  {
   "cell_type": "code",
   "execution_count": 16,
   "metadata": {},
   "outputs": [
    {
     "data": {
      "text/plain": [
       "dict"
      ]
     },
     "execution_count": 16,
     "metadata": {},
     "output_type": "execute_result"
    }
   ],
   "source": [
    "type(vars)"
   ]
  },
  {
   "cell_type": "markdown",
   "metadata": {},
   "source": [
    "### Limit the arrays to a specific region "
   ]
  },
  {
   "cell_type": "code",
   "execution_count": 18,
   "metadata": {},
   "outputs": [],
   "source": [
    "this_day = vars['this_day']\n",
    "lons = vars['lons']\n",
    "lats = vars['lats']"
   ]
  },
  {
   "cell_type": "code",
   "execution_count": null,
   "metadata": {
    "collapsed": true
   },
   "outputs": [],
   "source": [
    "# Stack all 2d arrays in one multi-d array\n",
    "\n",
    "DAT = np.array([vars['ci'],   # 0\n",
    "                vars['sst'],  # 1\n",
    "                vars['istl1'],# 2\n",
    "                vars['sp'],   # 3\n",
    "                vars['stl1'], # 4\n",
    "                vars['msl'],  # 5\n",
    "                vars['u10'],  # 6\n",
    "                vars['v10'],  # 7\n",
    "                vars['t2m'],  # 8\n",
    "                vars['d2m'],  # 9\n",
    "                vars['al'],   # 10\n",
    "                vars['lcc'],  # 11\n",
    "                vars['mcc'],  # 12\n",
    "                vars['hcc'],  # 13\n",
    "                vars['si10'], # 14\n",
    "                vars['skt']   # 15\n",
    "                ])\n",
    "\n",
    "# Shift the grid so lons go from -180 to 180 instead of 0 to 360.\n",
    "DAT_shift, lons_shift = shiftgrid(\n",
    "    lon0=180., datain=DAT, lonsin=lons, start=False)\n",
    "lon, lat = np.meshgrid(lons_shift, lats)\n",
    "this_dayhh = datetime.strptime(\n",
    "    \"%s-%s-%sT00:00:00Z\" % (this_day.year, this_day.month, this_day.day), \"%Y-%m-%dT%H:%M:%SZ\")\n",
    "this_year = this_dayhh.year"
   ]
  }
 ],
 "metadata": {
  "kernelspec": {
   "display_name": "Python 3",
   "language": "python",
   "name": "python3"
  },
  "language_info": {
   "codemirror_mode": {
    "name": "ipython",
    "version": 3
   },
   "file_extension": ".py",
   "mimetype": "text/x-python",
   "name": "python",
   "nbconvert_exporter": "python",
   "pygments_lexer": "ipython3",
   "version": "3.6.2"
  }
 },
 "nbformat": 4,
 "nbformat_minor": 2
}
