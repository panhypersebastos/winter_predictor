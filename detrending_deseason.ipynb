{
 "cells": [
  {
   "cell_type": "markdown",
   "metadata": {},
   "source": [
    "# Detrending and De-seasonalization\n",
    "[Detrending](#detrending)\n",
    "\n",
    "[Atomic detrending](#atom_detrend)\n",
    "\n",
    "[Fit linear model](#lm)\n",
    "\n",
    "[De-seasonalization](#season)"
   ]
  },
  {
   "cell_type": "code",
   "execution_count": 2,
   "metadata": {},
   "outputs": [
    {
     "data": {
      "text/html": [
       "<script>requirejs.config({paths: { 'plotly': ['https://cdn.plot.ly/plotly-latest.min']},});if(!window.Plotly) {{require(['plotly'],function(plotly) {window.Plotly=plotly;});}}</script>"
      ],
      "text/vnd.plotly.v1+html": [
       "<script>requirejs.config({paths: { 'plotly': ['https://cdn.plot.ly/plotly-latest.min']},});if(!window.Plotly) {{require(['plotly'],function(plotly) {window.Plotly=plotly;});}}</script>"
      ]
     },
     "metadata": {},
     "output_type": "display_data"
    }
   ],
   "source": [
    "import numpy as np\n",
    "import matplotlib.pyplot as plt\n",
    "from mpl_toolkits.basemap import Basemap, addcyclic, shiftgrid\n",
    "import pymongo\n",
    "from pprint import pprint\n",
    "from datetime import datetime, timedelta, date\n",
    "import pandas as pd\n",
    "\n",
    "import plotly.graph_objs as go\n",
    "import plotly.offline as py\n",
    "py.init_notebook_mode(connected=True) # for live plot\n",
    "pd.set_option('display.notebook_repr_html', False)\n",
    "%matplotlib inline\n",
    "plt.style.use('seaborn-white')"
   ]
  },
  {
   "cell_type": "code",
   "execution_count": 3,
   "metadata": {},
   "outputs": [
    {
     "name": "stdout",
     "output_type": "stream",
     "text": [
      "['ECMWF', 'local']\n"
     ]
    }
   ],
   "source": [
    "mongo_host_local = 'mongodb://localhost:27017/'\n",
    "mg = pymongo.MongoClient(mongo_host_local)\n",
    "pprint(mg.database_names())"
   ]
  },
  {
   "cell_type": "code",
   "execution_count": 4,
   "metadata": {},
   "outputs": [
    {
     "data": {
      "text/plain": [
       "['ERAINT_grid',\n",
       " 'ERAINT_lores_grid',\n",
       " 'ERAINT_lores_monthly',\n",
       " 'ERAINT_monthly',\n",
       " 'system.indexes']"
      ]
     },
     "execution_count": 4,
     "metadata": {},
     "output_type": "execute_result"
    }
   ],
   "source": [
    "db = mg.ECMWF\n",
    "db.collection_names()"
   ]
  },
  {
   "cell_type": "code",
   "execution_count": 5,
   "metadata": {},
   "outputs": [],
   "source": [
    "ERA_vers = 'lores'\n",
    "\n",
    "if (ERA_vers == 'hires'):\n",
    "    col_dat = 'ERAINT_monthly'\n",
    "    col_grid = 'ERAINT_grid'\n",
    "    resolution = 0.25\n",
    "elif (ERA_vers == 'lores'):\n",
    "    col_dat = 'ERAINT_lores_monthly'\n",
    "    col_grid = 'ERAINT_lores_grid'\n",
    "    resolution = 2.5"
   ]
  },
  {
   "cell_type": "markdown",
   "metadata": {},
   "source": [
    "## Detrending <a id='detrending'></a>"
   ]
  },
  {
   "cell_type": "code",
   "execution_count": 6,
   "metadata": {},
   "outputs": [],
   "source": [
    "con_data = db[col_dat]"
   ]
  },
  {
   "cell_type": "code",
   "execution_count": 7,
   "metadata": {},
   "outputs": [
    {
     "name": "stdout",
     "output_type": "stream",
     "text": [
      "{'_id': ObjectId('5a1af5c28cb6b8333ed30d63'),\n",
      " 'al': 0.07,\n",
      " 'blh': 133.39,\n",
      " 'ci': 1.0,\n",
      " 'd2m': 239.53,\n",
      " 'date': datetime.datetime(1979, 1, 1, 0, 0),\n",
      " 'hcc': 0.2,\n",
      " 'id_grid': 1,\n",
      " 'ie': 0.0,\n",
      " 'ishf': 11.48,\n",
      " 'istl1': 242.55,\n",
      " 'lcc': 0.51,\n",
      " 'mcc': 0.15,\n",
      " 'msl': 102793.31,\n",
      " 'si10': 5.65,\n",
      " 'skt': 242.63,\n",
      " 'sp': 102792.57,\n",
      " 'sst': 271.46,\n",
      " 'stl1': 242.63,\n",
      " 't2m': 242.7,\n",
      " 'u10': 0.95,\n",
      " 'v10': 0.28,\n",
      " 'year': 1979,\n",
      " 'z70': 169747.63}\n"
     ]
    }
   ],
   "source": [
    "fo = con_data.find_one()\n",
    "pprint(fo)"
   ]
  },
  {
   "cell_type": "code",
   "execution_count": 8,
   "metadata": {},
   "outputs": [
    {
     "data": {
      "text/plain": [
       "464"
      ]
     },
     "execution_count": 8,
     "metadata": {},
     "output_type": "execute_result"
    }
   ],
   "source": [
    "this_id_grid = 777\n",
    "qry = {\"id_grid\": this_id_grid}\n",
    "res = con_data.find(filter=qry, projection={\"_id\": 0})\n",
    "res.count()"
   ]
  },
  {
   "cell_type": "code",
   "execution_count": 9,
   "metadata": {},
   "outputs": [
    {
     "data": {
      "text/plain": [
       "     al     blh       ci     d2m       date   hcc  id_grid   ie   ishf  \\\n",
       "0  0.47  244.66 -32767.0  260.38 2017-08-01  0.29      777  0.0  10.57   \n",
       "1  0.47  165.98 -32767.0  261.69 2017-07-01  0.19      777 -0.0   9.21   \n",
       "2  0.47  238.26 -32767.0  260.17 2017-06-01  0.15      777 -0.0   4.88   \n",
       "3  0.48  224.00 -32767.0  254.53 2017-05-01  0.13      777 -0.0  13.24   \n",
       "4  0.48   67.72 -32767.0  237.47 2017-04-01  0.12      777  0.0  21.34   \n",
       "\n",
       "    istl1    ...      si10     skt        sp      sst    stl1     t2m   u10  \\\n",
       "0  271.46    ...      6.24  261.20  73935.30 -32767.0  252.83  262.59  5.06   \n",
       "1  271.46    ...      5.52  263.15  74037.73 -32767.0  251.09  264.48  3.14   \n",
       "2  271.46    ...      5.37  262.04  74043.33 -32767.0  248.72  262.90  3.07   \n",
       "3  271.46    ...      6.34  256.32  74209.79 -32767.0  244.77  257.66  4.49   \n",
       "4  271.46    ...      6.17  238.79  73157.42 -32767.0  239.33  241.04  4.78   \n",
       "\n",
       "    v10  year        z70  \n",
       "0  0.15  2017  182650.25  \n",
       "1  1.42  2017  183701.39  \n",
       "2  1.88  2017  182731.83  \n",
       "3  2.35  2017  181323.85  \n",
       "4  1.59  2017  177513.59  \n",
       "\n",
       "[5 rows x 23 columns]"
      ]
     },
     "execution_count": 9,
     "metadata": {},
     "output_type": "execute_result"
    }
   ],
   "source": [
    "df = pd.DataFrame(list(res))\n",
    "df.head()"
   ]
  },
  {
   "cell_type": "code",
   "execution_count": 10,
   "metadata": {},
   "outputs": [
    {
     "data": {
      "text/plain": [
       "     al     blh       ci     d2m       date   hcc  id_grid   ie   ishf  \\\n",
       "0  0.47  244.66 -32767.0  260.38 2017-08-01  0.29      777  0.0  10.57   \n",
       "1  0.47  165.98 -32767.0  261.69 2017-07-01  0.19      777 -0.0   9.21   \n",
       "2  0.47  238.26 -32767.0  260.17 2017-06-01  0.15      777 -0.0   4.88   \n",
       "3  0.48  224.00 -32767.0  254.53 2017-05-01  0.13      777 -0.0  13.24   \n",
       "4  0.48   67.72 -32767.0  237.47 2017-04-01  0.12      777  0.0  21.34   \n",
       "\n",
       "    istl1  ...       skt        sp      sst    stl1     t2m   u10   v10  year  \\\n",
       "0  271.46  ...    261.20  73935.30 -32767.0  252.83  262.59  5.06  0.15  2017   \n",
       "1  271.46  ...    263.15  74037.73 -32767.0  251.09  264.48  3.14  1.42  2017   \n",
       "2  271.46  ...    262.04  74043.33 -32767.0  248.72  262.90  3.07  1.88  2017   \n",
       "3  271.46  ...    256.32  74209.79 -32767.0  244.77  257.66  4.49  2.35  2017   \n",
       "4  271.46  ...    238.79  73157.42 -32767.0  239.33  241.04  4.78  1.59  2017   \n",
       "\n",
       "         z70  month  \n",
       "0  182650.25      8  \n",
       "1  183701.39      7  \n",
       "2  182731.83      6  \n",
       "3  181323.85      5  \n",
       "4  177513.59      4  \n",
       "\n",
       "[5 rows x 24 columns]"
      ]
     },
     "execution_count": 10,
     "metadata": {},
     "output_type": "execute_result"
    }
   ],
   "source": [
    "# Create a new column with the month index\n",
    "df2 = df.assign(month=list(map(lambda x: x.month, df.date)))\n",
    "df2.head()"
   ]
  },
  {
   "cell_type": "code",
   "execution_count": 11,
   "metadata": {},
   "outputs": [
    {
     "data": {
      "text/plain": [
       "         al         blh       ci         d2m       hcc  id_grid   ie  \\\n",
       "month                                                                  \n",
       "1      0.48   74.816667 -32767.0  231.851538  0.250000    777.0  0.0   \n",
       "2      0.48   69.109487 -32767.0  231.103333  0.219744    777.0  0.0   \n",
       "3      0.48   70.546923 -32767.0  232.358974  0.174615    777.0  0.0   \n",
       "4      0.48   97.546923 -32767.0  239.932051  0.133333    777.0  0.0   \n",
       "5      0.48  169.516154 -32767.0  250.872308  0.123333    777.0  0.0   \n",
       "6      0.47  229.896154 -32767.0  259.974103  0.163077    777.0  0.0   \n",
       "7      0.47  193.235641 -32767.0  262.548205  0.180256    777.0  0.0   \n",
       "8      0.47  129.668974 -32767.0  257.902821  0.208462    777.0  0.0   \n",
       "9      0.48   74.311579 -32767.0  247.858947  0.220263    777.0  0.0   \n",
       "10     0.48   60.989211 -32767.0  238.740263  0.202368    777.0  0.0   \n",
       "11     0.48   69.552895 -32767.0  234.856842  0.235789    777.0  0.0   \n",
       "12     0.48   68.697632 -32767.0  232.621842  0.255526    777.0  0.0   \n",
       "\n",
       "            ishf   istl1       lcc      ...            si10         skt  \\\n",
       "month                                   ...                               \n",
       "1      38.920513  271.46  0.387692      ...        7.470000  231.625897   \n",
       "2      38.612308  271.46  0.411795      ...        7.388974  231.005385   \n",
       "3      32.266667  271.46  0.385128      ...        6.963333  232.619744   \n",
       "4      22.214872  271.46  0.295641      ...        6.473333  241.092821   \n",
       "5       9.936154  271.46  0.303333      ...        5.554103  252.748718   \n",
       "6       5.172564  271.46  0.295385      ...        5.127436  261.776667   \n",
       "7       5.752821  271.46  0.307949      ...        4.892821  263.756410   \n",
       "8      11.656154  271.46  0.400513      ...        5.320513  258.606667   \n",
       "9      21.967895  271.46  0.475526      ...        6.121579  248.334737   \n",
       "10     32.500789  271.46  0.442895      ...        6.847895  238.728158   \n",
       "11     36.871053  271.46  0.447368      ...        7.295263  234.755789   \n",
       "12     37.513947  271.46  0.440000      ...        7.343684  232.512895   \n",
       "\n",
       "                 sp      sst        stl1         t2m       u10       v10  \\\n",
       "month                                                                      \n",
       "1      72099.906410 -32767.0  239.951026  235.035385  5.317692  2.702564   \n",
       "2      72183.238974 -32767.0  238.640769  234.315385  4.936410  2.912821   \n",
       "3      72419.094872 -32767.0  237.903077  235.639744  5.087692  2.006410   \n",
       "4      73088.148974 -32767.0  239.196154  243.298974  4.784359  1.454103   \n",
       "5      73759.768974 -32767.0  243.063590  254.060769  3.917436  1.028718   \n",
       "6      74124.101538 -32767.0  247.544615  262.697179  3.754872  0.605128   \n",
       "7      74238.274103 -32767.0  250.723846  264.914872  3.361795  0.503333   \n",
       "8      74012.082564 -32767.0  251.565897  260.358718  4.039231  0.906667   \n",
       "9      73519.298947 -32767.0  249.590789  250.743947  4.887105  1.127895   \n",
       "10     73132.067368 -32767.0  246.329737  241.742895  5.658158  1.612105   \n",
       "11     72615.741053 -32767.0  243.530789  237.928421  5.652105  2.017105   \n",
       "12     72265.682368 -32767.0  241.633421  235.776842  5.263158  2.251842   \n",
       "\n",
       "         year            z70  \n",
       "month                         \n",
       "1      1998.0  169788.774615  \n",
       "2      1998.0  170980.367949  \n",
       "3      1998.0  173244.345128  \n",
       "4      1998.0  177559.637692  \n",
       "5      1998.0  181023.302051  \n",
       "6      1998.0  183303.561026  \n",
       "7      1998.0  184253.184359  \n",
       "8      1998.0  182966.142564  \n",
       "9      1997.5  180160.958684  \n",
       "10     1997.5  176835.560789  \n",
       "11     1997.5  173825.330789  \n",
       "12     1997.5  171123.965526  \n",
       "\n",
       "[12 rows x 22 columns]"
      ]
     },
     "execution_count": 11,
     "metadata": {},
     "output_type": "execute_result"
    }
   ],
   "source": [
    "# groupby test:\n",
    "df3 = df2.groupby('month').mean()\n",
    "df3"
   ]
  },
  {
   "cell_type": "markdown",
   "metadata": {},
   "source": [
    "### Atomic detrending <a id=atom_detrend></a>\n",
    "* Extract anomaly with regard to long-term trend\n",
    "* Because the de-trending is done for each month, it also serves as de-seasonaization"
   ]
  },
  {
   "cell_type": "code",
   "execution_count": 15,
   "metadata": {},
   "outputs": [
    {
     "data": {
      "text/plain": [
       "        date  month        z70\n",
       "0 1979-01-01      1  170285.77\n",
       "1 1980-01-01      1  170686.70\n",
       "2 1981-01-01      1  167045.80\n",
       "3 1982-01-01      1  170311.73\n",
       "4 1983-01-01      1  166269.08"
      ]
     },
     "execution_count": 15,
     "metadata": {},
     "output_type": "execute_result"
    }
   ],
   "source": [
    "# Atomic detrending\n",
    "ts = df2[['date', 'month', 'z70']].query('month == 1').sort_values('date').reset_index(drop=True)\n",
    "ts.head() # rem: we are working with monthly values"
   ]
  },
  {
   "cell_type": "code",
   "execution_count": 18,
   "metadata": {},
   "outputs": [
    {
     "data": {
      "application/vnd.plotly.v1+json": {
       "data": [
        {
         "type": "scatter",
         "x": [
          "1979-01-01",
          "1980-01-01",
          "1981-01-01",
          "1982-01-01",
          "1983-01-01",
          "1984-01-01",
          "1985-01-01",
          "1986-01-01",
          "1987-01-01",
          "1988-01-01",
          "1989-01-01",
          "1990-01-01",
          "1991-01-01",
          "1992-01-01",
          "1993-01-01",
          "1994-01-01",
          "1995-01-01",
          "1996-01-01",
          "1997-01-01",
          "1998-01-01",
          "1999-01-01",
          "2000-01-01",
          "2001-01-01",
          "2002-01-01",
          "2003-01-01",
          "2004-01-01",
          "2005-01-01",
          "2006-01-01",
          "2007-01-01",
          "2008-01-01",
          "2009-01-01",
          "2010-01-01",
          "2011-01-01",
          "2012-01-01",
          "2013-01-01",
          "2014-01-01",
          "2015-01-01",
          "2016-01-01",
          "2017-01-01"
         ],
         "y": [
          170285.77,
          170686.7,
          167045.8,
          170311.73,
          166269.08,
          165626.69,
          174717.82,
          169030.66,
          171487.32,
          169534.19,
          166536.92,
          167644.1,
          169018.3,
          168736.04,
          165634.93,
          169728.68,
          168866.66,
          168530.02,
          169504.52,
          172147.43,
          171653.38,
          167270.78,
          169688.3,
          171954.59,
          170364.06,
          175990.23,
          167504.01,
          172498.91,
          168866.66,
          167925.95,
          170739.86,
          171412.74,
          170746.86,
          170254.46,
          175438.91,
          169103.18,
          170351.7,
          168298.03,
          170356.24
         ]
        }
       ],
       "layout": {}
      },
      "text/html": [
       "<div id=\"a9c77006-e1b7-4a0d-ba53-683f53cfe5d9\" style=\"height: 525px; width: 100%;\" class=\"plotly-graph-div\"></div><script type=\"text/javascript\">require([\"plotly\"], function(Plotly) { window.PLOTLYENV=window.PLOTLYENV || {};window.PLOTLYENV.BASE_URL=\"https://plot.ly\";Plotly.newPlot(\"a9c77006-e1b7-4a0d-ba53-683f53cfe5d9\", [{\"type\": \"scatter\", \"x\": [\"1979-01-01\", \"1980-01-01\", \"1981-01-01\", \"1982-01-01\", \"1983-01-01\", \"1984-01-01\", \"1985-01-01\", \"1986-01-01\", \"1987-01-01\", \"1988-01-01\", \"1989-01-01\", \"1990-01-01\", \"1991-01-01\", \"1992-01-01\", \"1993-01-01\", \"1994-01-01\", \"1995-01-01\", \"1996-01-01\", \"1997-01-01\", \"1998-01-01\", \"1999-01-01\", \"2000-01-01\", \"2001-01-01\", \"2002-01-01\", \"2003-01-01\", \"2004-01-01\", \"2005-01-01\", \"2006-01-01\", \"2007-01-01\", \"2008-01-01\", \"2009-01-01\", \"2010-01-01\", \"2011-01-01\", \"2012-01-01\", \"2013-01-01\", \"2014-01-01\", \"2015-01-01\", \"2016-01-01\", \"2017-01-01\"], \"y\": [170285.77, 170686.7, 167045.8, 170311.73, 166269.08, 165626.69, 174717.82, 169030.66, 171487.32, 169534.19, 166536.92, 167644.1, 169018.3, 168736.04, 165634.93, 169728.68, 168866.66, 168530.02, 169504.52, 172147.43, 171653.38, 167270.78, 169688.3, 171954.59, 170364.06, 175990.23, 167504.01, 172498.91, 168866.66, 167925.95, 170739.86, 171412.74, 170746.86, 170254.46, 175438.91, 169103.18, 170351.7, 168298.03, 170356.24]}], {}, {\"showLink\": true, \"linkText\": \"Export to plot.ly\"})});</script>"
      ],
      "text/vnd.plotly.v1+html": [
       "<div id=\"a9c77006-e1b7-4a0d-ba53-683f53cfe5d9\" style=\"height: 525px; width: 100%;\" class=\"plotly-graph-div\"></div><script type=\"text/javascript\">require([\"plotly\"], function(Plotly) { window.PLOTLYENV=window.PLOTLYENV || {};window.PLOTLYENV.BASE_URL=\"https://plot.ly\";Plotly.newPlot(\"a9c77006-e1b7-4a0d-ba53-683f53cfe5d9\", [{\"type\": \"scatter\", \"x\": [\"1979-01-01\", \"1980-01-01\", \"1981-01-01\", \"1982-01-01\", \"1983-01-01\", \"1984-01-01\", \"1985-01-01\", \"1986-01-01\", \"1987-01-01\", \"1988-01-01\", \"1989-01-01\", \"1990-01-01\", \"1991-01-01\", \"1992-01-01\", \"1993-01-01\", \"1994-01-01\", \"1995-01-01\", \"1996-01-01\", \"1997-01-01\", \"1998-01-01\", \"1999-01-01\", \"2000-01-01\", \"2001-01-01\", \"2002-01-01\", \"2003-01-01\", \"2004-01-01\", \"2005-01-01\", \"2006-01-01\", \"2007-01-01\", \"2008-01-01\", \"2009-01-01\", \"2010-01-01\", \"2011-01-01\", \"2012-01-01\", \"2013-01-01\", \"2014-01-01\", \"2015-01-01\", \"2016-01-01\", \"2017-01-01\"], \"y\": [170285.77, 170686.7, 167045.8, 170311.73, 166269.08, 165626.69, 174717.82, 169030.66, 171487.32, 169534.19, 166536.92, 167644.1, 169018.3, 168736.04, 165634.93, 169728.68, 168866.66, 168530.02, 169504.52, 172147.43, 171653.38, 167270.78, 169688.3, 171954.59, 170364.06, 175990.23, 167504.01, 172498.91, 168866.66, 167925.95, 170739.86, 171412.74, 170746.86, 170254.46, 175438.91, 169103.18, 170351.7, 168298.03, 170356.24]}], {}, {\"showLink\": true, \"linkText\": \"Export to plot.ly\"})});</script>"
      ]
     },
     "metadata": {},
     "output_type": "display_data"
    }
   ],
   "source": [
    "# Plot ts\n",
    "data = [go.Scatter(x=ts['date'], y=ts['z70'] )]\n",
    "py.iplot(data, filename='pandas-time-series')"
   ]
  },
  {
   "cell_type": "markdown",
   "metadata": {},
   "source": [
    "### Fit linear regression <a id='lm'></a>"
   ]
  },
  {
   "cell_type": "code",
   "execution_count": 43,
   "metadata": {},
   "outputs": [],
   "source": [
    "import sklearn.linear_model as skl_lm\n",
    "model = skl_lm.LinearRegression()\n",
    "this_variable = 'z70'\n",
    "# Covariate is the number of days since the beg. of TS\n",
    "X = (ts.date -  ts.date[0]).dt.days.values.reshape(-1, 1)\n",
    "y = ts[[this_variable]]\n",
    "model.fit(X, y)\n",
    "lm_pred = model.predict(X)"
   ]
  },
  {
   "cell_type": "code",
   "execution_count": 44,
   "metadata": {},
   "outputs": [
    {
     "data": {
      "text/plain": [
       "        date  month        z70            fit        resid\n",
       "0 1979-01-01      1  170285.77  168721.135478 -1564.634522\n",
       "1 1980-01-01      1  170686.70  168777.287565 -1909.412435\n",
       "2 1981-01-01      1  167045.80  168833.593493  1787.793493\n",
       "3 1982-01-01      1  170311.73  168889.745580 -1421.984420\n",
       "4 1983-01-01      1  166269.08  168945.897667  2676.817667"
      ]
     },
     "execution_count": 44,
     "metadata": {},
     "output_type": "execute_result"
    }
   ],
   "source": [
    "ts2 = ts.assign(fit = lm_pred)\n",
    "ts2 = ts2.assign(resid = ts2.fit-ts2[this_variable])\n",
    "ts2.head()"
   ]
  },
  {
   "cell_type": "code",
   "execution_count": 45,
   "metadata": {},
   "outputs": [
    {
     "data": {
      "image/png": "[encoded data removed]",
      "text/plain": [
       "<matplotlib.figure.Figure at 0x7f9e2d5c40b8>"
      ]
     },
     "metadata": {},
     "output_type": "display_data"
    }
   ],
   "source": [
    "# plot trend\n",
    "plt.plot(ts2[[this_variable]])\n",
    "plt.plot(ts2[['fit']])\n",
    "plt.show()"
   ]
  },
  {
   "cell_type": "code",
   "execution_count": 42,
   "metadata": {
    "scrolled": true
   },
   "outputs": [
    {
     "data": {
      "image/png": "[encoded data removed]",
      "text/plain": [
       "<matplotlib.figure.Figure at 0x7f9e2cf50940>"
      ]
     },
     "metadata": {},
     "output_type": "display_data"
    }
   ],
   "source": [
    "# plot detrended ts\n",
    "plt.plot(ts2.resid)\n",
    "plt.show()"
   ]
  },
  {
   "cell_type": "markdown",
   "metadata": {},
   "source": [
    "## De-seasonalization <a id=season></a>\n",
    "Actually not useful since the seasonality has been removed in the monthly de-trending"
   ]
  },
  {
   "cell_type": "code",
   "execution_count": 54,
   "metadata": {},
   "outputs": [],
   "source": [
    "this_id_grid = 777\n",
    "this_variable = 'z70'\n",
    "pip = [ {\"$project\": {\"id_grid\": 1, \"date\": 1, this_variable: 1, \"month\": {\"$month\": \"$date\"}}},\n",
    "        {\"$match\": {\"month\": {\"$in\": [9, 10, 11, 12, 1, 2]},\n",
    "                              \"id_grid\": {\"$in\": [this_id_grid]} }},\n",
    "        {\"$project\": {\"_id\": 0, \"id_grid\": 1, \"date\": 1, this_variable: 1}} ]\n",
    "res = con_data.aggregate(pipeline = pip)"
   ]
  },
  {
   "cell_type": "code",
   "execution_count": 55,
   "metadata": {},
   "outputs": [
    {
     "data": {
      "text/plain": [
       "        date  id_grid        z70\n",
       "0 1979-01-01      777  170285.77\n",
       "1 1979-02-01      777  171493.91\n",
       "2 1979-09-01      777  179985.50\n",
       "3 1979-10-01      777  177038.08\n",
       "4 1979-11-01      777  174233.24"
      ]
     },
     "execution_count": 55,
     "metadata": {},
     "output_type": "execute_result"
    }
   ],
   "source": [
    "df = pd.DataFrame(list(res))\n",
    "df.head()"
   ]
  },
  {
   "cell_type": "code",
   "execution_count": null,
   "metadata": {},
   "outputs": [],
   "source": []
  }
 ],
 "metadata": {
  "kernelspec": {
   "display_name": "Python 3",
   "language": "python",
   "name": "python3"
  },
  "language_info": {
   "codemirror_mode": {
    "name": "ipython",
    "version": 3
   },
   "file_extension": ".py",
   "mimetype": "text/x-python",
   "name": "python",
   "nbconvert_exporter": "python",
   "pygments_lexer": "ipython3",
   "version": "3.6.3"
  }
 },
 "nbformat": 4,
 "nbformat_minor": 2
}
