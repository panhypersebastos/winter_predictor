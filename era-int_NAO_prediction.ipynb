{
 "cells": [
  {
   "cell_type": "markdown",
   "metadata": {},
   "source": [
    "# NAO Prediction"
   ]
  },
  {
   "cell_type": "code",
   "execution_count": 1,
   "metadata": {},
   "outputs": [
    {
     "data": {
      "text/html": [
       "<script>requirejs.config({paths: { 'plotly': ['https://cdn.plot.ly/plotly-latest.min']},});if(!window.Plotly) {{require(['plotly'],function(plotly) {window.Plotly=plotly;});}}</script>"
      ],
      "text/vnd.plotly.v1+html": [
       "<script>requirejs.config({paths: { 'plotly': ['https://cdn.plot.ly/plotly-latest.min']},});if(!window.Plotly) {{require(['plotly'],function(plotly) {window.Plotly=plotly;});}}</script>"
      ]
     },
     "metadata": {},
     "output_type": "display_data"
    }
   ],
   "source": [
    "from netCDF4 import Dataset\n",
    "import numpy as np\n",
    "import matplotlib.pyplot as plt\n",
    "from mpl_toolkits.basemap import Basemap, addcyclic, shiftgrid\n",
    "import pymongo\n",
    "from pprint import pprint\n",
    "from datetime import datetime, timedelta, date\n",
    "import pandas as pd\n",
    "from sklearn.decomposition import PCA\n",
    "import sklearn.linear_model as skl_lm\n",
    "import gdal as gdl\n",
    "import matplotlib.mlab as ml\n",
    "import cartopy.crs as ccrs\n",
    "import plotly.graph_objs as go\n",
    "import plotly.offline as py\n",
    "py.init_notebook_mode(connected=True) # for live plot\n",
    "pd.set_option('display.notebook_repr_html', False)\n",
    "%matplotlib inline\n",
    "plt.style.use('seaborn-white')"
   ]
  },
  {
   "cell_type": "code",
   "execution_count": 2,
   "metadata": {},
   "outputs": [],
   "source": [
    "mongo_host_local = 'mongodb://localhost:27017/'\n",
    "mg = pymongo.MongoClient(mongo_host_local)"
   ]
  },
  {
   "cell_type": "code",
   "execution_count": 3,
   "metadata": {},
   "outputs": [
    {
     "data": {
      "text/plain": [
       "['system.indexes',\n",
       " 'ERAINT_grid',\n",
       " 'ERAINT_lores_grid',\n",
       " 'ERAINT_lores_monthly_anom',\n",
       " 'ERAINT_monthly',\n",
       " 'ERAINT_lores_monthly']"
      ]
     },
     "execution_count": 3,
     "metadata": {},
     "output_type": "execute_result"
    }
   ],
   "source": [
    "db = mg.ECMWF\n",
    "db.collection_names()"
   ]
  },
  {
   "cell_type": "code",
   "execution_count": 4,
   "metadata": {},
   "outputs": [],
   "source": [
    "ERA_vers = 'lores'\n",
    "if (ERA_vers == 'hires'):\n",
    "    col_dat = 'ERAINT_monthly'\n",
    "    col_anom = 'ERAINT_monthly_anom'\n",
    "    col_grid = 'ERAINT_grid'\n",
    "    resolution = 0.25\n",
    "elif (ERA_vers == 'lores'):\n",
    "    col_dat = 'ERAINT_lores_monthly'\n",
    "    col_anom = 'ERAINT_lores_monthly_anom'\n",
    "    col_grid = 'ERAINT_lores_grid'\n",
    "    resolution = 2.5"
   ]
  },
  {
   "cell_type": "markdown",
   "metadata": {},
   "source": [
    "# Construct NAO index"
   ]
  },
  {
   "cell_type": "code",
   "execution_count": 5,
   "metadata": {},
   "outputs": [],
   "source": [
    "# Query grid cells for NAO calculation\n",
    "con_grid = db[col_grid]\n",
    "poly1 = [list(reversed([ [-50,25], [-50,55], [10,55],[ 10,25], [-50,25]]))]\n",
    "poly2 = [list(reversed([ [-40, 55], [-40, 85], [20, 85], [20, 55], [-40, 55]]))]\n",
    "def getGridIds(this_polygon):\n",
    "    geo_qry = {\"loc\": \n",
    "               {\"$geoWithin\": {\n",
    "                   \"$geometry\": {\n",
    "                       \"type\": \"Polygon\",\n",
    "                       \"coordinates\": this_polygon\n",
    "                   }\n",
    "               }}}\n",
    "\n",
    "    res = con_grid.find(filter = geo_qry, projection = {\"_id\":0, \"id_grid\": 1, \"loc\": 1})\n",
    "    grid_df = pd.DataFrame(list(res))\n",
    "    return grid_df\n",
    "grid_df1 = getGridIds(poly1)\n",
    "grid_ids1 = grid_df1.id_grid.values\n",
    "grid_df2 = getGridIds(poly2)\n",
    "grid_ids2 = grid_df2.id_grid.values"
   ]
  },
  {
   "cell_type": "code",
   "execution_count": 6,
   "metadata": {},
   "outputs": [
    {
     "data": {
      "text/plain": [
       "   wyear        msl1  month        msl2         NAO\n",
       "1   1980  152.977452    5.0  -98.370800 -251.348252\n",
       "2   1981 -444.747185    5.0  117.529424  562.276609\n",
       "3   1982  336.279706    5.0 -377.140170 -713.419876\n",
       "4   1983 -342.535287    5.0  378.676276  721.211563\n",
       "5   1984 -220.904942    5.0  330.200922  551.105864"
      ]
     },
     "execution_count": 6,
     "metadata": {},
     "output_type": "execute_result"
    }
   ],
   "source": [
    "# Get yearly DJF averages over the two NAO nodal locations\n",
    "\n",
    "con_anom = db[col_anom]\n",
    "\n",
    "def setWinterYear(date): # December belong to next year's winter\n",
    "    mon=date.month\n",
    "    yr=date.year\n",
    "    if mon >= 9:\n",
    "        res = yr+1\n",
    "    else:\n",
    "        res = yr\n",
    "    return res\n",
    "\n",
    "def getMSL(this_grid_ids):\n",
    "    this_msl = con_anom.aggregate(pipeline=[\n",
    "        {\"$match\": {\"id_grid\": {\"$in\": this_grid_ids.tolist()}}},\n",
    "        {\"$group\": {\"_id\": \"$date\", \"mean\": {\"$avg\": \"$msl\"} }},\n",
    "        {\"$project\": {\"date\": \"$_id\", \n",
    "                      \"_id\": 0, \n",
    "                      \"msl\": \"$mean\"}}])\n",
    "    this_msl_df = pd.DataFrame(list(this_msl))\n",
    "    this_msl_df = this_msl_df.assign(\n",
    "            month=list(map(lambda x: x.month, this_msl_df.date)),\n",
    "            wyear=list(map(lambda x: setWinterYear(x), this_msl_df.date)) ).pipe(\n",
    "    lambda df: df.query(\"month in [12, 1, 2]\") ).pipe(\n",
    "    lambda df: df.groupby(\"wyear\").mean().reset_index())\n",
    "    return this_msl_df\n",
    "    \n",
    "msl1_df = getMSL(this_grid_ids = grid_ids1).rename(columns={'msl': 'msl1'})\n",
    "msl2_df = getMSL(this_grid_ids = grid_ids2).rename(columns={'msl': 'msl2'})\n",
    "msl_df = pd.merge(msl1_df, msl2_df)\n",
    "msl_df = msl_df.assign(NAO = msl_df.msl2-msl_df.msl1).sort_values('wyear', ascending=True).reset_index(drop=True)\n",
    "# Get rid of the first year (1979) and the last (2017) because the winter month are not complete\n",
    "msl_df = msl_df.query(\"(wyear > 1979) & (wyear <2017)\")\n",
    "msl_df.head()"
   ]
  },
  {
   "cell_type": "code",
   "execution_count": 7,
   "metadata": {},
   "outputs": [
    {
     "data": {
      "application/vnd.plotly.v1+json": {
       "data": [
        {
         "type": "scatter",
         "x": [
          1980,
          1981,
          1982,
          1983,
          1984,
          1985,
          1986,
          1987,
          1988,
          1989,
          1990,
          1991,
          1992,
          1993,
          1994,
          1995,
          1996,
          1997,
          1998,
          1999,
          2000,
          2001,
          2002,
          2003,
          2004,
          2005,
          2006,
          2007,
          2008,
          2009,
          2010,
          2011,
          2012,
          2013,
          2014,
          2015,
          2016
         ],
         "y": [
          -251.34825248225582,
          562.276609059571,
          -713.419875834828,
          721.2115632913301,
          551.105864494568,
          -728.6565991592656,
          -840.4751166878566,
          -477.1464378799178,
          -381.828063969006,
          1169.6934788523786,
          456.3908207136145,
          309.47947302857085,
          742.0941674893827,
          930.4713397278456,
          -191.58898900219012,
          593.1495843272426,
          -812.9905166314677,
          -168.12192234993302,
          -261.9483325857419,
          428.4064614704637,
          784.9275600972778,
          -672.40261551939,
          35.36866434523139,
          -464.76934788096713,
          -401.22064519898043,
          687.5425087221288,
          -230.19994498798036,
          243.7674844367353,
          427.95328496056953,
          -174.1444889040695,
          -1757.6197613460076,
          -717.6267005305241,
          825.963655192083,
          -742.5948847676126,
          -9.52146754940486,
          895.3481528221511,
          154.93704653447963
         ]
        }
       ],
       "layout": {}
      },
      "text/html": [
       "<div id=\"7c203157-df45-4e07-8d48-28405da9c4f7\" style=\"height: 525px; width: 100%;\" class=\"plotly-graph-div\"></div><script type=\"text/javascript\">require([\"plotly\"], function(Plotly) { window.PLOTLYENV=window.PLOTLYENV || {};window.PLOTLYENV.BASE_URL=\"https://plot.ly\";Plotly.newPlot(\"7c203157-df45-4e07-8d48-28405da9c4f7\", [{\"type\": \"scatter\", \"x\": [1980, 1981, 1982, 1983, 1984, 1985, 1986, 1987, 1988, 1989, 1990, 1991, 1992, 1993, 1994, 1995, 1996, 1997, 1998, 1999, 2000, 2001, 2002, 2003, 2004, 2005, 2006, 2007, 2008, 2009, 2010, 2011, 2012, 2013, 2014, 2015, 2016], \"y\": [-251.34825248225582, 562.276609059571, -713.419875834828, 721.2115632913301, 551.105864494568, -728.6565991592656, -840.4751166878566, -477.1464378799178, -381.828063969006, 1169.6934788523786, 456.3908207136145, 309.47947302857085, 742.0941674893827, 930.4713397278456, -191.58898900219012, 593.1495843272426, -812.9905166314677, -168.12192234993302, -261.9483325857419, 428.4064614704637, 784.9275600972778, -672.40261551939, 35.36866434523139, -464.76934788096713, -401.22064519898043, 687.5425087221288, -230.19994498798036, 243.7674844367353, 427.95328496056953, -174.1444889040695, -1757.6197613460076, -717.6267005305241, 825.963655192083, -742.5948847676126, -9.52146754940486, 895.3481528221511, 154.93704653447963]}], {}, {\"showLink\": true, \"linkText\": \"Export to plot.ly\"})});</script>"
      ],
      "text/vnd.plotly.v1+html": [
       "<div id=\"7c203157-df45-4e07-8d48-28405da9c4f7\" style=\"height: 525px; width: 100%;\" class=\"plotly-graph-div\"></div><script type=\"text/javascript\">require([\"plotly\"], function(Plotly) { window.PLOTLYENV=window.PLOTLYENV || {};window.PLOTLYENV.BASE_URL=\"https://plot.ly\";Plotly.newPlot(\"7c203157-df45-4e07-8d48-28405da9c4f7\", [{\"type\": \"scatter\", \"x\": [1980, 1981, 1982, 1983, 1984, 1985, 1986, 1987, 1988, 1989, 1990, 1991, 1992, 1993, 1994, 1995, 1996, 1997, 1998, 1999, 2000, 2001, 2002, 2003, 2004, 2005, 2006, 2007, 2008, 2009, 2010, 2011, 2012, 2013, 2014, 2015, 2016], \"y\": [-251.34825248225582, 562.276609059571, -713.419875834828, 721.2115632913301, 551.105864494568, -728.6565991592656, -840.4751166878566, -477.1464378799178, -381.828063969006, 1169.6934788523786, 456.3908207136145, 309.47947302857085, 742.0941674893827, 930.4713397278456, -191.58898900219012, 593.1495843272426, -812.9905166314677, -168.12192234993302, -261.9483325857419, 428.4064614704637, 784.9275600972778, -672.40261551939, 35.36866434523139, -464.76934788096713, -401.22064519898043, 687.5425087221288, -230.19994498798036, 243.7674844367353, 427.95328496056953, -174.1444889040695, -1757.6197613460076, -717.6267005305241, 825.963655192083, -742.5948847676126, -9.52146754940486, 895.3481528221511, 154.93704653447963]}], {}, {\"showLink\": true, \"linkText\": \"Export to plot.ly\"})});</script>"
      ]
     },
     "metadata": {},
     "output_type": "display_data"
    }
   ],
   "source": [
    "# Plot ts\n",
    "data = [go.Scatter(x=msl_df['wyear'], y=msl_df['NAO'] )]\n",
    "py.iplot(data, filename='pandas-time-series')"
   ]
  },
  {
   "cell_type": "markdown",
   "metadata": {},
   "source": [
    "# Get PCA scores"
   ]
  },
  {
   "cell_type": "code",
   "execution_count": 8,
   "metadata": {},
   "outputs": [],
   "source": [
    "# Generic function to query grid ids above a given latitude\n",
    "def genCircle(start_lon, stop_lon, lat, decreasing): \n",
    "    res = map(lambda x:[int(x), lat],\n",
    "              sorted(np.arange(start=start_lon, stop=stop_lon+1), reverse=decreasing))\n",
    "    return list(res)\n",
    "\n",
    "def queryGrids(aboveLat):\n",
    "    this_box = {'lonmin': -180, 'lonmax': 180, 'latmin': aboveLat, 'latmax': 90}\n",
    "    circle_north_pos = genCircle(start_lon = this_box['lonmin'], stop_lon = this_box['lonmax'], \n",
    "                                  lat = this_box['latmax'], decreasing = False)\n",
    "    circle_south_neg = genCircle(start_lon = this_box['lonmin'], stop_lon = this_box['lonmax'], \n",
    "                                lat = this_box['latmin'],  decreasing = True)\n",
    "    slp_poly = [[this_box['lonmin'], this_box['latmin']]]\n",
    "    slp_poly.extend(circle_north_pos)\n",
    "    slp_poly.extend(circle_south_neg)\n",
    "    this_polygon = slp_poly\n",
    "    \n",
    "    if aboveLat > 0:\n",
    "        geo_qry = {\"loc\": \n",
    "               {\"$geoWithin\": {\n",
    "                   \"$geometry\": {\n",
    "                       \"type\": \"Polygon\",\n",
    "                       \"coordinates\": [this_polygon]\n",
    "               }}}}\n",
    "    else: # case of a big polygon larger than one hemisphere\n",
    "        geo_qry = {\"loc\": \n",
    "               {\"$geoWithin\": {\n",
    "                   \"$geometry\": {\n",
    "                       \"type\": \"Polygon\",\n",
    "                       \"coordinates\": [list(reversed(this_polygon))], # the orientation matters\n",
    "                       \"crs\": {\n",
    "                           \"type\": \"name\", \n",
    "                           \"properties\": { \"name\": \"urn:x-mongodb:crs:strictwinding:EPSG:4326\" }\n",
    "                       }\n",
    "                   }\n",
    "               }}}\n",
    "        \n",
    "    res = con_grid.find(filter = geo_qry, projection = {\"_id\":0, \"id_grid\": 1, \"loc\": 1})\n",
    "    grid_df = pd.DataFrame(list(res))\n",
    "    return grid_df\n",
    "\n",
    "grid_df_20N = queryGrids(aboveLat=20)\n",
    "grid_df_20S = queryGrids(aboveLat=-20)"
   ]
  },
  {
   "cell_type": "code",
   "execution_count": 9,
   "metadata": {},
   "outputs": [],
   "source": [
    "def queryScores(this_variable, this_grid_df):\n",
    "    # Query data anomalies\n",
    "    grid_ids = this_grid_df.id_grid.values\n",
    "    res = con_anom.aggregate(pipeline=[ \n",
    "    {\"$project\": {\"id_grid\": 1, \"date\": 1, this_variable: 1, \"month\": {\"$month\": \"$date\"}}},\n",
    "    {\"$match\": {\"month\": {\"$in\": [9, 10, 11, 12, 1, 2]},\n",
    "                \"id_grid\": {\"$in\": grid_ids.tolist()} }},\n",
    "    {\"$project\": {\"_id\": 0, \"id_grid\": 1, \"date\": 1, this_variable: 1}} ])    \n",
    "    anom_df = pd.DataFrame(list(res))\n",
    "\n",
    "    # Get Principal Component Scores\n",
    "    X_df = anom_df.pivot(index='date', columns='id_grid', values=this_variable)\n",
    "    pca = PCA(n_components=3)\n",
    "    df_scores = pd.DataFrame(pca.fit_transform(X_df), \n",
    "                             columns=['PC1_%s' % (this_variable), \n",
    "                                      'PC2_%s' % (this_variable), \n",
    "                                      'PC3_%s' % (this_variable)],\n",
    "                             index=X_df.index)\n",
    "    return df_scores\n",
    "\n",
    "scores_z70 = queryScores(this_variable='z70', this_grid_df=grid_df_20N)\n",
    "scores_ci = queryScores(this_variable='ci', this_grid_df=grid_df_20N)\n",
    "scores_sst = queryScores(this_variable='sst', this_grid_df=grid_df_20S)"
   ]
  },
  {
   "cell_type": "code",
   "execution_count": 10,
   "metadata": {},
   "outputs": [
    {
     "name": "stdout",
     "output_type": "stream",
     "text": [
      "<class 'pandas.core.frame.DataFrame'>\n",
      "DatetimeIndex: 230 entries, 1979-01-01 to 2017-02-01\n",
      "Data columns (total 3 columns):\n",
      "PC1_z70    230 non-null float64\n",
      "PC2_z70    230 non-null float64\n",
      "PC3_z70    230 non-null float64\n",
      "dtypes: float64(3)\n",
      "memory usage: 7.2 KB\n"
     ]
    }
   ],
   "source": [
    "scores_z70.info()"
   ]
  },
  {
   "cell_type": "markdown",
   "metadata": {},
   "source": [
    "### Comparison with correlation coefficients"
   ]
  },
  {
   "cell_type": "code",
   "execution_count": 11,
   "metadata": {},
   "outputs": [
    {
     "name": "stdout",
     "output_type": "stream",
     "text": [
      "<class 'pandas.core.frame.DataFrame'>\n",
      "DatetimeIndex: 38 entries, 1979-10-01 to 2016-10-01\n",
      "Data columns (total 4 columns):\n",
      "PC1_ci    38 non-null float64\n",
      "PC2_ci    38 non-null float64\n",
      "PC3_ci    38 non-null float64\n",
      "month     38 non-null int64\n",
      "dtypes: float64(3), int64(1)\n",
      "memory usage: 1.5 KB\n"
     ]
    }
   ],
   "source": [
    "P03_df = scores_ci.assign(month=list(map(lambda x: x.month, scores_ci.index))).query('month == 10')\n",
    "P03_df.info()"
   ]
  },
  {
   "cell_type": "code",
   "execution_count": 12,
   "metadata": {},
   "outputs": [
    {
     "data": {
      "text/plain": [
       "array([[ 1.      , -0.495391],\n",
       "       [-0.495391,  1.      ]])"
      ]
     },
     "execution_count": 12,
     "metadata": {},
     "output_type": "execute_result"
    }
   ],
   "source": [
    "np.corrcoef(P03_df.PC1_ci[:-1], msl_df.NAO)"
   ]
  },
  {
   "cell_type": "code",
   "execution_count": 13,
   "metadata": {},
   "outputs": [
    {
     "data": {
      "text/plain": [
       "array([[ 1.        , -0.43572617],\n",
       "       [-0.43572617,  1.        ]])"
      ]
     },
     "execution_count": 13,
     "metadata": {},
     "output_type": "execute_result"
    }
   ],
   "source": [
    "P04_df = scores_z70.assign(month=list(map(lambda x: x.month, scores_z70.index))).query('month == 10')\n",
    "np.corrcoef(P04_df.PC2_z70[:-1], msl_df.NAO)"
   ]
  },
  {
   "cell_type": "code",
   "execution_count": 14,
   "metadata": {},
   "outputs": [
    {
     "data": {
      "text/plain": [
       "array([[ 1.        ,  0.04698798],\n",
       "       [ 0.04698798,  1.        ]])"
      ]
     },
     "execution_count": 14,
     "metadata": {},
     "output_type": "execute_result"
    }
   ],
   "source": [
    "P17_df = scores_sst.assign(month=list(map(lambda x: x.month, scores_sst.index))).query('month == 9')\n",
    "np.corrcoef(P17_df.PC3_sst[:-1], msl_df.NAO)"
   ]
  },
  {
   "cell_type": "markdown",
   "metadata": {},
   "source": [
    "### Group all predictors in one DataFrame"
   ]
  },
  {
   "cell_type": "code",
   "execution_count": 15,
   "metadata": {},
   "outputs": [
    {
     "name": "stdout",
     "output_type": "stream",
     "text": [
      "<class 'pandas.core.frame.DataFrame'>\n",
      "RangeIndex: 230 entries, 0 to 229\n",
      "Data columns (total 13 columns):\n",
      "date       230 non-null datetime64[ns]\n",
      "PC1_z70    230 non-null float64\n",
      "PC2_z70    230 non-null float64\n",
      "PC3_z70    230 non-null float64\n",
      "PC1_ci     230 non-null float64\n",
      "PC2_ci     230 non-null float64\n",
      "PC3_ci     230 non-null float64\n",
      "PC1_sst    230 non-null float64\n",
      "PC2_sst    230 non-null float64\n",
      "PC3_sst    230 non-null float64\n",
      "year       230 non-null int64\n",
      "wyear      230 non-null int64\n",
      "month      230 non-null int64\n",
      "dtypes: datetime64[ns](1), float64(9), int64(3)\n",
      "memory usage: 23.4 KB\n"
     ]
    }
   ],
   "source": [
    "scores_df = pd.merge(left=scores_z70, right=scores_ci, left_index=True, right_index=True).\\\n",
    "pipe(lambda df: pd.merge(df, scores_sst, left_index=True, right_index=True))\n",
    "scores_df.reset_index(level=0, inplace=True)\n",
    "scores_df = scores_df.assign(\n",
    "    year=list(map(lambda x: x.year, scores_df.date)),\n",
    "    wyear=list(map(lambda x: setWinterYear(x), scores_df.date)), \n",
    "    month=list(map(lambda x: x.month, scores_df.date)))\n",
    "scores_df.info()"
   ]
  },
  {
   "cell_type": "code",
   "execution_count": 16,
   "metadata": {},
   "outputs": [],
   "source": [
    "# Create the Predictor DataFrame\n",
    "def renCol(x, mon):\n",
    "    if ('PC' in x):\n",
    "        z = '%s_%s' % (x, mon)\n",
    "    else:\n",
    "        z = x\n",
    "    return z\n",
    "\n",
    "def createMondf(this_mon, scores_df):\n",
    "    mon_df = scores_df.query('month == @this_mon')\n",
    "    mon_df.columns = list(map(lambda x: renCol(x, mon=this_mon), list(mon_df)))\n",
    "    mon_df = mon_df.drop(['date','year','month'], axis=1)\n",
    "    return mon_df\n",
    "\n",
    "sep_df = createMondf(this_mon=9, scores_df=scores_df)\n",
    "oct_df = createMondf(this_mon=10, scores_df=scores_df)\n",
    "X_df = pd.merge(sep_df, oct_df)"
   ]
  },
  {
   "cell_type": "code",
   "execution_count": 17,
   "metadata": {},
   "outputs": [
    {
     "name": "stdout",
     "output_type": "stream",
     "text": [
      "<class 'pandas.core.frame.DataFrame'>\n",
      "Int64Index: 37 entries, 0 to 36\n",
      "Data columns (total 20 columns):\n",
      "wyear         37 non-null int64\n",
      "NAO           37 non-null float64\n",
      "PC1_z70_9     37 non-null float64\n",
      "PC2_z70_9     37 non-null float64\n",
      "PC3_z70_9     37 non-null float64\n",
      "PC1_ci_9      37 non-null float64\n",
      "PC2_ci_9      37 non-null float64\n",
      "PC3_ci_9      37 non-null float64\n",
      "PC1_sst_9     37 non-null float64\n",
      "PC2_sst_9     37 non-null float64\n",
      "PC3_sst_9     37 non-null float64\n",
      "PC1_z70_10    37 non-null float64\n",
      "PC2_z70_10    37 non-null float64\n",
      "PC3_z70_10    37 non-null float64\n",
      "PC1_ci_10     37 non-null float64\n",
      "PC2_ci_10     37 non-null float64\n",
      "PC3_ci_10     37 non-null float64\n",
      "PC1_sst_10    37 non-null float64\n",
      "PC2_sst_10    37 non-null float64\n",
      "PC3_sst_10    37 non-null float64\n",
      "dtypes: float64(19), int64(1)\n",
      "memory usage: 6.1 KB\n"
     ]
    }
   ],
   "source": [
    "# Create Regression DataFrame\n",
    "NAO_df = msl_df.drop(columns=['msl1', 'msl2', 'month'])\n",
    "dat_df = pd.merge(NAO_df, X_df)\n",
    "dat_df.info()"
   ]
  },
  {
   "cell_type": "code",
   "execution_count": 18,
   "metadata": {},
   "outputs": [
    {
     "data": {
      "text/plain": [
       "   wyear         NAO     PC1_z70_9    PC2_z70_9     PC3_z70_9  PC1_ci_9  \\\n",
       "0   1980 -251.348252  18023.465139  2794.736512  -2092.985110  2.963272   \n",
       "1   1981  562.276609  -5422.104718  9689.567172   5922.630486  0.101697   \n",
       "2   1982 -713.419876  19744.941093 -8460.604205   1635.209243 -0.538567   \n",
       "3   1983  721.211563 -14530.470578  8700.189280  -4888.437956 -0.840920   \n",
       "4   1984  551.105864  -5774.518779  2361.237107  13897.025591  0.980549   \n",
       "\n",
       "   PC2_ci_9  PC3_ci_9  PC1_sst_9  PC2_sst_9  PC3_sst_9    PC1_z70_10  \\\n",
       "0  1.071399  1.375248   5.315734   5.144223  -0.101667  14187.255820   \n",
       "1  0.728206  0.115557  -3.156064   0.330436  -3.889343  45350.002970   \n",
       "2  1.527365 -1.105478  -4.273700   2.978352  -4.129618  33268.045918   \n",
       "3  1.564602 -0.486677  19.597934   7.318927  -4.275474   -479.075361   \n",
       "4  0.753575  0.899514   2.394603  -2.069695  19.713818 -30617.123747   \n",
       "\n",
       "     PC2_z70_10    PC3_z70_10  PC1_ci_10  PC2_ci_10  PC3_ci_10  PC1_sst_10  \\\n",
       "0  -8848.225741  -3218.127655   2.152409   0.879818  -0.169719    6.340731   \n",
       "1  -5723.869946 -13806.317651   0.352610   0.479753  -0.325305   -4.666931   \n",
       "2  17675.889590  -8577.756410   0.624417   0.928143  -0.169259   -5.718029   \n",
       "3   4248.234983   7890.721954  -1.098517   1.081053   0.334881   27.178280   \n",
       "4  -5175.436148  -3513.763742   1.588658  -0.114056   0.513646   -3.563558   \n",
       "\n",
       "   PC2_sst_10  PC3_sst_10  \n",
       "0    3.405861    3.129773  \n",
       "1    3.319561   -0.769422  \n",
       "2    3.198907   -6.355771  \n",
       "3    9.416156    2.033623  \n",
       "4   -3.381997   18.224022  "
      ]
     },
     "execution_count": 18,
     "metadata": {},
     "output_type": "execute_result"
    }
   ],
   "source": [
    "dat_df.head()"
   ]
  },
  {
   "cell_type": "markdown",
   "metadata": {},
   "source": [
    "# Regression"
   ]
  },
  {
   "cell_type": "code",
   "execution_count": 19,
   "metadata": {},
   "outputs": [
    {
     "data": {
      "text/plain": [
       "LinearRegression(copy_X=True, fit_intercept=True, n_jobs=1, normalize=False)"
      ]
     },
     "execution_count": 19,
     "metadata": {},
     "output_type": "execute_result"
    }
   ],
   "source": [
    "regr = skl_lm.LinearRegression()\n",
    "X = dat_df[['PC1_ci_10', \n",
    "            'PC2_z70_10',\n",
    "            'PC3_sst_9']].as_matrix()\n",
    "y = dat_df.NAO\n",
    "regr.fit(X, y)"
   ]
  },
  {
   "cell_type": "code",
   "execution_count": 20,
   "metadata": {},
   "outputs": [
    {
     "data": {
      "text/plain": [
       "0.50036563409207524"
      ]
     },
     "execution_count": 20,
     "metadata": {},
     "output_type": "execute_result"
    }
   ],
   "source": [
    "regr.score(X, y)"
   ]
  },
  {
   "cell_type": "code",
   "execution_count": 21,
   "metadata": {},
   "outputs": [
    {
     "name": "stderr",
     "output_type": "stream",
     "text": [
      "/home/dmasson/anaconda3/envs/winter_predictor/lib/python3.6/site-packages/statsmodels/compat/pandas.py:56: FutureWarning:\n",
      "\n",
      "The pandas.core.datetools module is deprecated and will be removed in a future version. Please use the pandas.tseries module instead.\n",
      "\n"
     ]
    }
   ],
   "source": [
    "import statsmodels.api as sm\n",
    "import statsmodels.formula.api as smf"
   ]
  },
  {
   "cell_type": "code",
   "execution_count": 22,
   "metadata": {},
   "outputs": [
    {
     "data": {
      "text/html": [
       "<table class=\"simpletable\">\n",
       "<caption>OLS Regression Results</caption>\n",
       "<tr>\n",
       "  <th>Dep. Variable:</th>           <td>NAO</td>       <th>  R-squared:         </th> <td>   0.500</td>\n",
       "</tr>\n",
       "<tr>\n",
       "  <th>Model:</th>                   <td>OLS</td>       <th>  Adj. R-squared:    </th> <td>   0.455</td>\n",
       "</tr>\n",
       "<tr>\n",
       "  <th>Method:</th>             <td>Least Squares</td>  <th>  F-statistic:       </th> <td>   11.02</td>\n",
       "</tr>\n",
       "<tr>\n",
       "  <th>Date:</th>             <td>Sat, 24 Feb 2018</td> <th>  Prob (F-statistic):</th> <td>3.63e-05</td>\n",
       "</tr>\n",
       "<tr>\n",
       "  <th>Time:</th>                 <td>17:07:46</td>     <th>  Log-Likelihood:    </th> <td> -279.32</td>\n",
       "</tr>\n",
       "<tr>\n",
       "  <th>No. Observations:</th>      <td>    37</td>      <th>  AIC:               </th> <td>   566.6</td>\n",
       "</tr>\n",
       "<tr>\n",
       "  <th>Df Residuals:</th>          <td>    33</td>      <th>  BIC:               </th> <td>   573.1</td>\n",
       "</tr>\n",
       "<tr>\n",
       "  <th>Df Model:</th>              <td>     3</td>      <th>                     </th>     <td> </td>   \n",
       "</tr>\n",
       "<tr>\n",
       "  <th>Covariance Type:</th>      <td>nonrobust</td>    <th>                     </th>     <td> </td>   \n",
       "</tr>\n",
       "</table>\n",
       "<table class=\"simpletable\">\n",
       "<tr>\n",
       "       <td></td>         <th>coef</th>     <th>std err</th>      <th>t</th>      <th>P>|t|</th>  <th>[0.025</th>    <th>0.975]</th>  \n",
       "</tr>\n",
       "<tr>\n",
       "  <th>Intercept</th>  <td>    3.6815</td> <td>   80.217</td> <td>    0.046</td> <td> 0.964</td> <td> -159.522</td> <td>  166.885</td>\n",
       "</tr>\n",
       "<tr>\n",
       "  <th>PC1_ci_10</th>  <td> -289.4863</td> <td>   64.195</td> <td>   -4.510</td> <td> 0.000</td> <td> -420.091</td> <td> -158.881</td>\n",
       "</tr>\n",
       "<tr>\n",
       "  <th>PC2_z70_10</th> <td>   -0.0208</td> <td>    0.007</td> <td>   -2.909</td> <td> 0.006</td> <td>   -0.035</td> <td>   -0.006</td>\n",
       "</tr>\n",
       "<tr>\n",
       "  <th>PC3_sst_9</th>  <td>   31.2634</td> <td>   11.543</td> <td>    2.709</td> <td> 0.011</td> <td>    7.780</td> <td>   54.747</td>\n",
       "</tr>\n",
       "</table>\n",
       "<table class=\"simpletable\">\n",
       "<tr>\n",
       "  <th>Omnibus:</th>       <td> 2.214</td> <th>  Durbin-Watson:     </th> <td>   2.305</td>\n",
       "</tr>\n",
       "<tr>\n",
       "  <th>Prob(Omnibus):</th> <td> 0.331</td> <th>  Jarque-Bera (JB):  </th> <td>   1.717</td>\n",
       "</tr>\n",
       "<tr>\n",
       "  <th>Skew:</th>          <td>-0.359</td> <th>  Prob(JB):          </th> <td>   0.424</td>\n",
       "</tr>\n",
       "<tr>\n",
       "  <th>Kurtosis:</th>      <td> 2.226</td> <th>  Cond. No.          </th> <td>1.14e+04</td>\n",
       "</tr>\n",
       "</table>"
      ],
      "text/plain": [
       "<class 'statsmodels.iolib.summary.Summary'>\n",
       "\"\"\"\n",
       "                            OLS Regression Results                            \n",
       "==============================================================================\n",
       "Dep. Variable:                    NAO   R-squared:                       0.500\n",
       "Model:                            OLS   Adj. R-squared:                  0.455\n",
       "Method:                 Least Squares   F-statistic:                     11.02\n",
       "Date:                Sat, 24 Feb 2018   Prob (F-statistic):           3.63e-05\n",
       "Time:                        17:07:46   Log-Likelihood:                -279.32\n",
       "No. Observations:                  37   AIC:                             566.6\n",
       "Df Residuals:                      33   BIC:                             573.1\n",
       "Df Model:                           3                                         \n",
       "Covariance Type:            nonrobust                                         \n",
       "==============================================================================\n",
       "                 coef    std err          t      P>|t|      [0.025      0.975]\n",
       "------------------------------------------------------------------------------\n",
       "Intercept      3.6815     80.217      0.046      0.964    -159.522     166.885\n",
       "PC1_ci_10   -289.4863     64.195     -4.510      0.000    -420.091    -158.881\n",
       "PC2_z70_10    -0.0208      0.007     -2.909      0.006      -0.035      -0.006\n",
       "PC3_sst_9     31.2634     11.543      2.709      0.011       7.780      54.747\n",
       "==============================================================================\n",
       "Omnibus:                        2.214   Durbin-Watson:                   2.305\n",
       "Prob(Omnibus):                  0.331   Jarque-Bera (JB):                1.717\n",
       "Skew:                          -0.359   Prob(JB):                        0.424\n",
       "Kurtosis:                       2.226   Cond. No.                     1.14e+04\n",
       "==============================================================================\n",
       "\n",
       "Warnings:\n",
       "[1] Standard Errors assume that the covariance matrix of the errors is correctly specified.\n",
       "[2] The condition number is large, 1.14e+04. This might indicate that there are\n",
       "strong multicollinearity or other numerical problems.\n",
       "\"\"\""
      ]
     },
     "execution_count": 22,
     "metadata": {},
     "output_type": "execute_result"
    }
   ],
   "source": [
    "est = smf.ols('NAO ~ PC1_ci_10 + PC2_z70_10 + PC3_sst_9', dat_df).fit()\n",
    "est.summary()"
   ]
  },
  {
   "cell_type": "code",
   "execution_count": 23,
   "metadata": {},
   "outputs": [
    {
     "data": {
      "text/html": [
       "<table class=\"simpletable\">\n",
       "<caption>OLS Regression Results</caption>\n",
       "<tr>\n",
       "  <th>Dep. Variable:</th>           <td>NAO</td>       <th>  R-squared:         </th> <td>   0.799</td>\n",
       "</tr>\n",
       "<tr>\n",
       "  <th>Model:</th>                   <td>OLS</td>       <th>  Adj. R-squared:    </th> <td>   0.598</td>\n",
       "</tr>\n",
       "<tr>\n",
       "  <th>Method:</th>             <td>Least Squares</td>  <th>  F-statistic:       </th> <td>   3.969</td>\n",
       "</tr>\n",
       "<tr>\n",
       "  <th>Date:</th>             <td>Sat, 24 Feb 2018</td> <th>  Prob (F-statistic):</th>  <td>0.00270</td>\n",
       "</tr>\n",
       "<tr>\n",
       "  <th>Time:</th>                 <td>17:07:46</td>     <th>  Log-Likelihood:    </th> <td> -262.50</td>\n",
       "</tr>\n",
       "<tr>\n",
       "  <th>No. Observations:</th>      <td>    37</td>      <th>  AIC:               </th> <td>   563.0</td>\n",
       "</tr>\n",
       "<tr>\n",
       "  <th>Df Residuals:</th>          <td>    18</td>      <th>  BIC:               </th> <td>   593.6</td>\n",
       "</tr>\n",
       "<tr>\n",
       "  <th>Df Model:</th>              <td>    18</td>      <th>                     </th>     <td> </td>   \n",
       "</tr>\n",
       "<tr>\n",
       "  <th>Covariance Type:</th>      <td>nonrobust</td>    <th>                     </th>     <td> </td>   \n",
       "</tr>\n",
       "</table>\n",
       "<table class=\"simpletable\">\n",
       "<tr>\n",
       "       <td></td>         <th>coef</th>     <th>std err</th>      <th>t</th>      <th>P>|t|</th>  <th>[0.025</th>    <th>0.975]</th>  \n",
       "</tr>\n",
       "<tr>\n",
       "  <th>Intercept</th>  <td>   13.9593</td> <td>   70.374</td> <td>    0.198</td> <td> 0.845</td> <td> -133.891</td> <td>  161.810</td>\n",
       "</tr>\n",
       "<tr>\n",
       "  <th>PC1_z70_9</th>  <td>   -0.0054</td> <td>    0.008</td> <td>   -0.673</td> <td> 0.509</td> <td>   -0.022</td> <td>    0.011</td>\n",
       "</tr>\n",
       "<tr>\n",
       "  <th>PC2_z70_9</th>  <td>    0.0098</td> <td>    0.017</td> <td>    0.567</td> <td> 0.578</td> <td>   -0.026</td> <td>    0.046</td>\n",
       "</tr>\n",
       "<tr>\n",
       "  <th>PC3_z70_9</th>  <td>    0.0360</td> <td>    0.017</td> <td>    2.093</td> <td> 0.051</td> <td>   -0.000</td> <td>    0.072</td>\n",
       "</tr>\n",
       "<tr>\n",
       "  <th>PC1_ci_9</th>   <td>  286.1949</td> <td>  322.535</td> <td>    0.887</td> <td> 0.387</td> <td> -391.425</td> <td>  963.815</td>\n",
       "</tr>\n",
       "<tr>\n",
       "  <th>PC2_ci_9</th>   <td> -198.6332</td> <td>  182.055</td> <td>   -1.091</td> <td> 0.290</td> <td> -581.117</td> <td>  183.851</td>\n",
       "</tr>\n",
       "<tr>\n",
       "  <th>PC3_ci_9</th>   <td>  -70.9907</td> <td>  372.821</td> <td>   -0.190</td> <td> 0.851</td> <td> -854.258</td> <td>  712.276</td>\n",
       "</tr>\n",
       "<tr>\n",
       "  <th>PC1_sst_9</th>  <td>  -82.3047</td> <td>   32.527</td> <td>   -2.530</td> <td> 0.021</td> <td> -150.641</td> <td>  -13.968</td>\n",
       "</tr>\n",
       "<tr>\n",
       "  <th>PC2_sst_9</th>  <td>  -48.2848</td> <td>   25.727</td> <td>   -1.877</td> <td> 0.077</td> <td> -102.336</td> <td>    5.766</td>\n",
       "</tr>\n",
       "<tr>\n",
       "  <th>PC3_sst_9</th>  <td>   29.1254</td> <td>   26.331</td> <td>    1.106</td> <td> 0.283</td> <td>  -26.194</td> <td>   84.445</td>\n",
       "</tr>\n",
       "<tr>\n",
       "  <th>PC1_z70_10</th> <td>   -0.0099</td> <td>    0.006</td> <td>   -1.774</td> <td> 0.093</td> <td>   -0.022</td> <td>    0.002</td>\n",
       "</tr>\n",
       "<tr>\n",
       "  <th>PC2_z70_10</th> <td>    0.0093</td> <td>    0.011</td> <td>    0.868</td> <td> 0.397</td> <td>   -0.013</td> <td>    0.032</td>\n",
       "</tr>\n",
       "<tr>\n",
       "  <th>PC3_z70_10</th> <td>   -0.0128</td> <td>    0.010</td> <td>   -1.320</td> <td> 0.203</td> <td>   -0.033</td> <td>    0.008</td>\n",
       "</tr>\n",
       "<tr>\n",
       "  <th>PC1_ci_10</th>  <td> -392.3228</td> <td>  149.559</td> <td>   -2.623</td> <td> 0.017</td> <td> -706.534</td> <td>  -78.111</td>\n",
       "</tr>\n",
       "<tr>\n",
       "  <th>PC2_ci_10</th>  <td>  215.5275</td> <td>  171.941</td> <td>    1.253</td> <td> 0.226</td> <td> -145.707</td> <td>  576.763</td>\n",
       "</tr>\n",
       "<tr>\n",
       "  <th>PC3_ci_10</th>  <td> -320.3766</td> <td>  213.457</td> <td>   -1.501</td> <td> 0.151</td> <td> -768.833</td> <td>  128.080</td>\n",
       "</tr>\n",
       "<tr>\n",
       "  <th>PC1_sst_10</th> <td>   69.1181</td> <td>   28.898</td> <td>    2.392</td> <td> 0.028</td> <td>    8.406</td> <td>  129.830</td>\n",
       "</tr>\n",
       "<tr>\n",
       "  <th>PC2_sst_10</th> <td>   64.4855</td> <td>   27.996</td> <td>    2.303</td> <td> 0.033</td> <td>    5.669</td> <td>  123.302</td>\n",
       "</tr>\n",
       "<tr>\n",
       "  <th>PC3_sst_10</th> <td>   15.4446</td> <td>   33.346</td> <td>    0.463</td> <td> 0.649</td> <td>  -54.612</td> <td>   85.501</td>\n",
       "</tr>\n",
       "</table>\n",
       "<table class=\"simpletable\">\n",
       "<tr>\n",
       "  <th>Omnibus:</th>       <td> 0.394</td> <th>  Durbin-Watson:     </th> <td>   2.070</td>\n",
       "</tr>\n",
       "<tr>\n",
       "  <th>Prob(Omnibus):</th> <td> 0.821</td> <th>  Jarque-Bera (JB):  </th> <td>   0.552</td>\n",
       "</tr>\n",
       "<tr>\n",
       "  <th>Skew:</th>          <td>-0.173</td> <th>  Prob(JB):          </th> <td>   0.759</td>\n",
       "</tr>\n",
       "<tr>\n",
       "  <th>Kurtosis:</th>      <td> 2.512</td> <th>  Cond. No.          </th> <td>1.80e+05</td>\n",
       "</tr>\n",
       "</table>"
      ],
      "text/plain": [
       "<class 'statsmodels.iolib.summary.Summary'>\n",
       "\"\"\"\n",
       "                            OLS Regression Results                            \n",
       "==============================================================================\n",
       "Dep. Variable:                    NAO   R-squared:                       0.799\n",
       "Model:                            OLS   Adj. R-squared:                  0.598\n",
       "Method:                 Least Squares   F-statistic:                     3.969\n",
       "Date:                Sat, 24 Feb 2018   Prob (F-statistic):            0.00270\n",
       "Time:                        17:07:46   Log-Likelihood:                -262.50\n",
       "No. Observations:                  37   AIC:                             563.0\n",
       "Df Residuals:                      18   BIC:                             593.6\n",
       "Df Model:                          18                                         \n",
       "Covariance Type:            nonrobust                                         \n",
       "==============================================================================\n",
       "                 coef    std err          t      P>|t|      [0.025      0.975]\n",
       "------------------------------------------------------------------------------\n",
       "Intercept     13.9593     70.374      0.198      0.845    -133.891     161.810\n",
       "PC1_z70_9     -0.0054      0.008     -0.673      0.509      -0.022       0.011\n",
       "PC2_z70_9      0.0098      0.017      0.567      0.578      -0.026       0.046\n",
       "PC3_z70_9      0.0360      0.017      2.093      0.051      -0.000       0.072\n",
       "PC1_ci_9     286.1949    322.535      0.887      0.387    -391.425     963.815\n",
       "PC2_ci_9    -198.6332    182.055     -1.091      0.290    -581.117     183.851\n",
       "PC3_ci_9     -70.9907    372.821     -0.190      0.851    -854.258     712.276\n",
       "PC1_sst_9    -82.3047     32.527     -2.530      0.021    -150.641     -13.968\n",
       "PC2_sst_9    -48.2848     25.727     -1.877      0.077    -102.336       5.766\n",
       "PC3_sst_9     29.1254     26.331      1.106      0.283     -26.194      84.445\n",
       "PC1_z70_10    -0.0099      0.006     -1.774      0.093      -0.022       0.002\n",
       "PC2_z70_10     0.0093      0.011      0.868      0.397      -0.013       0.032\n",
       "PC3_z70_10    -0.0128      0.010     -1.320      0.203      -0.033       0.008\n",
       "PC1_ci_10   -392.3228    149.559     -2.623      0.017    -706.534     -78.111\n",
       "PC2_ci_10    215.5275    171.941      1.253      0.226    -145.707     576.763\n",
       "PC3_ci_10   -320.3766    213.457     -1.501      0.151    -768.833     128.080\n",
       "PC1_sst_10    69.1181     28.898      2.392      0.028       8.406     129.830\n",
       "PC2_sst_10    64.4855     27.996      2.303      0.033       5.669     123.302\n",
       "PC3_sst_10    15.4446     33.346      0.463      0.649     -54.612      85.501\n",
       "==============================================================================\n",
       "Omnibus:                        0.394   Durbin-Watson:                   2.070\n",
       "Prob(Omnibus):                  0.821   Jarque-Bera (JB):                0.552\n",
       "Skew:                          -0.173   Prob(JB):                        0.759\n",
       "Kurtosis:                       2.512   Cond. No.                     1.80e+05\n",
       "==============================================================================\n",
       "\n",
       "Warnings:\n",
       "[1] Standard Errors assume that the covariance matrix of the errors is correctly specified.\n",
       "[2] The condition number is large, 1.8e+05. This might indicate that there are\n",
       "strong multicollinearity or other numerical problems.\n",
       "\"\"\""
      ]
     },
     "execution_count": 23,
     "metadata": {},
     "output_type": "execute_result"
    }
   ],
   "source": [
    "est = smf.ols('NAO ~ PC1_z70_9 + PC2_z70_9 + PC3_z70_9 + PC1_ci_9 + PC2_ci_9 + PC3_ci_9 + PC1_sst_9 + PC2_sst_9 + PC3_sst_9 + PC1_z70_10 + PC2_z70_10 + PC3_z70_10 + PC1_ci_10 + PC2_ci_10 + PC3_ci_10 + PC1_sst_10 + PC2_sst_10 + PC3_sst_10', dat_df).fit()\n",
    "est.summary()"
   ]
  },
  {
   "cell_type": "markdown",
   "metadata": {},
   "source": [
    "## Regularization / Lasso Model Selection"
   ]
  },
  {
   "cell_type": "code",
   "execution_count": 122,
   "metadata": {},
   "outputs": [],
   "source": [
    "# Predictors:\n",
    "# 'NAO ~ PC1_ci_10 + PC2_z70_10 + PC3_sst_9' # Wang\n",
    "predNames = np.array(['PC1_z70_9',\n",
    " 'PC2_z70_9',\n",
    " 'PC3_z70_9', # selected by Lasso\n",
    " 'PC1_ci_9',\n",
    " 'PC2_ci_9',\n",
    " 'PC3_ci_9',\n",
    " 'PC1_sst_9',\n",
    " 'PC2_sst_9',\n",
    " 'PC3_sst_9', # selected by Lasso\n",
    " 'PC1_z70_10', # selected by Lasso \n",
    " 'PC2_z70_10', # selected by Lasso & as in Wang et al. 2010\n",
    " 'PC3_z70_10',\n",
    " 'PC1_ci_10', # selected by Lasso & as in Wang et al. 2010\n",
    " 'PC2_ci_10',\n",
    " 'PC3_ci_10',\n",
    " 'PC1_sst_10',\n",
    " 'PC2_sst_10',\n",
    " 'PC3_sst_10'])\n",
    "X = dat_df[predNames].as_matrix()\n",
    "# Target Variables:\n",
    "y = dat_df.NAO"
   ]
  },
  {
   "cell_type": "code",
   "execution_count": 123,
   "metadata": {},
   "outputs": [],
   "source": [
    "from sklearn.preprocessing import StandardScaler\n",
    "# Before applying the Lasso, it is necessary to standardize the predictor\n",
    "scaler = StandardScaler()\n",
    "scaler.fit(X)\n",
    "X_stan = scaler.transform(X)"
   ]
  },
  {
   "cell_type": "code",
   "execution_count": 124,
   "metadata": {},
   "outputs": [
    {
     "name": "stdout",
     "output_type": "stream",
     "text": [
      "[  -0.            0.           79.24917344   -0.           -0.            0.\n",
      "   -0.           -0.            0.           -0.          -92.03940494\n",
      "    0.         -178.33924523   -0.           -0.           -0.           -0.\n",
      "    0.        ]\n"
     ]
    }
   ],
   "source": [
    "# Lasso Regression with fixed penalty term lambda=150:\n",
    "# We see that all predictors but three have been shrunk to null:\n",
    "clf = linear_model.Lasso(alpha=150)\n",
    "clf.fit(X_stan, y)\n",
    "print(clf.coef_)"
   ]
  },
  {
   "cell_type": "code",
   "execution_count": 125,
   "metadata": {},
   "outputs": [
    {
     "data": {
      "text/plain": [
       "19.576129756642523"
      ]
     },
     "execution_count": 125,
     "metadata": {},
     "output_type": "execute_result"
    }
   ],
   "source": [
    "# In order to find the optimal penalty parameter alpha,\n",
    "# use Cross-validated Lasso\n",
    "from sklearn.linear_model import LassoCV, LassoLarsCV, LassoLarsIC\n",
    "#modlcv = LassoLarsIC(criterion='aic')\n",
    "modlcv = LassoCV(cv=3, n_alphas=10000)\n",
    "modlcv.fit(X_stan, y)\n",
    "alpha = model.alpha_\n",
    "alpha # Optimal penalty"
   ]
  },
  {
   "cell_type": "code",
   "execution_count": 126,
   "metadata": {},
   "outputs": [
    {
     "data": {
      "text/plain": [
       "array([  -0.        ,    0.        ,  143.76772639,    0.        ,\n",
       "         -0.        ,    0.        ,   -0.        ,   -0.        ,\n",
       "         14.57226511,  -27.72196345, -119.30866149,    0.        ,\n",
       "       -264.4612583 ,    0.        ,   -0.        ,   -0.        ,\n",
       "         -0.        ,    0.        ])"
      ]
     },
     "execution_count": 126,
     "metadata": {},
     "output_type": "execute_result"
    }
   ],
   "source": [
    "# Non-zero predictors:\n",
    "modlcv.coef_"
   ]
  },
  {
   "cell_type": "code",
   "execution_count": 127,
   "metadata": {},
   "outputs": [
    {
     "data": {
      "text/plain": [
       "0.48147098522658272"
      ]
     },
     "execution_count": 127,
     "metadata": {},
     "output_type": "execute_result"
    }
   ],
   "source": [
    "# Model R^2 :\n",
    "modlcv.score(X_stan, y)"
   ]
  },
  {
   "cell_type": "code",
   "execution_count": 137,
   "metadata": {},
   "outputs": [
    {
     "data": {
      "text/plain": [
       "         coef        pred\n",
       "0  143.767726   PC3_z70_9\n",
       "1   14.572265   PC3_sst_9\n",
       "2  -27.721963  PC1_z70_10\n",
       "3 -119.308661  PC2_z70_10\n",
       "4 -264.461258   PC1_ci_10"
      ]
     },
     "execution_count": 137,
     "metadata": {},
     "output_type": "execute_result"
    }
   ],
   "source": [
    "# 'NAO ~ PC1_ci_10 + PC2_z70_10 + PC3_sst_9' # Wang\n",
    "# Name Of the non-null coefficients:\n",
    "ind = np.array(list(map(lambda x: int(x)!=0, modlcv.coef_)))\n",
    "importance_df = pd.DataFrame({'pred': predNames[ind], \n",
    "                              'coef': modlcv.coef_[ind]})\n",
    "# According to the Lasso, the 3 strongest predictors are:\n",
    "# PC3_z70_9, PC2_z70_10, PC1_ci_10\n",
    "importance_df"
   ]
  },
  {
   "cell_type": "code",
   "execution_count": 141,
   "metadata": {},
   "outputs": [
    {
     "data": {
      "text/html": [
       "<table class=\"simpletable\">\n",
       "<caption>OLS Regression Results</caption>\n",
       "<tr>\n",
       "  <th>Dep. Variable:</th>           <td>NAO</td>       <th>  R-squared:         </th> <td>   0.514</td>\n",
       "</tr>\n",
       "<tr>\n",
       "  <th>Model:</th>                   <td>OLS</td>       <th>  Adj. R-squared:    </th> <td>   0.470</td>\n",
       "</tr>\n",
       "<tr>\n",
       "  <th>Method:</th>             <td>Least Squares</td>  <th>  F-statistic:       </th> <td>   11.63</td>\n",
       "</tr>\n",
       "<tr>\n",
       "  <th>Date:</th>             <td>Sat, 24 Feb 2018</td> <th>  Prob (F-statistic):</th> <td>2.34e-05</td>\n",
       "</tr>\n",
       "<tr>\n",
       "  <th>Time:</th>                 <td>20:23:33</td>     <th>  Log-Likelihood:    </th> <td> -278.82</td>\n",
       "</tr>\n",
       "<tr>\n",
       "  <th>No. Observations:</th>      <td>    37</td>      <th>  AIC:               </th> <td>   565.6</td>\n",
       "</tr>\n",
       "<tr>\n",
       "  <th>Df Residuals:</th>          <td>    33</td>      <th>  BIC:               </th> <td>   572.1</td>\n",
       "</tr>\n",
       "<tr>\n",
       "  <th>Df Model:</th>              <td>     3</td>      <th>                     </th>     <td> </td>   \n",
       "</tr>\n",
       "<tr>\n",
       "  <th>Covariance Type:</th>      <td>nonrobust</td>    <th>                     </th>     <td> </td>   \n",
       "</tr>\n",
       "</table>\n",
       "<table class=\"simpletable\">\n",
       "<tr>\n",
       "       <td></td>         <th>coef</th>     <th>std err</th>      <th>t</th>      <th>P>|t|</th>  <th>[0.025</th>    <th>0.975]</th>  \n",
       "</tr>\n",
       "<tr>\n",
       "  <th>Intercept</th>  <td>   10.3703</td> <td>   79.248</td> <td>    0.131</td> <td> 0.897</td> <td> -150.861</td> <td>  171.601</td>\n",
       "</tr>\n",
       "<tr>\n",
       "  <th>PC3_z70_9</th>  <td>    0.0366</td> <td>    0.013</td> <td>    2.908</td> <td> 0.006</td> <td>    0.011</td> <td>    0.062</td>\n",
       "</tr>\n",
       "<tr>\n",
       "  <th>PC2_z70_10</th> <td>   -0.0158</td> <td>    0.007</td> <td>   -2.159</td> <td> 0.038</td> <td>   -0.031</td> <td>   -0.001</td>\n",
       "</tr>\n",
       "<tr>\n",
       "  <th>PC1_ci_10</th>  <td> -240.5642</td> <td>   55.894</td> <td>   -4.304</td> <td> 0.000</td> <td> -354.281</td> <td> -126.847</td>\n",
       "</tr>\n",
       "</table>\n",
       "<table class=\"simpletable\">\n",
       "<tr>\n",
       "  <th>Omnibus:</th>       <td> 3.957</td> <th>  Durbin-Watson:     </th> <td>   2.238</td>\n",
       "</tr>\n",
       "<tr>\n",
       "  <th>Prob(Omnibus):</th> <td> 0.138</td> <th>  Jarque-Bera (JB):  </th> <td>   1.795</td>\n",
       "</tr>\n",
       "<tr>\n",
       "  <th>Skew:</th>          <td>-0.172</td> <th>  Prob(JB):          </th> <td>   0.408</td>\n",
       "</tr>\n",
       "<tr>\n",
       "  <th>Kurtosis:</th>      <td> 1.977</td> <th>  Cond. No.          </th> <td>1.16e+04</td>\n",
       "</tr>\n",
       "</table>"
      ],
      "text/plain": [
       "<class 'statsmodels.iolib.summary.Summary'>\n",
       "\"\"\"\n",
       "                            OLS Regression Results                            \n",
       "==============================================================================\n",
       "Dep. Variable:                    NAO   R-squared:                       0.514\n",
       "Model:                            OLS   Adj. R-squared:                  0.470\n",
       "Method:                 Least Squares   F-statistic:                     11.63\n",
       "Date:                Sat, 24 Feb 2018   Prob (F-statistic):           2.34e-05\n",
       "Time:                        20:23:33   Log-Likelihood:                -278.82\n",
       "No. Observations:                  37   AIC:                             565.6\n",
       "Df Residuals:                      33   BIC:                             572.1\n",
       "Df Model:                           3                                         \n",
       "Covariance Type:            nonrobust                                         \n",
       "==============================================================================\n",
       "                 coef    std err          t      P>|t|      [0.025      0.975]\n",
       "------------------------------------------------------------------------------\n",
       "Intercept     10.3703     79.248      0.131      0.897    -150.861     171.601\n",
       "PC3_z70_9      0.0366      0.013      2.908      0.006       0.011       0.062\n",
       "PC2_z70_10    -0.0158      0.007     -2.159      0.038      -0.031      -0.001\n",
       "PC1_ci_10   -240.5642     55.894     -4.304      0.000    -354.281    -126.847\n",
       "==============================================================================\n",
       "Omnibus:                        3.957   Durbin-Watson:                   2.238\n",
       "Prob(Omnibus):                  0.138   Jarque-Bera (JB):                1.795\n",
       "Skew:                          -0.172   Prob(JB):                        0.408\n",
       "Kurtosis:                       1.977   Cond. No.                     1.16e+04\n",
       "==============================================================================\n",
       "\n",
       "Warnings:\n",
       "[1] Standard Errors assume that the covariance matrix of the errors is correctly specified.\n",
       "[2] The condition number is large, 1.16e+04. This might indicate that there are\n",
       "strong multicollinearity or other numerical problems.\n",
       "\"\"\""
      ]
     },
     "execution_count": 141,
     "metadata": {},
     "output_type": "execute_result"
    }
   ],
   "source": [
    "# Let's repeat the linear regression using the predictors suggested by the Lasso:\n",
    "#est = smf.ols('NAO ~ PC1_ci_10 + PC2_z70_10 + PC3_sst_9', dat_df).fit() # Wang\n",
    "est = smf.ols('NAO ~ PC3_z70_9 + PC2_z70_10 + PC1_ci_10', dat_df).fit()\n",
    "est.summary()"
   ]
  },
  {
   "cell_type": "code",
   "execution_count": 139,
   "metadata": {},
   "outputs": [
    {
     "data": {
      "text/plain": [
       "0.71693793315739685"
      ]
     },
     "execution_count": 139,
     "metadata": {},
     "output_type": "execute_result"
    }
   ],
   "source": [
    "np.sqrt(0.514)"
   ]
  },
  {
   "cell_type": "code",
   "execution_count": null,
   "metadata": {},
   "outputs": [],
   "source": [
    "# Next step: define a 3rd region for SST in Northern Atlantic, as in Promet publi."
   ]
  }
 ],
 "metadata": {
  "kernelspec": {
   "display_name": "Python 3",
   "language": "python",
   "name": "python3"
  },
  "language_info": {
   "codemirror_mode": {
    "name": "ipython",
    "version": 3
   },
   "file_extension": ".py",
   "mimetype": "text/x-python",
   "name": "python",
   "nbconvert_exporter": "python",
   "pygments_lexer": "ipython3",
   "version": "3.6.3"
  }
 },
 "nbformat": 4,
 "nbformat_minor": 2
}
