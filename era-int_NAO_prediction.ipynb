{
 "cells": [
  {
   "cell_type": "markdown",
   "metadata": {},
   "source": [
    "# NAO Prediction"
   ]
  },
  {
   "cell_type": "code",
   "execution_count": 24,
   "metadata": {},
   "outputs": [
    {
     "data": {
      "text/html": [
       "<script>requirejs.config({paths: { 'plotly': ['https://cdn.plot.ly/plotly-latest.min']},});if(!window.Plotly) {{require(['plotly'],function(plotly) {window.Plotly=plotly;});}}</script>"
      ],
      "text/vnd.plotly.v1+html": [
       "<script>requirejs.config({paths: { 'plotly': ['https://cdn.plot.ly/plotly-latest.min']},});if(!window.Plotly) {{require(['plotly'],function(plotly) {window.Plotly=plotly;});}}</script>"
      ]
     },
     "metadata": {},
     "output_type": "display_data"
    }
   ],
   "source": [
    "from netCDF4 import Dataset\n",
    "import numpy as np\n",
    "import matplotlib.pyplot as plt\n",
    "from mpl_toolkits.basemap import Basemap, addcyclic, shiftgrid\n",
    "import pymongo\n",
    "from pprint import pprint\n",
    "from datetime import datetime, timedelta, date\n",
    "import pandas as pd\n",
    "from sklearn.decomposition import PCA\n",
    "import gdal as gdl\n",
    "import matplotlib.mlab as ml\n",
    "import cartopy.crs as ccrs\n",
    "import plotly.graph_objs as go\n",
    "import plotly.offline as py\n",
    "py.init_notebook_mode(connected=True) # for live plot\n",
    "pd.set_option('display.notebook_repr_html', False)\n",
    "%matplotlib inline\n",
    "plt.style.use('seaborn-white')"
   ]
  },
  {
   "cell_type": "code",
   "execution_count": 2,
   "metadata": {},
   "outputs": [],
   "source": [
    "mongo_host_local = 'mongodb://localhost:27017/'\n",
    "mg = pymongo.MongoClient(mongo_host_local)"
   ]
  },
  {
   "cell_type": "code",
   "execution_count": 3,
   "metadata": {},
   "outputs": [
    {
     "data": {
      "text/plain": [
       "['system.indexes',\n",
       " 'ERAINT_grid',\n",
       " 'ERAINT_lores_grid',\n",
       " 'ERAINT_lores_monthly_anom',\n",
       " 'ERAINT_monthly',\n",
       " 'ERAINT_lores_monthly']"
      ]
     },
     "execution_count": 3,
     "metadata": {},
     "output_type": "execute_result"
    }
   ],
   "source": [
    "db = mg.ECMWF\n",
    "db.collection_names()"
   ]
  },
  {
   "cell_type": "code",
   "execution_count": 4,
   "metadata": {},
   "outputs": [],
   "source": [
    "ERA_vers = 'lores'\n",
    "if (ERA_vers == 'hires'):\n",
    "    col_dat = 'ERAINT_monthly'\n",
    "    col_anom = 'ERAINT_monthly_anom'\n",
    "    col_grid = 'ERAINT_grid'\n",
    "    resolution = 0.25\n",
    "elif (ERA_vers == 'lores'):\n",
    "    col_dat = 'ERAINT_lores_monthly'\n",
    "    col_anom = 'ERAINT_lores_monthly_anom'\n",
    "    col_grid = 'ERAINT_lores_grid'\n",
    "    resolution = 2.5"
   ]
  },
  {
   "cell_type": "markdown",
   "metadata": {},
   "source": [
    "# Construct NAO index"
   ]
  },
  {
   "cell_type": "code",
   "execution_count": 5,
   "metadata": {},
   "outputs": [],
   "source": [
    "# Query grid cells for NAO calculation\n",
    "con_grid = db[col_grid]\n",
    "poly1 = [list(reversed([ [-50,25], [-50,55], [10,55],[ 10,25], [-50,25]]))]\n",
    "poly2 = [list(reversed([ [-40, 55], [-40, 85], [20, 85], [20, 55], [-40, 55]]))]\n",
    "def getGridIds(this_polygon):\n",
    "    geo_qry = {\"loc\": \n",
    "               {\"$geoWithin\": {\n",
    "                   \"$geometry\": {\n",
    "                       \"type\": \"Polygon\",\n",
    "                       \"coordinates\": this_polygon\n",
    "                   }\n",
    "               }}}\n",
    "\n",
    "    res = con_grid.find(filter = geo_qry, projection = {\"_id\":0, \"id_grid\": 1, \"loc\": 1})\n",
    "    grid_df = pd.DataFrame(list(res))\n",
    "    return grid_df\n",
    "grid_df1 = getGridIds(poly1)\n",
    "grid_ids1 = grid_df1.id_grid.values\n",
    "grid_df2 = getGridIds(poly2)\n",
    "grid_ids2 = grid_df2.id_grid.values"
   ]
  },
  {
   "cell_type": "code",
   "execution_count": 20,
   "metadata": {},
   "outputs": [
    {
     "data": {
      "text/plain": [
       "   wyear        msl1  month        msl2         NAO\n",
       "1   1980  152.977452    5.0  -98.370800 -251.348252\n",
       "2   1981 -444.747185    5.0  117.529424  562.276609\n",
       "3   1982  336.279706    5.0 -377.140170 -713.419876\n",
       "4   1983 -342.535287    5.0  378.676276  721.211563\n",
       "5   1984 -220.904942    5.0  330.200922  551.105864"
      ]
     },
     "execution_count": 20,
     "metadata": {},
     "output_type": "execute_result"
    }
   ],
   "source": [
    "# Get yearly DJF averages over the two NAO nodal locations\n",
    "\n",
    "con_anom = db[col_anom]\n",
    "\n",
    "def setWinterYear(date): # December belong to next year's winter\n",
    "    mon=date.month\n",
    "    yr=date.year\n",
    "    if mon == 12:\n",
    "        res = yr+1\n",
    "    else:\n",
    "        res = yr\n",
    "    return res\n",
    "\n",
    "def getMSL(this_grid_ids):\n",
    "    this_msl = con_anom.aggregate(pipeline=[\n",
    "        {\"$match\": {\"id_grid\": {\"$in\": this_grid_ids.tolist()}}},\n",
    "        {\"$group\": {\"_id\": \"$date\", \"mean\": {\"$avg\": \"$msl\"} }},\n",
    "        {\"$project\": {\"date\": \"$_id\", \n",
    "                      \"_id\": 0, \n",
    "                      \"msl\": \"$mean\"}}])\n",
    "    this_msl_df = pd.DataFrame(list(this_msl))\n",
    "    this_msl_df = this_msl_df.assign(\n",
    "            month=list(map(lambda x: x.month, this_msl_df.date)),\n",
    "            wyear=list(map(lambda x: setWinterYear(x), this_msl_df.date)) ).pipe(\n",
    "    lambda df: df.query(\"month in [12, 1, 2]\") ).pipe(\n",
    "    lambda df: df.groupby(\"wyear\").mean().reset_index())\n",
    "    return this_msl_df\n",
    "    \n",
    "msl1_df = getMSL(this_grid_ids = grid_ids1).rename(columns={'msl': 'msl1'})\n",
    "msl2_df = getMSL(this_grid_ids = grid_ids2).rename(columns={'msl': 'msl2'})\n",
    "msl_df = pd.merge(msl1_df, msl2_df)\n",
    "msl_df = msl_df.assign(NAO = msl_df.msl2-msl_df.msl1).sort_values('wyear', ascending=True).reset_index(drop=True)\n",
    "# Get rid of the first year (1979) and the last (2017) because the winter month are not complete\n",
    "msl_df = msl_df.query(\"(wyear > 1979) & (wyear <2017)\")\n",
    "msl_df.head()"
   ]
  },
  {
   "cell_type": "code",
   "execution_count": 21,
   "metadata": {},
   "outputs": [
    {
     "data": {
      "application/vnd.plotly.v1+json": {
       "data": [
        {
         "type": "scatter",
         "x": [
          1980,
          1981,
          1982,
          1983,
          1984,
          1985,
          1986,
          1987,
          1988,
          1989,
          1990,
          1991,
          1992,
          1993,
          1994,
          1995,
          1996,
          1997,
          1998,
          1999,
          2000,
          2001,
          2002,
          2003,
          2004,
          2005,
          2006,
          2007,
          2008,
          2009,
          2010,
          2011,
          2012,
          2013,
          2014,
          2015,
          2016
         ],
         "y": [
          -251.34825248225582,
          562.276609059571,
          -713.419875834828,
          721.2115632913301,
          551.105864494568,
          -728.6565991592656,
          -840.4751166878566,
          -477.1464378799178,
          -381.828063969006,
          1169.6934788523786,
          456.3908207136145,
          309.47947302857085,
          742.0941674893827,
          930.4713397278456,
          -191.58898900219012,
          593.1495843272426,
          -812.9905166314677,
          -168.12192234993302,
          -261.9483325857419,
          428.4064614704637,
          784.9275600972778,
          -672.40261551939,
          35.36866434523139,
          -464.76934788096713,
          -401.22064519898043,
          687.5425087221288,
          -230.19994498798036,
          243.7674844367353,
          427.95328496056953,
          -174.1444889040695,
          -1757.6197613460076,
          -717.6267005305241,
          825.963655192083,
          -742.5948847676126,
          -9.52146754940486,
          895.3481528221511,
          154.93704653447963
         ]
        }
       ],
       "layout": {}
      },
      "text/html": [
       "<div id=\"d5c3a857-bf30-4bcc-b627-9bc0c453d0a1\" style=\"height: 525px; width: 100%;\" class=\"plotly-graph-div\"></div><script type=\"text/javascript\">require([\"plotly\"], function(Plotly) { window.PLOTLYENV=window.PLOTLYENV || {};window.PLOTLYENV.BASE_URL=\"https://plot.ly\";Plotly.newPlot(\"d5c3a857-bf30-4bcc-b627-9bc0c453d0a1\", [{\"type\": \"scatter\", \"x\": [1980, 1981, 1982, 1983, 1984, 1985, 1986, 1987, 1988, 1989, 1990, 1991, 1992, 1993, 1994, 1995, 1996, 1997, 1998, 1999, 2000, 2001, 2002, 2003, 2004, 2005, 2006, 2007, 2008, 2009, 2010, 2011, 2012, 2013, 2014, 2015, 2016], \"y\": [-251.34825248225582, 562.276609059571, -713.419875834828, 721.2115632913301, 551.105864494568, -728.6565991592656, -840.4751166878566, -477.1464378799178, -381.828063969006, 1169.6934788523786, 456.3908207136145, 309.47947302857085, 742.0941674893827, 930.4713397278456, -191.58898900219012, 593.1495843272426, -812.9905166314677, -168.12192234993302, -261.9483325857419, 428.4064614704637, 784.9275600972778, -672.40261551939, 35.36866434523139, -464.76934788096713, -401.22064519898043, 687.5425087221288, -230.19994498798036, 243.7674844367353, 427.95328496056953, -174.1444889040695, -1757.6197613460076, -717.6267005305241, 825.963655192083, -742.5948847676126, -9.52146754940486, 895.3481528221511, 154.93704653447963]}], {}, {\"showLink\": true, \"linkText\": \"Export to plot.ly\"})});</script>"
      ],
      "text/vnd.plotly.v1+html": [
       "<div id=\"d5c3a857-bf30-4bcc-b627-9bc0c453d0a1\" style=\"height: 525px; width: 100%;\" class=\"plotly-graph-div\"></div><script type=\"text/javascript\">require([\"plotly\"], function(Plotly) { window.PLOTLYENV=window.PLOTLYENV || {};window.PLOTLYENV.BASE_URL=\"https://plot.ly\";Plotly.newPlot(\"d5c3a857-bf30-4bcc-b627-9bc0c453d0a1\", [{\"type\": \"scatter\", \"x\": [1980, 1981, 1982, 1983, 1984, 1985, 1986, 1987, 1988, 1989, 1990, 1991, 1992, 1993, 1994, 1995, 1996, 1997, 1998, 1999, 2000, 2001, 2002, 2003, 2004, 2005, 2006, 2007, 2008, 2009, 2010, 2011, 2012, 2013, 2014, 2015, 2016], \"y\": [-251.34825248225582, 562.276609059571, -713.419875834828, 721.2115632913301, 551.105864494568, -728.6565991592656, -840.4751166878566, -477.1464378799178, -381.828063969006, 1169.6934788523786, 456.3908207136145, 309.47947302857085, 742.0941674893827, 930.4713397278456, -191.58898900219012, 593.1495843272426, -812.9905166314677, -168.12192234993302, -261.9483325857419, 428.4064614704637, 784.9275600972778, -672.40261551939, 35.36866434523139, -464.76934788096713, -401.22064519898043, 687.5425087221288, -230.19994498798036, 243.7674844367353, 427.95328496056953, -174.1444889040695, -1757.6197613460076, -717.6267005305241, 825.963655192083, -742.5948847676126, -9.52146754940486, 895.3481528221511, 154.93704653447963]}], {}, {\"showLink\": true, \"linkText\": \"Export to plot.ly\"})});</script>"
      ]
     },
     "metadata": {},
     "output_type": "display_data"
    }
   ],
   "source": [
    "# Plot ts\n",
    "data = [go.Scatter(x=msl_df['wyear'], y=msl_df['NAO'] )]\n",
    "py.iplot(data, filename='pandas-time-series')"
   ]
  },
  {
   "cell_type": "markdown",
   "metadata": {},
   "source": [
    "# Get PCA scores"
   ]
  },
  {
   "cell_type": "code",
   "execution_count": 22,
   "metadata": {},
   "outputs": [],
   "source": [
    "# Generic function to query grid ids above a given latitude\n",
    "def genCircle(start_lon, stop_lon, lat, decreasing): \n",
    "    res = map(lambda x:[int(x), lat],\n",
    "              sorted(np.arange(start=start_lon, stop=stop_lon+1), reverse=decreasing))\n",
    "    return list(res)\n",
    "\n",
    "def queryGrids(aboveLat):\n",
    "    this_box = {'lonmin': -180, 'lonmax': 180, 'latmin': aboveLat, 'latmax': 90}\n",
    "    circle_north_pos = genCircle(start_lon = this_box['lonmin'], stop_lon = this_box['lonmax'], \n",
    "                                  lat = this_box['latmax'], decreasing = False)\n",
    "    circle_south_neg = genCircle(start_lon = this_box['lonmin'], stop_lon = this_box['lonmax'], \n",
    "                                lat = this_box['latmin'],  decreasing = True)\n",
    "    slp_poly = [[this_box['lonmin'], this_box['latmin']]]\n",
    "    slp_poly.extend(circle_north_pos)\n",
    "    slp_poly.extend(circle_south_neg)\n",
    "    this_polygon = slp_poly\n",
    "    \n",
    "    if aboveLat > 0:\n",
    "        geo_qry = {\"loc\": \n",
    "               {\"$geoWithin\": {\n",
    "                   \"$geometry\": {\n",
    "                       \"type\": \"Polygon\",\n",
    "                       \"coordinates\": [this_polygon]\n",
    "               }}}}\n",
    "    else: # case of a big polygon larger than one hemisphere\n",
    "        geo_qry = {\"loc\": \n",
    "               {\"$geoWithin\": {\n",
    "                   \"$geometry\": {\n",
    "                       \"type\": \"Polygon\",\n",
    "                       \"coordinates\": [list(reversed(this_polygon))], # the orientation matters\n",
    "                       \"crs\": {\n",
    "                           \"type\": \"name\", \n",
    "                           \"properties\": { \"name\": \"urn:x-mongodb:crs:strictwinding:EPSG:4326\" }\n",
    "                       }\n",
    "                   }\n",
    "               }}}\n",
    "        \n",
    "    res = con_grid.find(filter = geo_qry, projection = {\"_id\":0, \"id_grid\": 1, \"loc\": 1})\n",
    "    grid_df = pd.DataFrame(list(res))\n",
    "    return grid_df\n",
    "\n",
    "grid_df_20N = queryGrids(aboveLat=20)\n",
    "grid_df_20S = queryGrids(aboveLat=-20)"
   ]
  },
  {
   "cell_type": "code",
   "execution_count": 47,
   "metadata": {},
   "outputs": [],
   "source": [
    "def queryScores(this_variable, this_grid_df):\n",
    "    # Query data anomalies\n",
    "    grid_ids = this_grid_df.id_grid.values\n",
    "    res = con_anom.aggregate(pipeline=[ \n",
    "    {\"$project\": {\"id_grid\": 1, \"date\": 1, this_variable: 1, \"month\": {\"$month\": \"$date\"}}},\n",
    "    {\"$match\": {\"month\": {\"$in\": [9, 10, 11, 12, 1, 2]},\n",
    "                \"id_grid\": {\"$in\": grid_ids.tolist()} }},\n",
    "    {\"$project\": {\"_id\": 0, \"id_grid\": 1, \"date\": 1, this_variable: 1}} ])    \n",
    "    anom_df = pd.DataFrame(list(res))\n",
    "\n",
    "    # Get Principal Component Scores\n",
    "    X_df = anom_df.pivot(index='date', columns='id_grid', values=this_variable)\n",
    "    pca = PCA(n_components=3)\n",
    "    df_scores = pd.DataFrame(pca.fit_transform(X_df), \n",
    "                             columns=['PC1_%s' % (this_variable), \n",
    "                                      'PC2_%s' % (this_variable), \n",
    "                                      'PC3_%s' % (this_variable)], \n",
    "                             index=X_df.index)\n",
    "    return df_scores\n",
    "\n",
    "scores_z70 = queryScores(this_variable='z70', this_grid_df=grid_df_20N)\n",
    "scores_ci = queryScores(this_variable='ci', this_grid_df=grid_df_20N)\n",
    "scores_sst = queryScores(this_variable='sst', this_grid_df=grid_df_20S)"
   ]
  },
  {
   "cell_type": "code",
   "execution_count": 58,
   "metadata": {},
   "outputs": [
    {
     "data": {
      "text/plain": [
       "                 PC1_z70       PC2_z70       PC3_z70    PC1_ci    PC2_ci  \\\n",
       "date                                                                       \n",
       "1979-01-01  47305.944044 -21384.693316 -20280.483751 -0.069347  0.698034   \n",
       "1979-02-01  27377.090406  -5627.629663 -24174.825459 -0.176903  0.691111   \n",
       "1979-09-01  18023.465139   2794.736512  -2092.985110  2.963272  1.071387   \n",
       "1979-10-01  14187.255820  -8848.225741  -3218.127655  2.152409  0.879816   \n",
       "1979-11-01  27520.923158 -14059.658557  -5650.416198  2.057799 -0.180313   \n",
       "\n",
       "              PC3_ci   PC1_sst   PC2_sst   PC3_sst  \n",
       "date                                                \n",
       "1979-01-01  1.563129 -3.052552  3.452704 -5.781001  \n",
       "1979-02-01  1.377256 -6.587935  8.314202 -7.698400  \n",
       "1979-09-01  1.375115  5.315733  5.144320 -0.100937  \n",
       "1979-10-01 -0.169666  6.340731  3.405841  3.129901  \n",
       "1979-11-01 -0.983080  3.580924  3.571717  7.026330  "
      ]
     },
     "execution_count": 58,
     "metadata": {},
     "output_type": "execute_result"
    }
   ],
   "source": [
    "scores_df = pd.merge(left=scores_z70, right=scores_ci, left_index=True, right_index=True).\\\n",
    "pipe(lambda df: pd.merge(df, scores_sst, left_index=True, right_index=True))\n",
    "scores_df.head()"
   ]
  },
  {
   "cell_type": "code",
   "execution_count": null,
   "metadata": {},
   "outputs": [],
   "source": []
  }
 ],
 "metadata": {
  "kernelspec": {
   "display_name": "Python 3",
   "language": "python",
   "name": "python3"
  },
  "language_info": {
   "codemirror_mode": {
    "name": "ipython",
    "version": 3
   },
   "file_extension": ".py",
   "mimetype": "text/x-python",
   "name": "python",
   "nbconvert_exporter": "python",
   "pygments_lexer": "ipython3",
   "version": "3.6.3"
  }
 },
 "nbformat": 4,
 "nbformat_minor": 2
}
