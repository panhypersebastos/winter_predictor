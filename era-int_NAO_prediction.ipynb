{
 "cells": [
  {
   "cell_type": "markdown",
   "metadata": {},
   "source": [
    "# NAO Prediction"
   ]
  },
  {
   "cell_type": "code",
   "execution_count": 149,
   "metadata": {},
   "outputs": [
    {
     "data": {
      "text/html": [
       "<script>requirejs.config({paths: { 'plotly': ['https://cdn.plot.ly/plotly-latest.min']},});if(!window.Plotly) {{require(['plotly'],function(plotly) {window.Plotly=plotly;});}}</script>"
      ],
      "text/vnd.plotly.v1+html": [
       "<script>requirejs.config({paths: { 'plotly': ['https://cdn.plot.ly/plotly-latest.min']},});if(!window.Plotly) {{require(['plotly'],function(plotly) {window.Plotly=plotly;});}}</script>"
      ]
     },
     "metadata": {},
     "output_type": "display_data"
    }
   ],
   "source": [
    "from netCDF4 import Dataset\n",
    "import numpy as np\n",
    "import matplotlib.pyplot as plt\n",
    "from mpl_toolkits.basemap import Basemap, addcyclic, shiftgrid\n",
    "import pymongo\n",
    "from pprint import pprint\n",
    "from datetime import datetime, timedelta, date\n",
    "import pandas as pd\n",
    "from sklearn.decomposition import PCA\n",
    "import sklearn.linear_model as skl_lm\n",
    "import gdal as gdl\n",
    "import matplotlib.mlab as ml\n",
    "import cartopy.crs as ccrs\n",
    "import plotly.graph_objs as go\n",
    "import plotly.offline as py\n",
    "py.init_notebook_mode(connected=True) # for live plot\n",
    "pd.set_option('display.notebook_repr_html', False)\n",
    "%matplotlib inline\n",
    "plt.style.use('seaborn-white')"
   ]
  },
  {
   "cell_type": "code",
   "execution_count": 2,
   "metadata": {},
   "outputs": [],
   "source": [
    "mongo_host_local = 'mongodb://localhost:27017/'\n",
    "mg = pymongo.MongoClient(mongo_host_local)"
   ]
  },
  {
   "cell_type": "code",
   "execution_count": 3,
   "metadata": {},
   "outputs": [
    {
     "data": {
      "text/plain": [
       "['system.indexes',\n",
       " 'ERAINT_grid',\n",
       " 'ERAINT_lores_grid',\n",
       " 'ERAINT_lores_monthly_anom',\n",
       " 'ERAINT_monthly',\n",
       " 'ERAINT_lores_monthly']"
      ]
     },
     "execution_count": 3,
     "metadata": {},
     "output_type": "execute_result"
    }
   ],
   "source": [
    "db = mg.ECMWF\n",
    "db.collection_names()"
   ]
  },
  {
   "cell_type": "code",
   "execution_count": 4,
   "metadata": {},
   "outputs": [],
   "source": [
    "ERA_vers = 'lores'\n",
    "if (ERA_vers == 'hires'):\n",
    "    col_dat = 'ERAINT_monthly'\n",
    "    col_anom = 'ERAINT_monthly_anom'\n",
    "    col_grid = 'ERAINT_grid'\n",
    "    resolution = 0.25\n",
    "elif (ERA_vers == 'lores'):\n",
    "    col_dat = 'ERAINT_lores_monthly'\n",
    "    col_anom = 'ERAINT_lores_monthly_anom'\n",
    "    col_grid = 'ERAINT_lores_grid'\n",
    "    resolution = 2.5"
   ]
  },
  {
   "cell_type": "markdown",
   "metadata": {},
   "source": [
    "# Construct NAO index"
   ]
  },
  {
   "cell_type": "code",
   "execution_count": 5,
   "metadata": {},
   "outputs": [],
   "source": [
    "# Query grid cells for NAO calculation\n",
    "con_grid = db[col_grid]\n",
    "poly1 = [list(reversed([ [-50,25], [-50,55], [10,55],[ 10,25], [-50,25]]))]\n",
    "poly2 = [list(reversed([ [-40, 55], [-40, 85], [20, 85], [20, 55], [-40, 55]]))]\n",
    "def getGridIds(this_polygon):\n",
    "    geo_qry = {\"loc\": \n",
    "               {\"$geoWithin\": {\n",
    "                   \"$geometry\": {\n",
    "                       \"type\": \"Polygon\",\n",
    "                       \"coordinates\": this_polygon\n",
    "                   }\n",
    "               }}}\n",
    "\n",
    "    res = con_grid.find(filter = geo_qry, projection = {\"_id\":0, \"id_grid\": 1, \"loc\": 1})\n",
    "    grid_df = pd.DataFrame(list(res))\n",
    "    return grid_df\n",
    "grid_df1 = getGridIds(poly1)\n",
    "grid_ids1 = grid_df1.id_grid.values\n",
    "grid_df2 = getGridIds(poly2)\n",
    "grid_ids2 = grid_df2.id_grid.values"
   ]
  },
  {
   "cell_type": "code",
   "execution_count": 6,
   "metadata": {},
   "outputs": [
    {
     "data": {
      "text/plain": [
       "   wyear        msl1  month        msl2         NAO\n",
       "1   1980  152.977452    5.0  -98.370800 -251.348252\n",
       "2   1981 -444.747185    5.0  117.529424  562.276609\n",
       "3   1982  336.279706    5.0 -377.140170 -713.419876\n",
       "4   1983 -342.535287    5.0  378.676276  721.211563\n",
       "5   1984 -220.904942    5.0  330.200922  551.105864"
      ]
     },
     "execution_count": 6,
     "metadata": {},
     "output_type": "execute_result"
    }
   ],
   "source": [
    "# Get yearly DJF averages over the two NAO nodal locations\n",
    "\n",
    "con_anom = db[col_anom]\n",
    "\n",
    "def setWinterYear(date): # December belong to next year's winter\n",
    "    mon=date.month\n",
    "    yr=date.year\n",
    "    if mon >= 9:\n",
    "        res = yr+1\n",
    "    else:\n",
    "        res = yr\n",
    "    return res\n",
    "\n",
    "def getMSL(this_grid_ids):\n",
    "    this_msl = con_anom.aggregate(pipeline=[\n",
    "        {\"$match\": {\"id_grid\": {\"$in\": this_grid_ids.tolist()}}},\n",
    "        {\"$group\": {\"_id\": \"$date\", \"mean\": {\"$avg\": \"$msl\"} }},\n",
    "        {\"$project\": {\"date\": \"$_id\", \n",
    "                      \"_id\": 0, \n",
    "                      \"msl\": \"$mean\"}}])\n",
    "    this_msl_df = pd.DataFrame(list(this_msl))\n",
    "    this_msl_df = this_msl_df.assign(\n",
    "            month=list(map(lambda x: x.month, this_msl_df.date)),\n",
    "            wyear=list(map(lambda x: setWinterYear(x), this_msl_df.date)) ).pipe(\n",
    "    lambda df: df.query(\"month in [12, 1, 2]\") ).pipe(\n",
    "    lambda df: df.groupby(\"wyear\").mean().reset_index())\n",
    "    return this_msl_df\n",
    "    \n",
    "msl1_df = getMSL(this_grid_ids = grid_ids1).rename(columns={'msl': 'msl1'})\n",
    "msl2_df = getMSL(this_grid_ids = grid_ids2).rename(columns={'msl': 'msl2'})\n",
    "msl_df = pd.merge(msl1_df, msl2_df)\n",
    "msl_df = msl_df.assign(NAO = msl_df.msl2-msl_df.msl1).sort_values('wyear', ascending=True).reset_index(drop=True)\n",
    "# Get rid of the first year (1979) and the last (2017) because the winter month are not complete\n",
    "msl_df = msl_df.query(\"(wyear > 1979) & (wyear <2017)\")\n",
    "msl_df.head()"
   ]
  },
  {
   "cell_type": "code",
   "execution_count": 7,
   "metadata": {},
   "outputs": [
    {
     "data": {
      "application/vnd.plotly.v1+json": {
       "data": [
        {
         "type": "scatter",
         "x": [
          1980,
          1981,
          1982,
          1983,
          1984,
          1985,
          1986,
          1987,
          1988,
          1989,
          1990,
          1991,
          1992,
          1993,
          1994,
          1995,
          1996,
          1997,
          1998,
          1999,
          2000,
          2001,
          2002,
          2003,
          2004,
          2005,
          2006,
          2007,
          2008,
          2009,
          2010,
          2011,
          2012,
          2013,
          2014,
          2015,
          2016
         ],
         "y": [
          -251.34825248225582,
          562.276609059571,
          -713.419875834828,
          721.2115632913301,
          551.105864494568,
          -728.6565991592656,
          -840.4751166878566,
          -477.1464378799178,
          -381.828063969006,
          1169.6934788523786,
          456.3908207136145,
          309.47947302857085,
          742.0941674893827,
          930.4713397278456,
          -191.58898900219012,
          593.1495843272426,
          -812.9905166314677,
          -168.12192234993302,
          -261.9483325857419,
          428.4064614704637,
          784.9275600972778,
          -672.40261551939,
          35.36866434523139,
          -464.76934788096713,
          -401.22064519898043,
          687.5425087221288,
          -230.19994498798036,
          243.7674844367353,
          427.95328496056953,
          -174.1444889040695,
          -1757.6197613460076,
          -717.6267005305241,
          825.963655192083,
          -742.5948847676126,
          -9.52146754940486,
          895.3481528221511,
          154.93704653447963
         ]
        }
       ],
       "layout": {}
      },
      "text/html": [
       "<div id=\"5f44b32b-f019-48e5-8438-c06ca504f8f7\" style=\"height: 525px; width: 100%;\" class=\"plotly-graph-div\"></div><script type=\"text/javascript\">require([\"plotly\"], function(Plotly) { window.PLOTLYENV=window.PLOTLYENV || {};window.PLOTLYENV.BASE_URL=\"https://plot.ly\";Plotly.newPlot(\"5f44b32b-f019-48e5-8438-c06ca504f8f7\", [{\"type\": \"scatter\", \"x\": [1980, 1981, 1982, 1983, 1984, 1985, 1986, 1987, 1988, 1989, 1990, 1991, 1992, 1993, 1994, 1995, 1996, 1997, 1998, 1999, 2000, 2001, 2002, 2003, 2004, 2005, 2006, 2007, 2008, 2009, 2010, 2011, 2012, 2013, 2014, 2015, 2016], \"y\": [-251.34825248225582, 562.276609059571, -713.419875834828, 721.2115632913301, 551.105864494568, -728.6565991592656, -840.4751166878566, -477.1464378799178, -381.828063969006, 1169.6934788523786, 456.3908207136145, 309.47947302857085, 742.0941674893827, 930.4713397278456, -191.58898900219012, 593.1495843272426, -812.9905166314677, -168.12192234993302, -261.9483325857419, 428.4064614704637, 784.9275600972778, -672.40261551939, 35.36866434523139, -464.76934788096713, -401.22064519898043, 687.5425087221288, -230.19994498798036, 243.7674844367353, 427.95328496056953, -174.1444889040695, -1757.6197613460076, -717.6267005305241, 825.963655192083, -742.5948847676126, -9.52146754940486, 895.3481528221511, 154.93704653447963]}], {}, {\"showLink\": true, \"linkText\": \"Export to plot.ly\"})});</script>"
      ],
      "text/vnd.plotly.v1+html": [
       "<div id=\"5f44b32b-f019-48e5-8438-c06ca504f8f7\" style=\"height: 525px; width: 100%;\" class=\"plotly-graph-div\"></div><script type=\"text/javascript\">require([\"plotly\"], function(Plotly) { window.PLOTLYENV=window.PLOTLYENV || {};window.PLOTLYENV.BASE_URL=\"https://plot.ly\";Plotly.newPlot(\"5f44b32b-f019-48e5-8438-c06ca504f8f7\", [{\"type\": \"scatter\", \"x\": [1980, 1981, 1982, 1983, 1984, 1985, 1986, 1987, 1988, 1989, 1990, 1991, 1992, 1993, 1994, 1995, 1996, 1997, 1998, 1999, 2000, 2001, 2002, 2003, 2004, 2005, 2006, 2007, 2008, 2009, 2010, 2011, 2012, 2013, 2014, 2015, 2016], \"y\": [-251.34825248225582, 562.276609059571, -713.419875834828, 721.2115632913301, 551.105864494568, -728.6565991592656, -840.4751166878566, -477.1464378799178, -381.828063969006, 1169.6934788523786, 456.3908207136145, 309.47947302857085, 742.0941674893827, 930.4713397278456, -191.58898900219012, 593.1495843272426, -812.9905166314677, -168.12192234993302, -261.9483325857419, 428.4064614704637, 784.9275600972778, -672.40261551939, 35.36866434523139, -464.76934788096713, -401.22064519898043, 687.5425087221288, -230.19994498798036, 243.7674844367353, 427.95328496056953, -174.1444889040695, -1757.6197613460076, -717.6267005305241, 825.963655192083, -742.5948847676126, -9.52146754940486, 895.3481528221511, 154.93704653447963]}], {}, {\"showLink\": true, \"linkText\": \"Export to plot.ly\"})});</script>"
      ]
     },
     "metadata": {},
     "output_type": "display_data"
    }
   ],
   "source": [
    "# Plot ts\n",
    "data = [go.Scatter(x=msl_df['wyear'], y=msl_df['NAO'] )]\n",
    "py.iplot(data, filename='pandas-time-series')"
   ]
  },
  {
   "cell_type": "markdown",
   "metadata": {},
   "source": [
    "# Get PCA scores"
   ]
  },
  {
   "cell_type": "code",
   "execution_count": 8,
   "metadata": {},
   "outputs": [],
   "source": [
    "# Generic function to query grid ids above a given latitude\n",
    "def genCircle(start_lon, stop_lon, lat, decreasing): \n",
    "    res = map(lambda x:[int(x), lat],\n",
    "              sorted(np.arange(start=start_lon, stop=stop_lon+1), reverse=decreasing))\n",
    "    return list(res)\n",
    "\n",
    "def queryGrids(aboveLat):\n",
    "    this_box = {'lonmin': -180, 'lonmax': 180, 'latmin': aboveLat, 'latmax': 90}\n",
    "    circle_north_pos = genCircle(start_lon = this_box['lonmin'], stop_lon = this_box['lonmax'], \n",
    "                                  lat = this_box['latmax'], decreasing = False)\n",
    "    circle_south_neg = genCircle(start_lon = this_box['lonmin'], stop_lon = this_box['lonmax'], \n",
    "                                lat = this_box['latmin'],  decreasing = True)\n",
    "    slp_poly = [[this_box['lonmin'], this_box['latmin']]]\n",
    "    slp_poly.extend(circle_north_pos)\n",
    "    slp_poly.extend(circle_south_neg)\n",
    "    this_polygon = slp_poly\n",
    "    \n",
    "    if aboveLat > 0:\n",
    "        geo_qry = {\"loc\": \n",
    "               {\"$geoWithin\": {\n",
    "                   \"$geometry\": {\n",
    "                       \"type\": \"Polygon\",\n",
    "                       \"coordinates\": [this_polygon]\n",
    "               }}}}\n",
    "    else: # case of a big polygon larger than one hemisphere\n",
    "        geo_qry = {\"loc\": \n",
    "               {\"$geoWithin\": {\n",
    "                   \"$geometry\": {\n",
    "                       \"type\": \"Polygon\",\n",
    "                       \"coordinates\": [list(reversed(this_polygon))], # the orientation matters\n",
    "                       \"crs\": {\n",
    "                           \"type\": \"name\", \n",
    "                           \"properties\": { \"name\": \"urn:x-mongodb:crs:strictwinding:EPSG:4326\" }\n",
    "                       }\n",
    "                   }\n",
    "               }}}\n",
    "        \n",
    "    res = con_grid.find(filter = geo_qry, projection = {\"_id\":0, \"id_grid\": 1, \"loc\": 1})\n",
    "    grid_df = pd.DataFrame(list(res))\n",
    "    return grid_df\n",
    "\n",
    "grid_df_20N = queryGrids(aboveLat=20)\n",
    "grid_df_20S = queryGrids(aboveLat=-20)"
   ]
  },
  {
   "cell_type": "code",
   "execution_count": 9,
   "metadata": {},
   "outputs": [],
   "source": [
    "def queryScores(this_variable, this_grid_df):\n",
    "    # Query data anomalies\n",
    "    grid_ids = this_grid_df.id_grid.values\n",
    "    res = con_anom.aggregate(pipeline=[ \n",
    "    {\"$project\": {\"id_grid\": 1, \"date\": 1, this_variable: 1, \"month\": {\"$month\": \"$date\"}}},\n",
    "    {\"$match\": {\"month\": {\"$in\": [9, 10, 11, 12, 1, 2]},\n",
    "                \"id_grid\": {\"$in\": grid_ids.tolist()} }},\n",
    "    {\"$project\": {\"_id\": 0, \"id_grid\": 1, \"date\": 1, this_variable: 1}} ])    \n",
    "    anom_df = pd.DataFrame(list(res))\n",
    "\n",
    "    # Get Principal Component Scores\n",
    "    X_df = anom_df.pivot(index='date', columns='id_grid', values=this_variable)\n",
    "    pca = PCA(n_components=3)\n",
    "    df_scores = pd.DataFrame(pca.fit_transform(X_df), \n",
    "                             columns=['PC1_%s' % (this_variable), \n",
    "                                      'PC2_%s' % (this_variable), \n",
    "                                      'PC3_%s' % (this_variable)], \n",
    "                             index=X_df.index)\n",
    "    return df_scores\n",
    "\n",
    "scores_z70 = queryScores(this_variable='z70', this_grid_df=grid_df_20N)\n",
    "scores_ci = queryScores(this_variable='ci', this_grid_df=grid_df_20N)\n",
    "scores_sst = queryScores(this_variable='sst', this_grid_df=grid_df_20S)"
   ]
  },
  {
   "cell_type": "code",
   "execution_count": 10,
   "metadata": {},
   "outputs": [
    {
     "data": {
      "text/plain": [
       "          date       PC1_z70       PC2_z70       PC3_z70    PC1_ci    PC2_ci  \\\n",
       "225 2016-10-01  44299.331490  23068.206844  13441.926821  1.196213  0.790865   \n",
       "226 2016-11-01  92403.226733  -5662.939549 -20588.211094  3.322215  0.966125   \n",
       "227 2016-12-01  39836.996391  -8379.671980  26762.907225  2.777325 -0.220234   \n",
       "228 2017-01-01 -39836.428742 -23745.659253  24101.644928  2.524970 -0.594460   \n",
       "229 2017-02-01  -7208.191393  -6404.854152 -21445.130997  1.154286 -0.473464   \n",
       "\n",
       "       PC3_ci   PC1_sst    PC2_sst    PC3_sst  year  wyear  month  \n",
       "225  0.307352  0.546405 -18.423239  19.370803  2016   2017     10  \n",
       "226  0.960893 -0.813587 -14.706474  24.183666  2016   2017     11  \n",
       "227  0.510333 -0.182977  -8.269907  17.974406  2016   2017     12  \n",
       "228  0.228384  2.921389  -6.787676  16.229876  2017   2017      1  \n",
       "229  0.309103  8.464926  -4.510643  11.886872  2017   2017      2  "
      ]
     },
     "execution_count": 10,
     "metadata": {},
     "output_type": "execute_result"
    }
   ],
   "source": [
    "scores_df = pd.merge(left=scores_z70, right=scores_ci, left_index=True, right_index=True).\\\n",
    "pipe(lambda df: pd.merge(df, scores_sst, left_index=True, right_index=True))\n",
    "scores_df.reset_index(level=0, inplace=True)\n",
    "scores_df = scores_df.assign(\n",
    "    year=list(map(lambda x: x.year, scores_df.date)),\n",
    "    wyear=list(map(lambda x: setWinterYear(x), scores_df.date)), \n",
    "    month=list(map(lambda x: x.month, scores_df.date)))\n",
    "scores_df.tail()"
   ]
  },
  {
   "cell_type": "code",
   "execution_count": 148,
   "metadata": {},
   "outputs": [],
   "source": [
    "# Create the Predictor DataFrame\n",
    "\n",
    "def renCol(x, mon):\n",
    "    if ('PC' in x):\n",
    "        z = '%s_%s' % (x, mon)\n",
    "    else:\n",
    "        z = x\n",
    "    return z\n",
    "\n",
    "def createMondf(this_mon, scores_df):\n",
    "    mon_df = scores_df.query('month == 9')\n",
    "    mon_df.columns = list(map(lambda x: renCol(x, mon=this_mon), list(mon_df)))\n",
    "    mon_df = mon_df.drop(['date','year','month'], axis=1)\n",
    "    return mon_df\n",
    "\n",
    "sep_df = createMondf(this_mon=9, scores_df=scores_df)\n",
    "oct_df = createMondf(this_mon=10, scores_df=scores_df)\n",
    "X_df = pd.merge(sep_df, oct_df)"
   ]
  },
  {
   "cell_type": "code",
   "execution_count": 147,
   "metadata": {},
   "outputs": [
    {
     "name": "stdout",
     "output_type": "stream",
     "text": [
      "<class 'pandas.core.frame.DataFrame'>\n",
      "Int64Index: 37 entries, 0 to 36\n",
      "Data columns (total 20 columns):\n",
      "wyear         37 non-null int64\n",
      "NAO           37 non-null float64\n",
      "PC1_z70_9     37 non-null float64\n",
      "PC2_z70_9     37 non-null float64\n",
      "PC3_z70_9     37 non-null float64\n",
      "PC1_ci_9      37 non-null float64\n",
      "PC2_ci_9      37 non-null float64\n",
      "PC3_ci_9      37 non-null float64\n",
      "PC1_sst_9     37 non-null float64\n",
      "PC2_sst_9     37 non-null float64\n",
      "PC3_sst_9     37 non-null float64\n",
      "PC1_z70_10    37 non-null float64\n",
      "PC2_z70_10    37 non-null float64\n",
      "PC3_z70_10    37 non-null float64\n",
      "PC1_ci_10     37 non-null float64\n",
      "PC2_ci_10     37 non-null float64\n",
      "PC3_ci_10     37 non-null float64\n",
      "PC1_sst_10    37 non-null float64\n",
      "PC2_sst_10    37 non-null float64\n",
      "PC3_sst_10    37 non-null float64\n",
      "dtypes: float64(19), int64(1)\n",
      "memory usage: 6.1 KB\n"
     ]
    }
   ],
   "source": [
    "# Create Regression DataFrame\n",
    "NAO_df = msl_df.drop(columns=['msl1', 'msl2', 'month'])\n",
    "dat_df = pd.merge(NAO_df, X_df)\n",
    "dat_df.info()"
   ]
  },
  {
   "cell_type": "code",
   "execution_count": 160,
   "metadata": {},
   "outputs": [
    {
     "data": {
      "text/plain": [
       "   wyear         NAO     PC1_z70_9    PC2_z70_9     PC3_z70_9  PC1_ci_9  \\\n",
       "0   1980 -251.348252  18023.465139  2794.736512  -2092.985110  2.963271   \n",
       "1   1981  562.276609  -5422.104718  9689.567172   5922.630486  0.101697   \n",
       "2   1982 -713.419876  19744.941093 -8460.604205   1635.209243 -0.538567   \n",
       "3   1983  721.211563 -14530.470578  8700.189280  -4888.437956 -0.840921   \n",
       "4   1984  551.105864  -5774.518779  2361.237107  13897.025591  0.980549   \n",
       "\n",
       "   PC2_ci_9  PC3_ci_9  PC1_sst_9  PC2_sst_9  PC3_sst_9    PC1_z70_10  \\\n",
       "0  1.071407  1.375141   5.315733   5.144231  -0.101282  18023.465139   \n",
       "1  0.728209  0.115517  -3.156064   0.330546  -3.889518  -5422.104718   \n",
       "2  1.527360 -1.105422  -4.273700   2.978333  -4.130311  19744.941093   \n",
       "3  1.564609 -0.486808  19.597934   7.319096  -4.275942 -14530.470578   \n",
       "4  0.753572  0.899565   2.394603  -2.069814  19.714610  -5774.518779   \n",
       "\n",
       "    PC2_z70_10    PC3_z70_10  PC1_ci_10  PC2_ci_10  PC3_ci_10  PC1_sst_10  \\\n",
       "0  2794.736512  -2092.985110   2.963271   1.071407   1.375141    5.315733   \n",
       "1  9689.567172   5922.630486   0.101697   0.728209   0.115517   -3.156064   \n",
       "2 -8460.604205   1635.209243  -0.538567   1.527360  -1.105422   -4.273700   \n",
       "3  8700.189280  -4888.437956  -0.840921   1.564609  -0.486808   19.597934   \n",
       "4  2361.237107  13897.025591   0.980549   0.753572   0.899565    2.394603   \n",
       "\n",
       "   PC2_sst_10  PC3_sst_10  \n",
       "0    5.144231   -0.101282  \n",
       "1    0.330546   -3.889518  \n",
       "2    2.978333   -4.130311  \n",
       "3    7.319096   -4.275942  \n",
       "4   -2.069814   19.714610  "
      ]
     },
     "execution_count": 160,
     "metadata": {},
     "output_type": "execute_result"
    }
   ],
   "source": [
    "dat_df.head()"
   ]
  },
  {
   "cell_type": "markdown",
   "metadata": {},
   "source": [
    "# Regression"
   ]
  },
  {
   "cell_type": "code",
   "execution_count": 169,
   "metadata": {},
   "outputs": [
    {
     "data": {
      "text/plain": [
       "LinearRegression(copy_X=True, fit_intercept=True, n_jobs=1, normalize=False)"
      ]
     },
     "execution_count": 169,
     "metadata": {},
     "output_type": "execute_result"
    }
   ],
   "source": [
    "regr = skl_lm.LinearRegression()\n",
    "X = dat_df[['PC1_ci_10', \n",
    "            'PC2_z70_10',\n",
    "            'PC3_sst_9']].as_matrix()\n",
    "y = dat_df.NAO\n",
    "regr.fit(X, y)"
   ]
  },
  {
   "cell_type": "code",
   "execution_count": 170,
   "metadata": {},
   "outputs": [
    {
     "data": {
      "text/plain": [
       "0.1261185309919487"
      ]
     },
     "execution_count": 170,
     "metadata": {},
     "output_type": "execute_result"
    }
   ],
   "source": [
    "regr.score(X, y)"
   ]
  },
  {
   "cell_type": "code",
   "execution_count": 157,
   "metadata": {},
   "outputs": [
    {
     "name": "stderr",
     "output_type": "stream",
     "text": [
      "/home/dmasson/anaconda3/envs/winter_predictor/lib/python3.6/site-packages/statsmodels/compat/pandas.py:56: FutureWarning:\n",
      "\n",
      "The pandas.core.datetools module is deprecated and will be removed in a future version. Please use the pandas.tseries module instead.\n",
      "\n"
     ]
    }
   ],
   "source": [
    "import statsmodels.api as sm\n",
    "import statsmodels.formula.api as smf"
   ]
  },
  {
   "cell_type": "code",
   "execution_count": 164,
   "metadata": {},
   "outputs": [
    {
     "data": {
      "text/html": [
       "<table class=\"simpletable\">\n",
       "<caption>OLS Regression Results</caption>\n",
       "<tr>\n",
       "  <th>Dep. Variable:</th>           <td>NAO</td>       <th>  R-squared:         </th> <td>   0.126</td>\n",
       "</tr>\n",
       "<tr>\n",
       "  <th>Model:</th>                   <td>OLS</td>       <th>  Adj. R-squared:    </th> <td>   0.047</td>\n",
       "</tr>\n",
       "<tr>\n",
       "  <th>Method:</th>             <td>Least Squares</td>  <th>  F-statistic:       </th> <td>   1.588</td>\n",
       "</tr>\n",
       "<tr>\n",
       "  <th>Date:</th>             <td>Sun, 11 Feb 2018</td> <th>  Prob (F-statistic):</th>  <td> 0.211</td> \n",
       "</tr>\n",
       "<tr>\n",
       "  <th>Time:</th>                 <td>12:34:54</td>     <th>  Log-Likelihood:    </th> <td> -289.67</td>\n",
       "</tr>\n",
       "<tr>\n",
       "  <th>No. Observations:</th>      <td>    37</td>      <th>  AIC:               </th> <td>   587.3</td>\n",
       "</tr>\n",
       "<tr>\n",
       "  <th>Df Residuals:</th>          <td>    33</td>      <th>  BIC:               </th> <td>   593.8</td>\n",
       "</tr>\n",
       "<tr>\n",
       "  <th>Df Model:</th>              <td>     3</td>      <th>                     </th>     <td> </td>   \n",
       "</tr>\n",
       "<tr>\n",
       "  <th>Covariance Type:</th>      <td>nonrobust</td>    <th>                     </th>     <td> </td>   \n",
       "</tr>\n",
       "</table>\n",
       "<table class=\"simpletable\">\n",
       "<tr>\n",
       "       <td></td>         <th>coef</th>     <th>std err</th>      <th>t</th>      <th>P>|t|</th>  <th>[0.025</th>    <th>0.975]</th>  \n",
       "</tr>\n",
       "<tr>\n",
       "  <th>Intercept</th>  <td>   23.8559</td> <td>  106.073</td> <td>    0.225</td> <td> 0.823</td> <td> -191.952</td> <td>  239.664</td>\n",
       "</tr>\n",
       "<tr>\n",
       "  <th>PC1_ci_10</th>  <td> -190.4072</td> <td>  103.107</td> <td>   -1.847</td> <td> 0.074</td> <td> -400.181</td> <td>   19.366</td>\n",
       "</tr>\n",
       "<tr>\n",
       "  <th>PC2_z70_10</th> <td>    0.0251</td> <td>    0.018</td> <td>    1.422</td> <td> 0.164</td> <td>   -0.011</td> <td>    0.061</td>\n",
       "</tr>\n",
       "<tr>\n",
       "  <th>PC3_sst_9</th>  <td>   16.6320</td> <td>   15.072</td> <td>    1.104</td> <td> 0.278</td> <td>  -14.032</td> <td>   47.296</td>\n",
       "</tr>\n",
       "</table>\n",
       "<table class=\"simpletable\">\n",
       "<tr>\n",
       "  <th>Omnibus:</th>       <td> 2.658</td> <th>  Durbin-Watson:     </th> <td>   2.147</td>\n",
       "</tr>\n",
       "<tr>\n",
       "  <th>Prob(Omnibus):</th> <td> 0.265</td> <th>  Jarque-Bera (JB):  </th> <td>   1.814</td>\n",
       "</tr>\n",
       "<tr>\n",
       "  <th>Skew:</th>          <td>-0.535</td> <th>  Prob(JB):          </th> <td>   0.404</td>\n",
       "</tr>\n",
       "<tr>\n",
       "  <th>Kurtosis:</th>      <td> 3.175</td> <th>  Cond. No.          </th> <td>6.12e+03</td>\n",
       "</tr>\n",
       "</table>"
      ],
      "text/plain": [
       "<class 'statsmodels.iolib.summary.Summary'>\n",
       "\"\"\"\n",
       "                            OLS Regression Results                            \n",
       "==============================================================================\n",
       "Dep. Variable:                    NAO   R-squared:                       0.126\n",
       "Model:                            OLS   Adj. R-squared:                  0.047\n",
       "Method:                 Least Squares   F-statistic:                     1.588\n",
       "Date:                Sun, 11 Feb 2018   Prob (F-statistic):              0.211\n",
       "Time:                        12:34:54   Log-Likelihood:                -289.67\n",
       "No. Observations:                  37   AIC:                             587.3\n",
       "Df Residuals:                      33   BIC:                             593.8\n",
       "Df Model:                           3                                         \n",
       "Covariance Type:            nonrobust                                         \n",
       "==============================================================================\n",
       "                 coef    std err          t      P>|t|      [0.025      0.975]\n",
       "------------------------------------------------------------------------------\n",
       "Intercept     23.8559    106.073      0.225      0.823    -191.952     239.664\n",
       "PC1_ci_10   -190.4072    103.107     -1.847      0.074    -400.181      19.366\n",
       "PC2_z70_10     0.0251      0.018      1.422      0.164      -0.011       0.061\n",
       "PC3_sst_9     16.6320     15.072      1.104      0.278     -14.032      47.296\n",
       "==============================================================================\n",
       "Omnibus:                        2.658   Durbin-Watson:                   2.147\n",
       "Prob(Omnibus):                  0.265   Jarque-Bera (JB):                1.814\n",
       "Skew:                          -0.535   Prob(JB):                        0.404\n",
       "Kurtosis:                       3.175   Cond. No.                     6.12e+03\n",
       "==============================================================================\n",
       "\n",
       "Warnings:\n",
       "[1] Standard Errors assume that the covariance matrix of the errors is correctly specified.\n",
       "[2] The condition number is large, 6.12e+03. This might indicate that there are\n",
       "strong multicollinearity or other numerical problems.\n",
       "\"\"\""
      ]
     },
     "execution_count": 164,
     "metadata": {},
     "output_type": "execute_result"
    }
   ],
   "source": [
    "est = smf.ols('NAO ~ PC1_ci_10 + PC2_z70_10 + PC3_sst_9', dat_df).fit()\n",
    "est.summary()"
   ]
  },
  {
   "cell_type": "code",
   "execution_count": 173,
   "metadata": {},
   "outputs": [
    {
     "data": {
      "text/plain": [
       "0.35496478698597694"
      ]
     },
     "execution_count": 173,
     "metadata": {},
     "output_type": "execute_result"
    }
   ],
   "source": [
    "np.sqrt(0.126)"
   ]
  },
  {
   "cell_type": "code",
   "execution_count": 176,
   "metadata": {},
   "outputs": [
    {
     "data": {
      "text/plain": [
       "LinearRegression(copy_X=True, fit_intercept=True, n_jobs=1, normalize=False)"
      ]
     },
     "execution_count": 176,
     "metadata": {},
     "output_type": "execute_result"
    }
   ],
   "source": [
    "regr = skl_lm.LinearRegression()\n",
    "X = dat_df[['PC1_z70_9',\n",
    " 'PC2_z70_9',\n",
    " 'PC3_z70_9',\n",
    " 'PC1_ci_9',\n",
    " 'PC2_ci_9',\n",
    " 'PC3_ci_9',\n",
    " 'PC1_sst_9',\n",
    " 'PC2_sst_9',\n",
    " 'PC3_sst_9',\n",
    " 'PC1_z70_10',\n",
    " 'PC2_z70_10',\n",
    " 'PC3_z70_10',\n",
    " 'PC1_ci_10',\n",
    " 'PC2_ci_10',\n",
    " 'PC3_ci_10',\n",
    " 'PC1_sst_10',\n",
    " 'PC2_sst_10',\n",
    " 'PC3_sst_10']].as_matrix()\n",
    "y = dat_df.NAO\n",
    "regr.fit(X, y)"
   ]
  },
  {
   "cell_type": "code",
   "execution_count": 177,
   "metadata": {},
   "outputs": [
    {
     "data": {
      "text/plain": [
       "0.27357954145307639"
      ]
     },
     "execution_count": 177,
     "metadata": {},
     "output_type": "execute_result"
    }
   ],
   "source": [
    "regr.score(X, y)"
   ]
  },
  {
   "cell_type": "code",
   "execution_count": 178,
   "metadata": {},
   "outputs": [
    {
     "data": {
      "text/plain": [
       "0.51961524227066325"
      ]
     },
     "execution_count": 178,
     "metadata": {},
     "output_type": "execute_result"
    }
   ],
   "source": [
    "np.sqrt(0.27)"
   ]
  },
  {
   "cell_type": "code",
   "execution_count": null,
   "metadata": {},
   "outputs": [],
   "source": []
  }
 ],
 "metadata": {
  "kernelspec": {
   "display_name": "Python 3",
   "language": "python",
   "name": "python3"
  },
  "language_info": {
   "codemirror_mode": {
    "name": "ipython",
    "version": 3
   },
   "file_extension": ".py",
   "mimetype": "text/x-python",
   "name": "python",
   "nbconvert_exporter": "python",
   "pygments_lexer": "ipython3",
   "version": "3.6.3"
  }
 },
 "nbformat": 4,
 "nbformat_minor": 2
}
