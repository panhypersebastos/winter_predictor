{
 "cells": [
  {
   "cell_type": "markdown",
   "metadata": {},
   "source": [
    "# Winter Predictor Based on ERA-int"
   ]
  },
  {
   "cell_type": "markdown",
   "metadata": {},
   "source": [
    "[Database Exploration](#db)\n",
    "\n",
    "[Indexes](#indexes)"
   ]
  },
  {
   "cell_type": "code",
   "execution_count": 1,
   "metadata": {
    "collapsed": true
   },
   "outputs": [],
   "source": [
    "from netCDF4 import Dataset\n",
    "import numpy as np\n",
    "import matplotlib.pyplot as plt\n",
    "from mpl_toolkits.basemap import Basemap, addcyclic, shiftgrid\n",
    "import pymongo\n",
    "from pprint import pprint\n",
    "from datetime import datetime, timedelta, date"
   ]
  },
  {
   "cell_type": "markdown",
   "metadata": {
    "collapsed": true
   },
   "source": [
    "## Database exploration <a id='db'></a>"
   ]
  },
  {
   "cell_type": "code",
   "execution_count": 2,
   "metadata": {
    "collapsed": true
   },
   "outputs": [],
   "source": [
    "mongo_host_local = 'mongodb://localhost:27017/'\n",
    "mg = pymongo.MongoClient(mongo_host_local)"
   ]
  },
  {
   "cell_type": "code",
   "execution_count": 3,
   "metadata": {},
   "outputs": [
    {
     "name": "stdout",
     "output_type": "stream",
     "text": [
      "['ECMWF', 'local']\n"
     ]
    }
   ],
   "source": [
    "pprint(mg.database_names())"
   ]
  },
  {
   "cell_type": "code",
   "execution_count": 23,
   "metadata": {},
   "outputs": [
    {
     "data": {
      "text/plain": [
       "['ERAINT_grid', 'ERAINT_monthly', 'system.indexes']"
      ]
     },
     "execution_count": 23,
     "metadata": {},
     "output_type": "execute_result"
    }
   ],
   "source": [
    "db = mg.ECMWF\n",
    "db.collection_names()"
   ]
  },
  {
   "cell_type": "code",
   "execution_count": 5,
   "metadata": {
    "collapsed": true
   },
   "outputs": [],
   "source": [
    "con = db.ERAINT_grid\n",
    "fo = con.find_one()"
   ]
  },
  {
   "cell_type": "code",
   "execution_count": 6,
   "metadata": {},
   "outputs": [
    {
     "name": "stdout",
     "output_type": "stream",
     "text": [
      "{'_id': ObjectId('5a088e938cb6b80d9b4c7f93'),\n",
      " 'id_grid': 1,\n",
      " 'loc': {'coordinates': [-180.0, 90.0], 'type': 'Point'}}\n"
     ]
    }
   ],
   "source": [
    "pprint(fo)"
   ]
  },
  {
   "cell_type": "code",
   "execution_count": 7,
   "metadata": {},
   "outputs": [
    {
     "data": {
      "text/plain": [
       "115680"
      ]
     },
     "execution_count": 7,
     "metadata": {},
     "output_type": "execute_result"
    }
   ],
   "source": [
    "con.count()"
   ]
  },
  {
   "cell_type": "code",
   "execution_count": 8,
   "metadata": {
    "collapsed": true
   },
   "outputs": [],
   "source": [
    "#con.drop()"
   ]
  },
  {
   "cell_type": "code",
   "execution_count": 9,
   "metadata": {},
   "outputs": [
    {
     "name": "stdout",
     "output_type": "stream",
     "text": [
      "{'_id_': {'key': [('_id', 1)], 'ns': 'ECMWF.ERAINT_grid', 'v': 1},\n",
      " 'loc_2dsphere_id_grid_1': {'2dsphereIndexVersion': 2,\n",
      "                            'key': [('loc', '2dsphere'), ('id_grid', 1)],\n",
      "                            'ns': 'ECMWF.ERAINT_grid',\n",
      "                            'v': 1}}\n"
     ]
    }
   ],
   "source": [
    "ind = con.index_information()\n",
    "pprint(ind)"
   ]
  },
  {
   "cell_type": "code",
   "execution_count": 10,
   "metadata": {},
   "outputs": [
    {
     "name": "stdout",
     "output_type": "stream",
     "text": [
      "{'_id': ObjectId('5a089e0f8cb6b81914062592'),\n",
      " 'al': 0.07,\n",
      " 'ci': 1.0,\n",
      " 'd2m': 235.27,\n",
      " 'date': datetime.datetime(1979, 2, 1, 0, 0),\n",
      " 'hcc': 0.2,\n",
      " 'id_grid': 1,\n",
      " 'istl1': 238.26,\n",
      " 'lcc': 0.58,\n",
      " 'mcc': 0.26,\n",
      " 'msl': 101948.67,\n",
      " 'si10': 6.1,\n",
      " 'skt': 238.46,\n",
      " 'sp': 101948.57,\n",
      " 'sst': 271.46,\n",
      " 'stl1': 238.47,\n",
      " 't2m': 238.56,\n",
      " 'u10': 1.18,\n",
      " 'v10': -0.01,\n",
      " 'year': 1979}\n"
     ]
    }
   ],
   "source": [
    "con_data = db.ERAINT_monthly\n",
    "fo = con_data.find_one()\n",
    "pprint(fo)"
   ]
  },
  {
   "cell_type": "code",
   "execution_count": 11,
   "metadata": {},
   "outputs": [
    {
     "name": "stdout",
     "output_type": "stream",
     "text": [
      "{'_id': ObjectId('5a08a9bf8cb6b81914771dd2'),\n",
      " 'al': 0.07,\n",
      " 'ci': 1.0,\n",
      " 'd2m': 239.33,\n",
      " 'date': datetime.datetime(1995, 1, 1, 0, 0),\n",
      " 'hcc': 0.29,\n",
      " 'id_grid': 1,\n",
      " 'istl1': 242.21,\n",
      " 'lcc': 0.52,\n",
      " 'mcc': 0.19,\n",
      " 'msl': 102341.94,\n",
      " 'si10': 4.96,\n",
      " 'skt': 242.22,\n",
      " 'sp': 102341.87,\n",
      " 'sst': 271.46,\n",
      " 'stl1': 242.24,\n",
      " 't2m': 242.46,\n",
      " 'u10': -0.5,\n",
      " 'v10': 2.28,\n",
      " 'year': 1995}\n",
      "{'_id': ObjectId('5a08a9bf8cb6b81914771dd3'),\n",
      " 'al': 0.07,\n",
      " 'ci': 1.0,\n",
      " 'd2m': 239.33,\n",
      " 'date': datetime.datetime(1995, 1, 1, 0, 0),\n",
      " 'hcc': 0.29,\n",
      " 'id_grid': 2,\n",
      " 'istl1': 242.21,\n",
      " 'lcc': 0.52,\n",
      " 'mcc': 0.19,\n",
      " 'msl': 102341.94,\n",
      " 'si10': 4.96,\n",
      " 'skt': 242.22,\n",
      " 'sp': 102341.87,\n",
      " 'sst': 271.46,\n",
      " 'stl1': 242.24,\n",
      " 't2m': 242.46,\n",
      " 'u10': -0.46,\n",
      " 'v10': 2.27,\n",
      " 'year': 1995}\n"
     ]
    }
   ],
   "source": [
    "this_day = datetime(1995,1 ,1)\n",
    "for doc in con_data.find({'date': this_day}).limit(2):\n",
    "    pprint(doc)"
   ]
  },
  {
   "cell_type": "code",
   "execution_count": 27,
   "metadata": {
    "collapsed": true
   },
   "outputs": [],
   "source": [
    "# Drop the monthly data collection \n",
    "#con_data.drop()"
   ]
  },
  {
   "cell_type": "code",
   "execution_count": 12,
   "metadata": {},
   "outputs": [
    {
     "name": "stdout",
     "output_type": "stream",
     "text": [
      "{'_id': ObjectId('5a089e0f8cb6b81914062592'),\n",
      " 'al': 0.07,\n",
      " 'ci': 1.0,\n",
      " 'd2m': 235.27,\n",
      " 'date': datetime.datetime(1979, 2, 1, 0, 0),\n",
      " 'hcc': 0.2,\n",
      " 'id_grid': 1,\n",
      " 'istl1': 238.26,\n",
      " 'lcc': 0.58,\n",
      " 'mcc': 0.26,\n",
      " 'msl': 101948.67,\n",
      " 'si10': 6.1,\n",
      " 'skt': 238.46,\n",
      " 'sp': 101948.57,\n",
      " 'sst': 271.46,\n",
      " 'stl1': 238.47,\n",
      " 't2m': 238.56,\n",
      " 'u10': 1.18,\n",
      " 'v10': -0.01,\n",
      " 'year': 1979}\n"
     ]
    }
   ],
   "source": [
    "fo = con_data.find_one()\n",
    "pprint(fo)"
   ]
  },
  {
   "cell_type": "code",
   "execution_count": 13,
   "metadata": {},
   "outputs": [
    {
     "data": {
      "text/plain": [
       "53675520"
      ]
     },
     "execution_count": 13,
     "metadata": {},
     "output_type": "execute_result"
    }
   ],
   "source": [
    "# How many documents are in the daily data collection\n",
    "con_data.count()"
   ]
  },
  {
   "cell_type": "code",
   "execution_count": 25,
   "metadata": {},
   "outputs": [
    {
     "data": {
      "text/plain": [
       "[datetime.datetime(2017, 8, 1, 0, 0),\n",
       " datetime.datetime(2017, 7, 1, 0, 0),\n",
       " datetime.datetime(2017, 6, 1, 0, 0),\n",
       " datetime.datetime(2017, 5, 1, 0, 0),\n",
       " datetime.datetime(2017, 4, 1, 0, 0),\n",
       " datetime.datetime(2017, 3, 1, 0, 0),\n",
       " datetime.datetime(2017, 2, 1, 0, 0),\n",
       " datetime.datetime(2017, 1, 1, 0, 0),\n",
       " datetime.datetime(2016, 12, 1, 0, 0),\n",
       " datetime.datetime(2016, 11, 1, 0, 0),\n",
       " datetime.datetime(2016, 10, 1, 0, 0),\n",
       " datetime.datetime(2016, 9, 1, 0, 0),\n",
       " datetime.datetime(2016, 8, 1, 0, 0),\n",
       " datetime.datetime(2016, 7, 1, 0, 0),\n",
       " datetime.datetime(2016, 6, 1, 0, 0),\n",
       " datetime.datetime(2016, 5, 1, 0, 0),\n",
       " datetime.datetime(2016, 4, 1, 0, 0),\n",
       " datetime.datetime(2016, 3, 1, 0, 0),\n",
       " datetime.datetime(2016, 2, 1, 0, 0),\n",
       " datetime.datetime(2016, 1, 1, 0, 0),\n",
       " datetime.datetime(2015, 12, 1, 0, 0),\n",
       " datetime.datetime(2015, 11, 1, 0, 0),\n",
       " datetime.datetime(2015, 10, 1, 0, 0),\n",
       " datetime.datetime(2015, 9, 1, 0, 0),\n",
       " datetime.datetime(2015, 8, 1, 0, 0),\n",
       " datetime.datetime(2015, 7, 1, 0, 0),\n",
       " datetime.datetime(2015, 6, 1, 0, 0),\n",
       " datetime.datetime(2015, 5, 1, 0, 0),\n",
       " datetime.datetime(2015, 4, 1, 0, 0),\n",
       " datetime.datetime(2015, 3, 1, 0, 0),\n",
       " datetime.datetime(2015, 2, 1, 0, 0),\n",
       " datetime.datetime(2015, 1, 1, 0, 0),\n",
       " datetime.datetime(2014, 12, 1, 0, 0),\n",
       " datetime.datetime(2014, 11, 1, 0, 0),\n",
       " datetime.datetime(2014, 10, 1, 0, 0),\n",
       " datetime.datetime(2014, 9, 1, 0, 0),\n",
       " datetime.datetime(2014, 8, 1, 0, 0),\n",
       " datetime.datetime(2014, 7, 1, 0, 0),\n",
       " datetime.datetime(2014, 6, 1, 0, 0),\n",
       " datetime.datetime(2014, 5, 1, 0, 0),\n",
       " datetime.datetime(2014, 4, 1, 0, 0),\n",
       " datetime.datetime(2014, 3, 1, 0, 0),\n",
       " datetime.datetime(2014, 2, 1, 0, 0),\n",
       " datetime.datetime(2014, 1, 1, 0, 0),\n",
       " datetime.datetime(2013, 12, 1, 0, 0),\n",
       " datetime.datetime(2013, 11, 1, 0, 0),\n",
       " datetime.datetime(2013, 10, 1, 0, 0),\n",
       " datetime.datetime(2013, 9, 1, 0, 0),\n",
       " datetime.datetime(2013, 8, 1, 0, 0),\n",
       " datetime.datetime(2013, 7, 1, 0, 0),\n",
       " datetime.datetime(2013, 6, 1, 0, 0),\n",
       " datetime.datetime(2013, 5, 1, 0, 0),\n",
       " datetime.datetime(2013, 4, 1, 0, 0),\n",
       " datetime.datetime(2013, 3, 1, 0, 0),\n",
       " datetime.datetime(2013, 2, 1, 0, 0),\n",
       " datetime.datetime(2013, 1, 1, 0, 0),\n",
       " datetime.datetime(2012, 12, 1, 0, 0),\n",
       " datetime.datetime(2012, 11, 1, 0, 0),\n",
       " datetime.datetime(2012, 10, 1, 0, 0),\n",
       " datetime.datetime(2012, 9, 1, 0, 0),\n",
       " datetime.datetime(2012, 8, 1, 0, 0),\n",
       " datetime.datetime(2012, 7, 1, 0, 0),\n",
       " datetime.datetime(2012, 6, 1, 0, 0),\n",
       " datetime.datetime(2012, 5, 1, 0, 0),\n",
       " datetime.datetime(2012, 4, 1, 0, 0),\n",
       " datetime.datetime(2012, 3, 1, 0, 0),\n",
       " datetime.datetime(2012, 2, 1, 0, 0),\n",
       " datetime.datetime(2012, 1, 1, 0, 0),\n",
       " datetime.datetime(2011, 12, 1, 0, 0),\n",
       " datetime.datetime(2011, 11, 1, 0, 0),\n",
       " datetime.datetime(2011, 10, 1, 0, 0),\n",
       " datetime.datetime(2011, 9, 1, 0, 0),\n",
       " datetime.datetime(2011, 8, 1, 0, 0),\n",
       " datetime.datetime(2011, 7, 1, 0, 0),\n",
       " datetime.datetime(2011, 6, 1, 0, 0),\n",
       " datetime.datetime(2011, 5, 1, 0, 0),\n",
       " datetime.datetime(2011, 4, 1, 0, 0),\n",
       " datetime.datetime(2011, 3, 1, 0, 0),\n",
       " datetime.datetime(2011, 2, 1, 0, 0),\n",
       " datetime.datetime(2011, 1, 1, 0, 0),\n",
       " datetime.datetime(2010, 12, 1, 0, 0),\n",
       " datetime.datetime(2010, 11, 1, 0, 0),\n",
       " datetime.datetime(2010, 10, 1, 0, 0),\n",
       " datetime.datetime(2010, 9, 1, 0, 0),\n",
       " datetime.datetime(2010, 8, 1, 0, 0),\n",
       " datetime.datetime(2010, 7, 1, 0, 0),\n",
       " datetime.datetime(2010, 6, 1, 0, 0),\n",
       " datetime.datetime(2010, 5, 1, 0, 0),\n",
       " datetime.datetime(2010, 4, 1, 0, 0),\n",
       " datetime.datetime(2010, 3, 1, 0, 0),\n",
       " datetime.datetime(2010, 2, 1, 0, 0),\n",
       " datetime.datetime(2010, 1, 1, 0, 0),\n",
       " datetime.datetime(2009, 12, 1, 0, 0),\n",
       " datetime.datetime(2009, 11, 1, 0, 0),\n",
       " datetime.datetime(2009, 10, 1, 0, 0),\n",
       " datetime.datetime(2009, 9, 1, 0, 0),\n",
       " datetime.datetime(2009, 8, 1, 0, 0),\n",
       " datetime.datetime(2009, 7, 1, 0, 0),\n",
       " datetime.datetime(2009, 6, 1, 0, 0),\n",
       " datetime.datetime(2009, 5, 1, 0, 0),\n",
       " datetime.datetime(2009, 4, 1, 0, 0),\n",
       " datetime.datetime(2009, 3, 1, 0, 0),\n",
       " datetime.datetime(2009, 2, 1, 0, 0),\n",
       " datetime.datetime(2009, 1, 1, 0, 0),\n",
       " datetime.datetime(2008, 12, 1, 0, 0),\n",
       " datetime.datetime(2008, 11, 1, 0, 0),\n",
       " datetime.datetime(2008, 10, 1, 0, 0),\n",
       " datetime.datetime(2008, 9, 1, 0, 0),\n",
       " datetime.datetime(2008, 8, 1, 0, 0),\n",
       " datetime.datetime(2008, 7, 1, 0, 0),\n",
       " datetime.datetime(2008, 6, 1, 0, 0),\n",
       " datetime.datetime(2008, 5, 1, 0, 0),\n",
       " datetime.datetime(2008, 4, 1, 0, 0),\n",
       " datetime.datetime(2008, 3, 1, 0, 0),\n",
       " datetime.datetime(2008, 2, 1, 0, 0),\n",
       " datetime.datetime(2008, 1, 1, 0, 0),\n",
       " datetime.datetime(2007, 12, 1, 0, 0),\n",
       " datetime.datetime(2007, 11, 1, 0, 0),\n",
       " datetime.datetime(2007, 10, 1, 0, 0),\n",
       " datetime.datetime(2007, 9, 1, 0, 0),\n",
       " datetime.datetime(2007, 8, 1, 0, 0),\n",
       " datetime.datetime(2007, 7, 1, 0, 0),\n",
       " datetime.datetime(2007, 6, 1, 0, 0),\n",
       " datetime.datetime(2007, 5, 1, 0, 0),\n",
       " datetime.datetime(2007, 4, 1, 0, 0),\n",
       " datetime.datetime(2007, 3, 1, 0, 0),\n",
       " datetime.datetime(2007, 2, 1, 0, 0),\n",
       " datetime.datetime(2007, 1, 1, 0, 0),\n",
       " datetime.datetime(2006, 12, 1, 0, 0),\n",
       " datetime.datetime(2006, 11, 1, 0, 0),\n",
       " datetime.datetime(2006, 10, 1, 0, 0),\n",
       " datetime.datetime(2006, 9, 1, 0, 0),\n",
       " datetime.datetime(2006, 8, 1, 0, 0),\n",
       " datetime.datetime(2006, 7, 1, 0, 0),\n",
       " datetime.datetime(2006, 6, 1, 0, 0),\n",
       " datetime.datetime(2006, 5, 1, 0, 0),\n",
       " datetime.datetime(2006, 4, 1, 0, 0),\n",
       " datetime.datetime(2006, 3, 1, 0, 0),\n",
       " datetime.datetime(2006, 2, 1, 0, 0),\n",
       " datetime.datetime(2006, 1, 1, 0, 0),\n",
       " datetime.datetime(2005, 12, 1, 0, 0),\n",
       " datetime.datetime(2005, 11, 1, 0, 0),\n",
       " datetime.datetime(2005, 10, 1, 0, 0),\n",
       " datetime.datetime(2005, 9, 1, 0, 0),\n",
       " datetime.datetime(2005, 8, 1, 0, 0),\n",
       " datetime.datetime(2005, 7, 1, 0, 0),\n",
       " datetime.datetime(2005, 6, 1, 0, 0),\n",
       " datetime.datetime(2005, 5, 1, 0, 0),\n",
       " datetime.datetime(2005, 4, 1, 0, 0),\n",
       " datetime.datetime(2005, 3, 1, 0, 0),\n",
       " datetime.datetime(2005, 2, 1, 0, 0),\n",
       " datetime.datetime(2005, 1, 1, 0, 0),\n",
       " datetime.datetime(2004, 12, 1, 0, 0),\n",
       " datetime.datetime(2004, 11, 1, 0, 0),\n",
       " datetime.datetime(2004, 10, 1, 0, 0),\n",
       " datetime.datetime(2004, 9, 1, 0, 0),\n",
       " datetime.datetime(2004, 8, 1, 0, 0),\n",
       " datetime.datetime(2004, 7, 1, 0, 0),\n",
       " datetime.datetime(2004, 6, 1, 0, 0),\n",
       " datetime.datetime(2004, 5, 1, 0, 0),\n",
       " datetime.datetime(2004, 4, 1, 0, 0),\n",
       " datetime.datetime(2004, 3, 1, 0, 0),\n",
       " datetime.datetime(2004, 2, 1, 0, 0),\n",
       " datetime.datetime(2004, 1, 1, 0, 0),\n",
       " datetime.datetime(2003, 12, 1, 0, 0),\n",
       " datetime.datetime(2003, 11, 1, 0, 0),\n",
       " datetime.datetime(2003, 10, 1, 0, 0),\n",
       " datetime.datetime(2003, 9, 1, 0, 0),\n",
       " datetime.datetime(2003, 8, 1, 0, 0),\n",
       " datetime.datetime(2003, 7, 1, 0, 0),\n",
       " datetime.datetime(2003, 6, 1, 0, 0),\n",
       " datetime.datetime(2003, 5, 1, 0, 0),\n",
       " datetime.datetime(2003, 4, 1, 0, 0),\n",
       " datetime.datetime(2003, 3, 1, 0, 0),\n",
       " datetime.datetime(2003, 2, 1, 0, 0),\n",
       " datetime.datetime(2003, 1, 1, 0, 0),\n",
       " datetime.datetime(2002, 12, 1, 0, 0),\n",
       " datetime.datetime(2002, 11, 1, 0, 0),\n",
       " datetime.datetime(2002, 10, 1, 0, 0),\n",
       " datetime.datetime(2002, 9, 1, 0, 0),\n",
       " datetime.datetime(2002, 8, 1, 0, 0),\n",
       " datetime.datetime(2002, 7, 1, 0, 0),\n",
       " datetime.datetime(2002, 6, 1, 0, 0),\n",
       " datetime.datetime(2002, 5, 1, 0, 0),\n",
       " datetime.datetime(2002, 4, 1, 0, 0),\n",
       " datetime.datetime(2002, 3, 1, 0, 0),\n",
       " datetime.datetime(2002, 2, 1, 0, 0),\n",
       " datetime.datetime(2002, 1, 1, 0, 0),\n",
       " datetime.datetime(2001, 12, 1, 0, 0),\n",
       " datetime.datetime(2001, 11, 1, 0, 0),\n",
       " datetime.datetime(2001, 10, 1, 0, 0),\n",
       " datetime.datetime(2001, 9, 1, 0, 0),\n",
       " datetime.datetime(2001, 8, 1, 0, 0),\n",
       " datetime.datetime(2001, 7, 1, 0, 0),\n",
       " datetime.datetime(2001, 6, 1, 0, 0),\n",
       " datetime.datetime(2001, 5, 1, 0, 0),\n",
       " datetime.datetime(2001, 4, 1, 0, 0),\n",
       " datetime.datetime(2001, 3, 1, 0, 0),\n",
       " datetime.datetime(2001, 2, 1, 0, 0),\n",
       " datetime.datetime(2001, 1, 1, 0, 0),\n",
       " datetime.datetime(2000, 12, 1, 0, 0),\n",
       " datetime.datetime(2000, 11, 1, 0, 0),\n",
       " datetime.datetime(2000, 10, 1, 0, 0),\n",
       " datetime.datetime(2000, 9, 1, 0, 0),\n",
       " datetime.datetime(2000, 8, 1, 0, 0),\n",
       " datetime.datetime(2000, 7, 1, 0, 0),\n",
       " datetime.datetime(2000, 6, 1, 0, 0),\n",
       " datetime.datetime(2000, 5, 1, 0, 0),\n",
       " datetime.datetime(2000, 4, 1, 0, 0),\n",
       " datetime.datetime(2000, 3, 1, 0, 0),\n",
       " datetime.datetime(2000, 2, 1, 0, 0),\n",
       " datetime.datetime(2000, 1, 1, 0, 0),\n",
       " datetime.datetime(1999, 12, 1, 0, 0),\n",
       " datetime.datetime(1999, 11, 1, 0, 0),\n",
       " datetime.datetime(1999, 10, 1, 0, 0),\n",
       " datetime.datetime(1999, 9, 1, 0, 0),\n",
       " datetime.datetime(1999, 8, 1, 0, 0),\n",
       " datetime.datetime(1999, 7, 1, 0, 0),\n",
       " datetime.datetime(1999, 6, 1, 0, 0),\n",
       " datetime.datetime(1999, 5, 1, 0, 0),\n",
       " datetime.datetime(1999, 4, 1, 0, 0),\n",
       " datetime.datetime(1999, 3, 1, 0, 0),\n",
       " datetime.datetime(1999, 2, 1, 0, 0),\n",
       " datetime.datetime(1999, 1, 1, 0, 0),\n",
       " datetime.datetime(1998, 12, 1, 0, 0),\n",
       " datetime.datetime(1998, 11, 1, 0, 0),\n",
       " datetime.datetime(1998, 10, 1, 0, 0),\n",
       " datetime.datetime(1998, 9, 1, 0, 0),\n",
       " datetime.datetime(1998, 8, 1, 0, 0),\n",
       " datetime.datetime(1998, 7, 1, 0, 0),\n",
       " datetime.datetime(1998, 6, 1, 0, 0),\n",
       " datetime.datetime(1998, 5, 1, 0, 0),\n",
       " datetime.datetime(1998, 4, 1, 0, 0),\n",
       " datetime.datetime(1998, 3, 1, 0, 0),\n",
       " datetime.datetime(1998, 2, 1, 0, 0),\n",
       " datetime.datetime(1998, 1, 1, 0, 0),\n",
       " datetime.datetime(1997, 12, 1, 0, 0),\n",
       " datetime.datetime(1997, 11, 1, 0, 0),\n",
       " datetime.datetime(1997, 10, 1, 0, 0),\n",
       " datetime.datetime(1997, 9, 1, 0, 0),\n",
       " datetime.datetime(1997, 8, 1, 0, 0),\n",
       " datetime.datetime(1997, 7, 1, 0, 0),\n",
       " datetime.datetime(1997, 6, 1, 0, 0),\n",
       " datetime.datetime(1997, 5, 1, 0, 0),\n",
       " datetime.datetime(1997, 4, 1, 0, 0),\n",
       " datetime.datetime(1997, 3, 1, 0, 0),\n",
       " datetime.datetime(1997, 2, 1, 0, 0),\n",
       " datetime.datetime(1997, 1, 1, 0, 0),\n",
       " datetime.datetime(1996, 12, 1, 0, 0),\n",
       " datetime.datetime(1996, 11, 1, 0, 0),\n",
       " datetime.datetime(1996, 10, 1, 0, 0),\n",
       " datetime.datetime(1996, 9, 1, 0, 0),\n",
       " datetime.datetime(1996, 8, 1, 0, 0),\n",
       " datetime.datetime(1996, 7, 1, 0, 0),\n",
       " datetime.datetime(1996, 6, 1, 0, 0),\n",
       " datetime.datetime(1996, 5, 1, 0, 0),\n",
       " datetime.datetime(1996, 4, 1, 0, 0),\n",
       " datetime.datetime(1996, 3, 1, 0, 0),\n",
       " datetime.datetime(1996, 2, 1, 0, 0),\n",
       " datetime.datetime(1996, 1, 1, 0, 0),\n",
       " datetime.datetime(1995, 12, 1, 0, 0),\n",
       " datetime.datetime(1995, 11, 1, 0, 0),\n",
       " datetime.datetime(1995, 10, 1, 0, 0),\n",
       " datetime.datetime(1995, 9, 1, 0, 0),\n",
       " datetime.datetime(1995, 8, 1, 0, 0),\n",
       " datetime.datetime(1995, 7, 1, 0, 0),\n",
       " datetime.datetime(1995, 6, 1, 0, 0),\n",
       " datetime.datetime(1995, 5, 1, 0, 0),\n",
       " datetime.datetime(1995, 4, 1, 0, 0),\n",
       " datetime.datetime(1995, 3, 1, 0, 0),\n",
       " datetime.datetime(1995, 2, 1, 0, 0),\n",
       " datetime.datetime(1995, 1, 1, 0, 0),\n",
       " datetime.datetime(1994, 12, 1, 0, 0),\n",
       " datetime.datetime(1994, 11, 1, 0, 0),\n",
       " datetime.datetime(1994, 10, 1, 0, 0),\n",
       " datetime.datetime(1994, 9, 1, 0, 0),\n",
       " datetime.datetime(1994, 8, 1, 0, 0),\n",
       " datetime.datetime(1994, 7, 1, 0, 0),\n",
       " datetime.datetime(1994, 6, 1, 0, 0),\n",
       " datetime.datetime(1994, 5, 1, 0, 0),\n",
       " datetime.datetime(1994, 4, 1, 0, 0),\n",
       " datetime.datetime(1994, 3, 1, 0, 0),\n",
       " datetime.datetime(1994, 2, 1, 0, 0),\n",
       " datetime.datetime(1994, 1, 1, 0, 0),\n",
       " datetime.datetime(1993, 12, 1, 0, 0),\n",
       " datetime.datetime(1993, 11, 1, 0, 0),\n",
       " datetime.datetime(1993, 10, 1, 0, 0),\n",
       " datetime.datetime(1993, 9, 1, 0, 0),\n",
       " datetime.datetime(1993, 8, 1, 0, 0),\n",
       " datetime.datetime(1993, 7, 1, 0, 0),\n",
       " datetime.datetime(1993, 6, 1, 0, 0),\n",
       " datetime.datetime(1993, 5, 1, 0, 0),\n",
       " datetime.datetime(1993, 4, 1, 0, 0),\n",
       " datetime.datetime(1993, 3, 1, 0, 0),\n",
       " datetime.datetime(1993, 2, 1, 0, 0),\n",
       " datetime.datetime(1993, 1, 1, 0, 0),\n",
       " datetime.datetime(1992, 12, 1, 0, 0),\n",
       " datetime.datetime(1992, 11, 1, 0, 0),\n",
       " datetime.datetime(1992, 10, 1, 0, 0),\n",
       " datetime.datetime(1992, 9, 1, 0, 0),\n",
       " datetime.datetime(1992, 8, 1, 0, 0),\n",
       " datetime.datetime(1992, 7, 1, 0, 0),\n",
       " datetime.datetime(1992, 6, 1, 0, 0),\n",
       " datetime.datetime(1992, 5, 1, 0, 0),\n",
       " datetime.datetime(1992, 4, 1, 0, 0),\n",
       " datetime.datetime(1992, 3, 1, 0, 0),\n",
       " datetime.datetime(1992, 2, 1, 0, 0),\n",
       " datetime.datetime(1992, 1, 1, 0, 0),\n",
       " datetime.datetime(1991, 12, 1, 0, 0),\n",
       " datetime.datetime(1991, 11, 1, 0, 0),\n",
       " datetime.datetime(1991, 10, 1, 0, 0),\n",
       " datetime.datetime(1991, 9, 1, 0, 0),\n",
       " datetime.datetime(1991, 8, 1, 0, 0),\n",
       " datetime.datetime(1991, 7, 1, 0, 0),\n",
       " datetime.datetime(1991, 6, 1, 0, 0),\n",
       " datetime.datetime(1991, 5, 1, 0, 0),\n",
       " datetime.datetime(1991, 4, 1, 0, 0),\n",
       " datetime.datetime(1991, 3, 1, 0, 0),\n",
       " datetime.datetime(1991, 2, 1, 0, 0),\n",
       " datetime.datetime(1991, 1, 1, 0, 0),\n",
       " datetime.datetime(1990, 12, 1, 0, 0),\n",
       " datetime.datetime(1990, 11, 1, 0, 0),\n",
       " datetime.datetime(1990, 10, 1, 0, 0),\n",
       " datetime.datetime(1990, 9, 1, 0, 0),\n",
       " datetime.datetime(1990, 8, 1, 0, 0),\n",
       " datetime.datetime(1990, 7, 1, 0, 0),\n",
       " datetime.datetime(1990, 6, 1, 0, 0),\n",
       " datetime.datetime(1990, 5, 1, 0, 0),\n",
       " datetime.datetime(1990, 4, 1, 0, 0),\n",
       " datetime.datetime(1990, 3, 1, 0, 0),\n",
       " datetime.datetime(1990, 2, 1, 0, 0),\n",
       " datetime.datetime(1990, 1, 1, 0, 0),\n",
       " datetime.datetime(1989, 12, 1, 0, 0),\n",
       " datetime.datetime(1989, 11, 1, 0, 0),\n",
       " datetime.datetime(1989, 10, 1, 0, 0),\n",
       " datetime.datetime(1989, 9, 1, 0, 0),\n",
       " datetime.datetime(1989, 8, 1, 0, 0),\n",
       " datetime.datetime(1989, 7, 1, 0, 0),\n",
       " datetime.datetime(1989, 6, 1, 0, 0),\n",
       " datetime.datetime(1989, 5, 1, 0, 0),\n",
       " datetime.datetime(1989, 4, 1, 0, 0),\n",
       " datetime.datetime(1989, 3, 1, 0, 0),\n",
       " datetime.datetime(1989, 2, 1, 0, 0),\n",
       " datetime.datetime(1989, 1, 1, 0, 0),\n",
       " datetime.datetime(1988, 12, 1, 0, 0),\n",
       " datetime.datetime(1988, 11, 1, 0, 0),\n",
       " datetime.datetime(1988, 10, 1, 0, 0),\n",
       " datetime.datetime(1988, 9, 1, 0, 0),\n",
       " datetime.datetime(1988, 8, 1, 0, 0),\n",
       " datetime.datetime(1988, 7, 1, 0, 0),\n",
       " datetime.datetime(1988, 6, 1, 0, 0),\n",
       " datetime.datetime(1988, 5, 1, 0, 0),\n",
       " datetime.datetime(1988, 4, 1, 0, 0),\n",
       " datetime.datetime(1988, 3, 1, 0, 0),\n",
       " datetime.datetime(1988, 2, 1, 0, 0),\n",
       " datetime.datetime(1988, 1, 1, 0, 0),\n",
       " datetime.datetime(1987, 12, 1, 0, 0),\n",
       " datetime.datetime(1987, 11, 1, 0, 0),\n",
       " datetime.datetime(1987, 10, 1, 0, 0),\n",
       " datetime.datetime(1987, 9, 1, 0, 0),\n",
       " datetime.datetime(1987, 8, 1, 0, 0),\n",
       " datetime.datetime(1987, 7, 1, 0, 0),\n",
       " datetime.datetime(1987, 6, 1, 0, 0),\n",
       " datetime.datetime(1987, 5, 1, 0, 0),\n",
       " datetime.datetime(1987, 4, 1, 0, 0),\n",
       " datetime.datetime(1987, 3, 1, 0, 0),\n",
       " datetime.datetime(1987, 2, 1, 0, 0),\n",
       " datetime.datetime(1987, 1, 1, 0, 0),\n",
       " datetime.datetime(1986, 12, 1, 0, 0),\n",
       " datetime.datetime(1986, 11, 1, 0, 0),\n",
       " datetime.datetime(1986, 10, 1, 0, 0),\n",
       " datetime.datetime(1986, 9, 1, 0, 0),\n",
       " datetime.datetime(1986, 8, 1, 0, 0),\n",
       " datetime.datetime(1986, 7, 1, 0, 0),\n",
       " datetime.datetime(1986, 6, 1, 0, 0),\n",
       " datetime.datetime(1986, 5, 1, 0, 0),\n",
       " datetime.datetime(1986, 4, 1, 0, 0),\n",
       " datetime.datetime(1986, 3, 1, 0, 0),\n",
       " datetime.datetime(1986, 2, 1, 0, 0),\n",
       " datetime.datetime(1986, 1, 1, 0, 0),\n",
       " datetime.datetime(1985, 12, 1, 0, 0),\n",
       " datetime.datetime(1985, 11, 1, 0, 0),\n",
       " datetime.datetime(1985, 10, 1, 0, 0),\n",
       " datetime.datetime(1985, 9, 1, 0, 0),\n",
       " datetime.datetime(1985, 8, 1, 0, 0),\n",
       " datetime.datetime(1985, 7, 1, 0, 0),\n",
       " datetime.datetime(1985, 6, 1, 0, 0),\n",
       " datetime.datetime(1985, 5, 1, 0, 0),\n",
       " datetime.datetime(1985, 4, 1, 0, 0),\n",
       " datetime.datetime(1985, 3, 1, 0, 0),\n",
       " datetime.datetime(1985, 2, 1, 0, 0),\n",
       " datetime.datetime(1985, 1, 1, 0, 0),\n",
       " datetime.datetime(1984, 12, 1, 0, 0),\n",
       " datetime.datetime(1984, 11, 1, 0, 0),\n",
       " datetime.datetime(1984, 10, 1, 0, 0),\n",
       " datetime.datetime(1984, 9, 1, 0, 0),\n",
       " datetime.datetime(1984, 8, 1, 0, 0),\n",
       " datetime.datetime(1984, 7, 1, 0, 0),\n",
       " datetime.datetime(1984, 6, 1, 0, 0),\n",
       " datetime.datetime(1984, 5, 1, 0, 0),\n",
       " datetime.datetime(1984, 4, 1, 0, 0),\n",
       " datetime.datetime(1984, 3, 1, 0, 0),\n",
       " datetime.datetime(1984, 2, 1, 0, 0),\n",
       " datetime.datetime(1984, 1, 1, 0, 0),\n",
       " datetime.datetime(1983, 12, 1, 0, 0),\n",
       " datetime.datetime(1983, 11, 1, 0, 0),\n",
       " datetime.datetime(1983, 10, 1, 0, 0),\n",
       " datetime.datetime(1983, 9, 1, 0, 0),\n",
       " datetime.datetime(1983, 8, 1, 0, 0),\n",
       " datetime.datetime(1983, 7, 1, 0, 0),\n",
       " datetime.datetime(1983, 6, 1, 0, 0),\n",
       " datetime.datetime(1983, 5, 1, 0, 0),\n",
       " datetime.datetime(1983, 4, 1, 0, 0),\n",
       " datetime.datetime(1983, 3, 1, 0, 0),\n",
       " datetime.datetime(1983, 2, 1, 0, 0),\n",
       " datetime.datetime(1983, 1, 1, 0, 0),\n",
       " datetime.datetime(1982, 12, 1, 0, 0),\n",
       " datetime.datetime(1982, 11, 1, 0, 0),\n",
       " datetime.datetime(1982, 10, 1, 0, 0),\n",
       " datetime.datetime(1982, 9, 1, 0, 0),\n",
       " datetime.datetime(1982, 8, 1, 0, 0),\n",
       " datetime.datetime(1982, 7, 1, 0, 0),\n",
       " datetime.datetime(1982, 6, 1, 0, 0),\n",
       " datetime.datetime(1982, 5, 1, 0, 0),\n",
       " datetime.datetime(1982, 4, 1, 0, 0),\n",
       " datetime.datetime(1982, 3, 1, 0, 0),\n",
       " datetime.datetime(1982, 2, 1, 0, 0),\n",
       " datetime.datetime(1982, 1, 1, 0, 0),\n",
       " datetime.datetime(1981, 12, 1, 0, 0),\n",
       " datetime.datetime(1981, 11, 1, 0, 0),\n",
       " datetime.datetime(1981, 10, 1, 0, 0),\n",
       " datetime.datetime(1981, 9, 1, 0, 0),\n",
       " datetime.datetime(1981, 8, 1, 0, 0),\n",
       " datetime.datetime(1981, 7, 1, 0, 0),\n",
       " datetime.datetime(1981, 6, 1, 0, 0),\n",
       " datetime.datetime(1981, 5, 1, 0, 0),\n",
       " datetime.datetime(1981, 4, 1, 0, 0),\n",
       " datetime.datetime(1981, 3, 1, 0, 0),\n",
       " datetime.datetime(1981, 2, 1, 0, 0),\n",
       " datetime.datetime(1981, 1, 1, 0, 0),\n",
       " datetime.datetime(1980, 12, 1, 0, 0),\n",
       " datetime.datetime(1980, 11, 1, 0, 0),\n",
       " datetime.datetime(1980, 10, 1, 0, 0),\n",
       " datetime.datetime(1980, 9, 1, 0, 0),\n",
       " datetime.datetime(1980, 8, 1, 0, 0),\n",
       " datetime.datetime(1980, 7, 1, 0, 0),\n",
       " datetime.datetime(1980, 6, 1, 0, 0),\n",
       " datetime.datetime(1980, 5, 1, 0, 0),\n",
       " datetime.datetime(1980, 4, 1, 0, 0),\n",
       " datetime.datetime(1980, 3, 1, 0, 0),\n",
       " datetime.datetime(1980, 2, 1, 0, 0),\n",
       " datetime.datetime(1980, 1, 1, 0, 0),\n",
       " datetime.datetime(1979, 12, 1, 0, 0),\n",
       " datetime.datetime(1979, 11, 1, 0, 0),\n",
       " datetime.datetime(1979, 10, 1, 0, 0),\n",
       " datetime.datetime(1979, 9, 1, 0, 0),\n",
       " datetime.datetime(1979, 8, 1, 0, 0),\n",
       " datetime.datetime(1979, 7, 1, 0, 0),\n",
       " datetime.datetime(1979, 6, 1, 0, 0),\n",
       " datetime.datetime(1979, 5, 1, 0, 0),\n",
       " datetime.datetime(1979, 4, 1, 0, 0),\n",
       " datetime.datetime(1979, 3, 1, 0, 0),\n",
       " datetime.datetime(1979, 2, 1, 0, 0),\n",
       " datetime.datetime(1979, 1, 1, 0, 0)]"
      ]
     },
     "execution_count": 25,
     "metadata": {},
     "output_type": "execute_result"
    }
   ],
   "source": [
    "alldays = con_data.distinct(key='date')\n",
    "alldays"
   ]
  },
  {
   "cell_type": "markdown",
   "metadata": {},
   "source": [
    "## Data collection indexes <a id='indexes'></a>"
   ]
  },
  {
   "cell_type": "code",
   "execution_count": 24,
   "metadata": {},
   "outputs": [
    {
     "data": {
      "text/plain": [
       "{'_id_': {'key': [('_id', 1)], 'ns': 'ECMWF.ERAINT_monthly', 'v': 1},\n",
       " 'date_-1': {'key': [('date', -1)], 'ns': 'ECMWF.ERAINT_monthly', 'v': 1},\n",
       " 'id_grid_1_date_-1': {'key': [('id_grid', 1), ('date', -1)],\n",
       "  'ns': 'ECMWF.ERAINT_monthly',\n",
       "  'v': 1},\n",
       " 'year_1_id_grid_1': {'key': [('year', 1), ('id_grid', 1)],\n",
       "  'ns': 'ECMWF.ERAINT_monthly',\n",
       "  'v': 1}}"
      ]
     },
     "execution_count": 24,
     "metadata": {},
     "output_type": "execute_result"
    }
   ],
   "source": [
    "con_data.index_information()"
   ]
  },
  {
   "cell_type": "code",
   "execution_count": 32,
   "metadata": {},
   "outputs": [
    {
     "data": {
      "text/plain": [
       "{'_id': ObjectId('5a088e938cb6b80d9b4c7f93'),\n",
       " 'id_grid': 1,\n",
       " 'loc': {'coordinates': [-180.0, 90.0], 'type': 'Point'}}"
      ]
     },
     "execution_count": 32,
     "metadata": {},
     "output_type": "execute_result"
    }
   ],
   "source": [
    "con_grid.find_one()"
   ]
  },
  {
   "cell_type": "markdown",
   "metadata": {},
   "source": [
    "- The domain north of 20°N is chosen for EOF decomposition for Z70 hPa and SIC to focus on the extra-tropical variability \n",
    "- The area north of 20°S is chosen for SST to also include key regions of tropical SST variability"
   ]
  },
  {
   "cell_type": "code",
   "execution_count": 47,
   "metadata": {
    "collapsed": true
   },
   "outputs": [],
   "source": [
    "#slp_poly = [[-180,20],[-180,0],[180,0],[-180,0],[-180,20]]\n",
    "slp_poly = [[-179.9,20],[-179.9,89.9],[179.9,89.9],[179.9,20],[-179.9,20]]"
   ]
  },
  {
   "cell_type": "code",
   "execution_count": 48,
   "metadata": {},
   "outputs": [
    {
     "ename": "OperationFailure",
     "evalue": "Only one simple loop is allowed in a big polygon: [ [ -179.9, 20 ], [ -179.9, 89.90000000000001 ], [ 179.9, 89.90000000000001 ], [ 179.9, 20 ], [ -179.9, 20 ] ]",
     "output_type": "error",
     "traceback": [
      "\u001b[0;31m---------------------------------------------------------------------------\u001b[0m",
      "\u001b[0;31mOperationFailure\u001b[0m                          Traceback (most recent call last)",
      "\u001b[0;32m<ipython-input-48-1331372ad08b>\u001b[0m in \u001b[0;36m<module>\u001b[0;34m()\u001b[0m\n\u001b[1;32m      6\u001b[0m                    \"crs\": {\"type\": \"name\", \"properties\": { \"name\": \"urn:x-mongodb:crs:strictwinding:EPSG:4326\" }}}}}}\n\u001b[1;32m      7\u001b[0m \u001b[0mres\u001b[0m \u001b[0;34m=\u001b[0m \u001b[0mcon_grid\u001b[0m\u001b[0;34m.\u001b[0m\u001b[0mfind\u001b[0m\u001b[0;34m(\u001b[0m\u001b[0mfilter\u001b[0m \u001b[0;34m=\u001b[0m \u001b[0mgeo_qry\u001b[0m\u001b[0;34m)\u001b[0m\u001b[0;34m\u001b[0m\u001b[0m\n\u001b[0;32m----> 8\u001b[0;31m \u001b[0mres\u001b[0m\u001b[0;34m.\u001b[0m\u001b[0mcount\u001b[0m\u001b[0;34m(\u001b[0m\u001b[0;34m)\u001b[0m\u001b[0;34m\u001b[0m\u001b[0m\n\u001b[0m",
      "\u001b[0;32m~/anaconda3/lib/python3.6/site-packages/pymongo/cursor.py\u001b[0m in \u001b[0;36mcount\u001b[0;34m(self, with_limit_and_skip)\u001b[0m\n\u001b[1;32m    725\u001b[0m                 \u001b[0mcmd\u001b[0m\u001b[0;34m[\u001b[0m\u001b[0;34m\"skip\"\u001b[0m\u001b[0;34m]\u001b[0m \u001b[0;34m=\u001b[0m \u001b[0mself\u001b[0m\u001b[0;34m.\u001b[0m\u001b[0m__skip\u001b[0m\u001b[0;34m\u001b[0m\u001b[0m\n\u001b[1;32m    726\u001b[0m \u001b[0;34m\u001b[0m\u001b[0m\n\u001b[0;32m--> 727\u001b[0;31m         \u001b[0;32mreturn\u001b[0m \u001b[0mself\u001b[0m\u001b[0;34m.\u001b[0m\u001b[0m__collection\u001b[0m\u001b[0;34m.\u001b[0m\u001b[0m_count\u001b[0m\u001b[0;34m(\u001b[0m\u001b[0mcmd\u001b[0m\u001b[0;34m,\u001b[0m \u001b[0mself\u001b[0m\u001b[0;34m.\u001b[0m\u001b[0m__collation\u001b[0m\u001b[0;34m)\u001b[0m\u001b[0;34m\u001b[0m\u001b[0m\n\u001b[0m\u001b[1;32m    728\u001b[0m \u001b[0;34m\u001b[0m\u001b[0m\n\u001b[1;32m    729\u001b[0m     \u001b[0;32mdef\u001b[0m \u001b[0mdistinct\u001b[0m\u001b[0;34m(\u001b[0m\u001b[0mself\u001b[0m\u001b[0;34m,\u001b[0m \u001b[0mkey\u001b[0m\u001b[0;34m)\u001b[0m\u001b[0;34m:\u001b[0m\u001b[0;34m\u001b[0m\u001b[0m\n",
      "\u001b[0;32m~/anaconda3/lib/python3.6/site-packages/pymongo/collection.py\u001b[0m in \u001b[0;36m_count\u001b[0;34m(self, cmd, collation)\u001b[0m\n\u001b[1;32m   1348\u001b[0m                 \u001b[0mcodec_options\u001b[0m\u001b[0;34m=\u001b[0m\u001b[0mself\u001b[0m\u001b[0;34m.\u001b[0m\u001b[0m__write_response_codec_options\u001b[0m\u001b[0;34m,\u001b[0m\u001b[0;34m\u001b[0m\u001b[0m\n\u001b[1;32m   1349\u001b[0m                 \u001b[0mread_concern\u001b[0m\u001b[0;34m=\u001b[0m\u001b[0mself\u001b[0m\u001b[0;34m.\u001b[0m\u001b[0mread_concern\u001b[0m\u001b[0;34m,\u001b[0m\u001b[0;34m\u001b[0m\u001b[0m\n\u001b[0;32m-> 1350\u001b[0;31m                 collation=collation)\n\u001b[0m\u001b[1;32m   1351\u001b[0m         \u001b[0;32mif\u001b[0m \u001b[0mres\u001b[0m\u001b[0;34m.\u001b[0m\u001b[0mget\u001b[0m\u001b[0;34m(\u001b[0m\u001b[0;34m\"errmsg\"\u001b[0m\u001b[0;34m,\u001b[0m \u001b[0;34m\"\"\u001b[0m\u001b[0;34m)\u001b[0m \u001b[0;34m==\u001b[0m \u001b[0;34m\"ns missing\"\u001b[0m\u001b[0;34m:\u001b[0m\u001b[0;34m\u001b[0m\u001b[0m\n\u001b[1;32m   1352\u001b[0m             \u001b[0;32mreturn\u001b[0m \u001b[0;36m0\u001b[0m\u001b[0;34m\u001b[0m\u001b[0m\n",
      "\u001b[0;32m~/anaconda3/lib/python3.6/site-packages/pymongo/collection.py\u001b[0m in \u001b[0;36m_command\u001b[0;34m(self, sock_info, command, slave_ok, read_preference, codec_options, check, allowable_errors, read_concern, write_concern, parse_write_concern_error, collation)\u001b[0m\n\u001b[1;32m    230\u001b[0m             \u001b[0mwrite_concern\u001b[0m\u001b[0;34m=\u001b[0m\u001b[0mwrite_concern\u001b[0m\u001b[0;34m,\u001b[0m\u001b[0;34m\u001b[0m\u001b[0m\n\u001b[1;32m    231\u001b[0m             \u001b[0mparse_write_concern_error\u001b[0m\u001b[0;34m=\u001b[0m\u001b[0mparse_write_concern_error\u001b[0m\u001b[0;34m,\u001b[0m\u001b[0;34m\u001b[0m\u001b[0m\n\u001b[0;32m--> 232\u001b[0;31m             collation=collation)\n\u001b[0m\u001b[1;32m    233\u001b[0m \u001b[0;34m\u001b[0m\u001b[0m\n\u001b[1;32m    234\u001b[0m     \u001b[0;32mdef\u001b[0m \u001b[0m__create\u001b[0m\u001b[0;34m(\u001b[0m\u001b[0mself\u001b[0m\u001b[0;34m,\u001b[0m \u001b[0moptions\u001b[0m\u001b[0;34m,\u001b[0m \u001b[0mcollation\u001b[0m\u001b[0;34m)\u001b[0m\u001b[0;34m:\u001b[0m\u001b[0;34m\u001b[0m\u001b[0m\n",
      "\u001b[0;32m~/anaconda3/lib/python3.6/site-packages/pymongo/pool.py\u001b[0m in \u001b[0;36mcommand\u001b[0;34m(self, dbname, spec, slave_ok, read_preference, codec_options, check, allowable_errors, check_keys, read_concern, write_concern, parse_write_concern_error, collation)\u001b[0m\n\u001b[1;32m    475\u001b[0m                            \u001b[0mread_concern\u001b[0m\u001b[0;34m,\u001b[0m\u001b[0;34m\u001b[0m\u001b[0m\n\u001b[1;32m    476\u001b[0m                            \u001b[0mparse_write_concern_error\u001b[0m\u001b[0;34m=\u001b[0m\u001b[0mparse_write_concern_error\u001b[0m\u001b[0;34m,\u001b[0m\u001b[0;34m\u001b[0m\u001b[0m\n\u001b[0;32m--> 477\u001b[0;31m                            collation=collation)\n\u001b[0m\u001b[1;32m    478\u001b[0m         \u001b[0;32mexcept\u001b[0m \u001b[0mOperationFailure\u001b[0m\u001b[0;34m:\u001b[0m\u001b[0;34m\u001b[0m\u001b[0m\n\u001b[1;32m    479\u001b[0m             \u001b[0;32mraise\u001b[0m\u001b[0;34m\u001b[0m\u001b[0m\n",
      "\u001b[0;32m~/anaconda3/lib/python3.6/site-packages/pymongo/network.py\u001b[0m in \u001b[0;36mcommand\u001b[0;34m(sock, dbname, spec, slave_ok, is_mongos, read_preference, codec_options, check, allowable_errors, address, check_keys, listeners, max_bson_size, read_concern, parse_write_concern_error, collation)\u001b[0m\n\u001b[1;32m    114\u001b[0m             helpers._check_command_response(\n\u001b[1;32m    115\u001b[0m                 \u001b[0mresponse_doc\u001b[0m\u001b[0;34m,\u001b[0m \u001b[0;32mNone\u001b[0m\u001b[0;34m,\u001b[0m \u001b[0mallowable_errors\u001b[0m\u001b[0;34m,\u001b[0m\u001b[0;34m\u001b[0m\u001b[0m\n\u001b[0;32m--> 116\u001b[0;31m                 parse_write_concern_error=parse_write_concern_error)\n\u001b[0m\u001b[1;32m    117\u001b[0m     \u001b[0;32mexcept\u001b[0m \u001b[0mException\u001b[0m \u001b[0;32mas\u001b[0m \u001b[0mexc\u001b[0m\u001b[0;34m:\u001b[0m\u001b[0;34m\u001b[0m\u001b[0m\n\u001b[1;32m    118\u001b[0m         \u001b[0;32mif\u001b[0m \u001b[0mpublish\u001b[0m\u001b[0;34m:\u001b[0m\u001b[0;34m\u001b[0m\u001b[0m\n",
      "\u001b[0;32m~/anaconda3/lib/python3.6/site-packages/pymongo/helpers.py\u001b[0m in \u001b[0;36m_check_command_response\u001b[0;34m(response, msg, allowable_errors, parse_write_concern_error)\u001b[0m\n\u001b[1;32m    208\u001b[0m \u001b[0;34m\u001b[0m\u001b[0m\n\u001b[1;32m    209\u001b[0m             \u001b[0mmsg\u001b[0m \u001b[0;34m=\u001b[0m \u001b[0mmsg\u001b[0m \u001b[0;32mor\u001b[0m \u001b[0;34m\"%s\"\u001b[0m\u001b[0;34m\u001b[0m\u001b[0m\n\u001b[0;32m--> 210\u001b[0;31m             \u001b[0;32mraise\u001b[0m \u001b[0mOperationFailure\u001b[0m\u001b[0;34m(\u001b[0m\u001b[0mmsg\u001b[0m \u001b[0;34m%\u001b[0m \u001b[0merrmsg\u001b[0m\u001b[0;34m,\u001b[0m \u001b[0mcode\u001b[0m\u001b[0;34m,\u001b[0m \u001b[0mresponse\u001b[0m\u001b[0;34m)\u001b[0m\u001b[0;34m\u001b[0m\u001b[0m\n\u001b[0m\u001b[1;32m    211\u001b[0m \u001b[0;34m\u001b[0m\u001b[0m\n\u001b[1;32m    212\u001b[0m \u001b[0;34m\u001b[0m\u001b[0m\n",
      "\u001b[0;31mOperationFailure\u001b[0m: Only one simple loop is allowed in a big polygon: [ [ -179.9, 20 ], [ -179.9, 89.90000000000001 ], [ 179.9, 89.90000000000001 ], [ 179.9, 20 ], [ -179.9, 20 ] ]"
     ]
    }
   ],
   "source": [
    "this_polygon = slp_poly\n",
    "geo_qry = {\"loc\": \n",
    "           {\"$geoWithin\": {\n",
    "               \"$geometry\": {\n",
    "                   \"type\": \"Polygon\",\"coordinates\": this_polygon,\n",
    "                   \"crs\": {\"type\": \"name\", \"properties\": { \"name\": \"urn:x-mongodb:crs:strictwinding:EPSG:4326\" }}}}}}\n",
    "res = con_grid.find(filter = geo_qry)\n",
    "res.count()"
   ]
  },
  {
   "cell_type": "code",
   "execution_count": null,
   "metadata": {
    "collapsed": true
   },
   "outputs": [],
   "source": []
  }
 ],
 "metadata": {
  "kernelspec": {
   "display_name": "Python 3",
   "language": "python",
   "name": "python3"
  },
  "language_info": {
   "codemirror_mode": {
    "name": "ipython",
    "version": 3
   },
   "file_extension": ".py",
   "mimetype": "text/x-python",
   "name": "python",
   "nbconvert_exporter": "python",
   "pygments_lexer": "ipython3",
   "version": "3.6.2"
  }
 },
 "nbformat": 4,
 "nbformat_minor": 2
}
