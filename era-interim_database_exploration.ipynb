{
 "cells": [
  {
   "cell_type": "markdown",
   "metadata": {},
   "source": [
    "# Exploration of the ERA-int monthly data collection\n",
    "\n",
    "[Database Exploration](#db)\n",
    "\n",
    "[Indexes](#indexes)\n",
    "\n",
    "[SLP plot](#slpplot)"
   ]
  },
  {
   "cell_type": "code",
   "execution_count": 41,
   "metadata": {
    "collapsed": true
   },
   "outputs": [],
   "source": [
    "from netCDF4 import Dataset\n",
    "import numpy as np\n",
    "import matplotlib.pyplot as plt\n",
    "from mpl_toolkits.basemap import Basemap, addcyclic, shiftgrid\n",
    "import pymongo\n",
    "from pprint import pprint\n",
    "from datetime import datetime, timedelta, date\n",
    "import pandas as pd"
   ]
  },
  {
   "cell_type": "markdown",
   "metadata": {
    "collapsed": true
   },
   "source": [
    "## Database exploration <a id='db'></a>"
   ]
  },
  {
   "cell_type": "code",
   "execution_count": 2,
   "metadata": {
    "collapsed": true
   },
   "outputs": [],
   "source": [
    "mongo_host_local = 'mongodb://localhost:27017/'\n",
    "mg = pymongo.MongoClient(mongo_host_local)"
   ]
  },
  {
   "cell_type": "code",
   "execution_count": 3,
   "metadata": {},
   "outputs": [
    {
     "name": "stdout",
     "output_type": "stream",
     "text": [
      "['ECMWF', 'local']\n"
     ]
    }
   ],
   "source": [
    "pprint(mg.database_names())"
   ]
  },
  {
   "cell_type": "code",
   "execution_count": 4,
   "metadata": {},
   "outputs": [
    {
     "data": {
      "text/plain": [
       "['ERAINT_grid', 'ERAINT_monthly', 'system.indexes']"
      ]
     },
     "execution_count": 4,
     "metadata": {},
     "output_type": "execute_result"
    }
   ],
   "source": [
    "db = mg.ECMWF\n",
    "db.collection_names()"
   ]
  },
  {
   "cell_type": "code",
   "execution_count": 12,
   "metadata": {
    "collapsed": true
   },
   "outputs": [],
   "source": [
    "con_grid = db.ERAINT_grid\n",
    "fo = con_grid.find_one()"
   ]
  },
  {
   "cell_type": "code",
   "execution_count": 13,
   "metadata": {},
   "outputs": [
    {
     "name": "stdout",
     "output_type": "stream",
     "text": [
      "{'_id': ObjectId('5a088e938cb6b80d9b4c7f93'),\n",
      " 'id_grid': 1,\n",
      " 'loc': {'coordinates': [-180.0, 90.0], 'type': 'Point'}}\n"
     ]
    }
   ],
   "source": [
    "pprint(fo)"
   ]
  },
  {
   "cell_type": "code",
   "execution_count": 14,
   "metadata": {},
   "outputs": [
    {
     "data": {
      "text/plain": [
       "115680"
      ]
     },
     "execution_count": 14,
     "metadata": {},
     "output_type": "execute_result"
    }
   ],
   "source": [
    "con_grid.count()"
   ]
  },
  {
   "cell_type": "code",
   "execution_count": 16,
   "metadata": {},
   "outputs": [
    {
     "name": "stdout",
     "output_type": "stream",
     "text": [
      "{'_id': ObjectId('5a089e0f8cb6b81914062592'),\n",
      " 'al': 0.07,\n",
      " 'ci': 1.0,\n",
      " 'd2m': 235.27,\n",
      " 'date': datetime.datetime(1979, 2, 1, 0, 0),\n",
      " 'hcc': 0.2,\n",
      " 'id_grid': 1,\n",
      " 'istl1': 238.26,\n",
      " 'lcc': 0.58,\n",
      " 'mcc': 0.26,\n",
      " 'msl': 101948.67,\n",
      " 'si10': 6.1,\n",
      " 'skt': 238.46,\n",
      " 'sp': 101948.57,\n",
      " 'sst': 271.46,\n",
      " 'stl1': 238.47,\n",
      " 't2m': 238.56,\n",
      " 'u10': 1.18,\n",
      " 'v10': -0.01,\n",
      " 'year': 1979}\n"
     ]
    }
   ],
   "source": [
    "con_data = db.ERAINT_monthly\n",
    "fo = con_data.find_one()\n",
    "pprint(fo)"
   ]
  },
  {
   "cell_type": "code",
   "execution_count": 17,
   "metadata": {},
   "outputs": [
    {
     "name": "stdout",
     "output_type": "stream",
     "text": [
      "{'_id': ObjectId('5a08a9bf8cb6b81914771dd2'),\n",
      " 'al': 0.07,\n",
      " 'ci': 1.0,\n",
      " 'd2m': 239.33,\n",
      " 'date': datetime.datetime(1995, 1, 1, 0, 0),\n",
      " 'hcc': 0.29,\n",
      " 'id_grid': 1,\n",
      " 'istl1': 242.21,\n",
      " 'lcc': 0.52,\n",
      " 'mcc': 0.19,\n",
      " 'msl': 102341.94,\n",
      " 'si10': 4.96,\n",
      " 'skt': 242.22,\n",
      " 'sp': 102341.87,\n",
      " 'sst': 271.46,\n",
      " 'stl1': 242.24,\n",
      " 't2m': 242.46,\n",
      " 'u10': -0.5,\n",
      " 'v10': 2.28,\n",
      " 'year': 1995}\n",
      "{'_id': ObjectId('5a08a9bf8cb6b81914771dd3'),\n",
      " 'al': 0.07,\n",
      " 'ci': 1.0,\n",
      " 'd2m': 239.33,\n",
      " 'date': datetime.datetime(1995, 1, 1, 0, 0),\n",
      " 'hcc': 0.29,\n",
      " 'id_grid': 2,\n",
      " 'istl1': 242.21,\n",
      " 'lcc': 0.52,\n",
      " 'mcc': 0.19,\n",
      " 'msl': 102341.94,\n",
      " 'si10': 4.96,\n",
      " 'skt': 242.22,\n",
      " 'sp': 102341.87,\n",
      " 'sst': 271.46,\n",
      " 'stl1': 242.24,\n",
      " 't2m': 242.46,\n",
      " 'u10': -0.46,\n",
      " 'v10': 2.27,\n",
      " 'year': 1995}\n"
     ]
    }
   ],
   "source": [
    "this_day = datetime(1995,1 ,1)\n",
    "for doc in con_data.find({'date': this_day}).limit(2):\n",
    "    pprint(doc)"
   ]
  },
  {
   "cell_type": "code",
   "execution_count": 18,
   "metadata": {},
   "outputs": [
    {
     "data": {
      "text/plain": [
       "53675520"
      ]
     },
     "execution_count": 18,
     "metadata": {},
     "output_type": "execute_result"
    }
   ],
   "source": [
    "# How many documents are in the daily data collection\n",
    "con_data.count()"
   ]
  },
  {
   "cell_type": "code",
   "execution_count": 19,
   "metadata": {},
   "outputs": [
    {
     "data": {
      "text/plain": [
       "[datetime.datetime(2017, 8, 1, 0, 0),\n",
       " datetime.datetime(2017, 7, 1, 0, 0),\n",
       " datetime.datetime(2017, 6, 1, 0, 0),\n",
       " datetime.datetime(2017, 5, 1, 0, 0),\n",
       " datetime.datetime(2017, 4, 1, 0, 0),\n",
       " datetime.datetime(2017, 3, 1, 0, 0),\n",
       " datetime.datetime(2017, 2, 1, 0, 0),\n",
       " datetime.datetime(2017, 1, 1, 0, 0),\n",
       " datetime.datetime(2016, 12, 1, 0, 0),\n",
       " datetime.datetime(2016, 11, 1, 0, 0),\n",
       " datetime.datetime(2016, 10, 1, 0, 0),\n",
       " datetime.datetime(2016, 9, 1, 0, 0),\n",
       " datetime.datetime(2016, 8, 1, 0, 0),\n",
       " datetime.datetime(2016, 7, 1, 0, 0),\n",
       " datetime.datetime(2016, 6, 1, 0, 0),\n",
       " datetime.datetime(2016, 5, 1, 0, 0),\n",
       " datetime.datetime(2016, 4, 1, 0, 0),\n",
       " datetime.datetime(2016, 3, 1, 0, 0),\n",
       " datetime.datetime(2016, 2, 1, 0, 0),\n",
       " datetime.datetime(2016, 1, 1, 0, 0),\n",
       " datetime.datetime(2015, 12, 1, 0, 0),\n",
       " datetime.datetime(2015, 11, 1, 0, 0),\n",
       " datetime.datetime(2015, 10, 1, 0, 0),\n",
       " datetime.datetime(2015, 9, 1, 0, 0),\n",
       " datetime.datetime(2015, 8, 1, 0, 0),\n",
       " datetime.datetime(2015, 7, 1, 0, 0),\n",
       " datetime.datetime(2015, 6, 1, 0, 0),\n",
       " datetime.datetime(2015, 5, 1, 0, 0),\n",
       " datetime.datetime(2015, 4, 1, 0, 0),\n",
       " datetime.datetime(2015, 3, 1, 0, 0),\n",
       " datetime.datetime(2015, 2, 1, 0, 0),\n",
       " datetime.datetime(2015, 1, 1, 0, 0),\n",
       " datetime.datetime(2014, 12, 1, 0, 0),\n",
       " datetime.datetime(2014, 11, 1, 0, 0),\n",
       " datetime.datetime(2014, 10, 1, 0, 0),\n",
       " datetime.datetime(2014, 9, 1, 0, 0),\n",
       " datetime.datetime(2014, 8, 1, 0, 0),\n",
       " datetime.datetime(2014, 7, 1, 0, 0),\n",
       " datetime.datetime(2014, 6, 1, 0, 0),\n",
       " datetime.datetime(2014, 5, 1, 0, 0),\n",
       " datetime.datetime(2014, 4, 1, 0, 0),\n",
       " datetime.datetime(2014, 3, 1, 0, 0),\n",
       " datetime.datetime(2014, 2, 1, 0, 0),\n",
       " datetime.datetime(2014, 1, 1, 0, 0),\n",
       " datetime.datetime(2013, 12, 1, 0, 0),\n",
       " datetime.datetime(2013, 11, 1, 0, 0),\n",
       " datetime.datetime(2013, 10, 1, 0, 0),\n",
       " datetime.datetime(2013, 9, 1, 0, 0),\n",
       " datetime.datetime(2013, 8, 1, 0, 0),\n",
       " datetime.datetime(2013, 7, 1, 0, 0),\n",
       " datetime.datetime(2013, 6, 1, 0, 0),\n",
       " datetime.datetime(2013, 5, 1, 0, 0),\n",
       " datetime.datetime(2013, 4, 1, 0, 0),\n",
       " datetime.datetime(2013, 3, 1, 0, 0),\n",
       " datetime.datetime(2013, 2, 1, 0, 0),\n",
       " datetime.datetime(2013, 1, 1, 0, 0),\n",
       " datetime.datetime(2012, 12, 1, 0, 0),\n",
       " datetime.datetime(2012, 11, 1, 0, 0),\n",
       " datetime.datetime(2012, 10, 1, 0, 0),\n",
       " datetime.datetime(2012, 9, 1, 0, 0),\n",
       " datetime.datetime(2012, 8, 1, 0, 0),\n",
       " datetime.datetime(2012, 7, 1, 0, 0),\n",
       " datetime.datetime(2012, 6, 1, 0, 0),\n",
       " datetime.datetime(2012, 5, 1, 0, 0),\n",
       " datetime.datetime(2012, 4, 1, 0, 0),\n",
       " datetime.datetime(2012, 3, 1, 0, 0),\n",
       " datetime.datetime(2012, 2, 1, 0, 0),\n",
       " datetime.datetime(2012, 1, 1, 0, 0),\n",
       " datetime.datetime(2011, 12, 1, 0, 0),\n",
       " datetime.datetime(2011, 11, 1, 0, 0),\n",
       " datetime.datetime(2011, 10, 1, 0, 0),\n",
       " datetime.datetime(2011, 9, 1, 0, 0),\n",
       " datetime.datetime(2011, 8, 1, 0, 0),\n",
       " datetime.datetime(2011, 7, 1, 0, 0),\n",
       " datetime.datetime(2011, 6, 1, 0, 0),\n",
       " datetime.datetime(2011, 5, 1, 0, 0),\n",
       " datetime.datetime(2011, 4, 1, 0, 0),\n",
       " datetime.datetime(2011, 3, 1, 0, 0),\n",
       " datetime.datetime(2011, 2, 1, 0, 0),\n",
       " datetime.datetime(2011, 1, 1, 0, 0),\n",
       " datetime.datetime(2010, 12, 1, 0, 0),\n",
       " datetime.datetime(2010, 11, 1, 0, 0),\n",
       " datetime.datetime(2010, 10, 1, 0, 0),\n",
       " datetime.datetime(2010, 9, 1, 0, 0),\n",
       " datetime.datetime(2010, 8, 1, 0, 0),\n",
       " datetime.datetime(2010, 7, 1, 0, 0),\n",
       " datetime.datetime(2010, 6, 1, 0, 0),\n",
       " datetime.datetime(2010, 5, 1, 0, 0),\n",
       " datetime.datetime(2010, 4, 1, 0, 0),\n",
       " datetime.datetime(2010, 3, 1, 0, 0),\n",
       " datetime.datetime(2010, 2, 1, 0, 0),\n",
       " datetime.datetime(2010, 1, 1, 0, 0),\n",
       " datetime.datetime(2009, 12, 1, 0, 0),\n",
       " datetime.datetime(2009, 11, 1, 0, 0),\n",
       " datetime.datetime(2009, 10, 1, 0, 0),\n",
       " datetime.datetime(2009, 9, 1, 0, 0),\n",
       " datetime.datetime(2009, 8, 1, 0, 0),\n",
       " datetime.datetime(2009, 7, 1, 0, 0),\n",
       " datetime.datetime(2009, 6, 1, 0, 0),\n",
       " datetime.datetime(2009, 5, 1, 0, 0),\n",
       " datetime.datetime(2009, 4, 1, 0, 0),\n",
       " datetime.datetime(2009, 3, 1, 0, 0),\n",
       " datetime.datetime(2009, 2, 1, 0, 0),\n",
       " datetime.datetime(2009, 1, 1, 0, 0),\n",
       " datetime.datetime(2008, 12, 1, 0, 0),\n",
       " datetime.datetime(2008, 11, 1, 0, 0),\n",
       " datetime.datetime(2008, 10, 1, 0, 0),\n",
       " datetime.datetime(2008, 9, 1, 0, 0),\n",
       " datetime.datetime(2008, 8, 1, 0, 0),\n",
       " datetime.datetime(2008, 7, 1, 0, 0),\n",
       " datetime.datetime(2008, 6, 1, 0, 0),\n",
       " datetime.datetime(2008, 5, 1, 0, 0),\n",
       " datetime.datetime(2008, 4, 1, 0, 0),\n",
       " datetime.datetime(2008, 3, 1, 0, 0),\n",
       " datetime.datetime(2008, 2, 1, 0, 0),\n",
       " datetime.datetime(2008, 1, 1, 0, 0),\n",
       " datetime.datetime(2007, 12, 1, 0, 0),\n",
       " datetime.datetime(2007, 11, 1, 0, 0),\n",
       " datetime.datetime(2007, 10, 1, 0, 0),\n",
       " datetime.datetime(2007, 9, 1, 0, 0),\n",
       " datetime.datetime(2007, 8, 1, 0, 0),\n",
       " datetime.datetime(2007, 7, 1, 0, 0),\n",
       " datetime.datetime(2007, 6, 1, 0, 0),\n",
       " datetime.datetime(2007, 5, 1, 0, 0),\n",
       " datetime.datetime(2007, 4, 1, 0, 0),\n",
       " datetime.datetime(2007, 3, 1, 0, 0),\n",
       " datetime.datetime(2007, 2, 1, 0, 0),\n",
       " datetime.datetime(2007, 1, 1, 0, 0),\n",
       " datetime.datetime(2006, 12, 1, 0, 0),\n",
       " datetime.datetime(2006, 11, 1, 0, 0),\n",
       " datetime.datetime(2006, 10, 1, 0, 0),\n",
       " datetime.datetime(2006, 9, 1, 0, 0),\n",
       " datetime.datetime(2006, 8, 1, 0, 0),\n",
       " datetime.datetime(2006, 7, 1, 0, 0),\n",
       " datetime.datetime(2006, 6, 1, 0, 0),\n",
       " datetime.datetime(2006, 5, 1, 0, 0),\n",
       " datetime.datetime(2006, 4, 1, 0, 0),\n",
       " datetime.datetime(2006, 3, 1, 0, 0),\n",
       " datetime.datetime(2006, 2, 1, 0, 0),\n",
       " datetime.datetime(2006, 1, 1, 0, 0),\n",
       " datetime.datetime(2005, 12, 1, 0, 0),\n",
       " datetime.datetime(2005, 11, 1, 0, 0),\n",
       " datetime.datetime(2005, 10, 1, 0, 0),\n",
       " datetime.datetime(2005, 9, 1, 0, 0),\n",
       " datetime.datetime(2005, 8, 1, 0, 0),\n",
       " datetime.datetime(2005, 7, 1, 0, 0),\n",
       " datetime.datetime(2005, 6, 1, 0, 0),\n",
       " datetime.datetime(2005, 5, 1, 0, 0),\n",
       " datetime.datetime(2005, 4, 1, 0, 0),\n",
       " datetime.datetime(2005, 3, 1, 0, 0),\n",
       " datetime.datetime(2005, 2, 1, 0, 0),\n",
       " datetime.datetime(2005, 1, 1, 0, 0),\n",
       " datetime.datetime(2004, 12, 1, 0, 0),\n",
       " datetime.datetime(2004, 11, 1, 0, 0),\n",
       " datetime.datetime(2004, 10, 1, 0, 0),\n",
       " datetime.datetime(2004, 9, 1, 0, 0),\n",
       " datetime.datetime(2004, 8, 1, 0, 0),\n",
       " datetime.datetime(2004, 7, 1, 0, 0),\n",
       " datetime.datetime(2004, 6, 1, 0, 0),\n",
       " datetime.datetime(2004, 5, 1, 0, 0),\n",
       " datetime.datetime(2004, 4, 1, 0, 0),\n",
       " datetime.datetime(2004, 3, 1, 0, 0),\n",
       " datetime.datetime(2004, 2, 1, 0, 0),\n",
       " datetime.datetime(2004, 1, 1, 0, 0),\n",
       " datetime.datetime(2003, 12, 1, 0, 0),\n",
       " datetime.datetime(2003, 11, 1, 0, 0),\n",
       " datetime.datetime(2003, 10, 1, 0, 0),\n",
       " datetime.datetime(2003, 9, 1, 0, 0),\n",
       " datetime.datetime(2003, 8, 1, 0, 0),\n",
       " datetime.datetime(2003, 7, 1, 0, 0),\n",
       " datetime.datetime(2003, 6, 1, 0, 0),\n",
       " datetime.datetime(2003, 5, 1, 0, 0),\n",
       " datetime.datetime(2003, 4, 1, 0, 0),\n",
       " datetime.datetime(2003, 3, 1, 0, 0),\n",
       " datetime.datetime(2003, 2, 1, 0, 0),\n",
       " datetime.datetime(2003, 1, 1, 0, 0),\n",
       " datetime.datetime(2002, 12, 1, 0, 0),\n",
       " datetime.datetime(2002, 11, 1, 0, 0),\n",
       " datetime.datetime(2002, 10, 1, 0, 0),\n",
       " datetime.datetime(2002, 9, 1, 0, 0),\n",
       " datetime.datetime(2002, 8, 1, 0, 0),\n",
       " datetime.datetime(2002, 7, 1, 0, 0),\n",
       " datetime.datetime(2002, 6, 1, 0, 0),\n",
       " datetime.datetime(2002, 5, 1, 0, 0),\n",
       " datetime.datetime(2002, 4, 1, 0, 0),\n",
       " datetime.datetime(2002, 3, 1, 0, 0),\n",
       " datetime.datetime(2002, 2, 1, 0, 0),\n",
       " datetime.datetime(2002, 1, 1, 0, 0),\n",
       " datetime.datetime(2001, 12, 1, 0, 0),\n",
       " datetime.datetime(2001, 11, 1, 0, 0),\n",
       " datetime.datetime(2001, 10, 1, 0, 0),\n",
       " datetime.datetime(2001, 9, 1, 0, 0),\n",
       " datetime.datetime(2001, 8, 1, 0, 0),\n",
       " datetime.datetime(2001, 7, 1, 0, 0),\n",
       " datetime.datetime(2001, 6, 1, 0, 0),\n",
       " datetime.datetime(2001, 5, 1, 0, 0),\n",
       " datetime.datetime(2001, 4, 1, 0, 0),\n",
       " datetime.datetime(2001, 3, 1, 0, 0),\n",
       " datetime.datetime(2001, 2, 1, 0, 0),\n",
       " datetime.datetime(2001, 1, 1, 0, 0),\n",
       " datetime.datetime(2000, 12, 1, 0, 0),\n",
       " datetime.datetime(2000, 11, 1, 0, 0),\n",
       " datetime.datetime(2000, 10, 1, 0, 0),\n",
       " datetime.datetime(2000, 9, 1, 0, 0),\n",
       " datetime.datetime(2000, 8, 1, 0, 0),\n",
       " datetime.datetime(2000, 7, 1, 0, 0),\n",
       " datetime.datetime(2000, 6, 1, 0, 0),\n",
       " datetime.datetime(2000, 5, 1, 0, 0),\n",
       " datetime.datetime(2000, 4, 1, 0, 0),\n",
       " datetime.datetime(2000, 3, 1, 0, 0),\n",
       " datetime.datetime(2000, 2, 1, 0, 0),\n",
       " datetime.datetime(2000, 1, 1, 0, 0),\n",
       " datetime.datetime(1999, 12, 1, 0, 0),\n",
       " datetime.datetime(1999, 11, 1, 0, 0),\n",
       " datetime.datetime(1999, 10, 1, 0, 0),\n",
       " datetime.datetime(1999, 9, 1, 0, 0),\n",
       " datetime.datetime(1999, 8, 1, 0, 0),\n",
       " datetime.datetime(1999, 7, 1, 0, 0),\n",
       " datetime.datetime(1999, 6, 1, 0, 0),\n",
       " datetime.datetime(1999, 5, 1, 0, 0),\n",
       " datetime.datetime(1999, 4, 1, 0, 0),\n",
       " datetime.datetime(1999, 3, 1, 0, 0),\n",
       " datetime.datetime(1999, 2, 1, 0, 0),\n",
       " datetime.datetime(1999, 1, 1, 0, 0),\n",
       " datetime.datetime(1998, 12, 1, 0, 0),\n",
       " datetime.datetime(1998, 11, 1, 0, 0),\n",
       " datetime.datetime(1998, 10, 1, 0, 0),\n",
       " datetime.datetime(1998, 9, 1, 0, 0),\n",
       " datetime.datetime(1998, 8, 1, 0, 0),\n",
       " datetime.datetime(1998, 7, 1, 0, 0),\n",
       " datetime.datetime(1998, 6, 1, 0, 0),\n",
       " datetime.datetime(1998, 5, 1, 0, 0),\n",
       " datetime.datetime(1998, 4, 1, 0, 0),\n",
       " datetime.datetime(1998, 3, 1, 0, 0),\n",
       " datetime.datetime(1998, 2, 1, 0, 0),\n",
       " datetime.datetime(1998, 1, 1, 0, 0),\n",
       " datetime.datetime(1997, 12, 1, 0, 0),\n",
       " datetime.datetime(1997, 11, 1, 0, 0),\n",
       " datetime.datetime(1997, 10, 1, 0, 0),\n",
       " datetime.datetime(1997, 9, 1, 0, 0),\n",
       " datetime.datetime(1997, 8, 1, 0, 0),\n",
       " datetime.datetime(1997, 7, 1, 0, 0),\n",
       " datetime.datetime(1997, 6, 1, 0, 0),\n",
       " datetime.datetime(1997, 5, 1, 0, 0),\n",
       " datetime.datetime(1997, 4, 1, 0, 0),\n",
       " datetime.datetime(1997, 3, 1, 0, 0),\n",
       " datetime.datetime(1997, 2, 1, 0, 0),\n",
       " datetime.datetime(1997, 1, 1, 0, 0),\n",
       " datetime.datetime(1996, 12, 1, 0, 0),\n",
       " datetime.datetime(1996, 11, 1, 0, 0),\n",
       " datetime.datetime(1996, 10, 1, 0, 0),\n",
       " datetime.datetime(1996, 9, 1, 0, 0),\n",
       " datetime.datetime(1996, 8, 1, 0, 0),\n",
       " datetime.datetime(1996, 7, 1, 0, 0),\n",
       " datetime.datetime(1996, 6, 1, 0, 0),\n",
       " datetime.datetime(1996, 5, 1, 0, 0),\n",
       " datetime.datetime(1996, 4, 1, 0, 0),\n",
       " datetime.datetime(1996, 3, 1, 0, 0),\n",
       " datetime.datetime(1996, 2, 1, 0, 0),\n",
       " datetime.datetime(1996, 1, 1, 0, 0),\n",
       " datetime.datetime(1995, 12, 1, 0, 0),\n",
       " datetime.datetime(1995, 11, 1, 0, 0),\n",
       " datetime.datetime(1995, 10, 1, 0, 0),\n",
       " datetime.datetime(1995, 9, 1, 0, 0),\n",
       " datetime.datetime(1995, 8, 1, 0, 0),\n",
       " datetime.datetime(1995, 7, 1, 0, 0),\n",
       " datetime.datetime(1995, 6, 1, 0, 0),\n",
       " datetime.datetime(1995, 5, 1, 0, 0),\n",
       " datetime.datetime(1995, 4, 1, 0, 0),\n",
       " datetime.datetime(1995, 3, 1, 0, 0),\n",
       " datetime.datetime(1995, 2, 1, 0, 0),\n",
       " datetime.datetime(1995, 1, 1, 0, 0),\n",
       " datetime.datetime(1994, 12, 1, 0, 0),\n",
       " datetime.datetime(1994, 11, 1, 0, 0),\n",
       " datetime.datetime(1994, 10, 1, 0, 0),\n",
       " datetime.datetime(1994, 9, 1, 0, 0),\n",
       " datetime.datetime(1994, 8, 1, 0, 0),\n",
       " datetime.datetime(1994, 7, 1, 0, 0),\n",
       " datetime.datetime(1994, 6, 1, 0, 0),\n",
       " datetime.datetime(1994, 5, 1, 0, 0),\n",
       " datetime.datetime(1994, 4, 1, 0, 0),\n",
       " datetime.datetime(1994, 3, 1, 0, 0),\n",
       " datetime.datetime(1994, 2, 1, 0, 0),\n",
       " datetime.datetime(1994, 1, 1, 0, 0),\n",
       " datetime.datetime(1993, 12, 1, 0, 0),\n",
       " datetime.datetime(1993, 11, 1, 0, 0),\n",
       " datetime.datetime(1993, 10, 1, 0, 0),\n",
       " datetime.datetime(1993, 9, 1, 0, 0),\n",
       " datetime.datetime(1993, 8, 1, 0, 0),\n",
       " datetime.datetime(1993, 7, 1, 0, 0),\n",
       " datetime.datetime(1993, 6, 1, 0, 0),\n",
       " datetime.datetime(1993, 5, 1, 0, 0),\n",
       " datetime.datetime(1993, 4, 1, 0, 0),\n",
       " datetime.datetime(1993, 3, 1, 0, 0),\n",
       " datetime.datetime(1993, 2, 1, 0, 0),\n",
       " datetime.datetime(1993, 1, 1, 0, 0),\n",
       " datetime.datetime(1992, 12, 1, 0, 0),\n",
       " datetime.datetime(1992, 11, 1, 0, 0),\n",
       " datetime.datetime(1992, 10, 1, 0, 0),\n",
       " datetime.datetime(1992, 9, 1, 0, 0),\n",
       " datetime.datetime(1992, 8, 1, 0, 0),\n",
       " datetime.datetime(1992, 7, 1, 0, 0),\n",
       " datetime.datetime(1992, 6, 1, 0, 0),\n",
       " datetime.datetime(1992, 5, 1, 0, 0),\n",
       " datetime.datetime(1992, 4, 1, 0, 0),\n",
       " datetime.datetime(1992, 3, 1, 0, 0),\n",
       " datetime.datetime(1992, 2, 1, 0, 0),\n",
       " datetime.datetime(1992, 1, 1, 0, 0),\n",
       " datetime.datetime(1991, 12, 1, 0, 0),\n",
       " datetime.datetime(1991, 11, 1, 0, 0),\n",
       " datetime.datetime(1991, 10, 1, 0, 0),\n",
       " datetime.datetime(1991, 9, 1, 0, 0),\n",
       " datetime.datetime(1991, 8, 1, 0, 0),\n",
       " datetime.datetime(1991, 7, 1, 0, 0),\n",
       " datetime.datetime(1991, 6, 1, 0, 0),\n",
       " datetime.datetime(1991, 5, 1, 0, 0),\n",
       " datetime.datetime(1991, 4, 1, 0, 0),\n",
       " datetime.datetime(1991, 3, 1, 0, 0),\n",
       " datetime.datetime(1991, 2, 1, 0, 0),\n",
       " datetime.datetime(1991, 1, 1, 0, 0),\n",
       " datetime.datetime(1990, 12, 1, 0, 0),\n",
       " datetime.datetime(1990, 11, 1, 0, 0),\n",
       " datetime.datetime(1990, 10, 1, 0, 0),\n",
       " datetime.datetime(1990, 9, 1, 0, 0),\n",
       " datetime.datetime(1990, 8, 1, 0, 0),\n",
       " datetime.datetime(1990, 7, 1, 0, 0),\n",
       " datetime.datetime(1990, 6, 1, 0, 0),\n",
       " datetime.datetime(1990, 5, 1, 0, 0),\n",
       " datetime.datetime(1990, 4, 1, 0, 0),\n",
       " datetime.datetime(1990, 3, 1, 0, 0),\n",
       " datetime.datetime(1990, 2, 1, 0, 0),\n",
       " datetime.datetime(1990, 1, 1, 0, 0),\n",
       " datetime.datetime(1989, 12, 1, 0, 0),\n",
       " datetime.datetime(1989, 11, 1, 0, 0),\n",
       " datetime.datetime(1989, 10, 1, 0, 0),\n",
       " datetime.datetime(1989, 9, 1, 0, 0),\n",
       " datetime.datetime(1989, 8, 1, 0, 0),\n",
       " datetime.datetime(1989, 7, 1, 0, 0),\n",
       " datetime.datetime(1989, 6, 1, 0, 0),\n",
       " datetime.datetime(1989, 5, 1, 0, 0),\n",
       " datetime.datetime(1989, 4, 1, 0, 0),\n",
       " datetime.datetime(1989, 3, 1, 0, 0),\n",
       " datetime.datetime(1989, 2, 1, 0, 0),\n",
       " datetime.datetime(1989, 1, 1, 0, 0),\n",
       " datetime.datetime(1988, 12, 1, 0, 0),\n",
       " datetime.datetime(1988, 11, 1, 0, 0),\n",
       " datetime.datetime(1988, 10, 1, 0, 0),\n",
       " datetime.datetime(1988, 9, 1, 0, 0),\n",
       " datetime.datetime(1988, 8, 1, 0, 0),\n",
       " datetime.datetime(1988, 7, 1, 0, 0),\n",
       " datetime.datetime(1988, 6, 1, 0, 0),\n",
       " datetime.datetime(1988, 5, 1, 0, 0),\n",
       " datetime.datetime(1988, 4, 1, 0, 0),\n",
       " datetime.datetime(1988, 3, 1, 0, 0),\n",
       " datetime.datetime(1988, 2, 1, 0, 0),\n",
       " datetime.datetime(1988, 1, 1, 0, 0),\n",
       " datetime.datetime(1987, 12, 1, 0, 0),\n",
       " datetime.datetime(1987, 11, 1, 0, 0),\n",
       " datetime.datetime(1987, 10, 1, 0, 0),\n",
       " datetime.datetime(1987, 9, 1, 0, 0),\n",
       " datetime.datetime(1987, 8, 1, 0, 0),\n",
       " datetime.datetime(1987, 7, 1, 0, 0),\n",
       " datetime.datetime(1987, 6, 1, 0, 0),\n",
       " datetime.datetime(1987, 5, 1, 0, 0),\n",
       " datetime.datetime(1987, 4, 1, 0, 0),\n",
       " datetime.datetime(1987, 3, 1, 0, 0),\n",
       " datetime.datetime(1987, 2, 1, 0, 0),\n",
       " datetime.datetime(1987, 1, 1, 0, 0),\n",
       " datetime.datetime(1986, 12, 1, 0, 0),\n",
       " datetime.datetime(1986, 11, 1, 0, 0),\n",
       " datetime.datetime(1986, 10, 1, 0, 0),\n",
       " datetime.datetime(1986, 9, 1, 0, 0),\n",
       " datetime.datetime(1986, 8, 1, 0, 0),\n",
       " datetime.datetime(1986, 7, 1, 0, 0),\n",
       " datetime.datetime(1986, 6, 1, 0, 0),\n",
       " datetime.datetime(1986, 5, 1, 0, 0),\n",
       " datetime.datetime(1986, 4, 1, 0, 0),\n",
       " datetime.datetime(1986, 3, 1, 0, 0),\n",
       " datetime.datetime(1986, 2, 1, 0, 0),\n",
       " datetime.datetime(1986, 1, 1, 0, 0),\n",
       " datetime.datetime(1985, 12, 1, 0, 0),\n",
       " datetime.datetime(1985, 11, 1, 0, 0),\n",
       " datetime.datetime(1985, 10, 1, 0, 0),\n",
       " datetime.datetime(1985, 9, 1, 0, 0),\n",
       " datetime.datetime(1985, 8, 1, 0, 0),\n",
       " datetime.datetime(1985, 7, 1, 0, 0),\n",
       " datetime.datetime(1985, 6, 1, 0, 0),\n",
       " datetime.datetime(1985, 5, 1, 0, 0),\n",
       " datetime.datetime(1985, 4, 1, 0, 0),\n",
       " datetime.datetime(1985, 3, 1, 0, 0),\n",
       " datetime.datetime(1985, 2, 1, 0, 0),\n",
       " datetime.datetime(1985, 1, 1, 0, 0),\n",
       " datetime.datetime(1984, 12, 1, 0, 0),\n",
       " datetime.datetime(1984, 11, 1, 0, 0),\n",
       " datetime.datetime(1984, 10, 1, 0, 0),\n",
       " datetime.datetime(1984, 9, 1, 0, 0),\n",
       " datetime.datetime(1984, 8, 1, 0, 0),\n",
       " datetime.datetime(1984, 7, 1, 0, 0),\n",
       " datetime.datetime(1984, 6, 1, 0, 0),\n",
       " datetime.datetime(1984, 5, 1, 0, 0),\n",
       " datetime.datetime(1984, 4, 1, 0, 0),\n",
       " datetime.datetime(1984, 3, 1, 0, 0),\n",
       " datetime.datetime(1984, 2, 1, 0, 0),\n",
       " datetime.datetime(1984, 1, 1, 0, 0),\n",
       " datetime.datetime(1983, 12, 1, 0, 0),\n",
       " datetime.datetime(1983, 11, 1, 0, 0),\n",
       " datetime.datetime(1983, 10, 1, 0, 0),\n",
       " datetime.datetime(1983, 9, 1, 0, 0),\n",
       " datetime.datetime(1983, 8, 1, 0, 0),\n",
       " datetime.datetime(1983, 7, 1, 0, 0),\n",
       " datetime.datetime(1983, 6, 1, 0, 0),\n",
       " datetime.datetime(1983, 5, 1, 0, 0),\n",
       " datetime.datetime(1983, 4, 1, 0, 0),\n",
       " datetime.datetime(1983, 3, 1, 0, 0),\n",
       " datetime.datetime(1983, 2, 1, 0, 0),\n",
       " datetime.datetime(1983, 1, 1, 0, 0),\n",
       " datetime.datetime(1982, 12, 1, 0, 0),\n",
       " datetime.datetime(1982, 11, 1, 0, 0),\n",
       " datetime.datetime(1982, 10, 1, 0, 0),\n",
       " datetime.datetime(1982, 9, 1, 0, 0),\n",
       " datetime.datetime(1982, 8, 1, 0, 0),\n",
       " datetime.datetime(1982, 7, 1, 0, 0),\n",
       " datetime.datetime(1982, 6, 1, 0, 0),\n",
       " datetime.datetime(1982, 5, 1, 0, 0),\n",
       " datetime.datetime(1982, 4, 1, 0, 0),\n",
       " datetime.datetime(1982, 3, 1, 0, 0),\n",
       " datetime.datetime(1982, 2, 1, 0, 0),\n",
       " datetime.datetime(1982, 1, 1, 0, 0),\n",
       " datetime.datetime(1981, 12, 1, 0, 0),\n",
       " datetime.datetime(1981, 11, 1, 0, 0),\n",
       " datetime.datetime(1981, 10, 1, 0, 0),\n",
       " datetime.datetime(1981, 9, 1, 0, 0),\n",
       " datetime.datetime(1981, 8, 1, 0, 0),\n",
       " datetime.datetime(1981, 7, 1, 0, 0),\n",
       " datetime.datetime(1981, 6, 1, 0, 0),\n",
       " datetime.datetime(1981, 5, 1, 0, 0),\n",
       " datetime.datetime(1981, 4, 1, 0, 0),\n",
       " datetime.datetime(1981, 3, 1, 0, 0),\n",
       " datetime.datetime(1981, 2, 1, 0, 0),\n",
       " datetime.datetime(1981, 1, 1, 0, 0),\n",
       " datetime.datetime(1980, 12, 1, 0, 0),\n",
       " datetime.datetime(1980, 11, 1, 0, 0),\n",
       " datetime.datetime(1980, 10, 1, 0, 0),\n",
       " datetime.datetime(1980, 9, 1, 0, 0),\n",
       " datetime.datetime(1980, 8, 1, 0, 0),\n",
       " datetime.datetime(1980, 7, 1, 0, 0),\n",
       " datetime.datetime(1980, 6, 1, 0, 0),\n",
       " datetime.datetime(1980, 5, 1, 0, 0),\n",
       " datetime.datetime(1980, 4, 1, 0, 0),\n",
       " datetime.datetime(1980, 3, 1, 0, 0),\n",
       " datetime.datetime(1980, 2, 1, 0, 0),\n",
       " datetime.datetime(1980, 1, 1, 0, 0),\n",
       " datetime.datetime(1979, 12, 1, 0, 0),\n",
       " datetime.datetime(1979, 11, 1, 0, 0),\n",
       " datetime.datetime(1979, 10, 1, 0, 0),\n",
       " datetime.datetime(1979, 9, 1, 0, 0),\n",
       " datetime.datetime(1979, 8, 1, 0, 0),\n",
       " datetime.datetime(1979, 7, 1, 0, 0),\n",
       " datetime.datetime(1979, 6, 1, 0, 0),\n",
       " datetime.datetime(1979, 5, 1, 0, 0),\n",
       " datetime.datetime(1979, 4, 1, 0, 0),\n",
       " datetime.datetime(1979, 3, 1, 0, 0),\n",
       " datetime.datetime(1979, 2, 1, 0, 0),\n",
       " datetime.datetime(1979, 1, 1, 0, 0)]"
      ]
     },
     "execution_count": 19,
     "metadata": {},
     "output_type": "execute_result"
    }
   ],
   "source": [
    "alldays = con_data.distinct(key='date')\n",
    "alldays"
   ]
  },
  {
   "cell_type": "markdown",
   "metadata": {},
   "source": [
    "## Data collection indexes <a id='indexes'></a>"
   ]
  },
  {
   "cell_type": "code",
   "execution_count": 36,
   "metadata": {},
   "outputs": [
    {
     "name": "stdout",
     "output_type": "stream",
     "text": [
      "{'_id_': {'key': [('_id', 1)], 'ns': 'ECMWF.ERAINT_grid', 'v': 1},\n",
      " 'loc_2dsphere_id_grid_1': {'2dsphereIndexVersion': 2,\n",
      "                            'key': [('loc', '2dsphere'), ('id_grid', 1)],\n",
      "                            'ns': 'ECMWF.ERAINT_grid',\n",
      "                            'v': 1}}\n"
     ]
    }
   ],
   "source": [
    "ind = con_grid.index_information()\n",
    "pprint(ind)"
   ]
  },
  {
   "cell_type": "code",
   "execution_count": 20,
   "metadata": {},
   "outputs": [
    {
     "data": {
      "text/plain": [
       "{'_id_': {'key': [('_id', 1)], 'ns': 'ECMWF.ERAINT_monthly', 'v': 1},\n",
       " 'date_-1': {'key': [('date', -1)], 'ns': 'ECMWF.ERAINT_monthly', 'v': 1},\n",
       " 'id_grid_1_date_-1': {'key': [('id_grid', 1), ('date', -1)],\n",
       "  'ns': 'ECMWF.ERAINT_monthly',\n",
       "  'v': 1},\n",
       " 'year_1_id_grid_1': {'key': [('year', 1), ('id_grid', 1)],\n",
       "  'ns': 'ECMWF.ERAINT_monthly',\n",
       "  'v': 1}}"
      ]
     },
     "execution_count": 20,
     "metadata": {},
     "output_type": "execute_result"
    }
   ],
   "source": [
    "con_data.index_information()"
   ]
  },
  {
   "cell_type": "markdown",
   "metadata": {},
   "source": [
    "# Plot SLP <a id='slpplot'></a>"
   ]
  },
  {
   "cell_type": "code",
   "execution_count": 21,
   "metadata": {},
   "outputs": [
    {
     "data": {
      "text/plain": [
       "{'_id': ObjectId('5a088e938cb6b80d9b4c7f93'),\n",
       " 'id_grid': 1,\n",
       " 'loc': {'coordinates': [-180.0, 90.0], 'type': 'Point'}}"
      ]
     },
     "execution_count": 21,
     "metadata": {},
     "output_type": "execute_result"
    }
   ],
   "source": [
    "con_grid.find_one()"
   ]
  },
  {
   "cell_type": "markdown",
   "metadata": {},
   "source": [
    "- The domain north of 20°N is chosen for EOF decomposition for Z70 hPa and SIC to focus on the extra-tropical variability \n",
    "- The area north of 20°S is chosen for SST to also include key regions of tropical SST variability"
   ]
  },
  {
   "cell_type": "code",
   "execution_count": 80,
   "metadata": {
    "collapsed": true
   },
   "outputs": [],
   "source": [
    "slp_poly = [[180,20], [180,90],[-180,90], [-180,20],[180,20]] #[[-180,20],[-180,0],[180,0],[-180,0],[-180,20]]"
   ]
  },
  {
   "cell_type": "code",
   "execution_count": 81,
   "metadata": {},
   "outputs": [
    {
     "data": {
      "text/plain": [
       "573"
      ]
     },
     "execution_count": 81,
     "metadata": {},
     "output_type": "execute_result"
    }
   ],
   "source": [
    "this_polygon = slp_poly\n",
    "geo_qry = {\"loc\": \n",
    "           {\"$geoWithin\": {\n",
    "               \"$geometry\": {\n",
    "                   \"type\": \"Polygon\",\"coordinates\": [this_polygon]}}}}\n",
    "con_grid.count(filter = geo_qry)"
   ]
  },
  {
   "cell_type": "code",
   "execution_count": 73,
   "metadata": {},
   "outputs": [
    {
     "data": {
      "text/plain": [
       "array([ 1,  2,  3,  4,  5,  6,  7,  8,  9, 10])"
      ]
     },
     "execution_count": 73,
     "metadata": {},
     "output_type": "execute_result"
    }
   ],
   "source": [
    "res = con_grid.find(filter = geo_qry, projection = {\"_id\":0, \"id_grid\": 1, \"loc\": 1})\n",
    "grid_df = pd.DataFrame(list(res))\n",
    "grid_ids = grid_df.id_grid.values\n",
    "grid_ids[:10]"
   ]
  },
  {
   "cell_type": "code",
   "execution_count": 70,
   "metadata": {},
   "outputs": [
    {
     "data": {
      "text/html": [
       "<div>\n",
       "<style>\n",
       "    .dataframe thead tr:only-child th {\n",
       "        text-align: right;\n",
       "    }\n",
       "\n",
       "    .dataframe thead th {\n",
       "        text-align: left;\n",
       "    }\n",
       "\n",
       "    .dataframe tbody tr th {\n",
       "        vertical-align: top;\n",
       "    }\n",
       "</style>\n",
       "<table border=\"1\" class=\"dataframe\">\n",
       "  <thead>\n",
       "    <tr style=\"text-align: right;\">\n",
       "      <th></th>\n",
       "      <th>id_grid</th>\n",
       "      <th>msl</th>\n",
       "    </tr>\n",
       "  </thead>\n",
       "  <tbody>\n",
       "    <tr>\n",
       "      <th>0</th>\n",
       "      <td>1</td>\n",
       "      <td>99672.69</td>\n",
       "    </tr>\n",
       "    <tr>\n",
       "      <th>1</th>\n",
       "      <td>2</td>\n",
       "      <td>99672.69</td>\n",
       "    </tr>\n",
       "    <tr>\n",
       "      <th>2</th>\n",
       "      <td>3</td>\n",
       "      <td>99672.69</td>\n",
       "    </tr>\n",
       "    <tr>\n",
       "      <th>3</th>\n",
       "      <td>4</td>\n",
       "      <td>99672.69</td>\n",
       "    </tr>\n",
       "    <tr>\n",
       "      <th>4</th>\n",
       "      <td>5</td>\n",
       "      <td>99672.69</td>\n",
       "    </tr>\n",
       "  </tbody>\n",
       "</table>\n",
       "</div>"
      ],
      "text/plain": [
       "   id_grid       msl\n",
       "0        1  99672.69\n",
       "1        2  99672.69\n",
       "2        3  99672.69\n",
       "3        4  99672.69\n",
       "4        5  99672.69"
      ]
     },
     "execution_count": 70,
     "metadata": {},
     "output_type": "execute_result"
    }
   ],
   "source": [
    "# Query SLP in the data collection for a given day for the grid_ids\n",
    "res = con_data.find(filter = {\n",
    "    \"date\": datetime(1988, 12, 1, 0, 0),\n",
    "    \"id_grid\": {\"$in\": grid_ids.tolist()}},\n",
    "                       projection = {\"_id\":0, \"id_grid\": 1, \"msl\": 1})\n",
    "slp_df = pd.DataFrame(list(res))\n",
    "slp_df.head()"
   ]
  },
  {
   "cell_type": "code",
   "execution_count": 75,
   "metadata": {},
   "outputs": [
    {
     "data": {
      "text/html": [
       "<div>\n",
       "<style>\n",
       "    .dataframe thead tr:only-child th {\n",
       "        text-align: right;\n",
       "    }\n",
       "\n",
       "    .dataframe thead th {\n",
       "        text-align: left;\n",
       "    }\n",
       "\n",
       "    .dataframe tbody tr th {\n",
       "        vertical-align: top;\n",
       "    }\n",
       "</style>\n",
       "<table border=\"1\" class=\"dataframe\">\n",
       "  <thead>\n",
       "    <tr style=\"text-align: right;\">\n",
       "      <th></th>\n",
       "      <th>id_grid</th>\n",
       "      <th>loc</th>\n",
       "    </tr>\n",
       "  </thead>\n",
       "  <tbody>\n",
       "    <tr>\n",
       "      <th>0</th>\n",
       "      <td>1</td>\n",
       "      <td>{'type': 'Point', 'coordinates': [-180.0, 90.0]}</td>\n",
       "    </tr>\n",
       "    <tr>\n",
       "      <th>1</th>\n",
       "      <td>2</td>\n",
       "      <td>{'type': 'Point', 'coordinates': [-179.25, 90.0]}</td>\n",
       "    </tr>\n",
       "    <tr>\n",
       "      <th>2</th>\n",
       "      <td>3</td>\n",
       "      <td>{'type': 'Point', 'coordinates': [-178.5, 90.0]}</td>\n",
       "    </tr>\n",
       "    <tr>\n",
       "      <th>3</th>\n",
       "      <td>4</td>\n",
       "      <td>{'type': 'Point', 'coordinates': [-177.75, 90.0]}</td>\n",
       "    </tr>\n",
       "    <tr>\n",
       "      <th>4</th>\n",
       "      <td>5</td>\n",
       "      <td>{'type': 'Point', 'coordinates': [-177.0, 90.0]}</td>\n",
       "    </tr>\n",
       "  </tbody>\n",
       "</table>\n",
       "</div>"
      ],
      "text/plain": [
       "   id_grid                                                loc\n",
       "0        1   {'type': 'Point', 'coordinates': [-180.0, 90.0]}\n",
       "1        2  {'type': 'Point', 'coordinates': [-179.25, 90.0]}\n",
       "2        3   {'type': 'Point', 'coordinates': [-178.5, 90.0]}\n",
       "3        4  {'type': 'Point', 'coordinates': [-177.75, 90.0]}\n",
       "4        5   {'type': 'Point', 'coordinates': [-177.0, 90.0]}"
      ]
     },
     "execution_count": 75,
     "metadata": {},
     "output_type": "execute_result"
    }
   ],
   "source": [
    "grid_df.head()"
   ]
  },
  {
   "cell_type": "code",
   "execution_count": 77,
   "metadata": {},
   "outputs": [
    {
     "data": {
      "text/html": [
       "<div>\n",
       "<style>\n",
       "    .dataframe thead tr:only-child th {\n",
       "        text-align: right;\n",
       "    }\n",
       "\n",
       "    .dataframe thead th {\n",
       "        text-align: left;\n",
       "    }\n",
       "\n",
       "    .dataframe tbody tr th {\n",
       "        vertical-align: top;\n",
       "    }\n",
       "</style>\n",
       "<table border=\"1\" class=\"dataframe\">\n",
       "  <thead>\n",
       "    <tr style=\"text-align: right;\">\n",
       "      <th></th>\n",
       "      <th>id_grid</th>\n",
       "      <th>msl</th>\n",
       "      <th>loc</th>\n",
       "    </tr>\n",
       "  </thead>\n",
       "  <tbody>\n",
       "    <tr>\n",
       "      <th>0</th>\n",
       "      <td>1</td>\n",
       "      <td>99672.69</td>\n",
       "      <td>{'type': 'Point', 'coordinates': [-180.0, 90.0]}</td>\n",
       "    </tr>\n",
       "    <tr>\n",
       "      <th>1</th>\n",
       "      <td>2</td>\n",
       "      <td>99672.69</td>\n",
       "      <td>{'type': 'Point', 'coordinates': [-179.25, 90.0]}</td>\n",
       "    </tr>\n",
       "    <tr>\n",
       "      <th>2</th>\n",
       "      <td>3</td>\n",
       "      <td>99672.69</td>\n",
       "      <td>{'type': 'Point', 'coordinates': [-178.5, 90.0]}</td>\n",
       "    </tr>\n",
       "    <tr>\n",
       "      <th>3</th>\n",
       "      <td>4</td>\n",
       "      <td>99672.69</td>\n",
       "      <td>{'type': 'Point', 'coordinates': [-177.75, 90.0]}</td>\n",
       "    </tr>\n",
       "    <tr>\n",
       "      <th>4</th>\n",
       "      <td>5</td>\n",
       "      <td>99672.69</td>\n",
       "      <td>{'type': 'Point', 'coordinates': [-177.0, 90.0]}</td>\n",
       "    </tr>\n",
       "  </tbody>\n",
       "</table>\n",
       "</div>"
      ],
      "text/plain": [
       "   id_grid       msl                                                loc\n",
       "0        1  99672.69   {'type': 'Point', 'coordinates': [-180.0, 90.0]}\n",
       "1        2  99672.69  {'type': 'Point', 'coordinates': [-179.25, 90.0]}\n",
       "2        3  99672.69   {'type': 'Point', 'coordinates': [-178.5, 90.0]}\n",
       "3        4  99672.69  {'type': 'Point', 'coordinates': [-177.75, 90.0]}\n",
       "4        5  99672.69   {'type': 'Point', 'coordinates': [-177.0, 90.0]}"
      ]
     },
     "execution_count": 77,
     "metadata": {},
     "output_type": "execute_result"
    }
   ],
   "source": [
    "# Merge slp_df with grid_df:\n",
    "slp_dat = pd.merge(left=slp_df, right=grid_df, on = \"id_grid\")\n",
    "slp_dat.head()"
   ]
  },
  {
   "cell_type": "code",
   "execution_count": 71,
   "metadata": {},
   "outputs": [
    {
     "data": {
      "text/plain": [
       "{'_id': ObjectId('5a088e938cb6b80d9b4c7f93'),\n",
       " 'id_grid': 1,\n",
       " 'loc': {'coordinates': [-180.0, 90.0], 'type': 'Point'}}"
      ]
     },
     "execution_count": 71,
     "metadata": {},
     "output_type": "execute_result"
    }
   ],
   "source": [
    "con_grid.find_one()"
   ]
  },
  {
   "cell_type": "code",
   "execution_count": 79,
   "metadata": {},
   "outputs": [
    {
     "ename": "ModuleNotFoundError",
     "evalue": "No module named 'GDAL'",
     "output_type": "error",
     "traceback": [
      "\u001b[0;31m---------------------------------------------------------------------------\u001b[0m",
      "\u001b[0;31mModuleNotFoundError\u001b[0m                       Traceback (most recent call last)",
      "\u001b[0;32m<ipython-input-79-1f0d5a190614>\u001b[0m in \u001b[0;36m<module>\u001b[0;34m()\u001b[0m\n\u001b[0;32m----> 1\u001b[0;31m \u001b[0;32mimport\u001b[0m \u001b[0mGDAL\u001b[0m \u001b[0;32mas\u001b[0m \u001b[0mgdl\u001b[0m\u001b[0;34m\u001b[0m\u001b[0m\n\u001b[0m",
      "\u001b[0;31mModuleNotFoundError\u001b[0m: No module named 'GDAL'"
     ]
    }
   ],
   "source": [
    "import GDAL as gdl"
   ]
  },
  {
   "cell_type": "code",
   "execution_count": null,
   "metadata": {
    "collapsed": true
   },
   "outputs": [],
   "source": []
  }
 ],
 "metadata": {
  "kernelspec": {
   "display_name": "Python 3",
   "language": "python",
   "name": "python3"
  },
  "language_info": {
   "codemirror_mode": {
    "name": "ipython",
    "version": 3
   },
   "file_extension": ".py",
   "mimetype": "text/x-python",
   "name": "python",
   "nbconvert_exporter": "python",
   "pygments_lexer": "ipython3",
   "version": "3.6.2"
  }
 },
 "nbformat": 4,
 "nbformat_minor": 2
}
