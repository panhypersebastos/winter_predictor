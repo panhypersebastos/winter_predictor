{
 "cells": [
  {
   "cell_type": "markdown",
   "metadata": {},
   "source": [
    "# Exploration of the ERA-int monthly data collection\n",
    "\n",
    "* [Era-int Database Exploration](#db)\n",
    "* [Indexes](#indexes)\n",
    "* [SLP plot](#slpplot)\n",
    "* [Rasterize a DataFrame containing data and location ](#rasterize)\n",
    "* [Anomaly Data Collection](#Anomaly)"
   ]
  },
  {
   "cell_type": "code",
   "execution_count": 1,
   "metadata": {},
   "outputs": [],
   "source": [
    "from netCDF4 import Dataset\n",
    "import numpy as np\n",
    "import matplotlib.pyplot as plt\n",
    "from mpl_toolkits.basemap import Basemap, addcyclic, shiftgrid\n",
    "import pymongo\n",
    "from pprint import pprint\n",
    "from datetime import datetime, timedelta, date\n",
    "import pandas as pd\n",
    "import gdal as gdl\n",
    "import matplotlib.mlab as ml "
   ]
  },
  {
   "cell_type": "code",
   "execution_count": 2,
   "metadata": {},
   "outputs": [],
   "source": [
    "mongo_host_local = 'mongodb://localhost:27017/'\n",
    "mg = pymongo.MongoClient(mongo_host_local)"
   ]
  },
  {
   "cell_type": "code",
   "execution_count": 3,
   "metadata": {},
   "outputs": [
    {
     "name": "stdout",
     "output_type": "stream",
     "text": [
      "['test', 'ECMWF', 'local', 'GHCN', 'winter_pred']\n"
     ]
    }
   ],
   "source": [
    "pprint(mg.database_names())"
   ]
  },
  {
   "cell_type": "code",
   "execution_count": 4,
   "metadata": {},
   "outputs": [
    {
     "data": {
      "text/plain": [
       "['system.indexes',\n",
       " 'ERAINT_grid',\n",
       " 'ERAINT_lores_grid',\n",
       " 'ERAINT_lores_monthly_anom',\n",
       " 'ERAINT_monthly',\n",
       " 'ERAINT_lores_monthly']"
      ]
     },
     "execution_count": 4,
     "metadata": {},
     "output_type": "execute_result"
    }
   ],
   "source": [
    "db = mg.ECMWF\n",
    "db.collection_names()"
   ]
  },
  {
   "cell_type": "markdown",
   "metadata": {
    "collapsed": true
   },
   "source": [
    "## ERA-int Database exploration <a id='db'></a>"
   ]
  },
  {
   "cell_type": "code",
   "execution_count": 5,
   "metadata": {},
   "outputs": [],
   "source": [
    "ERA_vers = 'lores'\n",
    "if (ERA_vers == 'hires'):\n",
    "    col_dat = 'ERAINT_monthly'\n",
    "    col_anom = 'ERAINT_monthly_anom'\n",
    "    col_grid = 'ERAINT_grid'\n",
    "    resolution = 0.25\n",
    "elif (ERA_vers == 'lores'):\n",
    "    col_dat = 'ERAINT_lores_monthly'\n",
    "    col_anom = 'ERAINT_lores_monthly_anom'\n",
    "    col_grid = 'ERAINT_lores_grid'\n",
    "    resolution = 2.5"
   ]
  },
  {
   "cell_type": "code",
   "execution_count": 6,
   "metadata": {},
   "outputs": [],
   "source": [
    "con_grid = db[col_grid]\n",
    "fo = con_grid.find_one()"
   ]
  },
  {
   "cell_type": "code",
   "execution_count": 7,
   "metadata": {},
   "outputs": [
    {
     "name": "stdout",
     "output_type": "stream",
     "text": [
      "{'_id': ObjectId('5a1882228cb6b815bce38f92'),\n",
      " 'id_grid': 1,\n",
      " 'loc': {'coordinates': [-180.0, 90.0], 'type': 'Point'}}\n"
     ]
    }
   ],
   "source": [
    "pprint(fo)"
   ]
  },
  {
   "cell_type": "code",
   "execution_count": 8,
   "metadata": {},
   "outputs": [
    {
     "data": {
      "text/plain": [
       "10512"
      ]
     },
     "execution_count": 8,
     "metadata": {},
     "output_type": "execute_result"
    }
   ],
   "source": [
    "con_grid.count()"
   ]
  },
  {
   "cell_type": "code",
   "execution_count": 9,
   "metadata": {},
   "outputs": [
    {
     "name": "stdout",
     "output_type": "stream",
     "text": [
      "{'_id': ObjectId('5a1af5c28cb6b8333ed30d63'),\n",
      " 'al': 0.07,\n",
      " 'blh': 133.39,\n",
      " 'ci': 1.0,\n",
      " 'd2m': 239.53,\n",
      " 'date': datetime.datetime(1979, 1, 1, 0, 0),\n",
      " 'hcc': 0.2,\n",
      " 'id_grid': 1,\n",
      " 'ie': 0.0,\n",
      " 'ishf': 11.48,\n",
      " 'istl1': 242.55,\n",
      " 'lcc': 0.51,\n",
      " 'mcc': 0.15,\n",
      " 'msl': 102793.31,\n",
      " 'si10': 5.65,\n",
      " 'skt': 242.63,\n",
      " 'sp': 102792.57,\n",
      " 'sst': 271.46,\n",
      " 'stl1': 242.63,\n",
      " 't2m': 242.7,\n",
      " 'u10': 0.95,\n",
      " 'v10': 0.28,\n",
      " 'year': 1979,\n",
      " 'z70': 169747.63}\n"
     ]
    }
   ],
   "source": [
    "con_data = db[col_dat]\n",
    "fo = con_data.find_one()\n",
    "pprint(fo)"
   ]
  },
  {
   "cell_type": "code",
   "execution_count": 10,
   "metadata": {},
   "outputs": [
    {
     "name": "stdout",
     "output_type": "stream",
     "text": [
      "{'_id': ObjectId('5a1af6f98cb6b83340dd51a3'),\n",
      " 'al': 0.07,\n",
      " 'blh': 96.94,\n",
      " 'ci': 1.0,\n",
      " 'd2m': 239.33,\n",
      " 'date': datetime.datetime(1995, 1, 1, 0, 0),\n",
      " 'hcc': 0.29,\n",
      " 'id_grid': 1,\n",
      " 'ie': 0.0,\n",
      " 'ishf': 10.02,\n",
      " 'istl1': 242.21,\n",
      " 'lcc': 0.52,\n",
      " 'mcc': 0.19,\n",
      " 'msl': 102342.05,\n",
      " 'si10': 4.96,\n",
      " 'skt': 242.22,\n",
      " 'sp': 102342.02,\n",
      " 'sst': 271.46,\n",
      " 'stl1': 242.24,\n",
      " 't2m': 242.46,\n",
      " 'u10': -0.5,\n",
      " 'v10': 2.28,\n",
      " 'year': 1995,\n",
      " 'z70': 168316.99}\n",
      "{'_id': ObjectId('5a1af6f98cb6b83340dd51a4'),\n",
      " 'al': 0.07,\n",
      " 'blh': 96.94,\n",
      " 'ci': 1.0,\n",
      " 'd2m': 239.33,\n",
      " 'date': datetime.datetime(1995, 1, 1, 0, 0),\n",
      " 'hcc': 0.29,\n",
      " 'id_grid': 2,\n",
      " 'ie': 0.0,\n",
      " 'ishf': 10.02,\n",
      " 'istl1': 242.21,\n",
      " 'lcc': 0.52,\n",
      " 'mcc': 0.19,\n",
      " 'msl': 102342.05,\n",
      " 'si10': 4.96,\n",
      " 'skt': 242.22,\n",
      " 'sp': 102342.02,\n",
      " 'sst': 271.46,\n",
      " 'stl1': 242.24,\n",
      " 't2m': 242.46,\n",
      " 'u10': -0.39,\n",
      " 'v10': 2.26,\n",
      " 'year': 1995,\n",
      " 'z70': 168316.99}\n"
     ]
    }
   ],
   "source": [
    "this_day = datetime(1995,1 ,1)\n",
    "for doc in con_data.find({'date': this_day}).limit(2):\n",
    "    pprint(doc)"
   ]
  },
  {
   "cell_type": "code",
   "execution_count": 11,
   "metadata": {},
   "outputs": [
    {
     "data": {
      "text/plain": [
       "4877568"
      ]
     },
     "execution_count": 11,
     "metadata": {},
     "output_type": "execute_result"
    }
   ],
   "source": [
    "# How many documents are in the monthly data collection\n",
    "con_data.count()"
   ]
  },
  {
   "cell_type": "code",
   "execution_count": 12,
   "metadata": {},
   "outputs": [],
   "source": [
    "#con_data.drop()"
   ]
  },
  {
   "cell_type": "code",
   "execution_count": 13,
   "metadata": {},
   "outputs": [
    {
     "data": {
      "text/plain": [
       "[datetime.datetime(2017, 8, 1, 0, 0),\n",
       " datetime.datetime(2017, 7, 1, 0, 0),\n",
       " datetime.datetime(2017, 6, 1, 0, 0),\n",
       " datetime.datetime(2017, 5, 1, 0, 0),\n",
       " datetime.datetime(2017, 4, 1, 0, 0),\n",
       " datetime.datetime(2017, 3, 1, 0, 0),\n",
       " datetime.datetime(2017, 2, 1, 0, 0),\n",
       " datetime.datetime(2017, 1, 1, 0, 0),\n",
       " datetime.datetime(2016, 12, 1, 0, 0),\n",
       " datetime.datetime(2016, 11, 1, 0, 0),\n",
       " datetime.datetime(2016, 10, 1, 0, 0),\n",
       " datetime.datetime(2016, 9, 1, 0, 0),\n",
       " datetime.datetime(2016, 8, 1, 0, 0),\n",
       " datetime.datetime(2016, 7, 1, 0, 0),\n",
       " datetime.datetime(2016, 6, 1, 0, 0),\n",
       " datetime.datetime(2016, 5, 1, 0, 0),\n",
       " datetime.datetime(2016, 4, 1, 0, 0),\n",
       " datetime.datetime(2016, 3, 1, 0, 0),\n",
       " datetime.datetime(2016, 2, 1, 0, 0),\n",
       " datetime.datetime(2016, 1, 1, 0, 0),\n",
       " datetime.datetime(2015, 12, 1, 0, 0),\n",
       " datetime.datetime(2015, 11, 1, 0, 0),\n",
       " datetime.datetime(2015, 10, 1, 0, 0),\n",
       " datetime.datetime(2015, 9, 1, 0, 0),\n",
       " datetime.datetime(2015, 8, 1, 0, 0),\n",
       " datetime.datetime(2015, 7, 1, 0, 0),\n",
       " datetime.datetime(2015, 6, 1, 0, 0),\n",
       " datetime.datetime(2015, 5, 1, 0, 0),\n",
       " datetime.datetime(2015, 4, 1, 0, 0),\n",
       " datetime.datetime(2015, 3, 1, 0, 0),\n",
       " datetime.datetime(2015, 2, 1, 0, 0),\n",
       " datetime.datetime(2015, 1, 1, 0, 0),\n",
       " datetime.datetime(2014, 12, 1, 0, 0),\n",
       " datetime.datetime(2014, 11, 1, 0, 0),\n",
       " datetime.datetime(2014, 10, 1, 0, 0),\n",
       " datetime.datetime(2014, 9, 1, 0, 0),\n",
       " datetime.datetime(2014, 8, 1, 0, 0),\n",
       " datetime.datetime(2014, 7, 1, 0, 0),\n",
       " datetime.datetime(2014, 6, 1, 0, 0),\n",
       " datetime.datetime(2014, 5, 1, 0, 0),\n",
       " datetime.datetime(2014, 4, 1, 0, 0),\n",
       " datetime.datetime(2014, 3, 1, 0, 0),\n",
       " datetime.datetime(2014, 2, 1, 0, 0),\n",
       " datetime.datetime(2014, 1, 1, 0, 0),\n",
       " datetime.datetime(2013, 12, 1, 0, 0),\n",
       " datetime.datetime(2013, 11, 1, 0, 0),\n",
       " datetime.datetime(2013, 10, 1, 0, 0),\n",
       " datetime.datetime(2013, 9, 1, 0, 0),\n",
       " datetime.datetime(2013, 8, 1, 0, 0),\n",
       " datetime.datetime(2013, 7, 1, 0, 0),\n",
       " datetime.datetime(2013, 6, 1, 0, 0),\n",
       " datetime.datetime(2013, 5, 1, 0, 0),\n",
       " datetime.datetime(2013, 4, 1, 0, 0),\n",
       " datetime.datetime(2013, 3, 1, 0, 0),\n",
       " datetime.datetime(2013, 2, 1, 0, 0),\n",
       " datetime.datetime(2013, 1, 1, 0, 0),\n",
       " datetime.datetime(2012, 12, 1, 0, 0),\n",
       " datetime.datetime(2012, 11, 1, 0, 0),\n",
       " datetime.datetime(2012, 10, 1, 0, 0),\n",
       " datetime.datetime(2012, 9, 1, 0, 0),\n",
       " datetime.datetime(2012, 8, 1, 0, 0),\n",
       " datetime.datetime(2012, 7, 1, 0, 0),\n",
       " datetime.datetime(2012, 6, 1, 0, 0),\n",
       " datetime.datetime(2012, 5, 1, 0, 0),\n",
       " datetime.datetime(2012, 4, 1, 0, 0),\n",
       " datetime.datetime(2012, 3, 1, 0, 0),\n",
       " datetime.datetime(2012, 2, 1, 0, 0),\n",
       " datetime.datetime(2012, 1, 1, 0, 0),\n",
       " datetime.datetime(2011, 12, 1, 0, 0),\n",
       " datetime.datetime(2011, 11, 1, 0, 0),\n",
       " datetime.datetime(2011, 10, 1, 0, 0),\n",
       " datetime.datetime(2011, 9, 1, 0, 0),\n",
       " datetime.datetime(2011, 8, 1, 0, 0),\n",
       " datetime.datetime(2011, 7, 1, 0, 0),\n",
       " datetime.datetime(2011, 6, 1, 0, 0),\n",
       " datetime.datetime(2011, 5, 1, 0, 0),\n",
       " datetime.datetime(2011, 4, 1, 0, 0),\n",
       " datetime.datetime(2011, 3, 1, 0, 0),\n",
       " datetime.datetime(2011, 2, 1, 0, 0),\n",
       " datetime.datetime(2011, 1, 1, 0, 0),\n",
       " datetime.datetime(2010, 12, 1, 0, 0),\n",
       " datetime.datetime(2010, 11, 1, 0, 0),\n",
       " datetime.datetime(2010, 10, 1, 0, 0),\n",
       " datetime.datetime(2010, 9, 1, 0, 0),\n",
       " datetime.datetime(2010, 8, 1, 0, 0),\n",
       " datetime.datetime(2010, 7, 1, 0, 0),\n",
       " datetime.datetime(2010, 6, 1, 0, 0),\n",
       " datetime.datetime(2010, 5, 1, 0, 0),\n",
       " datetime.datetime(2010, 4, 1, 0, 0),\n",
       " datetime.datetime(2010, 3, 1, 0, 0),\n",
       " datetime.datetime(2010, 2, 1, 0, 0),\n",
       " datetime.datetime(2010, 1, 1, 0, 0),\n",
       " datetime.datetime(2009, 12, 1, 0, 0),\n",
       " datetime.datetime(2009, 11, 1, 0, 0),\n",
       " datetime.datetime(2009, 10, 1, 0, 0),\n",
       " datetime.datetime(2009, 9, 1, 0, 0),\n",
       " datetime.datetime(2009, 8, 1, 0, 0),\n",
       " datetime.datetime(2009, 7, 1, 0, 0),\n",
       " datetime.datetime(2009, 6, 1, 0, 0),\n",
       " datetime.datetime(2009, 5, 1, 0, 0),\n",
       " datetime.datetime(2009, 4, 1, 0, 0),\n",
       " datetime.datetime(2009, 3, 1, 0, 0),\n",
       " datetime.datetime(2009, 2, 1, 0, 0),\n",
       " datetime.datetime(2009, 1, 1, 0, 0),\n",
       " datetime.datetime(2008, 12, 1, 0, 0),\n",
       " datetime.datetime(2008, 11, 1, 0, 0),\n",
       " datetime.datetime(2008, 10, 1, 0, 0),\n",
       " datetime.datetime(2008, 9, 1, 0, 0),\n",
       " datetime.datetime(2008, 8, 1, 0, 0),\n",
       " datetime.datetime(2008, 7, 1, 0, 0),\n",
       " datetime.datetime(2008, 6, 1, 0, 0),\n",
       " datetime.datetime(2008, 5, 1, 0, 0),\n",
       " datetime.datetime(2008, 4, 1, 0, 0),\n",
       " datetime.datetime(2008, 3, 1, 0, 0),\n",
       " datetime.datetime(2008, 2, 1, 0, 0),\n",
       " datetime.datetime(2008, 1, 1, 0, 0),\n",
       " datetime.datetime(2007, 12, 1, 0, 0),\n",
       " datetime.datetime(2007, 11, 1, 0, 0),\n",
       " datetime.datetime(2007, 10, 1, 0, 0),\n",
       " datetime.datetime(2007, 9, 1, 0, 0),\n",
       " datetime.datetime(2007, 8, 1, 0, 0),\n",
       " datetime.datetime(2007, 7, 1, 0, 0),\n",
       " datetime.datetime(2007, 6, 1, 0, 0),\n",
       " datetime.datetime(2007, 5, 1, 0, 0),\n",
       " datetime.datetime(2007, 4, 1, 0, 0),\n",
       " datetime.datetime(2007, 3, 1, 0, 0),\n",
       " datetime.datetime(2007, 2, 1, 0, 0),\n",
       " datetime.datetime(2007, 1, 1, 0, 0),\n",
       " datetime.datetime(2006, 12, 1, 0, 0),\n",
       " datetime.datetime(2006, 11, 1, 0, 0),\n",
       " datetime.datetime(2006, 10, 1, 0, 0),\n",
       " datetime.datetime(2006, 9, 1, 0, 0),\n",
       " datetime.datetime(2006, 8, 1, 0, 0),\n",
       " datetime.datetime(2006, 7, 1, 0, 0),\n",
       " datetime.datetime(2006, 6, 1, 0, 0),\n",
       " datetime.datetime(2006, 5, 1, 0, 0),\n",
       " datetime.datetime(2006, 4, 1, 0, 0),\n",
       " datetime.datetime(2006, 3, 1, 0, 0),\n",
       " datetime.datetime(2006, 2, 1, 0, 0),\n",
       " datetime.datetime(2006, 1, 1, 0, 0),\n",
       " datetime.datetime(2005, 12, 1, 0, 0),\n",
       " datetime.datetime(2005, 11, 1, 0, 0),\n",
       " datetime.datetime(2005, 10, 1, 0, 0),\n",
       " datetime.datetime(2005, 9, 1, 0, 0),\n",
       " datetime.datetime(2005, 8, 1, 0, 0),\n",
       " datetime.datetime(2005, 7, 1, 0, 0),\n",
       " datetime.datetime(2005, 6, 1, 0, 0),\n",
       " datetime.datetime(2005, 5, 1, 0, 0),\n",
       " datetime.datetime(2005, 4, 1, 0, 0),\n",
       " datetime.datetime(2005, 3, 1, 0, 0),\n",
       " datetime.datetime(2005, 2, 1, 0, 0),\n",
       " datetime.datetime(2005, 1, 1, 0, 0),\n",
       " datetime.datetime(2004, 12, 1, 0, 0),\n",
       " datetime.datetime(2004, 11, 1, 0, 0),\n",
       " datetime.datetime(2004, 10, 1, 0, 0),\n",
       " datetime.datetime(2004, 9, 1, 0, 0),\n",
       " datetime.datetime(2004, 8, 1, 0, 0),\n",
       " datetime.datetime(2004, 7, 1, 0, 0),\n",
       " datetime.datetime(2004, 6, 1, 0, 0),\n",
       " datetime.datetime(2004, 5, 1, 0, 0),\n",
       " datetime.datetime(2004, 4, 1, 0, 0),\n",
       " datetime.datetime(2004, 3, 1, 0, 0),\n",
       " datetime.datetime(2004, 2, 1, 0, 0),\n",
       " datetime.datetime(2004, 1, 1, 0, 0),\n",
       " datetime.datetime(2003, 12, 1, 0, 0),\n",
       " datetime.datetime(2003, 11, 1, 0, 0),\n",
       " datetime.datetime(2003, 10, 1, 0, 0),\n",
       " datetime.datetime(2003, 9, 1, 0, 0),\n",
       " datetime.datetime(2003, 8, 1, 0, 0),\n",
       " datetime.datetime(2003, 7, 1, 0, 0),\n",
       " datetime.datetime(2003, 6, 1, 0, 0),\n",
       " datetime.datetime(2003, 5, 1, 0, 0),\n",
       " datetime.datetime(2003, 4, 1, 0, 0),\n",
       " datetime.datetime(2003, 3, 1, 0, 0),\n",
       " datetime.datetime(2003, 2, 1, 0, 0),\n",
       " datetime.datetime(2003, 1, 1, 0, 0),\n",
       " datetime.datetime(2002, 12, 1, 0, 0),\n",
       " datetime.datetime(2002, 11, 1, 0, 0),\n",
       " datetime.datetime(2002, 10, 1, 0, 0),\n",
       " datetime.datetime(2002, 9, 1, 0, 0),\n",
       " datetime.datetime(2002, 8, 1, 0, 0),\n",
       " datetime.datetime(2002, 7, 1, 0, 0),\n",
       " datetime.datetime(2002, 6, 1, 0, 0),\n",
       " datetime.datetime(2002, 5, 1, 0, 0),\n",
       " datetime.datetime(2002, 4, 1, 0, 0),\n",
       " datetime.datetime(2002, 3, 1, 0, 0),\n",
       " datetime.datetime(2002, 2, 1, 0, 0),\n",
       " datetime.datetime(2002, 1, 1, 0, 0),\n",
       " datetime.datetime(2001, 12, 1, 0, 0),\n",
       " datetime.datetime(2001, 11, 1, 0, 0),\n",
       " datetime.datetime(2001, 10, 1, 0, 0),\n",
       " datetime.datetime(2001, 9, 1, 0, 0),\n",
       " datetime.datetime(2001, 8, 1, 0, 0),\n",
       " datetime.datetime(2001, 7, 1, 0, 0),\n",
       " datetime.datetime(2001, 6, 1, 0, 0),\n",
       " datetime.datetime(2001, 5, 1, 0, 0),\n",
       " datetime.datetime(2001, 4, 1, 0, 0),\n",
       " datetime.datetime(2001, 3, 1, 0, 0),\n",
       " datetime.datetime(2001, 2, 1, 0, 0),\n",
       " datetime.datetime(2001, 1, 1, 0, 0),\n",
       " datetime.datetime(2000, 12, 1, 0, 0),\n",
       " datetime.datetime(2000, 11, 1, 0, 0),\n",
       " datetime.datetime(2000, 10, 1, 0, 0),\n",
       " datetime.datetime(2000, 9, 1, 0, 0),\n",
       " datetime.datetime(2000, 8, 1, 0, 0),\n",
       " datetime.datetime(2000, 7, 1, 0, 0),\n",
       " datetime.datetime(2000, 6, 1, 0, 0),\n",
       " datetime.datetime(2000, 5, 1, 0, 0),\n",
       " datetime.datetime(2000, 4, 1, 0, 0),\n",
       " datetime.datetime(2000, 3, 1, 0, 0),\n",
       " datetime.datetime(2000, 2, 1, 0, 0),\n",
       " datetime.datetime(2000, 1, 1, 0, 0),\n",
       " datetime.datetime(1999, 12, 1, 0, 0),\n",
       " datetime.datetime(1999, 11, 1, 0, 0),\n",
       " datetime.datetime(1999, 10, 1, 0, 0),\n",
       " datetime.datetime(1999, 9, 1, 0, 0),\n",
       " datetime.datetime(1999, 8, 1, 0, 0),\n",
       " datetime.datetime(1999, 7, 1, 0, 0),\n",
       " datetime.datetime(1999, 6, 1, 0, 0),\n",
       " datetime.datetime(1999, 5, 1, 0, 0),\n",
       " datetime.datetime(1999, 4, 1, 0, 0),\n",
       " datetime.datetime(1999, 3, 1, 0, 0),\n",
       " datetime.datetime(1999, 2, 1, 0, 0),\n",
       " datetime.datetime(1999, 1, 1, 0, 0),\n",
       " datetime.datetime(1998, 12, 1, 0, 0),\n",
       " datetime.datetime(1998, 11, 1, 0, 0),\n",
       " datetime.datetime(1998, 10, 1, 0, 0),\n",
       " datetime.datetime(1998, 9, 1, 0, 0),\n",
       " datetime.datetime(1998, 8, 1, 0, 0),\n",
       " datetime.datetime(1998, 7, 1, 0, 0),\n",
       " datetime.datetime(1998, 6, 1, 0, 0),\n",
       " datetime.datetime(1998, 5, 1, 0, 0),\n",
       " datetime.datetime(1998, 4, 1, 0, 0),\n",
       " datetime.datetime(1998, 3, 1, 0, 0),\n",
       " datetime.datetime(1998, 2, 1, 0, 0),\n",
       " datetime.datetime(1998, 1, 1, 0, 0),\n",
       " datetime.datetime(1997, 12, 1, 0, 0),\n",
       " datetime.datetime(1997, 11, 1, 0, 0),\n",
       " datetime.datetime(1997, 10, 1, 0, 0),\n",
       " datetime.datetime(1997, 9, 1, 0, 0),\n",
       " datetime.datetime(1997, 8, 1, 0, 0),\n",
       " datetime.datetime(1997, 7, 1, 0, 0),\n",
       " datetime.datetime(1997, 6, 1, 0, 0),\n",
       " datetime.datetime(1997, 5, 1, 0, 0),\n",
       " datetime.datetime(1997, 4, 1, 0, 0),\n",
       " datetime.datetime(1997, 3, 1, 0, 0),\n",
       " datetime.datetime(1997, 2, 1, 0, 0),\n",
       " datetime.datetime(1997, 1, 1, 0, 0),\n",
       " datetime.datetime(1996, 12, 1, 0, 0),\n",
       " datetime.datetime(1996, 11, 1, 0, 0),\n",
       " datetime.datetime(1996, 10, 1, 0, 0),\n",
       " datetime.datetime(1996, 9, 1, 0, 0),\n",
       " datetime.datetime(1996, 8, 1, 0, 0),\n",
       " datetime.datetime(1996, 7, 1, 0, 0),\n",
       " datetime.datetime(1996, 6, 1, 0, 0),\n",
       " datetime.datetime(1996, 5, 1, 0, 0),\n",
       " datetime.datetime(1996, 4, 1, 0, 0),\n",
       " datetime.datetime(1996, 3, 1, 0, 0),\n",
       " datetime.datetime(1996, 2, 1, 0, 0),\n",
       " datetime.datetime(1996, 1, 1, 0, 0),\n",
       " datetime.datetime(1995, 12, 1, 0, 0),\n",
       " datetime.datetime(1995, 11, 1, 0, 0),\n",
       " datetime.datetime(1995, 10, 1, 0, 0),\n",
       " datetime.datetime(1995, 9, 1, 0, 0),\n",
       " datetime.datetime(1995, 8, 1, 0, 0),\n",
       " datetime.datetime(1995, 7, 1, 0, 0),\n",
       " datetime.datetime(1995, 6, 1, 0, 0),\n",
       " datetime.datetime(1995, 5, 1, 0, 0),\n",
       " datetime.datetime(1995, 4, 1, 0, 0),\n",
       " datetime.datetime(1995, 3, 1, 0, 0),\n",
       " datetime.datetime(1995, 2, 1, 0, 0),\n",
       " datetime.datetime(1995, 1, 1, 0, 0),\n",
       " datetime.datetime(1994, 12, 1, 0, 0),\n",
       " datetime.datetime(1994, 11, 1, 0, 0),\n",
       " datetime.datetime(1994, 10, 1, 0, 0),\n",
       " datetime.datetime(1994, 9, 1, 0, 0),\n",
       " datetime.datetime(1994, 8, 1, 0, 0),\n",
       " datetime.datetime(1994, 7, 1, 0, 0),\n",
       " datetime.datetime(1994, 6, 1, 0, 0),\n",
       " datetime.datetime(1994, 5, 1, 0, 0),\n",
       " datetime.datetime(1994, 4, 1, 0, 0),\n",
       " datetime.datetime(1994, 3, 1, 0, 0),\n",
       " datetime.datetime(1994, 2, 1, 0, 0),\n",
       " datetime.datetime(1994, 1, 1, 0, 0),\n",
       " datetime.datetime(1993, 12, 1, 0, 0),\n",
       " datetime.datetime(1993, 11, 1, 0, 0),\n",
       " datetime.datetime(1993, 10, 1, 0, 0),\n",
       " datetime.datetime(1993, 9, 1, 0, 0),\n",
       " datetime.datetime(1993, 8, 1, 0, 0),\n",
       " datetime.datetime(1993, 7, 1, 0, 0),\n",
       " datetime.datetime(1993, 6, 1, 0, 0),\n",
       " datetime.datetime(1993, 5, 1, 0, 0),\n",
       " datetime.datetime(1993, 4, 1, 0, 0),\n",
       " datetime.datetime(1993, 3, 1, 0, 0),\n",
       " datetime.datetime(1993, 2, 1, 0, 0),\n",
       " datetime.datetime(1993, 1, 1, 0, 0),\n",
       " datetime.datetime(1992, 12, 1, 0, 0),\n",
       " datetime.datetime(1992, 11, 1, 0, 0),\n",
       " datetime.datetime(1992, 10, 1, 0, 0),\n",
       " datetime.datetime(1992, 9, 1, 0, 0),\n",
       " datetime.datetime(1992, 8, 1, 0, 0),\n",
       " datetime.datetime(1992, 7, 1, 0, 0),\n",
       " datetime.datetime(1992, 6, 1, 0, 0),\n",
       " datetime.datetime(1992, 5, 1, 0, 0),\n",
       " datetime.datetime(1992, 4, 1, 0, 0),\n",
       " datetime.datetime(1992, 3, 1, 0, 0),\n",
       " datetime.datetime(1992, 2, 1, 0, 0),\n",
       " datetime.datetime(1992, 1, 1, 0, 0),\n",
       " datetime.datetime(1991, 12, 1, 0, 0),\n",
       " datetime.datetime(1991, 11, 1, 0, 0),\n",
       " datetime.datetime(1991, 10, 1, 0, 0),\n",
       " datetime.datetime(1991, 9, 1, 0, 0),\n",
       " datetime.datetime(1991, 8, 1, 0, 0),\n",
       " datetime.datetime(1991, 7, 1, 0, 0),\n",
       " datetime.datetime(1991, 6, 1, 0, 0),\n",
       " datetime.datetime(1991, 5, 1, 0, 0),\n",
       " datetime.datetime(1991, 4, 1, 0, 0),\n",
       " datetime.datetime(1991, 3, 1, 0, 0),\n",
       " datetime.datetime(1991, 2, 1, 0, 0),\n",
       " datetime.datetime(1991, 1, 1, 0, 0),\n",
       " datetime.datetime(1990, 12, 1, 0, 0),\n",
       " datetime.datetime(1990, 11, 1, 0, 0),\n",
       " datetime.datetime(1990, 10, 1, 0, 0),\n",
       " datetime.datetime(1990, 9, 1, 0, 0),\n",
       " datetime.datetime(1990, 8, 1, 0, 0),\n",
       " datetime.datetime(1990, 7, 1, 0, 0),\n",
       " datetime.datetime(1990, 6, 1, 0, 0),\n",
       " datetime.datetime(1990, 5, 1, 0, 0),\n",
       " datetime.datetime(1990, 4, 1, 0, 0),\n",
       " datetime.datetime(1990, 3, 1, 0, 0),\n",
       " datetime.datetime(1990, 2, 1, 0, 0),\n",
       " datetime.datetime(1990, 1, 1, 0, 0),\n",
       " datetime.datetime(1989, 12, 1, 0, 0),\n",
       " datetime.datetime(1989, 11, 1, 0, 0),\n",
       " datetime.datetime(1989, 10, 1, 0, 0),\n",
       " datetime.datetime(1989, 9, 1, 0, 0),\n",
       " datetime.datetime(1989, 8, 1, 0, 0),\n",
       " datetime.datetime(1989, 7, 1, 0, 0),\n",
       " datetime.datetime(1989, 6, 1, 0, 0),\n",
       " datetime.datetime(1989, 5, 1, 0, 0),\n",
       " datetime.datetime(1989, 4, 1, 0, 0),\n",
       " datetime.datetime(1989, 3, 1, 0, 0),\n",
       " datetime.datetime(1989, 2, 1, 0, 0),\n",
       " datetime.datetime(1989, 1, 1, 0, 0),\n",
       " datetime.datetime(1988, 12, 1, 0, 0),\n",
       " datetime.datetime(1988, 11, 1, 0, 0),\n",
       " datetime.datetime(1988, 10, 1, 0, 0),\n",
       " datetime.datetime(1988, 9, 1, 0, 0),\n",
       " datetime.datetime(1988, 8, 1, 0, 0),\n",
       " datetime.datetime(1988, 7, 1, 0, 0),\n",
       " datetime.datetime(1988, 6, 1, 0, 0),\n",
       " datetime.datetime(1988, 5, 1, 0, 0),\n",
       " datetime.datetime(1988, 4, 1, 0, 0),\n",
       " datetime.datetime(1988, 3, 1, 0, 0),\n",
       " datetime.datetime(1988, 2, 1, 0, 0),\n",
       " datetime.datetime(1988, 1, 1, 0, 0),\n",
       " datetime.datetime(1987, 12, 1, 0, 0),\n",
       " datetime.datetime(1987, 11, 1, 0, 0),\n",
       " datetime.datetime(1987, 10, 1, 0, 0),\n",
       " datetime.datetime(1987, 9, 1, 0, 0),\n",
       " datetime.datetime(1987, 8, 1, 0, 0),\n",
       " datetime.datetime(1987, 7, 1, 0, 0),\n",
       " datetime.datetime(1987, 6, 1, 0, 0),\n",
       " datetime.datetime(1987, 5, 1, 0, 0),\n",
       " datetime.datetime(1987, 4, 1, 0, 0),\n",
       " datetime.datetime(1987, 3, 1, 0, 0),\n",
       " datetime.datetime(1987, 2, 1, 0, 0),\n",
       " datetime.datetime(1987, 1, 1, 0, 0),\n",
       " datetime.datetime(1986, 12, 1, 0, 0),\n",
       " datetime.datetime(1986, 11, 1, 0, 0),\n",
       " datetime.datetime(1986, 10, 1, 0, 0),\n",
       " datetime.datetime(1986, 9, 1, 0, 0),\n",
       " datetime.datetime(1986, 8, 1, 0, 0),\n",
       " datetime.datetime(1986, 7, 1, 0, 0),\n",
       " datetime.datetime(1986, 6, 1, 0, 0),\n",
       " datetime.datetime(1986, 5, 1, 0, 0),\n",
       " datetime.datetime(1986, 4, 1, 0, 0),\n",
       " datetime.datetime(1986, 3, 1, 0, 0),\n",
       " datetime.datetime(1986, 2, 1, 0, 0),\n",
       " datetime.datetime(1986, 1, 1, 0, 0),\n",
       " datetime.datetime(1985, 12, 1, 0, 0),\n",
       " datetime.datetime(1985, 11, 1, 0, 0),\n",
       " datetime.datetime(1985, 10, 1, 0, 0),\n",
       " datetime.datetime(1985, 9, 1, 0, 0),\n",
       " datetime.datetime(1985, 8, 1, 0, 0),\n",
       " datetime.datetime(1985, 7, 1, 0, 0),\n",
       " datetime.datetime(1985, 6, 1, 0, 0),\n",
       " datetime.datetime(1985, 5, 1, 0, 0),\n",
       " datetime.datetime(1985, 4, 1, 0, 0),\n",
       " datetime.datetime(1985, 3, 1, 0, 0),\n",
       " datetime.datetime(1985, 2, 1, 0, 0),\n",
       " datetime.datetime(1985, 1, 1, 0, 0),\n",
       " datetime.datetime(1984, 12, 1, 0, 0),\n",
       " datetime.datetime(1984, 11, 1, 0, 0),\n",
       " datetime.datetime(1984, 10, 1, 0, 0),\n",
       " datetime.datetime(1984, 9, 1, 0, 0),\n",
       " datetime.datetime(1984, 8, 1, 0, 0),\n",
       " datetime.datetime(1984, 7, 1, 0, 0),\n",
       " datetime.datetime(1984, 6, 1, 0, 0),\n",
       " datetime.datetime(1984, 5, 1, 0, 0),\n",
       " datetime.datetime(1984, 4, 1, 0, 0),\n",
       " datetime.datetime(1984, 3, 1, 0, 0),\n",
       " datetime.datetime(1984, 2, 1, 0, 0),\n",
       " datetime.datetime(1984, 1, 1, 0, 0),\n",
       " datetime.datetime(1983, 12, 1, 0, 0),\n",
       " datetime.datetime(1983, 11, 1, 0, 0),\n",
       " datetime.datetime(1983, 10, 1, 0, 0),\n",
       " datetime.datetime(1983, 9, 1, 0, 0),\n",
       " datetime.datetime(1983, 8, 1, 0, 0),\n",
       " datetime.datetime(1983, 7, 1, 0, 0),\n",
       " datetime.datetime(1983, 6, 1, 0, 0),\n",
       " datetime.datetime(1983, 5, 1, 0, 0),\n",
       " datetime.datetime(1983, 4, 1, 0, 0),\n",
       " datetime.datetime(1983, 3, 1, 0, 0),\n",
       " datetime.datetime(1983, 2, 1, 0, 0),\n",
       " datetime.datetime(1983, 1, 1, 0, 0),\n",
       " datetime.datetime(1982, 12, 1, 0, 0),\n",
       " datetime.datetime(1982, 11, 1, 0, 0),\n",
       " datetime.datetime(1982, 10, 1, 0, 0),\n",
       " datetime.datetime(1982, 9, 1, 0, 0),\n",
       " datetime.datetime(1982, 8, 1, 0, 0),\n",
       " datetime.datetime(1982, 7, 1, 0, 0),\n",
       " datetime.datetime(1982, 6, 1, 0, 0),\n",
       " datetime.datetime(1982, 5, 1, 0, 0),\n",
       " datetime.datetime(1982, 4, 1, 0, 0),\n",
       " datetime.datetime(1982, 3, 1, 0, 0),\n",
       " datetime.datetime(1982, 2, 1, 0, 0),\n",
       " datetime.datetime(1982, 1, 1, 0, 0),\n",
       " datetime.datetime(1981, 12, 1, 0, 0),\n",
       " datetime.datetime(1981, 11, 1, 0, 0),\n",
       " datetime.datetime(1981, 10, 1, 0, 0),\n",
       " datetime.datetime(1981, 9, 1, 0, 0),\n",
       " datetime.datetime(1981, 8, 1, 0, 0),\n",
       " datetime.datetime(1981, 7, 1, 0, 0),\n",
       " datetime.datetime(1981, 6, 1, 0, 0),\n",
       " datetime.datetime(1981, 5, 1, 0, 0),\n",
       " datetime.datetime(1981, 4, 1, 0, 0),\n",
       " datetime.datetime(1981, 3, 1, 0, 0),\n",
       " datetime.datetime(1981, 2, 1, 0, 0),\n",
       " datetime.datetime(1981, 1, 1, 0, 0),\n",
       " datetime.datetime(1980, 12, 1, 0, 0),\n",
       " datetime.datetime(1980, 11, 1, 0, 0),\n",
       " datetime.datetime(1980, 10, 1, 0, 0),\n",
       " datetime.datetime(1980, 9, 1, 0, 0),\n",
       " datetime.datetime(1980, 8, 1, 0, 0),\n",
       " datetime.datetime(1980, 7, 1, 0, 0),\n",
       " datetime.datetime(1980, 6, 1, 0, 0),\n",
       " datetime.datetime(1980, 5, 1, 0, 0),\n",
       " datetime.datetime(1980, 4, 1, 0, 0),\n",
       " datetime.datetime(1980, 3, 1, 0, 0),\n",
       " datetime.datetime(1980, 2, 1, 0, 0),\n",
       " datetime.datetime(1980, 1, 1, 0, 0),\n",
       " datetime.datetime(1979, 12, 1, 0, 0),\n",
       " datetime.datetime(1979, 11, 1, 0, 0),\n",
       " datetime.datetime(1979, 10, 1, 0, 0),\n",
       " datetime.datetime(1979, 9, 1, 0, 0),\n",
       " datetime.datetime(1979, 8, 1, 0, 0),\n",
       " datetime.datetime(1979, 7, 1, 0, 0),\n",
       " datetime.datetime(1979, 6, 1, 0, 0),\n",
       " datetime.datetime(1979, 5, 1, 0, 0),\n",
       " datetime.datetime(1979, 4, 1, 0, 0),\n",
       " datetime.datetime(1979, 3, 1, 0, 0),\n",
       " datetime.datetime(1979, 2, 1, 0, 0),\n",
       " datetime.datetime(1979, 1, 1, 0, 0)]"
      ]
     },
     "execution_count": 13,
     "metadata": {},
     "output_type": "execute_result"
    }
   ],
   "source": [
    "alldays = con_data.distinct(key='date')\n",
    "alldays"
   ]
  },
  {
   "cell_type": "markdown",
   "metadata": {},
   "source": [
    "## Data collection indexes <a id='indexes'></a>"
   ]
  },
  {
   "cell_type": "code",
   "execution_count": 15,
   "metadata": {},
   "outputs": [
    {
     "name": "stdout",
     "output_type": "stream",
     "text": [
      "{'_id_': {'key': [('_id', 1)], 'ns': 'ECMWF.ERAINT_lores_grid', 'v': 1},\n",
      " 'loc_2dsphere_id_grid_1': {'2dsphereIndexVersion': 2,\n",
      "                            'key': [('loc', '2dsphere'), ('id_grid', 1)],\n",
      "                            'ns': 'ECMWF.ERAINT_lores_grid',\n",
      "                            'v': 1}}\n"
     ]
    }
   ],
   "source": [
    "ind = con_grid.index_information()\n",
    "pprint(ind)"
   ]
  },
  {
   "cell_type": "code",
   "execution_count": 16,
   "metadata": {},
   "outputs": [
    {
     "data": {
      "text/plain": [
       "{'_id_': {'key': [('_id', 1)], 'ns': 'ECMWF.ERAINT_lores_monthly', 'v': 1},\n",
       " 'date_-1': {'key': [('date', -1)],\n",
       "  'ns': 'ECMWF.ERAINT_lores_monthly',\n",
       "  'v': 1},\n",
       " 'id_grid_1_date_-1': {'key': [('id_grid', 1), ('date', -1)],\n",
       "  'ns': 'ECMWF.ERAINT_lores_monthly',\n",
       "  'v': 1},\n",
       " 'year_1_id_grid_1': {'key': [('year', 1), ('id_grid', 1)],\n",
       "  'ns': 'ECMWF.ERAINT_lores_monthly',\n",
       "  'v': 1}}"
      ]
     },
     "execution_count": 16,
     "metadata": {},
     "output_type": "execute_result"
    }
   ],
   "source": [
    "con_data.index_information()"
   ]
  },
  {
   "cell_type": "markdown",
   "metadata": {},
   "source": [
    "# Plot SLP <a id='slpplot'></a>"
   ]
  },
  {
   "cell_type": "code",
   "execution_count": 17,
   "metadata": {},
   "outputs": [
    {
     "data": {
      "text/plain": [
       "{'_id': ObjectId('5a1882228cb6b815bce38f92'),\n",
       " 'id_grid': 1,\n",
       " 'loc': {'coordinates': [-180.0, 90.0], 'type': 'Point'}}"
      ]
     },
     "execution_count": 17,
     "metadata": {},
     "output_type": "execute_result"
    }
   ],
   "source": [
    "con_grid.find_one()"
   ]
  },
  {
   "cell_type": "markdown",
   "metadata": {},
   "source": [
    "- The domain north of 20°N is chosen for EOF decomposition for Z70 hPa and SIC to focus on the extra-tropical variability \n",
    "- The area north of 20°S is chosen for SST to also include key regions of tropical SST variability\n",
    "- Query id_grid encompassed in the domain. Be careful: defining a simple box won't work on the sphere, see [Antimeridian Cutting](https://tools.ietf.org/html/rfc7946#section-3.1.9). In addition, a vertice will follow the shorterst path on the sphere. Hence, we need to define a proper circular path for both latmin and latmax."
   ]
  },
  {
   "cell_type": "code",
   "execution_count": 18,
   "metadata": {},
   "outputs": [
    {
     "name": "stdout",
     "output_type": "stream",
     "text": [
      "[[-180, 20], [-180, 90], [-179, 90], [-178, 90]]\n"
     ]
    }
   ],
   "source": [
    "this_box = {'lonmin': -180, 'lonmax': 180, 'latmin': 20, 'latmax': 90}\n",
    "def genCircle(start_lon, stop_lon, lat, decreasing): \n",
    "    res = map(lambda x:[int(x), lat],\n",
    "              sorted(np.arange(start=start_lon, stop=stop_lon+1), reverse=decreasing))\n",
    "    return list(res)\n",
    "bb = genCircle(start_lon=this_box['lonmin'], stop_lon=this_box['lonmax'], lat=10, decreasing=True)\n",
    "circle_north_pos = genCircle(start_lon = this_box['lonmin'], stop_lon = this_box['lonmax'], \n",
    "                              lat = this_box['latmax'], decreasing = False)\n",
    "circle_south_neg = genCircle(start_lon = this_box['lonmin'], stop_lon = this_box['lonmax'], \n",
    "                            lat = this_box['latmin'],  decreasing = True)\n",
    "slp_poly = [[this_box['lonmin'], this_box['latmin']]]\n",
    "slp_poly.extend(circle_north_pos)\n",
    "slp_poly.extend(circle_south_neg)\n",
    "print(slp_poly[0:4])"
   ]
  },
  {
   "cell_type": "code",
   "execution_count": 19,
   "metadata": {
    "scrolled": true
   },
   "outputs": [
    {
     "data": {
      "text/plain": [
       "4104"
      ]
     },
     "execution_count": 19,
     "metadata": {},
     "output_type": "execute_result"
    }
   ],
   "source": [
    "#this_polygon =  [[ -100, 60 ], [ -100, 0 ], [ -100, -60 ], [ 100, -60 ], [ 100, 60 ], [ -100, 60 ]]#slp_poly\n",
    "this_polygon = slp_poly\n",
    "geo_qry = {\"loc\": \n",
    "           {\"$geoWithin\": {\n",
    "               \"$geometry\": {\n",
    "                   \"type\": \"Polygon\",\n",
    "                   \"coordinates\": [this_polygon]\n",
    "               }\n",
    "           }}}\n",
    "con_grid.count(filter = geo_qry)"
   ]
  },
  {
   "cell_type": "code",
   "execution_count": 20,
   "metadata": {},
   "outputs": [
    {
     "data": {
      "text/plain": [
       "array([4095, 4087, 3945, 4089, 4091, 3947, 3946, 3802, 3803, 3659])"
      ]
     },
     "execution_count": 20,
     "metadata": {},
     "output_type": "execute_result"
    }
   ],
   "source": [
    "res = con_grid.find(filter = geo_qry, projection = {\"_id\":0, \"id_grid\": 1, \"loc\": 1})\n",
    "grid_df = pd.DataFrame(list(res))\n",
    "grid_ids = grid_df.id_grid.values\n",
    "grid_ids[:10]"
   ]
  },
  {
   "cell_type": "code",
   "execution_count": 21,
   "metadata": {},
   "outputs": [
    {
     "data": {
      "text/html": [
       "<div>\n",
       "<style scoped>\n",
       "    .dataframe tbody tr th:only-of-type {\n",
       "        vertical-align: middle;\n",
       "    }\n",
       "\n",
       "    .dataframe tbody tr th {\n",
       "        vertical-align: top;\n",
       "    }\n",
       "\n",
       "    .dataframe thead th {\n",
       "        text-align: right;\n",
       "    }\n",
       "</style>\n",
       "<table border=\"1\" class=\"dataframe\">\n",
       "  <thead>\n",
       "    <tr style=\"text-align: right;\">\n",
       "      <th></th>\n",
       "      <th>id_grid</th>\n",
       "      <th>msl</th>\n",
       "    </tr>\n",
       "  </thead>\n",
       "  <tbody>\n",
       "    <tr>\n",
       "      <th>0</th>\n",
       "      <td>1</td>\n",
       "      <td>99672.65</td>\n",
       "    </tr>\n",
       "    <tr>\n",
       "      <th>1</th>\n",
       "      <td>2</td>\n",
       "      <td>99672.65</td>\n",
       "    </tr>\n",
       "    <tr>\n",
       "      <th>2</th>\n",
       "      <td>3</td>\n",
       "      <td>99672.65</td>\n",
       "    </tr>\n",
       "    <tr>\n",
       "      <th>3</th>\n",
       "      <td>4</td>\n",
       "      <td>99672.65</td>\n",
       "    </tr>\n",
       "    <tr>\n",
       "      <th>4</th>\n",
       "      <td>5</td>\n",
       "      <td>99672.65</td>\n",
       "    </tr>\n",
       "  </tbody>\n",
       "</table>\n",
       "</div>"
      ],
      "text/plain": [
       "   id_grid       msl\n",
       "0        1  99672.65\n",
       "1        2  99672.65\n",
       "2        3  99672.65\n",
       "3        4  99672.65\n",
       "4        5  99672.65"
      ]
     },
     "execution_count": 21,
     "metadata": {},
     "output_type": "execute_result"
    }
   ],
   "source": [
    "# Query SLP in the data collection for a given day for the grid_ids\n",
    "this_date = datetime(1988, 12, 1, 0, 0)\n",
    "res = con_data.find(filter = {\n",
    "    \"date\": this_date,\n",
    "    \"id_grid\": {\"$in\": grid_ids.tolist()}},\n",
    "                       projection = {\"_id\":0, \"id_grid\": 1, \"msl\": 1})\n",
    "slp_df = pd.DataFrame(list(res))\n",
    "slp_df.head()"
   ]
  },
  {
   "cell_type": "code",
   "execution_count": 22,
   "metadata": {},
   "outputs": [
    {
     "data": {
      "text/html": [
       "<div>\n",
       "<style scoped>\n",
       "    .dataframe tbody tr th:only-of-type {\n",
       "        vertical-align: middle;\n",
       "    }\n",
       "\n",
       "    .dataframe tbody tr th {\n",
       "        vertical-align: top;\n",
       "    }\n",
       "\n",
       "    .dataframe thead th {\n",
       "        text-align: right;\n",
       "    }\n",
       "</style>\n",
       "<table border=\"1\" class=\"dataframe\">\n",
       "  <thead>\n",
       "    <tr style=\"text-align: right;\">\n",
       "      <th></th>\n",
       "      <th>id_grid</th>\n",
       "      <th>loc</th>\n",
       "    </tr>\n",
       "  </thead>\n",
       "  <tbody>\n",
       "    <tr>\n",
       "      <th>0</th>\n",
       "      <td>4095</td>\n",
       "      <td>{'type': 'Point', 'coordinates': [-25.0, 20.0]}</td>\n",
       "    </tr>\n",
       "    <tr>\n",
       "      <th>1</th>\n",
       "      <td>4087</td>\n",
       "      <td>{'type': 'Point', 'coordinates': [-45.0, 20.0]}</td>\n",
       "    </tr>\n",
       "    <tr>\n",
       "      <th>2</th>\n",
       "      <td>3945</td>\n",
       "      <td>{'type': 'Point', 'coordinates': [-40.0, 22.5]}</td>\n",
       "    </tr>\n",
       "    <tr>\n",
       "      <th>3</th>\n",
       "      <td>4089</td>\n",
       "      <td>{'type': 'Point', 'coordinates': [-40.0, 20.0]}</td>\n",
       "    </tr>\n",
       "    <tr>\n",
       "      <th>4</th>\n",
       "      <td>4091</td>\n",
       "      <td>{'type': 'Point', 'coordinates': [-35.0, 20.0]}</td>\n",
       "    </tr>\n",
       "  </tbody>\n",
       "</table>\n",
       "</div>"
      ],
      "text/plain": [
       "   id_grid                                              loc\n",
       "0     4095  {'type': 'Point', 'coordinates': [-25.0, 20.0]}\n",
       "1     4087  {'type': 'Point', 'coordinates': [-45.0, 20.0]}\n",
       "2     3945  {'type': 'Point', 'coordinates': [-40.0, 22.5]}\n",
       "3     4089  {'type': 'Point', 'coordinates': [-40.0, 20.0]}\n",
       "4     4091  {'type': 'Point', 'coordinates': [-35.0, 20.0]}"
      ]
     },
     "execution_count": 22,
     "metadata": {},
     "output_type": "execute_result"
    }
   ],
   "source": [
    "grid_df.head()"
   ]
  },
  {
   "cell_type": "code",
   "execution_count": 23,
   "metadata": {},
   "outputs": [
    {
     "data": {
      "text/html": [
       "<div>\n",
       "<style scoped>\n",
       "    .dataframe tbody tr th:only-of-type {\n",
       "        vertical-align: middle;\n",
       "    }\n",
       "\n",
       "    .dataframe tbody tr th {\n",
       "        vertical-align: top;\n",
       "    }\n",
       "\n",
       "    .dataframe thead th {\n",
       "        text-align: right;\n",
       "    }\n",
       "</style>\n",
       "<table border=\"1\" class=\"dataframe\">\n",
       "  <thead>\n",
       "    <tr style=\"text-align: right;\">\n",
       "      <th></th>\n",
       "      <th>id_grid</th>\n",
       "      <th>msl</th>\n",
       "      <th>loc</th>\n",
       "    </tr>\n",
       "  </thead>\n",
       "  <tbody>\n",
       "    <tr>\n",
       "      <th>0</th>\n",
       "      <td>1</td>\n",
       "      <td>99672.65</td>\n",
       "      <td>{'type': 'Point', 'coordinates': [-180.0, 90.0]}</td>\n",
       "    </tr>\n",
       "    <tr>\n",
       "      <th>1</th>\n",
       "      <td>2</td>\n",
       "      <td>99672.65</td>\n",
       "      <td>{'type': 'Point', 'coordinates': [-177.5, 90.0]}</td>\n",
       "    </tr>\n",
       "    <tr>\n",
       "      <th>2</th>\n",
       "      <td>3</td>\n",
       "      <td>99672.65</td>\n",
       "      <td>{'type': 'Point', 'coordinates': [-175.0, 90.0]}</td>\n",
       "    </tr>\n",
       "    <tr>\n",
       "      <th>3</th>\n",
       "      <td>4</td>\n",
       "      <td>99672.65</td>\n",
       "      <td>{'type': 'Point', 'coordinates': [-172.5, 90.0]}</td>\n",
       "    </tr>\n",
       "    <tr>\n",
       "      <th>4</th>\n",
       "      <td>5</td>\n",
       "      <td>99672.65</td>\n",
       "      <td>{'type': 'Point', 'coordinates': [-170.0, 90.0]}</td>\n",
       "    </tr>\n",
       "  </tbody>\n",
       "</table>\n",
       "</div>"
      ],
      "text/plain": [
       "   id_grid       msl                                               loc\n",
       "0        1  99672.65  {'type': 'Point', 'coordinates': [-180.0, 90.0]}\n",
       "1        2  99672.65  {'type': 'Point', 'coordinates': [-177.5, 90.0]}\n",
       "2        3  99672.65  {'type': 'Point', 'coordinates': [-175.0, 90.0]}\n",
       "3        4  99672.65  {'type': 'Point', 'coordinates': [-172.5, 90.0]}\n",
       "4        5  99672.65  {'type': 'Point', 'coordinates': [-170.0, 90.0]}"
      ]
     },
     "execution_count": 23,
     "metadata": {},
     "output_type": "execute_result"
    }
   ],
   "source": [
    "# Merge slp_df with grid_df:\n",
    "slp_dat = pd.merge(left=slp_df, right=grid_df, on = \"id_grid\")\n",
    "slp_dat.head()"
   ]
  },
  {
   "cell_type": "code",
   "execution_count": 24,
   "metadata": {
    "collapsed": true
   },
   "outputs": [],
   "source": [
    "#slp_dat.head()\n"
   ]
  },
  {
   "cell_type": "code",
   "execution_count": 25,
   "metadata": {},
   "outputs": [
    {
     "data": {
      "text/html": [
       "<div>\n",
       "<style scoped>\n",
       "    .dataframe tbody tr th:only-of-type {\n",
       "        vertical-align: middle;\n",
       "    }\n",
       "\n",
       "    .dataframe tbody tr th {\n",
       "        vertical-align: top;\n",
       "    }\n",
       "\n",
       "    .dataframe thead th {\n",
       "        text-align: right;\n",
       "    }\n",
       "</style>\n",
       "<table border=\"1\" class=\"dataframe\">\n",
       "  <thead>\n",
       "    <tr style=\"text-align: right;\">\n",
       "      <th></th>\n",
       "      <th>lon</th>\n",
       "      <th>lat</th>\n",
       "      <th>msl</th>\n",
       "    </tr>\n",
       "  </thead>\n",
       "  <tbody>\n",
       "    <tr>\n",
       "      <th>0</th>\n",
       "      <td>-180.0</td>\n",
       "      <td>90.0</td>\n",
       "      <td>99672.65</td>\n",
       "    </tr>\n",
       "    <tr>\n",
       "      <th>1</th>\n",
       "      <td>-177.5</td>\n",
       "      <td>90.0</td>\n",
       "      <td>99672.65</td>\n",
       "    </tr>\n",
       "    <tr>\n",
       "      <th>2</th>\n",
       "      <td>-175.0</td>\n",
       "      <td>90.0</td>\n",
       "      <td>99672.65</td>\n",
       "    </tr>\n",
       "    <tr>\n",
       "      <th>3</th>\n",
       "      <td>-172.5</td>\n",
       "      <td>90.0</td>\n",
       "      <td>99672.65</td>\n",
       "    </tr>\n",
       "    <tr>\n",
       "      <th>4</th>\n",
       "      <td>-170.0</td>\n",
       "      <td>90.0</td>\n",
       "      <td>99672.65</td>\n",
       "    </tr>\n",
       "  </tbody>\n",
       "</table>\n",
       "</div>"
      ],
      "text/plain": [
       "     lon   lat       msl\n",
       "0 -180.0  90.0  99672.65\n",
       "1 -177.5  90.0  99672.65\n",
       "2 -175.0  90.0  99672.65\n",
       "3 -172.5  90.0  99672.65\n",
       "4 -170.0  90.0  99672.65"
      ]
     },
     "execution_count": 25,
     "metadata": {},
     "output_type": "execute_result"
    }
   ],
   "source": [
    "ras_df = slp_dat.assign(lon = list(map(lambda x: \n",
    "                                       x[0]['coordinates'][0],\n",
    "                                       slp_dat[['loc']].values)),\n",
    "                        lat = list(map(lambda x: \n",
    "                                       x[0]['coordinates'][1],\n",
    "                                       slp_dat[['loc']].values))\n",
    "                       ).pipe(lambda x: x[['lon', 'lat', 'msl']])\n",
    "\n",
    "ras_df.head()"
   ]
  },
  {
   "cell_type": "markdown",
   "metadata": {},
   "source": [
    "## Rasterize a DataFrame containing data and location <a id='rasterize'></a>\n",
    "The solution to the rasterization problem was found here: \n",
    "https://matplotlib.org/examples/pylab_examples/griddata_demo.html"
   ]
  },
  {
   "cell_type": "code",
   "execution_count": 26,
   "metadata": {},
   "outputs": [
    {
     "data": {
      "text/plain": [
       "masked_array(data =\n",
       " [[-- -- -- ..., -- -- --]\n",
       " [-- -- -- ..., -- -- --]\n",
       " [-- -- -- ..., -- -- --]\n",
       " ..., \n",
       " [100248.96 100266.83 100284.69 ..., 100210.90000000001 100229.86 --]\n",
       " [99939.65 99950.09 99960.53 ..., 99914.22000000002 99927.0 --]\n",
       " [99672.65 99672.65 99672.65 ..., 99672.65 99672.65 --]],\n",
       "             mask =\n",
       " [[ True  True  True ...,  True  True  True]\n",
       " [ True  True  True ...,  True  True  True]\n",
       " [ True  True  True ...,  True  True  True]\n",
       " ..., \n",
       " [False False False ..., False False  True]\n",
       " [False False False ..., False False  True]\n",
       " [False False False ..., False False  True]],\n",
       "       fill_value = 1e+20)"
      ]
     },
     "execution_count": 26,
     "metadata": {},
     "output_type": "execute_result"
    }
   ],
   "source": [
    "lons = np.arange(start=-180, stop=180+1, step=resolution)\n",
    "lats = np.arange(start=-90, stop=90+1, step=resolution)\n",
    "this_field = ml.griddata(x = ras_df.lon.values,\n",
    "                 y = ras_df.lat.values,\n",
    "                 z = ras_df.msl.values,\n",
    "                 xi = lons,\n",
    "                 yi = lats,\n",
    "                 interp='linear')\n",
    "this_field"
   ]
  },
  {
   "cell_type": "code",
   "execution_count": 27,
   "metadata": {},
   "outputs": [
    {
     "data": {
      "image/png": "[encoded data removed]",
      "text/plain": [
       "<matplotlib.figure.Figure at 0x7f9a4c3a4f60>"
      ]
     },
     "metadata": {},
     "output_type": "display_data"
    }
   ],
   "source": [
    "m = Basemap(projection='cyl', llcrnrlat=-90, urcrnrlat=90,\\\n",
    "            llcrnrlon=-180, urcrnrlon=180, resolution='c', lon_0=0)\n",
    "cs = m.pcolor(lons, lats, np.squeeze(this_field))\n",
    "m.drawcoastlines()\n",
    "cbar = m.colorbar(cs, location='bottom', pad=\"10%\", cmap=plt.cm.RdBu_r)\n",
    "plt.show()"
   ]
  },
  {
   "cell_type": "markdown",
   "metadata": {},
   "source": [
    "## Do a nicer plot with re-projections\n",
    "Using cartopy : http://scitools.org.uk/cartopy/docs/latest/examples/aurora_forecast.html"
   ]
  },
  {
   "cell_type": "code",
   "execution_count": 28,
   "metadata": {},
   "outputs": [
    {
     "data": {
      "image/png": "[encoded data removed]",
      "text/plain": [
       "<matplotlib.figure.Figure at 0x7f9a4c146eb8>"
      ]
     },
     "metadata": {},
     "output_type": "display_data"
    }
   ],
   "source": [
    "import cartopy.crs as ccrs\n",
    "this_proj = ccrs.Orthographic(0, 90)\n",
    "fig = plt.figure(figsize=(25, 25))\n",
    "ax = plt.subplot(1, 2, 1, projection=this_proj)\n",
    "ax.coastlines(zorder=3)\n",
    "img_proj = ccrs.PlateCarree()\n",
    "img_extent = (-180, 180, -90, 90)\n",
    "im = ax.imshow(this_field, \n",
    "               transform=img_proj,\n",
    "               extent=img_extent, \n",
    "               origin='lower', \n",
    "               zorder=2,\n",
    "               cmap='GnBu')\n",
    "plt.colorbar(im, orientation='vertical',ticklocation='auto', shrink=0.3)\n",
    "plt.show()"
   ]
  },
  {
   "cell_type": "markdown",
   "metadata": {},
   "source": [
    "# Anomaly Data Collection <a id='Anomaly'></a>\n",
    "This new collection has been created with 'detrending_new_collection.py"
   ]
  },
  {
   "cell_type": "code",
   "execution_count": 29,
   "metadata": {},
   "outputs": [
    {
     "name": "stdout",
     "output_type": "stream",
     "text": [
      "{'_id': ObjectId('5a46876b8cb6b8108790f64a'),\n",
      " 'al': -2.7755575615628914e-17,\n",
      " 'blh': 17.16410963120117,\n",
      " 'ci': 0.00479535363874195,\n",
      " 'd2m': -1.381832545858515,\n",
      " 'date': datetime.datetime(1979, 3, 1, 0, 0),\n",
      " 'hcc': -0.003499210088334481,\n",
      " 'id_grid': 1,\n",
      " 'ie': 0.0,\n",
      " 'ishf': -6.802686632924173,\n",
      " 'istl1': -0.6554408397386169,\n",
      " 'lcc': 0.09395961846049472,\n",
      " 'mcc': 0.1201171896552547,\n",
      " 'month': 3,\n",
      " 'msl': -1286.3445712374814,\n",
      " 'si10': -0.9742091376525144,\n",
      " 'skt': -0.70064309868485,\n",
      " 'sp': -1285.586603789896,\n",
      " 'sst': -1.7053025658242404e-13,\n",
      " 'stl1': -0.6713863041083243,\n",
      " 't2m': -1.5088453972467164,\n",
      " 'u10': -3.921264344805355,\n",
      " 'v10': 2.6433083071635384,\n",
      " 'year': 1979,\n",
      " 'z70': -1312.067142538639}\n"
     ]
    }
   ],
   "source": [
    "con_anom = db[col_anom]\n",
    "fo = con_anom.find_one()\n",
    "pprint(fo)"
   ]
  },
  {
   "cell_type": "code",
   "execution_count": 30,
   "metadata": {},
   "outputs": [
    {
     "data": {
      "text/plain": [
       "[3, 2, 1, 4, 5, 6, 7, 8, 9, 10, 11, 12]"
      ]
     },
     "execution_count": 30,
     "metadata": {},
     "output_type": "execute_result"
    }
   ],
   "source": [
    "con_anom.distinct(key='month')"
   ]
  },
  {
   "cell_type": "code",
   "execution_count": 31,
   "metadata": {},
   "outputs": [
    {
     "data": {
      "text/plain": [
       "{'_id_': {'key': [('_id', 1)],\n",
       "  'ns': 'ECMWF.ERAINT_lores_monthly_anom',\n",
       "  'v': 1},\n",
       " 'date_-1': {'key': [('date', -1)],\n",
       "  'ns': 'ECMWF.ERAINT_lores_monthly_anom',\n",
       "  'v': 1},\n",
       " 'id_grid_1_date_-1': {'key': [('id_grid', 1), ('date', -1)],\n",
       "  'ns': 'ECMWF.ERAINT_lores_monthly_anom',\n",
       "  'v': 1},\n",
       " 'year_1_id_grid_1': {'key': [('year', 1), ('id_grid', 1)],\n",
       "  'ns': 'ECMWF.ERAINT_lores_monthly_anom',\n",
       "  'v': 1}}"
      ]
     },
     "execution_count": 31,
     "metadata": {},
     "output_type": "execute_result"
    }
   ],
   "source": [
    "con_anom.index_information()"
   ]
  },
  {
   "cell_type": "code",
   "execution_count": 32,
   "metadata": {},
   "outputs": [
    {
     "data": {
      "text/plain": [
       "4877568"
      ]
     },
     "execution_count": 32,
     "metadata": {},
     "output_type": "execute_result"
    }
   ],
   "source": [
    "con_anom.count()"
   ]
  },
  {
   "cell_type": "code",
   "execution_count": 33,
   "metadata": {
    "collapsed": true
   },
   "outputs": [],
   "source": [
    "#con_anom.drop()"
   ]
  },
  {
   "cell_type": "code",
   "execution_count": 34,
   "metadata": {
    "scrolled": false
   },
   "outputs": [
    {
     "data": {
      "text/html": [
       "<div>\n",
       "<style scoped>\n",
       "    .dataframe tbody tr th:only-of-type {\n",
       "        vertical-align: middle;\n",
       "    }\n",
       "\n",
       "    .dataframe tbody tr th {\n",
       "        vertical-align: top;\n",
       "    }\n",
       "\n",
       "    .dataframe thead th {\n",
       "        text-align: right;\n",
       "    }\n",
       "</style>\n",
       "<table border=\"1\" class=\"dataframe\">\n",
       "  <thead>\n",
       "    <tr style=\"text-align: right;\">\n",
       "      <th></th>\n",
       "      <th>_id</th>\n",
       "      <th>al</th>\n",
       "      <th>blh</th>\n",
       "      <th>ci</th>\n",
       "      <th>d2m</th>\n",
       "      <th>date</th>\n",
       "      <th>hcc</th>\n",
       "      <th>id_grid</th>\n",
       "      <th>ie</th>\n",
       "      <th>ishf</th>\n",
       "      <th>...</th>\n",
       "      <th>si10</th>\n",
       "      <th>skt</th>\n",
       "      <th>sp</th>\n",
       "      <th>sst</th>\n",
       "      <th>stl1</th>\n",
       "      <th>t2m</th>\n",
       "      <th>u10</th>\n",
       "      <th>v10</th>\n",
       "      <th>year</th>\n",
       "      <th>z70</th>\n",
       "    </tr>\n",
       "  </thead>\n",
       "  <tbody>\n",
       "    <tr>\n",
       "      <th>0</th>\n",
       "      <td>5a46876b8cb6b8108790f784</td>\n",
       "      <td>-2.775558e-17</td>\n",
       "      <td>-168.904821</td>\n",
       "      <td>0.068420</td>\n",
       "      <td>-4.935293</td>\n",
       "      <td>2016-12-01</td>\n",
       "      <td>-0.048662</td>\n",
       "      <td>1</td>\n",
       "      <td>0.0</td>\n",
       "      <td>12.449045</td>\n",
       "      <td>...</td>\n",
       "      <td>-1.305142</td>\n",
       "      <td>-5.815255</td>\n",
       "      <td>615.469474</td>\n",
       "      <td>-1.136868e-13</td>\n",
       "      <td>-5.796348</td>\n",
       "      <td>-4.659398</td>\n",
       "      <td>-1.584809</td>\n",
       "      <td>1.531152</td>\n",
       "      <td>2016</td>\n",
       "      <td>-1497.675093</td>\n",
       "    </tr>\n",
       "    <tr>\n",
       "      <th>1</th>\n",
       "      <td>5a46876b8cb6b8108790f783</td>\n",
       "      <td>-2.775558e-17</td>\n",
       "      <td>72.215761</td>\n",
       "      <td>-0.020753</td>\n",
       "      <td>4.252145</td>\n",
       "      <td>2015-12-01</td>\n",
       "      <td>-0.119932</td>\n",
       "      <td>1</td>\n",
       "      <td>0.0</td>\n",
       "      <td>-9.883491</td>\n",
       "      <td>...</td>\n",
       "      <td>-0.089222</td>\n",
       "      <td>5.259531</td>\n",
       "      <td>115.512490</td>\n",
       "      <td>-1.136868e-13</td>\n",
       "      <td>5.238511</td>\n",
       "      <td>3.807698</td>\n",
       "      <td>0.511170</td>\n",
       "      <td>-0.288572</td>\n",
       "      <td>2015</td>\n",
       "      <td>3296.545476</td>\n",
       "    </tr>\n",
       "    <tr>\n",
       "      <th>2</th>\n",
       "      <td>5a46876b8cb6b8108790f782</td>\n",
       "      <td>-2.775558e-17</td>\n",
       "      <td>-15.005735</td>\n",
       "      <td>-0.009929</td>\n",
       "      <td>-1.449945</td>\n",
       "      <td>2014-12-01</td>\n",
       "      <td>-0.011198</td>\n",
       "      <td>1</td>\n",
       "      <td>0.0</td>\n",
       "      <td>-1.576730</td>\n",
       "      <td>...</td>\n",
       "      <td>-0.013237</td>\n",
       "      <td>-1.685205</td>\n",
       "      <td>-282.018218</td>\n",
       "      <td>-1.136868e-13</td>\n",
       "      <td>-1.706152</td>\n",
       "      <td>-1.344760</td>\n",
       "      <td>-0.302813</td>\n",
       "      <td>-1.138350</td>\n",
       "      <td>2014</td>\n",
       "      <td>524.664103</td>\n",
       "    </tr>\n",
       "    <tr>\n",
       "      <th>3</th>\n",
       "      <td>5a46876b8cb6b8108790f781</td>\n",
       "      <td>-2.775558e-17</td>\n",
       "      <td>-15.867231</td>\n",
       "      <td>0.010896</td>\n",
       "      <td>-5.302035</td>\n",
       "      <td>2013-12-01</td>\n",
       "      <td>0.037536</td>\n",
       "      <td>1</td>\n",
       "      <td>0.0</td>\n",
       "      <td>4.350030</td>\n",
       "      <td>...</td>\n",
       "      <td>0.712749</td>\n",
       "      <td>-4.159941</td>\n",
       "      <td>211.961075</td>\n",
       "      <td>-1.136868e-13</td>\n",
       "      <td>-4.140814</td>\n",
       "      <td>-4.937218</td>\n",
       "      <td>-1.786796</td>\n",
       "      <td>-0.188129</td>\n",
       "      <td>2013</td>\n",
       "      <td>647.052729</td>\n",
       "    </tr>\n",
       "    <tr>\n",
       "      <th>4</th>\n",
       "      <td>5a46876b8cb6b8108790f780</td>\n",
       "      <td>-2.775558e-17</td>\n",
       "      <td>-17.178727</td>\n",
       "      <td>0.021720</td>\n",
       "      <td>0.005875</td>\n",
       "      <td>2012-12-01</td>\n",
       "      <td>0.066269</td>\n",
       "      <td>1</td>\n",
       "      <td>0.0</td>\n",
       "      <td>3.106791</td>\n",
       "      <td>...</td>\n",
       "      <td>-0.011265</td>\n",
       "      <td>-0.214677</td>\n",
       "      <td>-718.559633</td>\n",
       "      <td>-1.136868e-13</td>\n",
       "      <td>-0.245477</td>\n",
       "      <td>0.160323</td>\n",
       "      <td>1.489221</td>\n",
       "      <td>0.622093</td>\n",
       "      <td>2012</td>\n",
       "      <td>-1588.748644</td>\n",
       "    </tr>\n",
       "  </tbody>\n",
       "</table>\n",
       "<p>5 rows × 25 columns</p>\n",
       "</div>"
      ],
      "text/plain": [
       "                        _id            al         blh        ci       d2m  \\\n",
       "0  5a46876b8cb6b8108790f784 -2.775558e-17 -168.904821  0.068420 -4.935293   \n",
       "1  5a46876b8cb6b8108790f783 -2.775558e-17   72.215761 -0.020753  4.252145   \n",
       "2  5a46876b8cb6b8108790f782 -2.775558e-17  -15.005735 -0.009929 -1.449945   \n",
       "3  5a46876b8cb6b8108790f781 -2.775558e-17  -15.867231  0.010896 -5.302035   \n",
       "4  5a46876b8cb6b8108790f780 -2.775558e-17  -17.178727  0.021720  0.005875   \n",
       "\n",
       "        date       hcc  id_grid   ie       ishf     ...           si10  \\\n",
       "0 2016-12-01 -0.048662        1  0.0  12.449045     ...      -1.305142   \n",
       "1 2015-12-01 -0.119932        1  0.0  -9.883491     ...      -0.089222   \n",
       "2 2014-12-01 -0.011198        1  0.0  -1.576730     ...      -0.013237   \n",
       "3 2013-12-01  0.037536        1  0.0   4.350030     ...       0.712749   \n",
       "4 2012-12-01  0.066269        1  0.0   3.106791     ...      -0.011265   \n",
       "\n",
       "        skt          sp           sst      stl1       t2m       u10       v10  \\\n",
       "0 -5.815255  615.469474 -1.136868e-13 -5.796348 -4.659398 -1.584809  1.531152   \n",
       "1  5.259531  115.512490 -1.136868e-13  5.238511  3.807698  0.511170 -0.288572   \n",
       "2 -1.685205 -282.018218 -1.136868e-13 -1.706152 -1.344760 -0.302813 -1.138350   \n",
       "3 -4.159941  211.961075 -1.136868e-13 -4.140814 -4.937218 -1.786796 -0.188129   \n",
       "4 -0.214677 -718.559633 -1.136868e-13 -0.245477  0.160323  1.489221  0.622093   \n",
       "\n",
       "   year          z70  \n",
       "0  2016 -1497.675093  \n",
       "1  2015  3296.545476  \n",
       "2  2014   524.664103  \n",
       "3  2013   647.052729  \n",
       "4  2012 -1588.748644  \n",
       "\n",
       "[5 rows x 25 columns]"
      ]
     },
     "execution_count": 34,
     "metadata": {},
     "output_type": "execute_result"
    }
   ],
   "source": [
    "res = con_anom.find(filter={'id_grid': 1, 'month': 12})\n",
    "df = pd.DataFrame(list(res))\n",
    "df.head()"
   ]
  },
  {
   "cell_type": "code",
   "execution_count": null,
   "metadata": {
    "collapsed": true
   },
   "outputs": [],
   "source": []
  }
 ],
 "metadata": {
  "kernelspec": {
   "display_name": "Python 3",
   "language": "python",
   "name": "python3"
  },
  "language_info": {
   "codemirror_mode": {
    "name": "ipython",
    "version": 3
   },
   "file_extension": ".py",
   "mimetype": "text/x-python",
   "name": "python",
   "nbconvert_exporter": "python",
   "pygments_lexer": "ipython3",
   "version": "3.6.4"
  }
 },
 "nbformat": 4,
 "nbformat_minor": 2
}
